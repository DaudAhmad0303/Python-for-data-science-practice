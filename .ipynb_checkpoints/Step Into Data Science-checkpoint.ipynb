{
 "cells": [
  {
   "cell_type": "markdown",
   "metadata": {},
   "source": [
    "# Numpy"
   ]
  },
  {
   "cell_type": "markdown",
   "metadata": {},
   "source": [
    "**Numpy** stands for **Numerical Python**\n",
    "\n",
    "- It's working is much more faster than working with Lists.\n",
    "\n",
    "- In case of List, computer have to save the type of each element separatly.\n",
    "\n",
    "- So, it becomes slow as compare to the array. Because, array is a data structure of contigeouse type. we need not to store data type for each element."
   ]
  },
  {
   "cell_type": "code",
   "execution_count": 2,
   "metadata": {},
   "outputs": [],
   "source": [
    "import numpy as np"
   ]
  },
  {
   "cell_type": "code",
   "execution_count": 6,
   "metadata": {},
   "outputs": [],
   "source": [
    "a = np.array([1,2,3,4,5])"
   ]
  },
  {
   "cell_type": "code",
   "execution_count": 4,
   "metadata": {},
   "outputs": [],
   "source": [
    "b = np.array((2,4,6,8,0))"
   ]
  },
  {
   "cell_type": "code",
   "execution_count": 7,
   "metadata": {},
   "outputs": [
    {
     "name": "stdout",
     "output_type": "stream",
     "text": [
      "[1 2 3 4 5]\n",
      "[2 4 6 8 0]\n"
     ]
    }
   ],
   "source": [
    "print(a)\n",
    "print(b)"
   ]
  },
  {
   "cell_type": "code",
   "execution_count": 9,
   "metadata": {
    "scrolled": true
   },
   "outputs": [
    {
     "name": "stdout",
     "output_type": "stream",
     "text": [
      "<class 'numpy.ndarray'>\n"
     ]
    }
   ],
   "source": [
    "# ndarray means 'n dimensional array'\n",
    "print(type(a))"
   ]
  },
  {
   "cell_type": "code",
   "execution_count": 10,
   "metadata": {},
   "outputs": [],
   "source": [
    "c = np.array([2,3,4,5,6,9],dtype='f')\n",
    "# We can specify data type separatly "
   ]
  },
  {
   "cell_type": "code",
   "execution_count": 11,
   "metadata": {},
   "outputs": [
    {
     "name": "stdout",
     "output_type": "stream",
     "text": [
      "float32\n"
     ]
    }
   ],
   "source": [
    "print(c.dtype)"
   ]
  },
  {
   "cell_type": "markdown",
   "metadata": {},
   "source": [
    "Several Properties of **Numpy array**"
   ]
  },
  {
   "cell_type": "markdown",
   "metadata": {},
   "source": [
    "**ndim** is used to get the dimension of array"
   ]
  },
  {
   "cell_type": "code",
   "execution_count": 12,
   "metadata": {},
   "outputs": [],
   "source": [
    "# del a\n",
    "a = np.array([[1,2,3],[4,5,6]])"
   ]
  },
  {
   "cell_type": "code",
   "execution_count": 13,
   "metadata": {},
   "outputs": [
    {
     "name": "stdout",
     "output_type": "stream",
     "text": [
      "2\n"
     ]
    }
   ],
   "source": [
    "print(a.ndim)"
   ]
  },
  {
   "cell_type": "code",
   "execution_count": 14,
   "metadata": {},
   "outputs": [
    {
     "name": "stdout",
     "output_type": "stream",
     "text": [
      "[[1 2 3]\n",
      " [4 5 6]]\n"
     ]
    }
   ],
   "source": [
    "print(a)"
   ]
  },
  {
   "cell_type": "code",
   "execution_count": 15,
   "metadata": {},
   "outputs": [
    {
     "name": "stdout",
     "output_type": "stream",
     "text": [
      "6\n"
     ]
    }
   ],
   "source": [
    "print(a[1,2])"
   ]
  },
  {
   "cell_type": "markdown",
   "metadata": {},
   "source": [
    "we have to store same dimension of sub arrays inside an array otherwise objection arose."
   ]
  },
  {
   "cell_type": "code",
   "execution_count": 16,
   "metadata": {},
   "outputs": [],
   "source": [
    "B = np.array([[1,2,3,-1],[2,4,5,9]])"
   ]
  },
  {
   "cell_type": "code",
   "execution_count": 17,
   "metadata": {},
   "outputs": [
    {
     "data": {
      "text/plain": [
       "2"
      ]
     },
     "execution_count": 17,
     "metadata": {},
     "output_type": "execute_result"
    }
   ],
   "source": [
    "B.ndim"
   ]
  },
  {
   "cell_type": "code",
   "execution_count": 18,
   "metadata": {},
   "outputs": [
    {
     "name": "stdout",
     "output_type": "stream",
     "text": [
      "-1\n"
     ]
    }
   ],
   "source": [
    "print(B[0,3])"
   ]
  },
  {
   "cell_type": "code",
   "execution_count": 19,
   "metadata": {},
   "outputs": [],
   "source": [
    "C = np.array([[[1,2,3], [4,5,6], [0,0,-1]], [[-1,-2,-3], [-4,-5,-6], [0,0,1]]])"
   ]
  },
  {
   "cell_type": "code",
   "execution_count": 20,
   "metadata": {},
   "outputs": [
    {
     "name": "stdout",
     "output_type": "stream",
     "text": [
      "int32\n"
     ]
    }
   ],
   "source": [
    "print(C.dtype)"
   ]
  },
  {
   "cell_type": "code",
   "execution_count": 21,
   "metadata": {},
   "outputs": [
    {
     "name": "stdout",
     "output_type": "stream",
     "text": [
      "3\n"
     ]
    }
   ],
   "source": [
    "print(C.ndim)"
   ]
  },
  {
   "cell_type": "code",
   "execution_count": 22,
   "metadata": {},
   "outputs": [
    {
     "name": "stdout",
     "output_type": "stream",
     "text": [
      "-6\n"
     ]
    }
   ],
   "source": [
    "print(C[1,1,2])"
   ]
  },
  {
   "cell_type": "markdown",
   "metadata": {},
   "source": [
    "**shape** module is used to get dimension of each array inside array.i.e.,"
   ]
  },
  {
   "cell_type": "code",
   "execution_count": 23,
   "metadata": {},
   "outputs": [
    {
     "name": "stdout",
     "output_type": "stream",
     "text": [
      "(2, 3, 3)\n",
      "<class 'tuple'>\n"
     ]
    }
   ],
   "source": [
    "print(C.shape)\n",
    "# It's mean: C array is containing 2 sub arrays; each sub array is further containing 3 arrays; further \n",
    "# each array is containing 3 elements in it\n",
    "print(type(C.shape))"
   ]
  },
  {
   "cell_type": "code",
   "execution_count": 24,
   "metadata": {},
   "outputs": [
    {
     "name": "stdout",
     "output_type": "stream",
     "text": [
      "3\n"
     ]
    }
   ],
   "source": [
    "print(C.shape[2])"
   ]
  },
  {
   "cell_type": "code",
   "execution_count": 26,
   "metadata": {},
   "outputs": [],
   "source": [
    "A = np.array([3])"
   ]
  },
  {
   "cell_type": "code",
   "execution_count": 27,
   "metadata": {},
   "outputs": [
    {
     "name": "stdout",
     "output_type": "stream",
     "text": [
      "1\n"
     ]
    }
   ],
   "source": [
    "print(A.ndim)"
   ]
  },
  {
   "cell_type": "code",
   "execution_count": 28,
   "metadata": {},
   "outputs": [],
   "source": [
    "B = np.array(9)"
   ]
  },
  {
   "cell_type": "code",
   "execution_count": 29,
   "metadata": {},
   "outputs": [
    {
     "name": "stdout",
     "output_type": "stream",
     "text": [
      "0\n"
     ]
    }
   ],
   "source": [
    "print(B.ndim)"
   ]
  },
  {
   "cell_type": "markdown",
   "metadata": {},
   "source": [
    "**size** module returns the number of total elements in an array"
   ]
  },
  {
   "cell_type": "code",
   "execution_count": 30,
   "metadata": {},
   "outputs": [
    {
     "name": "stdout",
     "output_type": "stream",
     "text": [
      "18\n"
     ]
    }
   ],
   "source": [
    "print(C.size)"
   ]
  },
  {
   "cell_type": "markdown",
   "metadata": {},
   "source": [
    "**nbytes** is used to get memory used by array"
   ]
  },
  {
   "cell_type": "code",
   "execution_count": 31,
   "metadata": {},
   "outputs": [
    {
     "name": "stdout",
     "output_type": "stream",
     "text": [
      "72\n"
     ]
    }
   ],
   "source": [
    "print(C.nbytes)"
   ]
  },
  {
   "cell_type": "markdown",
   "metadata": {},
   "source": [
    "**ones** and **zeros** modules are used to get the desired number of zeros or ones inside an array"
   ]
  },
  {
   "cell_type": "code",
   "execution_count": 32,
   "metadata": {},
   "outputs": [],
   "source": [
    "C1 = np.ones(30)\n",
    "C2 = np.zeros(20)"
   ]
  },
  {
   "cell_type": "code",
   "execution_count": 33,
   "metadata": {},
   "outputs": [
    {
     "name": "stdout",
     "output_type": "stream",
     "text": [
      "[1. 1. 1. 1. 1. 1. 1. 1. 1. 1. 1. 1. 1. 1. 1. 1. 1. 1. 1. 1. 1. 1. 1. 1.\n",
      " 1. 1. 1. 1. 1. 1.]\n",
      "[0. 0. 0. 0. 0. 0. 0. 0. 0. 0. 0. 0. 0. 0. 0. 0. 0. 0. 0. 0.]\n"
     ]
    }
   ],
   "source": [
    "print(C1)\n",
    "print(C2)"
   ]
  },
  {
   "cell_type": "code",
   "execution_count": 34,
   "metadata": {
    "collapsed": true
   },
   "outputs": [
    {
     "name": "stdout",
     "output_type": "stream",
     "text": [
      "Variable   Type       Data/Info\n",
      "-------------------------------\n",
      "A          ndarray    1: 1 elems, type `int32`, 4 bytes\n",
      "B          ndarray    : 1 elems, type `int32`, 4 bytes\n",
      "C          ndarray    2x3x3: 18 elems, type `int32`, 72 bytes\n",
      "C1         ndarray    30: 30 elems, type `float64`, 240 bytes\n",
      "C2         ndarray    20: 20 elems, type `float64`, 160 bytes\n",
      "a          ndarray    2x3: 6 elems, type `int32`, 24 bytes\n",
      "b          ndarray    5: 5 elems, type `int32`, 20 bytes\n",
      "c          ndarray    6: 6 elems, type `float32`, 24 bytes\n",
      "np         module     <module 'numpy' from 'C:\\<...>ges\\\\numpy\\\\__init__.py'>\n"
     ]
    }
   ],
   "source": [
    "%whos"
   ]
  },
  {
   "cell_type": "markdown",
   "metadata": {},
   "source": [
    "**arange** module is used to get a series of numbers provided in range just like in **range** function"
   ]
  },
  {
   "cell_type": "code",
   "execution_count": 35,
   "metadata": {},
   "outputs": [],
   "source": [
    "C3 = np.arange(50)"
   ]
  },
  {
   "cell_type": "code",
   "execution_count": 36,
   "metadata": {},
   "outputs": [
    {
     "name": "stdout",
     "output_type": "stream",
     "text": [
      "[ 0  1  2  3  4  5  6  7  8  9 10 11 12 13 14 15 16 17 18 19 20 21 22 23\n",
      " 24 25 26 27 28 29 30 31 32 33 34 35 36 37 38 39 40 41 42 43 44 45 46 47\n",
      " 48 49]\n"
     ]
    }
   ],
   "source": [
    "print(C3)"
   ]
  },
  {
   "cell_type": "code",
   "execution_count": 37,
   "metadata": {},
   "outputs": [
    {
     "name": "stdout",
     "output_type": "stream",
     "text": [
      "[20 22 24 26 28 30 32 34 36 38 40 42 44 46 48 50 52 54 56 58]\n"
     ]
    }
   ],
   "source": [
    "C4 = np.arange(20,60,2)        # for i in range(0, 20, 2):\n",
    "print(C4)"
   ]
  },
  {
   "cell_type": "code",
   "execution_count": 42,
   "metadata": {},
   "outputs": [
    {
     "name": "stdout",
     "output_type": "stream",
     "text": [
      "range(0, 40)\n"
     ]
    }
   ],
   "source": [
    "print(range(40))"
   ]
  },
  {
   "cell_type": "code",
   "execution_count": 44,
   "metadata": {},
   "outputs": [
    {
     "name": "stdout",
     "output_type": "stream",
     "text": [
      "[0, 1, 2, 3, 4, 5, 6, 7, 8, 9, 10, 11, 12, 13, 14, 15, 16, 17, 18, 19, 20, 21, 22, 23, 24, 25, 26, 27, 28, 29, 30, 31, 32, 33, 34, 35, 36, 37, 38, 39, 40, 41, 42, 43, 44, 45, 46, 47, 48, 49, 50]\n"
     ]
    }
   ],
   "source": [
    "print(list(range(51)))"
   ]
  },
  {
   "cell_type": "markdown",
   "metadata": {},
   "source": [
    "**random.permutation** is used to shuffle all the array values and then it creats a new array."
   ]
  },
  {
   "cell_type": "code",
   "execution_count": 66,
   "metadata": {},
   "outputs": [],
   "source": [
    "A = np.random.permutation(np.arange(10))"
   ]
  },
  {
   "cell_type": "code",
   "execution_count": 67,
   "metadata": {
    "scrolled": false
   },
   "outputs": [
    {
     "name": "stdout",
     "output_type": "stream",
     "text": [
      "[6 2 0 7 4 1 8 5 9 3]\n"
     ]
    }
   ],
   "source": [
    "print(A)"
   ]
  },
  {
   "cell_type": "code",
   "execution_count": 45,
   "metadata": {
    "collapsed": true
   },
   "outputs": [
    {
     "name": "stdout",
     "output_type": "stream",
     "text": [
      "Help on built-in function permutation:\n",
      "\n",
      "permutation(...) method of numpy.random.mtrand.RandomState instance\n",
      "    permutation(x)\n",
      "    \n",
      "    Randomly permute a sequence, or return a permuted range.\n",
      "    \n",
      "    If `x` is a multi-dimensional array, it is only shuffled along its\n",
      "    first index.\n",
      "    \n",
      "    .. note::\n",
      "        New code should use the ``permutation`` method of a ``default_rng()``\n",
      "        instance instead; please see the :ref:`random-quick-start`.\n",
      "    \n",
      "    Parameters\n",
      "    ----------\n",
      "    x : int or array_like\n",
      "        If `x` is an integer, randomly permute ``np.arange(x)``.\n",
      "        If `x` is an array, make a copy and shuffle the elements\n",
      "        randomly.\n",
      "    \n",
      "    Returns\n",
      "    -------\n",
      "    out : ndarray\n",
      "        Permuted sequence or array range.\n",
      "    \n",
      "    See Also\n",
      "    --------\n",
      "    Generator.permutation: which should be used for new code.\n",
      "    \n",
      "    Examples\n",
      "    --------\n",
      "    >>> np.random.permutation(10)\n",
      "    array([1, 7, 4, 3, 0, 9, 2, 5, 8, 6]) # random\n",
      "    \n",
      "    >>> np.random.permutation([1, 4, 9, 12, 15])\n",
      "    array([15,  1,  9,  4, 12]) # random\n",
      "    \n",
      "    >>> arr = np.arange(9).reshape((3, 3))\n",
      "    >>> np.random.permutation(arr)\n",
      "    array([[6, 7, 8], # random\n",
      "           [0, 1, 2],\n",
      "           [3, 4, 5]])\n",
      "\n"
     ]
    }
   ],
   "source": [
    "help(np.random.permutation)"
   ]
  },
  {
   "cell_type": "markdown",
   "metadata": {},
   "source": [
    "**random.ranadint** is used to get a single random integer in the provided range"
   ]
  },
  {
   "cell_type": "code",
   "execution_count": 123,
   "metadata": {},
   "outputs": [
    {
     "name": "stdout",
     "output_type": "stream",
     "text": [
      "26\n"
     ]
    }
   ],
   "source": [
    "print(np.random.randint(20,30))"
   ]
  },
  {
   "cell_type": "code",
   "execution_count": 141,
   "metadata": {},
   "outputs": [
    {
     "name": "stdout",
     "output_type": "stream",
     "text": [
      "10\n"
     ]
    }
   ],
   "source": [
    "a = np.random.randint(10,20)\n",
    "print(a)"
   ]
  },
  {
   "cell_type": "markdown",
   "metadata": {},
   "source": [
    "**random.rand** is used to get an array of values in between 0 and 1, for the provided number of values/dimensions as example below:"
   ]
  },
  {
   "cell_type": "code",
   "execution_count": 175,
   "metadata": {},
   "outputs": [],
   "source": [
    "A = np.random.rand(1000)"
   ]
  },
  {
   "cell_type": "code",
   "execution_count": 176,
   "metadata": {},
   "outputs": [
    {
     "name": "stdout",
     "output_type": "stream",
     "text": [
      "[6.36974837e-01 7.84012036e-01 5.12033551e-01 9.70506785e-01\n",
      " 2.05636128e-01 5.83283271e-02 5.87038347e-01 6.71962758e-01\n",
      " 5.62476283e-01 9.83101963e-01 3.91525660e-01 9.40828564e-01\n",
      " 9.59088683e-01 5.98366290e-01 1.70893580e-01 6.50305183e-01\n",
      " 4.41705287e-01 3.54055285e-01 8.48729998e-01 9.39829588e-01\n",
      " 6.90936263e-01 6.03327642e-01 1.53852420e-02 8.22419119e-02\n",
      " 5.45674794e-01 2.39312120e-01 3.02694390e-02 4.13553354e-02\n",
      " 2.35668858e-01 4.33689931e-01 1.74990856e-01 5.35938057e-01\n",
      " 1.28702042e-01 7.89318401e-01 4.03266885e-01 5.79200804e-01\n",
      " 4.07269083e-01 7.78490682e-01 9.75505301e-01 9.56377207e-02\n",
      " 6.33767458e-01 5.69505925e-01 7.71714057e-01 2.96401656e-01\n",
      " 3.11579347e-01 8.90173159e-01 3.26272701e-01 4.43823876e-02\n",
      " 7.38975964e-01 3.76073094e-01 5.43530064e-01 3.80175645e-02\n",
      " 9.90994047e-01 5.07976376e-01 2.54109168e-01 2.66544539e-01\n",
      " 5.47176915e-01 9.04849298e-01 6.70005326e-01 9.72081019e-01\n",
      " 6.78684641e-01 6.51561899e-01 2.74465922e-01 5.69297515e-01\n",
      " 5.70829602e-01 4.01524978e-02 9.59952373e-01 6.52581099e-01\n",
      " 1.55408852e-01 2.36854349e-02 8.54474851e-01 1.52269799e-01\n",
      " 2.41801753e-01 4.91704718e-01 1.86912132e-01 7.34988719e-01\n",
      " 9.81381799e-01 9.38306497e-01 7.59498222e-01 1.41260474e-01\n",
      " 7.42567533e-01 5.43370739e-01 7.33915761e-02 5.72796215e-01\n",
      " 2.58683003e-01 2.87022672e-01 3.60080539e-01 7.76848964e-01\n",
      " 4.55843810e-01 6.51446459e-01 2.59188277e-01 7.73368742e-02\n",
      " 7.45779108e-01 9.45893619e-01 6.26715081e-02 6.50296356e-01\n",
      " 1.52986265e-01 8.58870116e-01 3.40396889e-02 6.06316807e-01\n",
      " 9.24500928e-01 8.39326883e-01 4.04193211e-01 1.46862327e-01\n",
      " 5.15203168e-01 4.11725640e-01 5.88683508e-01 3.16044763e-01\n",
      " 7.44125404e-01 9.03576456e-01 5.89334686e-01 1.46309856e-01\n",
      " 5.98301966e-01 3.44872047e-01 7.39442872e-01 4.52713350e-01\n",
      " 7.81354476e-02 5.74234222e-01 1.68548725e-01 1.67398440e-01\n",
      " 7.05368291e-01 6.25289224e-01 9.12554828e-01 5.32135828e-01\n",
      " 7.62580891e-01 2.86410392e-01 2.88139836e-01 2.94498450e-01\n",
      " 8.18274050e-01 5.84162521e-01 2.86831319e-01 3.12441984e-01\n",
      " 2.23645313e-02 1.15589365e-01 8.96547879e-01 1.74838134e-01\n",
      " 1.42281749e-01 2.57146918e-01 2.85714205e-01 7.36838242e-01\n",
      " 1.25216577e-01 2.34012809e-01 1.76385411e-01 1.34092449e-01\n",
      " 9.34997879e-01 6.80530691e-01 1.97993700e-01 3.83878386e-01\n",
      " 4.39294913e-01 1.63347659e-01 6.19382228e-01 2.07088674e-01\n",
      " 2.97979515e-01 4.38323215e-01 4.08725697e-01 7.95618533e-01\n",
      " 4.00507118e-01 1.89340544e-01 5.88232538e-01 1.54652588e-01\n",
      " 2.73404716e-01 5.31542009e-01 9.74503560e-01 3.39319084e-01\n",
      " 4.57361743e-01 9.23206879e-01 9.80035915e-01 6.53619069e-01\n",
      " 6.81917969e-01 4.30915730e-01 4.96650620e-01 2.17425061e-01\n",
      " 7.13668858e-01 1.27424331e-01 2.62773802e-01 7.05349972e-02\n",
      " 9.91763849e-01 1.84969185e-01 6.27305075e-01 9.70218931e-02\n",
      " 3.01970274e-01 7.09446114e-01 9.97039447e-01 3.19718959e-01\n",
      " 7.32558264e-01 2.88368273e-01 6.70289750e-01 3.66543826e-01\n",
      " 6.36333960e-01 6.73270212e-01 1.43322154e-01 3.44736456e-01\n",
      " 1.45320230e-01 7.14524594e-01 5.85984467e-01 5.77293440e-01\n",
      " 3.94492432e-01 2.40284684e-01 9.73487620e-01 2.90065853e-01\n",
      " 4.13849555e-01 4.25866908e-01 3.17951511e-01 7.42804021e-01\n",
      " 7.03240137e-01 2.25372395e-01 2.13068381e-01 3.10367128e-01\n",
      " 8.79107972e-01 9.19066817e-01 5.93157247e-01 6.34756765e-02\n",
      " 3.37461319e-01 2.05800246e-01 7.93137544e-01 6.44892504e-02\n",
      " 5.94198797e-01 2.42539104e-01 1.48570391e-01 6.28338784e-03\n",
      " 4.71738738e-01 6.70975388e-01 3.99953489e-01 5.33757278e-03\n",
      " 7.35839808e-01 5.91245978e-01 1.98690781e-01 4.60581321e-01\n",
      " 1.28898996e-01 9.28429593e-01 2.01525074e-01 6.92779074e-01\n",
      " 8.35578067e-01 2.20691353e-01 1.82663301e-01 2.33138155e-01\n",
      " 4.53838726e-01 9.84990324e-01 3.35086224e-01 5.72817152e-01\n",
      " 2.07474378e-01 4.96048975e-01 9.04490641e-01 2.08008510e-01\n",
      " 3.65840752e-01 8.19888712e-01 9.91975649e-01 9.76784280e-01\n",
      " 8.96536627e-01 6.42557283e-01 8.11126926e-01 6.22363573e-01\n",
      " 7.13416005e-01 6.39339821e-01 4.59346830e-01 9.14313314e-01\n",
      " 4.18365608e-01 3.86615738e-01 8.67011355e-01 4.86586327e-01\n",
      " 1.79832611e-01 8.42759311e-01 8.27387427e-01 1.52101985e-01\n",
      " 4.59011107e-01 8.69604032e-01 7.51289392e-01 7.80504187e-02\n",
      " 4.35015393e-01 5.83408072e-01 1.40346360e-01 7.55044145e-01\n",
      " 4.29936352e-01 3.37919338e-01 8.41269304e-02 8.95788309e-01\n",
      " 5.46549920e-02 3.64611616e-03 8.56297687e-02 3.68549126e-02\n",
      " 7.13532643e-01 2.32429868e-01 1.22377785e-01 4.67102967e-01\n",
      " 9.90668662e-01 3.96777293e-01 1.57189031e-01 6.65913073e-01\n",
      " 5.91421162e-01 4.13128627e-01 6.91930527e-01 1.91026969e-01\n",
      " 4.06238208e-01 3.71709478e-01 4.63750020e-01 6.24497857e-01\n",
      " 1.72366010e-01 7.28599956e-01 3.72552036e-01 1.81409962e-01\n",
      " 3.27398444e-01 9.78024125e-01 3.67529393e-01 3.70325808e-01\n",
      " 1.41401287e-01 1.92251176e-02 3.44030916e-01 5.12839381e-02\n",
      " 7.83801784e-01 1.76353116e-01 7.59940596e-01 6.17823777e-01\n",
      " 7.98895418e-02 6.34881365e-01 6.64666459e-01 5.35819144e-01\n",
      " 4.43927558e-01 5.96182902e-01 1.09619553e-03 1.15183699e-01\n",
      " 3.20370528e-01 8.09944061e-01 1.25830734e-01 8.60777320e-02\n",
      " 5.89058851e-01 1.48319854e-01 4.78246363e-02 6.99140572e-01\n",
      " 5.86861640e-01 4.24076335e-01 2.57887490e-01 1.64186530e-01\n",
      " 9.73664788e-01 6.27315083e-01 4.95434769e-01 7.77064222e-01\n",
      " 4.23743637e-01 7.74050438e-01 6.32198484e-01 9.91012131e-01\n",
      " 2.51344564e-01 1.46330428e-01 5.07407166e-01 9.64712199e-02\n",
      " 1.85916037e-02 3.03492876e-01 5.05289002e-01 9.51328287e-01\n",
      " 9.18158483e-01 3.84603200e-01 2.66968789e-01 6.15140439e-01\n",
      " 4.28554988e-01 4.92318264e-01 2.63046187e-01 3.32111241e-01\n",
      " 4.23443885e-01 5.96297336e-01 5.99942359e-02 8.17563600e-01\n",
      " 1.65290209e-01 4.16790168e-01 8.40379950e-01 6.90131160e-01\n",
      " 4.68636937e-01 5.43285392e-01 1.46471859e-01 2.68546100e-01\n",
      " 2.19689744e-01 5.09898980e-01 8.05972289e-01 3.99010113e-01\n",
      " 3.28862967e-01 5.91886420e-02 8.71724781e-01 2.73136121e-01\n",
      " 6.31042831e-01 2.18733869e-01 9.41280722e-01 6.29308200e-01\n",
      " 4.73335996e-01 3.65998153e-01 6.01070290e-01 6.17114747e-01\n",
      " 1.41534869e-01 7.55024854e-01 6.11240231e-01 7.54792331e-03\n",
      " 4.20212331e-01 4.90713248e-01 5.95325037e-01 4.80514239e-01\n",
      " 9.93418010e-01 9.70897228e-01 1.09593105e-01 2.01643253e-01\n",
      " 8.64363695e-01 6.87217389e-01 8.09191181e-01 6.64770017e-01\n",
      " 6.62969935e-01 4.60762800e-01 5.25890473e-01 2.81179424e-01\n",
      " 1.59681662e-01 4.98411860e-01 7.56735279e-01 4.43944102e-01\n",
      " 6.88879972e-01 8.94046105e-01 5.16391466e-01 6.51768027e-01\n",
      " 7.69892731e-02 3.65540710e-01 5.95319335e-01 1.61812731e-01\n",
      " 9.67132007e-01 1.27013365e-01 6.42205350e-01 9.19879809e-01\n",
      " 6.63303387e-01 5.26279459e-01 8.20164602e-01 7.23054446e-01\n",
      " 7.38458196e-01 2.65444310e-01 5.66552122e-01 9.13259377e-01\n",
      " 2.01550712e-01 9.13622760e-01 9.98120455e-01 9.19669155e-02\n",
      " 5.88103023e-02 3.12499333e-01 4.42219597e-01 6.14285942e-02\n",
      " 7.21032323e-01 4.79936375e-01 3.00738296e-01 5.99591009e-01\n",
      " 8.55828797e-01 4.28628038e-01 2.66943554e-02 5.83768010e-01\n",
      " 9.15395442e-01 6.49689809e-01 2.78375869e-01 4.47651420e-01\n",
      " 6.51995093e-01 7.03564753e-01 7.49189793e-01 5.67502911e-01\n",
      " 6.19175068e-01 8.83589245e-01 8.10385700e-01 6.87268725e-01\n",
      " 8.12523267e-01 8.56079144e-01 7.86268042e-02 5.33880796e-01\n",
      " 7.77101688e-01 9.63034271e-01 7.66714413e-01 3.50790634e-01\n",
      " 4.67746810e-01 7.38333063e-01 2.52401959e-01 3.96465696e-02\n",
      " 2.32056705e-01 6.16076806e-01 4.51659410e-01 4.02644087e-01\n",
      " 5.48985284e-01 1.53677073e-01 2.41692098e-02 6.03147517e-04\n",
      " 4.59018069e-01 3.58114006e-01 8.22575506e-02 7.50077388e-01\n",
      " 8.95437151e-01 5.57759057e-01 7.14277080e-03 3.58739858e-01\n",
      " 9.98937656e-01 5.95613136e-01 3.55944790e-01 7.89728631e-01\n",
      " 8.27395383e-01 3.35476453e-01 6.15887224e-01 9.52238697e-01\n",
      " 3.24834590e-01 5.47561221e-01 5.04624247e-01 5.68039079e-01\n",
      " 7.76453503e-02 2.10571009e-01 8.95490839e-01 3.44247398e-01\n",
      " 7.71010485e-01 6.65119731e-01 6.61028667e-01 6.89891158e-01\n",
      " 2.62283840e-01 3.34833672e-01 5.79209861e-01 3.60361840e-01\n",
      " 6.23083101e-02 3.52207817e-01 9.21801133e-01 5.76819634e-01\n",
      " 6.48233108e-01 8.53469540e-01 6.56109275e-01 2.05600135e-01\n",
      " 3.37489994e-01 4.95500784e-01 9.04607332e-01 9.68703602e-01\n",
      " 4.06155321e-02 8.71041257e-01 7.72262636e-01 7.35614042e-01\n",
      " 8.38285727e-02 2.07928310e-01 9.89107406e-01 5.52645097e-01\n",
      " 5.88204059e-01 3.72154677e-01 3.95590594e-01 4.01294518e-01\n",
      " 7.38373348e-01 7.07543426e-01 1.40240658e-01 1.17422304e-02\n",
      " 7.08211931e-02 6.82502747e-01 5.48866430e-01 8.92879949e-01\n",
      " 7.83257436e-01 3.92816456e-01 3.15971590e-01 9.10513678e-01\n",
      " 2.68094120e-02 6.84305362e-01 7.93192601e-01 3.42692651e-01\n",
      " 1.35948191e-01 9.65077856e-01 3.40358007e-01 9.45942005e-01\n",
      " 9.34338374e-02 3.95500862e-01 8.33477419e-01 9.17055345e-01\n",
      " 3.45499177e-01 4.46969555e-01 4.05884023e-01 2.44270905e-01\n",
      " 6.97332238e-02 6.53808421e-01 7.04841437e-01 6.54395182e-01\n",
      " 2.49380091e-01 1.09197058e-01 4.86596057e-01 8.09510585e-02\n",
      " 2.59601732e-01 2.93727288e-01 6.21715599e-01 6.17517312e-01\n",
      " 8.02996104e-01 3.56340526e-02 1.81562328e-01 8.41321664e-01\n",
      " 1.76230279e-01 4.77991950e-01 6.10094138e-02 2.18567984e-01\n",
      " 5.26830918e-01 3.34411043e-01 9.79737378e-01 1.85694048e-01\n",
      " 6.81834361e-01 4.89766360e-01 7.73382952e-01 4.88635974e-01\n",
      " 9.15795010e-01 5.31423186e-01 6.10162161e-01 5.19683016e-02\n",
      " 7.48457911e-01 5.84693355e-02 1.80003553e-01 8.54696436e-01\n",
      " 9.49554656e-01 1.75275977e-01 4.78971573e-01 9.66063283e-01\n",
      " 5.64796617e-01 8.92701325e-01 4.28185930e-01 6.90106772e-01\n",
      " 4.40805411e-01 6.74478963e-01 2.51471478e-02 6.86190769e-01\n",
      " 7.69367970e-01 8.69996422e-01 4.98609909e-01 7.83754426e-01\n",
      " 3.18641828e-01 2.45464554e-01 8.49678313e-01 7.28883598e-01\n",
      " 6.42056727e-01 4.03878157e-01 4.33616373e-01 6.02317871e-01\n",
      " 8.54722364e-01 6.85902520e-01 7.94219179e-01 4.60551248e-01\n",
      " 8.79382146e-01 1.40930101e-01 1.50974027e-01 7.35545415e-02\n",
      " 4.40473053e-02 3.87762221e-01 5.70804903e-01 5.47867011e-01\n",
      " 3.33951234e-01 7.78989935e-01 2.12261611e-01 7.79472490e-01\n",
      " 9.65562392e-01 7.11548560e-01 5.56542119e-01 2.14068778e-01\n",
      " 9.16476643e-01 4.39341387e-01 2.99682431e-01 9.35355184e-01\n",
      " 9.14465879e-01 1.67239776e-01 7.96684792e-02 5.88281406e-01\n",
      " 5.69525114e-01 2.61101014e-01 4.32062833e-01 5.70803633e-01\n",
      " 1.13700001e-01 3.62411423e-01 7.50355413e-01 7.10325422e-02\n",
      " 6.95253221e-01 3.93130656e-01 8.22761350e-01 2.36806151e-01\n",
      " 5.43225822e-01 1.50988429e-01 8.94280533e-01 5.53224950e-01\n",
      " 4.77825476e-01 4.47290449e-01 6.48544140e-01 9.00046161e-01\n",
      " 7.89391740e-02 2.53264238e-02 8.96081256e-02 7.91087602e-01\n",
      " 8.06938316e-01 8.22379354e-01 3.95361091e-01 3.55689805e-01\n",
      " 5.24237602e-01 1.84228235e-01 7.61846360e-01 4.55437564e-01\n",
      " 3.37926041e-01 3.65234733e-01 2.55724300e-01 1.81716314e-01\n",
      " 5.56574712e-01 6.84036995e-02 4.32203225e-01 7.35511791e-01\n",
      " 9.76892815e-01 4.79192409e-01 6.36885351e-01 6.61542242e-01\n",
      " 6.46352912e-01 9.12599581e-01 2.03735355e-01 5.87417816e-01\n",
      " 3.06218189e-01 3.18587307e-01 9.31114484e-01 4.67010903e-01\n",
      " 4.80400148e-01 1.92976297e-01 2.96206908e-02 4.25515768e-01\n",
      " 1.74366486e-01 8.55025546e-02 5.59061917e-01 5.37122180e-01\n",
      " 2.64117497e-01 9.34683822e-01 3.29152275e-01 2.41148682e-03\n",
      " 7.40457040e-02 9.55231480e-01 1.94748040e-01 7.00926494e-01\n",
      " 1.40049594e-01 6.72036185e-01 6.34709203e-01 9.80048356e-01\n",
      " 5.72130080e-01 2.06234815e-01 1.60905366e-01 7.90275143e-01\n",
      " 5.97123738e-01 8.65568744e-01 1.92102761e-01 5.08814420e-01\n",
      " 5.60031853e-01 9.23736911e-01 7.15243610e-01 6.97215928e-01\n",
      " 6.22466894e-01 7.17452153e-01 9.78338343e-01 1.09161854e-02\n",
      " 8.20442479e-03 2.06445493e-01 4.05053145e-01 8.13884127e-01\n",
      " 9.16452823e-01 7.33853261e-01 9.77153262e-01 8.64327799e-01\n",
      " 1.45474955e-01 3.91783956e-01 4.34207946e-01 7.28192499e-01\n",
      " 4.07030493e-01 7.29616376e-01 1.80164490e-01 9.54077902e-01\n",
      " 3.87686326e-02 3.71004319e-01 9.57675179e-01 4.29223999e-01\n",
      " 1.34098603e-01 8.97427438e-02 5.55143306e-01 5.03509045e-01\n",
      " 6.84544207e-01 7.12108888e-01 7.13202971e-01 6.38183014e-01\n",
      " 8.74547499e-01 8.86255637e-01 5.11314200e-01 4.61447960e-02\n",
      " 4.44104755e-01 9.79523822e-01 4.68081844e-01 2.63199562e-01\n",
      " 4.12854024e-01 1.06490391e-01 6.81406120e-01 7.69687499e-01\n",
      " 7.98833946e-01 3.83065919e-02 4.44366868e-01 2.13695160e-01\n",
      " 7.24118041e-01 1.20681696e-01 6.82478758e-01 9.18899331e-01\n",
      " 8.85893132e-01 3.93033917e-01 2.55804870e-01 3.59842432e-01\n",
      " 2.17304619e-01 3.12338286e-01 5.32791867e-01 4.33713065e-01\n",
      " 4.52565601e-01 7.15795849e-01 6.31081193e-01 5.52055120e-01\n",
      " 4.76257436e-01 3.47666330e-01 3.05657715e-01 1.20213696e-01\n",
      " 3.56674780e-02 6.54689591e-01 6.21372841e-01 6.04865927e-01\n",
      " 1.01291053e-01 5.03853679e-01 8.60079298e-01 1.04322548e-01\n",
      " 7.66978046e-01 5.39125958e-02 3.15286592e-01 6.11111790e-01\n",
      " 8.31091783e-01 7.73229845e-02 5.81209621e-01 9.48698847e-01\n",
      " 4.44376584e-01 9.73125670e-01 3.52206772e-01 6.18285164e-01\n",
      " 2.49138856e-01 4.94825163e-02 4.67230459e-01 3.90369120e-01\n",
      " 5.09101038e-01 4.62492826e-01 8.62006031e-01 1.87886664e-02\n",
      " 3.42150423e-01 7.61132860e-01 8.18036866e-01 5.30640501e-02\n",
      " 5.58529166e-01 8.19590075e-01 5.48940453e-01 9.81455158e-01\n",
      " 3.64367380e-01 2.67101274e-02 9.71832031e-01 9.65808158e-01\n",
      " 5.99356108e-01 7.49460545e-01 6.42603978e-01 8.79420913e-01\n",
      " 7.11275365e-01 8.65990184e-01 2.53998029e-02 7.07084114e-01\n",
      " 2.79428358e-02 2.90684160e-01 5.59661068e-01 6.12163680e-01\n",
      " 7.10975004e-01 7.30199952e-02 1.30520024e-01 9.19980819e-01\n",
      " 7.80067891e-01 4.83573037e-01 2.73029396e-01 5.89391319e-01\n",
      " 8.46424083e-01 8.43039423e-01 1.71709172e-01 8.26031108e-01\n",
      " 2.63030315e-01 9.75267413e-01 7.47170740e-01 9.89439551e-03\n",
      " 7.41779769e-01 7.56642278e-01 3.57917494e-01 1.48431565e-01\n",
      " 5.49330748e-01 5.54143512e-01 2.95905274e-02 5.41128552e-01\n",
      " 1.50123556e-01 4.51023949e-01 1.45767216e-01 4.50683210e-01\n",
      " 8.17747155e-02 8.24727640e-02 9.77761622e-02 7.28014241e-01\n",
      " 8.31551027e-01 6.26046378e-01 2.04834701e-01 2.37920233e-01\n",
      " 2.12984673e-01 6.88871507e-02 9.50103745e-01 8.47255224e-01\n",
      " 6.38261736e-01 1.32190589e-01 4.71537980e-01 8.51851675e-01\n",
      " 3.38994300e-02 9.45231909e-01 5.66901189e-01 3.77099105e-01\n",
      " 6.15098332e-01 6.96113098e-01 8.63522578e-01 7.87561863e-01\n",
      " 3.41026159e-01 6.20929953e-01 4.26526596e-01 4.30539979e-02\n",
      " 7.39547389e-01 5.14209388e-01 4.46977644e-01 6.58603276e-01\n",
      " 2.62466892e-01 4.78760126e-01 1.01878637e-01 3.53676474e-01\n",
      " 4.56879659e-01 4.65067243e-02 8.61629743e-01 7.80825632e-01\n",
      " 6.37798370e-01 4.87601374e-01 7.54199583e-01 7.84831372e-01\n",
      " 2.42389696e-01 7.78545960e-01 5.60302758e-01 5.54375251e-01\n",
      " 2.94327711e-01 2.56208589e-01 3.24580334e-01 3.00340640e-01\n",
      " 4.43194208e-01 1.26214630e-01 1.67587491e-01 1.57299511e-01\n",
      " 9.12056682e-01 1.81245976e-01 8.68338131e-01 1.75256893e-01\n",
      " 8.35079830e-01 8.87558712e-01 9.04946779e-01 7.69181785e-02\n",
      " 9.11660387e-01 3.49032391e-01 4.32340248e-01 9.83031562e-01\n",
      " 9.27412278e-01 4.00013547e-01 5.16141491e-01 1.72638882e-01\n",
      " 8.52656041e-01 1.14708889e-02 8.27888021e-01 2.58675228e-01\n",
      " 4.39915301e-01 3.67484810e-01 4.08918432e-01 7.00938215e-01\n",
      " 5.78356886e-01 4.41405809e-01 9.85964290e-01 2.73075913e-02\n",
      " 9.00521027e-01 3.48369654e-01 3.52094120e-01 3.55839747e-02\n",
      " 2.74936706e-01 5.92175317e-01 1.11179016e-01 2.60815983e-01\n",
      " 7.00615623e-01 7.96068613e-01 6.62723343e-01 2.91994893e-02\n",
      " 1.86778081e-01 8.52386988e-01 2.09953819e-01 7.78501885e-01\n",
      " 4.67362068e-01 7.91427849e-01 8.33607968e-02 6.62467694e-01\n",
      " 6.88986812e-02 9.97932905e-01 8.71184450e-01 9.41665414e-01\n",
      " 5.57974940e-01 7.42647459e-01 4.09832225e-01 6.53861554e-01\n",
      " 1.46032744e-01 3.24261741e-01 7.15163228e-01 1.20018238e-02\n",
      " 7.59253321e-01 4.41237709e-01 7.73611136e-01 3.43629691e-01]\n"
     ]
    }
   ],
   "source": [
    "print(A)"
   ]
  },
  {
   "cell_type": "code",
   "execution_count": 177,
   "metadata": {},
   "outputs": [],
   "source": [
    "import matplotlib.pyplot as plt"
   ]
  },
  {
   "cell_type": "code",
   "execution_count": 178,
   "metadata": {},
   "outputs": [
    {
     "data": {
      "text/plain": [
       "(array([10.,  8., 15., 11.,  9., 10., 10., 18., 13.,  6.,  6.,  5.,  9.,\n",
       "         8., 18., 11.,  9., 15., 11.,  6., 15., 11.,  2.,  8.,  8., 12.,\n",
       "        13.,  6.,  8.,  7.,  6., 12.,  8., 11., 13., 12., 11.,  7.,  4.,\n",
       "        12., 16.,  6., 11., 13., 16., 13., 12.,  9.,  9.,  9.,  8.,  7.,\n",
       "         4.,  8., 13., 13., 11., 12., 15., 15.,  5., 14., 11., 13.,  7.,\n",
       "        15., 10.,  8., 13., 10.,  9., 14.,  7., 12., 11., 10.,  7., 15.,\n",
       "         9., 11.,  4.,  8.,  9.,  5.,  8., 11., 10.,  7.,  6., 10.,  7.,\n",
       "        17.,  8.,  5.,  8.,  7.,  9., 15., 10., 11.]),\n",
       " array([6.03147517e-04, 1.05864926e-02, 2.05698377e-02, 3.05531828e-02,\n",
       "        4.05365279e-02, 5.05198729e-02, 6.05032180e-02, 7.04865631e-02,\n",
       "        8.04699082e-02, 9.04532533e-02, 1.00436598e-01, 1.10419943e-01,\n",
       "        1.20403289e-01, 1.30386634e-01, 1.40369979e-01, 1.50353324e-01,\n",
       "        1.60336669e-01, 1.70320014e-01, 1.80303359e-01, 1.90286704e-01,\n",
       "        2.00270049e-01, 2.10253394e-01, 2.20236739e-01, 2.30220084e-01,\n",
       "        2.40203430e-01, 2.50186775e-01, 2.60170120e-01, 2.70153465e-01,\n",
       "        2.80136810e-01, 2.90120155e-01, 3.00103500e-01, 3.10086845e-01,\n",
       "        3.20070190e-01, 3.30053535e-01, 3.40036880e-01, 3.50020226e-01,\n",
       "        3.60003571e-01, 3.69986916e-01, 3.79970261e-01, 3.89953606e-01,\n",
       "        3.99936951e-01, 4.09920296e-01, 4.19903641e-01, 4.29886986e-01,\n",
       "        4.39870331e-01, 4.49853676e-01, 4.59837021e-01, 4.69820367e-01,\n",
       "        4.79803712e-01, 4.89787057e-01, 4.99770402e-01, 5.09753747e-01,\n",
       "        5.19737092e-01, 5.29720437e-01, 5.39703782e-01, 5.49687127e-01,\n",
       "        5.59670472e-01, 5.69653817e-01, 5.79637162e-01, 5.89620508e-01,\n",
       "        5.99603853e-01, 6.09587198e-01, 6.19570543e-01, 6.29553888e-01,\n",
       "        6.39537233e-01, 6.49520578e-01, 6.59503923e-01, 6.69487268e-01,\n",
       "        6.79470613e-01, 6.89453958e-01, 6.99437303e-01, 7.09420649e-01,\n",
       "        7.19403994e-01, 7.29387339e-01, 7.39370684e-01, 7.49354029e-01,\n",
       "        7.59337374e-01, 7.69320719e-01, 7.79304064e-01, 7.89287409e-01,\n",
       "        7.99270754e-01, 8.09254099e-01, 8.19237445e-01, 8.29220790e-01,\n",
       "        8.39204135e-01, 8.49187480e-01, 8.59170825e-01, 8.69154170e-01,\n",
       "        8.79137515e-01, 8.89120860e-01, 8.99104205e-01, 9.09087550e-01,\n",
       "        9.19070895e-01, 9.29054240e-01, 9.39037586e-01, 9.49020931e-01,\n",
       "        9.59004276e-01, 9.68987621e-01, 9.78970966e-01, 9.88954311e-01,\n",
       "        9.98937656e-01]),\n",
       " <BarContainer object of 100 artists>)"
      ]
     },
     "execution_count": 178,
     "metadata": {},
     "output_type": "execute_result"
    },
    {
     "data": {
      "image/png": "[encoded data removed]",
      "text/plain": [
       "<Figure size 432x288 with 1 Axes>"
      ]
     },
     "metadata": {
      "needs_background": "light"
     },
     "output_type": "display_data"
    }
   ],
   "source": [
    "plt.hist(A,bins=100)"
   ]
  },
  {
   "cell_type": "markdown",
   "metadata": {},
   "source": [
    "**random.randn** "
   ]
  },
  {
   "cell_type": "code",
   "execution_count": 179,
   "metadata": {},
   "outputs": [
    {
     "data": {
      "text/plain": [
       "(array([  1.,   0.,   0.,   0.,   0.,   1.,   0.,   0.,   2.,   0.,   1.,\n",
       "          0.,   0.,   1.,   0.,   1.,   1.,   0.,   1.,   1.,   5.,   1.,\n",
       "          3.,   2.,   3.,   3.,   2.,   5.,   5.,   3.,   3.,   2.,   6.,\n",
       "          7.,   7.,   8.,   9.,   8.,   9.,  14.,   8.,  11.,  12.,  19.,\n",
       "          8.,  27.,  22.,  16.,  32.,  32.,  35.,  29.,  32.,  37.,  38.,\n",
       "         35.,  43.,  52.,  47.,  49.,  49.,  58.,  49.,  66.,  78.,  66.,\n",
       "         65.,  74.,  78.,  88.,  83.,  88.,  89., 106., 105., 101.,  94.,\n",
       "        107.,  96., 140., 115., 124., 131., 117., 140., 123., 140., 142.,\n",
       "        140., 172., 132., 145., 182., 148., 148., 172., 132., 155., 136.,\n",
       "        155., 167., 168., 157., 144., 141., 155., 131., 136., 124., 138.,\n",
       "        145., 133., 119., 128., 132., 130., 120., 108., 124., 128., 104.,\n",
       "        112., 106., 108.,  89.,  87.,  95.,  70.,  80.,  75.,  70.,  74.,\n",
       "         67.,  60.,  58.,  56.,  49.,  58.,  47.,  45.,  41.,  37.,  30.,\n",
       "         36.,  29.,  34.,  24.,  19.,  25.,  20.,  17.,  13.,  24.,  24.,\n",
       "         10.,  25.,   8.,  13.,   9.,   9.,   9.,   7.,   8.,   9.,   4.,\n",
       "          5.,   4.,   3.,   4.,   4.,   2.,   3.,   1.,   1.,   4.,   3.,\n",
       "          5.,   1.,   1.,   1.,   0.,   1.,   2.,   1.,   0.,   0.,   1.,\n",
       "          0.,   1.,   0.,   0.,   0.,   1.,   0.,   0.,   0.,   0.,   0.,\n",
       "          0.,   1.]),\n",
       " array([-3.80513773, -3.76661351, -3.7280893 , -3.68956509, -3.65104087,\n",
       "        -3.61251666, -3.57399244, -3.53546823, -3.49694401, -3.4584198 ,\n",
       "        -3.41989559, -3.38137137, -3.34284716, -3.30432294, -3.26579873,\n",
       "        -3.22727451, -3.1887503 , -3.15022609, -3.11170187, -3.07317766,\n",
       "        -3.03465344, -2.99612923, -2.95760501, -2.9190808 , -2.88055658,\n",
       "        -2.84203237, -2.80350816, -2.76498394, -2.72645973, -2.68793551,\n",
       "        -2.6494113 , -2.61088708, -2.57236287, -2.53383866, -2.49531444,\n",
       "        -2.45679023, -2.41826601, -2.3797418 , -2.34121758, -2.30269337,\n",
       "        -2.26416916, -2.22564494, -2.18712073, -2.14859651, -2.1100723 ,\n",
       "        -2.07154808, -2.03302387, -1.99449966, -1.95597544, -1.91745123,\n",
       "        -1.87892701, -1.8404028 , -1.80187858, -1.76335437, -1.72483015,\n",
       "        -1.68630594, -1.64778173, -1.60925751, -1.5707333 , -1.53220908,\n",
       "        -1.49368487, -1.45516065, -1.41663644, -1.37811223, -1.33958801,\n",
       "        -1.3010638 , -1.26253958, -1.22401537, -1.18549115, -1.14696694,\n",
       "        -1.10844273, -1.06991851, -1.0313943 , -0.99287008, -0.95434587,\n",
       "        -0.91582165, -0.87729744, -0.83877323, -0.80024901, -0.7617248 ,\n",
       "        -0.72320058, -0.68467637, -0.64615215, -0.60762794, -0.56910372,\n",
       "        -0.53057951, -0.4920553 , -0.45353108, -0.41500687, -0.37648265,\n",
       "        -0.33795844, -0.29943422, -0.26091001, -0.2223858 , -0.18386158,\n",
       "        -0.14533737, -0.10681315, -0.06828894, -0.02976472,  0.00875949,\n",
       "         0.0472837 ,  0.08580792,  0.12433213,  0.16285635,  0.20138056,\n",
       "         0.23990478,  0.27842899,  0.3169532 ,  0.35547742,  0.39400163,\n",
       "         0.43252585,  0.47105006,  0.50957428,  0.54809849,  0.5866227 ,\n",
       "         0.62514692,  0.66367113,  0.70219535,  0.74071956,  0.77924378,\n",
       "         0.81776799,  0.85629221,  0.89481642,  0.93334063,  0.97186485,\n",
       "         1.01038906,  1.04891328,  1.08743749,  1.12596171,  1.16448592,\n",
       "         1.20301013,  1.24153435,  1.28005856,  1.31858278,  1.35710699,\n",
       "         1.39563121,  1.43415542,  1.47267963,  1.51120385,  1.54972806,\n",
       "         1.58825228,  1.62677649,  1.66530071,  1.70382492,  1.74234913,\n",
       "         1.78087335,  1.81939756,  1.85792178,  1.89644599,  1.93497021,\n",
       "         1.97349442,  2.01201864,  2.05054285,  2.08906706,  2.12759128,\n",
       "         2.16611549,  2.20463971,  2.24316392,  2.28168814,  2.32021235,\n",
       "         2.35873656,  2.39726078,  2.43578499,  2.47430921,  2.51283342,\n",
       "         2.55135764,  2.58988185,  2.62840606,  2.66693028,  2.70545449,\n",
       "         2.74397871,  2.78250292,  2.82102714,  2.85955135,  2.89807556,\n",
       "         2.93659978,  2.97512399,  3.01364821,  3.05217242,  3.09069664,\n",
       "         3.12922085,  3.16774507,  3.20626928,  3.24479349,  3.28331771,\n",
       "         3.32184192,  3.36036614,  3.39889035,  3.43741457,  3.47593878,\n",
       "         3.51446299,  3.55298721,  3.59151142,  3.63003564,  3.66855985,\n",
       "         3.70708407,  3.74560828,  3.78413249,  3.82265671,  3.86118092,\n",
       "         3.89970514]),\n",
       " <BarContainer object of 200 artists>)"
      ]
     },
     "execution_count": 179,
     "metadata": {},
     "output_type": "execute_result"
    },
    {
     "data": {
      "image/png": "[encoded data removed]",
      "text/plain": [
       "<Figure size 432x288 with 1 Axes>"
      ]
     },
     "metadata": {
      "needs_background": "light"
     },
     "output_type": "display_data"
    }
   ],
   "source": [
    "B = np.random.randn(10000)\n",
    "plt.hist(B, bins=200)"
   ]
  },
  {
   "cell_type": "markdown",
   "metadata": {},
   "source": [
    "**random.rand** is used to get an array of values in between 0 and 1, for the provided number of values/dimensions and sub arrays as example below:"
   ]
  },
  {
   "cell_type": "code",
   "execution_count": 180,
   "metadata": {},
   "outputs": [],
   "source": [
    "C = np.random.rand(2,4)"
   ]
  },
  {
   "cell_type": "code",
   "execution_count": 188,
   "metadata": {},
   "outputs": [
    {
     "name": "stdout",
     "output_type": "stream",
     "text": [
      "2\n"
     ]
    }
   ],
   "source": [
    "print(C.ndim)"
   ]
  },
  {
   "cell_type": "code",
   "execution_count": 189,
   "metadata": {},
   "outputs": [],
   "source": [
    "C = np.random.rand(2,5,4,2)"
   ]
  },
  {
   "cell_type": "code",
   "execution_count": 191,
   "metadata": {
    "collapsed": true
   },
   "outputs": [
    {
     "name": "stdout",
     "output_type": "stream",
     "text": [
      "[[[[0.09146375 0.17438871]\n",
      "   [0.51720693 0.61124857]\n",
      "   [0.38119299 0.74615352]\n",
      "   [0.87728426 0.21199482]]\n",
      "\n",
      "  [[0.82840561 0.49377266]\n",
      "   [0.50999038 0.13077447]\n",
      "   [0.13775549 0.06264745]\n",
      "   [0.53479201 0.34190733]]\n",
      "\n",
      "  [[0.07509832 0.55409397]\n",
      "   [0.28198996 0.0572157 ]\n",
      "   [0.64403342 0.65351322]\n",
      "   [0.45703308 0.41012555]]\n",
      "\n",
      "  [[0.79588104 0.59597215]\n",
      "   [0.58731389 0.85176435]\n",
      "   [0.29782552 0.05270437]\n",
      "   [0.3125979  0.59311585]]\n",
      "\n",
      "  [[0.29309885 0.77851389]\n",
      "   [0.67541633 0.36355192]\n",
      "   [0.13011925 0.94130724]\n",
      "   [0.02425188 0.29980136]]]\n",
      "\n",
      "\n",
      " [[[0.03431335 0.05455906]\n",
      "   [0.77720715 0.00482664]\n",
      "   [0.73978564 0.94227046]\n",
      "   [0.92616626 0.20144236]]\n",
      "\n",
      "  [[0.10239506 0.62098047]\n",
      "   [0.12704515 0.36962138]\n",
      "   [0.28181437 0.12007674]\n",
      "   [0.73145206 0.06244754]]\n",
      "\n",
      "  [[0.77198181 0.89406477]\n",
      "   [0.35969815 0.72820395]\n",
      "   [0.81850081 0.79871108]\n",
      "   [0.11101107 0.71942502]]\n",
      "\n",
      "  [[0.54373977 0.49066465]\n",
      "   [0.17629797 0.79889764]\n",
      "   [0.5872843  0.73663885]\n",
      "   [0.66783825 0.07596499]]\n",
      "\n",
      "  [[0.03775276 0.40201329]\n",
      "   [0.06263482 0.65190274]\n",
      "   [0.5638708  0.23972828]\n",
      "   [0.39824119 0.89512714]]]]\n",
      "4\n"
     ]
    }
   ],
   "source": [
    "print(C)\n",
    "print(C.ndim)"
   ]
  },
  {
   "cell_type": "markdown",
   "metadata": {},
   "source": [
    "**reshape** module is used to convert a single dimentional array into multi-dimensional array quickly.\n",
    "\n",
    "The Dimensions provided in reshape module must be mapped on the lenth of array provided."
   ]
  },
  {
   "cell_type": "code",
   "execution_count": 198,
   "metadata": {},
   "outputs": [],
   "source": [
    "D = np.arange(100).reshape(4,25)"
   ]
  },
  {
   "cell_type": "code",
   "execution_count": 199,
   "metadata": {},
   "outputs": [
    {
     "name": "stdout",
     "output_type": "stream",
     "text": [
      "(4, 25)\n"
     ]
    }
   ],
   "source": [
    "print(D.shape)"
   ]
  },
  {
   "cell_type": "code",
   "execution_count": 202,
   "metadata": {},
   "outputs": [],
   "source": [
    "D = np.arange(100).reshape(10,2,5)"
   ]
  },
  {
   "cell_type": "code",
   "execution_count": 203,
   "metadata": {},
   "outputs": [
    {
     "name": "stdout",
     "output_type": "stream",
     "text": [
      "(10, 2, 5)\n"
     ]
    }
   ],
   "source": [
    "print(D.shape)"
   ]
  },
  {
   "cell_type": "markdown",
   "metadata": {},
   "source": [
    "**Slicing** is used to get a part of array to cut a part of array\n",
    "\n",
    "**_Note:_** no new copy of the array is created un-like of python. But previouse array starts pointing out the sliced array. Example below:"
   ]
  },
  {
   "cell_type": "code",
   "execution_count": 204,
   "metadata": {},
   "outputs": [],
   "source": [
    "A = np.arange(100)"
   ]
  },
  {
   "cell_type": "code",
   "execution_count": 214,
   "metadata": {},
   "outputs": [],
   "source": [
    "b = A[2:10]"
   ]
  },
  {
   "cell_type": "code",
   "execution_count": 215,
   "metadata": {},
   "outputs": [
    {
     "name": "stdout",
     "output_type": "stream",
     "text": [
      "[    2     3 -1200     5     6     7     8     9]\n"
     ]
    }
   ],
   "source": [
    "print(b)"
   ]
  },
  {
   "cell_type": "code",
   "execution_count": 216,
   "metadata": {},
   "outputs": [],
   "source": [
    "b[2] = -1200"
   ]
  },
  {
   "cell_type": "code",
   "execution_count": 217,
   "metadata": {},
   "outputs": [
    {
     "name": "stdout",
     "output_type": "stream",
     "text": [
      "[    2     3 -1200     5     6     7     8     9]\n"
     ]
    }
   ],
   "source": [
    "print(b)"
   ]
  },
  {
   "cell_type": "code",
   "execution_count": 219,
   "metadata": {},
   "outputs": [
    {
     "name": "stdout",
     "output_type": "stream",
     "text": [
      "[    0     1     2     3 -1200     5     6     7     8     9    10    11\n",
      "    12    13    14    15    16    17    18    19    20    21    22    23\n",
      "    24    25    26    27    28    29    30    31    32    33    34    35\n",
      "    36    37    38    39    40    41    42    43    44    45    46    47\n",
      "    48    49    50    51    52    53    54    55    56    57    58    59\n",
      "    60    61    62    63    64    65    66    67    68    69    70    71\n",
      "    72    73    74    75    76    77    78    79    80    81    82    83\n",
      "    84    85    86    87    88    89    90    91    92    93    94    95\n",
      "    96    97    98    99]\n"
     ]
    }
   ],
   "source": [
    "print(A)"
   ]
  },
  {
   "cell_type": "markdown",
   "metadata": {},
   "source": [
    "To avoid above behaiviour, we can use copy function"
   ]
  },
  {
   "cell_type": "code",
   "execution_count": 220,
   "metadata": {},
   "outputs": [],
   "source": [
    "b = A[3:10].copy()"
   ]
  },
  {
   "cell_type": "code",
   "execution_count": 221,
   "metadata": {},
   "outputs": [],
   "source": [
    "b[2] = 90"
   ]
  },
  {
   "cell_type": "code",
   "execution_count": 223,
   "metadata": {},
   "outputs": [
    {
     "name": "stdout",
     "output_type": "stream",
     "text": [
      "[    3 -1200    90     6     7     8     9]\n"
     ]
    }
   ],
   "source": [
    "print(b)"
   ]
  },
  {
   "cell_type": "code",
   "execution_count": 225,
   "metadata": {},
   "outputs": [
    {
     "name": "stdout",
     "output_type": "stream",
     "text": [
      "[    0     1     2     3 -1200     5     6     7     8     9    10    11\n",
      "    12    13    14    15    16    17    18    19    20    21    22    23\n",
      "    24    25    26    27    28    29    30    31    32    33    34    35\n",
      "    36    37    38    39    40    41    42    43    44    45    46    47\n",
      "    48    49    50    51    52    53    54    55    56    57    58    59\n",
      "    60    61    62    63    64    65    66    67    68    69    70    71\n",
      "    72    73    74    75    76    77    78    79    80    81    82    83\n",
      "    84    85    86    87    88    89    90    91    92    93    94    95\n",
      "    96    97    98    99]\n"
     ]
    }
   ],
   "source": [
    "print(A)"
   ]
  },
  {
   "cell_type": "code",
   "execution_count": 226,
   "metadata": {},
   "outputs": [
    {
     "data": {
      "text/plain": [
       "array([ 0,  5, 10, 15, 20, 25, 30, 35, 40, 45, 50, 55, 60, 65, 70, 75, 80,\n",
       "       85, 90, 95])"
      ]
     },
     "execution_count": 226,
     "metadata": {},
     "output_type": "execute_result"
    }
   ],
   "source": [
    "A[::5]"
   ]
  },
  {
   "cell_type": "code",
   "execution_count": 228,
   "metadata": {},
   "outputs": [
    {
     "data": {
      "text/plain": [
       "array([   99,    94,    89,    84,    79,    74,    69,    64,    59,\n",
       "          54,    49,    44,    39,    34,    29,    24,    19,    14,\n",
       "           9, -1200])"
      ]
     },
     "execution_count": 228,
     "metadata": {},
     "output_type": "execute_result"
    }
   ],
   "source": [
    "A[::-5]"
   ]
  },
  {
   "cell_type": "code",
   "execution_count": 229,
   "metadata": {},
   "outputs": [
    {
     "data": {
      "text/plain": [
       "array([   99,    98,    97,    96,    95,    94,    93,    92,    91,\n",
       "          90,    89,    88,    87,    86,    85,    84,    83,    82,\n",
       "          81,    80,    79,    78,    77,    76,    75,    74,    73,\n",
       "          72,    71,    70,    69,    68,    67,    66,    65,    64,\n",
       "          63,    62,    61,    60,    59,    58,    57,    56,    55,\n",
       "          54,    53,    52,    51,    50,    49,    48,    47,    46,\n",
       "          45,    44,    43,    42,    41,    40,    39,    38,    37,\n",
       "          36,    35,    34,    33,    32,    31,    30,    29,    28,\n",
       "          27,    26,    25,    24,    23,    22,    21,    20,    19,\n",
       "          18,    17,    16,    15,    14,    13,    12,    11,    10,\n",
       "           9,     8,     7,     6,     5, -1200,     3,     2,     1,\n",
       "           0])"
      ]
     },
     "execution_count": 229,
     "metadata": {},
     "output_type": "execute_result"
    }
   ],
   "source": [
    "A[::-1]"
   ]
  }
 ],
 "metadata": {
  "kernelspec": {
   "display_name": "Python 3",
   "language": "python",
   "name": "python3"
  },
  "language_info": {
   "codemirror_mode": {
    "name": "ipython",
    "version": 3
   },
   "file_extension": ".py",
   "mimetype": "text/x-python",
   "name": "python",
   "nbconvert_exporter": "python",
   "pygments_lexer": "ipython3",
   "version": "3.8.5"
  }
 },
 "nbformat": 4,
 "nbformat_minor": 4
}
