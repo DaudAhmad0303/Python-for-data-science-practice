{
 "cells": [
  {
   "cell_type": "markdown",
   "metadata": {},
   "source": [
    "# Numpy"
   ]
  },
  {
   "cell_type": "markdown",
   "metadata": {},
   "source": [
    "**Numpy** stands for **Numerical Python**\n",
    "\n",
    "- It's working is much more faster than working with Lists.\n",
    "\n",
    "- In case of List, computer have to save the type of each element separatly.\n",
    "\n",
    "- So, it becomes slow as compare to the array. Because, array is a data structure of contigeouse type. we need not to store data type for each element."
   ]
  },
  {
   "cell_type": "code",
   "execution_count": 2,
   "metadata": {},
   "outputs": [],
   "source": [
    "import numpy as np"
   ]
  },
  {
   "cell_type": "code",
   "execution_count": 3,
   "metadata": {},
   "outputs": [],
   "source": [
    "a = np.array([1,2,3,4,5])"
   ]
  },
  {
   "cell_type": "code",
   "execution_count": 4,
   "metadata": {},
   "outputs": [],
   "source": [
    "b = np.array((2,4,6,8,0))"
   ]
  },
  {
   "cell_type": "code",
   "execution_count": 5,
   "metadata": {},
   "outputs": [
    {
     "name": "stdout",
     "output_type": "stream",
     "text": [
      "[1 2 3 4 5]\n",
      "[2 4 6 8 0]\n"
     ]
    }
   ],
   "source": [
    "print(a)\n",
    "print(b)"
   ]
  },
  {
   "cell_type": "code",
   "execution_count": 6,
   "metadata": {
    "scrolled": true
   },
   "outputs": [
    {
     "name": "stdout",
     "output_type": "stream",
     "text": [
      "<class 'numpy.ndarray'>\n"
     ]
    }
   ],
   "source": [
    "# ndarray means 'n dimensional array'\n",
    "print(type(a))"
   ]
  },
  {
   "cell_type": "code",
   "execution_count": 7,
   "metadata": {},
   "outputs": [],
   "source": [
    "c = np.array([2,3,4,5,6,9],dtype='f')\n",
    "# We can specify data type separatly "
   ]
  },
  {
   "cell_type": "code",
   "execution_count": 8,
   "metadata": {},
   "outputs": [
    {
     "name": "stdout",
     "output_type": "stream",
     "text": [
      "float32\n"
     ]
    }
   ],
   "source": [
    "print(c.dtype)"
   ]
  },
  {
   "cell_type": "markdown",
   "metadata": {},
   "source": [
    "Several Properties of **Numpy array**"
   ]
  },
  {
   "cell_type": "markdown",
   "metadata": {},
   "source": [
    "**ndim** is used to get the dimension of array"
   ]
  },
  {
   "cell_type": "code",
   "execution_count": 9,
   "metadata": {},
   "outputs": [],
   "source": [
    "# del a\n",
    "a = np.array([[1,2,3],[4,5,6]])"
   ]
  },
  {
   "cell_type": "code",
   "execution_count": 10,
   "metadata": {},
   "outputs": [
    {
     "name": "stdout",
     "output_type": "stream",
     "text": [
      "2\n"
     ]
    }
   ],
   "source": [
    "print(a.ndim)"
   ]
  },
  {
   "cell_type": "code",
   "execution_count": 11,
   "metadata": {},
   "outputs": [
    {
     "name": "stdout",
     "output_type": "stream",
     "text": [
      "[[1 2 3]\n",
      " [4 5 6]]\n"
     ]
    }
   ],
   "source": [
    "print(a)"
   ]
  },
  {
   "cell_type": "code",
   "execution_count": 12,
   "metadata": {},
   "outputs": [
    {
     "name": "stdout",
     "output_type": "stream",
     "text": [
      "6\n"
     ]
    }
   ],
   "source": [
    "print(a[1,2])"
   ]
  },
  {
   "cell_type": "markdown",
   "metadata": {},
   "source": [
    "we have to store same dimension of sub arrays inside an array otherwise objection arose."
   ]
  },
  {
   "cell_type": "code",
   "execution_count": 13,
   "metadata": {},
   "outputs": [],
   "source": [
    "B = np.array([[1,2,3,-1],[2,4,5,9]])"
   ]
  },
  {
   "cell_type": "code",
   "execution_count": 14,
   "metadata": {},
   "outputs": [
    {
     "data": {
      "text/plain": [
       "2"
      ]
     },
     "execution_count": 14,
     "metadata": {},
     "output_type": "execute_result"
    }
   ],
   "source": [
    "B.ndim"
   ]
  },
  {
   "cell_type": "code",
   "execution_count": 15,
   "metadata": {},
   "outputs": [
    {
     "name": "stdout",
     "output_type": "stream",
     "text": [
      "-1\n"
     ]
    }
   ],
   "source": [
    "print(B[0,3])"
   ]
  },
  {
   "cell_type": "code",
   "execution_count": 16,
   "metadata": {},
   "outputs": [],
   "source": [
    "C = np.array([[[1,2,3], [4,5,6], [0,0,-1]], [[-1,-2,-3], [-4,-5,-6], [0,0,1]]])"
   ]
  },
  {
   "cell_type": "code",
   "execution_count": 17,
   "metadata": {},
   "outputs": [
    {
     "name": "stdout",
     "output_type": "stream",
     "text": [
      "int32\n"
     ]
    }
   ],
   "source": [
    "print(C.dtype)"
   ]
  },
  {
   "cell_type": "code",
   "execution_count": 18,
   "metadata": {},
   "outputs": [
    {
     "name": "stdout",
     "output_type": "stream",
     "text": [
      "3\n"
     ]
    }
   ],
   "source": [
    "print(C.ndim)"
   ]
  },
  {
   "cell_type": "code",
   "execution_count": 19,
   "metadata": {},
   "outputs": [
    {
     "name": "stdout",
     "output_type": "stream",
     "text": [
      "-6\n"
     ]
    }
   ],
   "source": [
    "print(C[1,1,2])"
   ]
  },
  {
   "cell_type": "markdown",
   "metadata": {},
   "source": [
    "**shape** module is used to get dimension of each array inside array.i.e.,"
   ]
  },
  {
   "cell_type": "code",
   "execution_count": 20,
   "metadata": {},
   "outputs": [
    {
     "name": "stdout",
     "output_type": "stream",
     "text": [
      "(2, 3, 3)\n",
      "<class 'tuple'>\n"
     ]
    }
   ],
   "source": [
    "print(C.shape)\n",
    "# It's mean: C array is containing 2 sub arrays; each sub array is further containing 3 arrays; further \n",
    "# each array is containing 3 elements in it\n",
    "print(type(C.shape))"
   ]
  },
  {
   "cell_type": "code",
   "execution_count": 21,
   "metadata": {},
   "outputs": [
    {
     "name": "stdout",
     "output_type": "stream",
     "text": [
      "3\n"
     ]
    }
   ],
   "source": [
    "print(C.shape[2])"
   ]
  },
  {
   "cell_type": "code",
   "execution_count": 22,
   "metadata": {},
   "outputs": [],
   "source": [
    "A = np.array([3])"
   ]
  },
  {
   "cell_type": "code",
   "execution_count": 23,
   "metadata": {},
   "outputs": [
    {
     "name": "stdout",
     "output_type": "stream",
     "text": [
      "1\n"
     ]
    }
   ],
   "source": [
    "print(A.ndim)"
   ]
  },
  {
   "cell_type": "code",
   "execution_count": 24,
   "metadata": {},
   "outputs": [],
   "source": [
    "B = np.array(9)"
   ]
  },
  {
   "cell_type": "code",
   "execution_count": 25,
   "metadata": {},
   "outputs": [
    {
     "name": "stdout",
     "output_type": "stream",
     "text": [
      "0\n"
     ]
    }
   ],
   "source": [
    "print(B.ndim)"
   ]
  },
  {
   "cell_type": "markdown",
   "metadata": {},
   "source": [
    "**size** module returns the number of total elements in an array"
   ]
  },
  {
   "cell_type": "code",
   "execution_count": 26,
   "metadata": {},
   "outputs": [
    {
     "name": "stdout",
     "output_type": "stream",
     "text": [
      "18\n"
     ]
    }
   ],
   "source": [
    "print(C.size)"
   ]
  },
  {
   "cell_type": "markdown",
   "metadata": {},
   "source": [
    "**nbytes** is used to get memory used by array"
   ]
  },
  {
   "cell_type": "code",
   "execution_count": 27,
   "metadata": {},
   "outputs": [
    {
     "name": "stdout",
     "output_type": "stream",
     "text": [
      "72\n"
     ]
    }
   ],
   "source": [
    "print(C.nbytes)"
   ]
  },
  {
   "cell_type": "markdown",
   "metadata": {},
   "source": [
    "**ones** and **zeros** modules are used to get the desired number of zeros or ones inside an array"
   ]
  },
  {
   "cell_type": "code",
   "execution_count": 28,
   "metadata": {},
   "outputs": [],
   "source": [
    "C1 = np.ones(30, dtype = 'i')\n",
    "C2 = np.zeros(20)"
   ]
  },
  {
   "cell_type": "code",
   "execution_count": 29,
   "metadata": {},
   "outputs": [
    {
     "name": "stdout",
     "output_type": "stream",
     "text": [
      "[1 1 1 1 1 1 1 1 1 1 1 1 1 1 1 1 1 1 1 1 1 1 1 1 1 1 1 1 1 1]\n",
      "[0. 0. 0. 0. 0. 0. 0. 0. 0. 0. 0. 0. 0. 0. 0. 0. 0. 0. 0. 0.]\n",
      "int32\n",
      "float64\n"
     ]
    }
   ],
   "source": [
    "print(C1)\n",
    "print(C2)\n",
    "print(C1.dtype)\n",
    "print(C2.dtype)"
   ]
  },
  {
   "cell_type": "code",
   "execution_count": 30,
   "metadata": {},
   "outputs": [
    {
     "name": "stdout",
     "output_type": "stream",
     "text": [
      "Variable   Type       Data/Info\n",
      "-------------------------------\n",
      "A          ndarray    1: 1 elems, type `int32`, 4 bytes\n",
      "B          ndarray    : 1 elems, type `int32`, 4 bytes\n",
      "C          ndarray    2x3x3: 18 elems, type `int32`, 72 bytes\n",
      "C1         ndarray    30: 30 elems, type `int32`, 120 bytes\n",
      "C2         ndarray    20: 20 elems, type `float64`, 160 bytes\n",
      "a          ndarray    2x3: 6 elems, type `int32`, 24 bytes\n",
      "b          ndarray    5: 5 elems, type `int32`, 20 bytes\n",
      "c          ndarray    6: 6 elems, type `float32`, 24 bytes\n",
      "np         module     <module 'numpy' from 'C:\\<...>ges\\\\numpy\\\\__init__.py'>\n"
     ]
    }
   ],
   "source": [
    "%whos"
   ]
  },
  {
   "cell_type": "markdown",
   "metadata": {},
   "source": [
    "**arange** module is used to get a series of numbers provided in range just like in **range** function"
   ]
  },
  {
   "cell_type": "code",
   "execution_count": 31,
   "metadata": {},
   "outputs": [],
   "source": [
    "C3 = np.arange(50)"
   ]
  },
  {
   "cell_type": "code",
   "execution_count": 32,
   "metadata": {},
   "outputs": [
    {
     "name": "stdout",
     "output_type": "stream",
     "text": [
      "[ 0  1  2  3  4  5  6  7  8  9 10 11 12 13 14 15 16 17 18 19 20 21 22 23\n",
      " 24 25 26 27 28 29 30 31 32 33 34 35 36 37 38 39 40 41 42 43 44 45 46 47\n",
      " 48 49]\n"
     ]
    }
   ],
   "source": [
    "print(C3)"
   ]
  },
  {
   "cell_type": "code",
   "execution_count": 33,
   "metadata": {},
   "outputs": [
    {
     "name": "stdout",
     "output_type": "stream",
     "text": [
      "[20 22 24 26 28 30 32 34 36 38 40 42 44 46 48 50 52 54 56 58]\n"
     ]
    }
   ],
   "source": [
    "C4 = np.arange(20,60,2)        # for i in range(0, 20, 2):\n",
    "print(C4)"
   ]
  },
  {
   "cell_type": "code",
   "execution_count": 34,
   "metadata": {},
   "outputs": [
    {
     "name": "stdout",
     "output_type": "stream",
     "text": [
      "range(0, 40)\n"
     ]
    }
   ],
   "source": [
    "print(range(40))"
   ]
  },
  {
   "cell_type": "code",
   "execution_count": 35,
   "metadata": {},
   "outputs": [
    {
     "name": "stdout",
     "output_type": "stream",
     "text": [
      "[0, 1, 2, 3, 4, 5, 6, 7, 8, 9, 10, 11, 12, 13, 14, 15, 16, 17, 18, 19, 20, 21, 22, 23, 24, 25, 26, 27, 28, 29, 30, 31, 32, 33, 34, 35, 36, 37, 38, 39, 40, 41, 42, 43, 44, 45, 46, 47, 48, 49, 50]\n"
     ]
    }
   ],
   "source": [
    "print(list(range(51)))"
   ]
  },
  {
   "cell_type": "markdown",
   "metadata": {},
   "source": [
    "**random.permutation** is used to shuffle all the array values and then it creats a new array."
   ]
  },
  {
   "cell_type": "code",
   "execution_count": 36,
   "metadata": {},
   "outputs": [],
   "source": [
    "A = np.random.permutation(np.arange(10))\n",
    "# A = np.random.permutation(C4)"
   ]
  },
  {
   "cell_type": "code",
   "execution_count": 37,
   "metadata": {
    "scrolled": false
   },
   "outputs": [
    {
     "name": "stdout",
     "output_type": "stream",
     "text": [
      "[8 7 9 6 4 3 5 2 1 0]\n"
     ]
    }
   ],
   "source": [
    "print(A)"
   ]
  },
  {
   "cell_type": "code",
   "execution_count": 38,
   "metadata": {},
   "outputs": [
    {
     "name": "stdout",
     "output_type": "stream",
     "text": [
      "Help on built-in function permutation:\n",
      "\n",
      "permutation(...) method of numpy.random.mtrand.RandomState instance\n",
      "    permutation(x)\n",
      "    \n",
      "    Randomly permute a sequence, or return a permuted range.\n",
      "    \n",
      "    If `x` is a multi-dimensional array, it is only shuffled along its\n",
      "    first index.\n",
      "    \n",
      "    .. note::\n",
      "        New code should use the ``permutation`` method of a ``default_rng()``\n",
      "        instance instead; please see the :ref:`random-quick-start`.\n",
      "    \n",
      "    Parameters\n",
      "    ----------\n",
      "    x : int or array_like\n",
      "        If `x` is an integer, randomly permute ``np.arange(x)``.\n",
      "        If `x` is an array, make a copy and shuffle the elements\n",
      "        randomly.\n",
      "    \n",
      "    Returns\n",
      "    -------\n",
      "    out : ndarray\n",
      "        Permuted sequence or array range.\n",
      "    \n",
      "    See Also\n",
      "    --------\n",
      "    Generator.permutation: which should be used for new code.\n",
      "    \n",
      "    Examples\n",
      "    --------\n",
      "    >>> np.random.permutation(10)\n",
      "    array([1, 7, 4, 3, 0, 9, 2, 5, 8, 6]) # random\n",
      "    \n",
      "    >>> np.random.permutation([1, 4, 9, 12, 15])\n",
      "    array([15,  1,  9,  4, 12]) # random\n",
      "    \n",
      "    >>> arr = np.arange(9).reshape((3, 3))\n",
      "    >>> np.random.permutation(arr)\n",
      "    array([[6, 7, 8], # random\n",
      "           [0, 1, 2],\n",
      "           [3, 4, 5]])\n",
      "\n"
     ]
    }
   ],
   "source": [
    "help(np.random.permutation)"
   ]
  },
  {
   "cell_type": "markdown",
   "metadata": {},
   "source": [
    "**random.randint** is used to get a single random integer in the provided range"
   ]
  },
  {
   "cell_type": "code",
   "execution_count": 39,
   "metadata": {},
   "outputs": [
    {
     "name": "stdout",
     "output_type": "stream",
     "text": [
      "20\n"
     ]
    }
   ],
   "source": [
    "print(np.random.randint(20,30))"
   ]
  },
  {
   "cell_type": "code",
   "execution_count": 40,
   "metadata": {},
   "outputs": [
    {
     "name": "stdout",
     "output_type": "stream",
     "text": [
      "19\n"
     ]
    }
   ],
   "source": [
    "a = np.random.randint(10,20)\n",
    "print(a)"
   ]
  },
  {
   "cell_type": "markdown",
   "metadata": {},
   "source": [
    "**random.rand** is used to get an array of values in between 0 and 1, for the provided number of values/dimensions as example below:"
   ]
  },
  {
   "cell_type": "code",
   "execution_count": 41,
   "metadata": {},
   "outputs": [],
   "source": [
    "A = np.random.rand(1000)"
   ]
  },
  {
   "cell_type": "code",
   "execution_count": 42,
   "metadata": {},
   "outputs": [
    {
     "name": "stdout",
     "output_type": "stream",
     "text": [
      "[3.80841305e-01 7.56733577e-01 6.85489228e-02 6.71808042e-01\n",
      " 6.87764042e-01 8.64606224e-01 8.12948340e-02 6.32659707e-01\n",
      " 4.41915391e-01 2.16454751e-01 9.71378837e-01 4.82390475e-01\n",
      " 7.82628379e-01 2.70979354e-02 8.36095023e-01 9.30789986e-01\n",
      " 3.59352637e-01 9.93081414e-01 7.16561807e-01 4.21364441e-01\n",
      " 6.46208796e-01 8.28086543e-01 7.76453424e-01 5.47767616e-01\n",
      " 6.17375162e-01 8.95722400e-01 4.54736638e-01 3.96363502e-01\n",
      " 5.21493585e-01 1.20897084e-01 6.80423621e-01 2.67796272e-01\n",
      " 8.60998407e-02 7.04105091e-01 3.47109070e-01 6.11175301e-01\n",
      " 5.87539932e-01 8.94785056e-01 9.84320520e-02 7.97014430e-01\n",
      " 5.06961461e-01 1.29653834e-01 1.43183005e-01 6.68161025e-01\n",
      " 7.85653228e-01 5.90006259e-01 3.41312571e-01 7.73725976e-01\n",
      " 8.41906141e-01 3.18414535e-01 8.29842317e-02 6.03353471e-01\n",
      " 3.29289901e-01 9.95432712e-02 2.19617524e-01 3.18239937e-01\n",
      " 3.96278560e-01 7.95754789e-01 1.77612201e-01 8.68729509e-01\n",
      " 3.98917167e-03 5.03369000e-01 9.35685166e-01 2.52328082e-01\n",
      " 2.29487075e-01 5.96626331e-01 5.04387607e-01 6.89432756e-01\n",
      " 8.69819330e-01 5.47836390e-02 4.81744944e-01 1.32099914e-01\n",
      " 5.98187208e-01 2.49696683e-01 7.62824954e-01 3.55499819e-01\n",
      " 9.44984635e-02 7.24534548e-01 3.58025960e-01 8.50274853e-03\n",
      " 5.97266779e-01 1.13528908e-01 2.39332577e-01 9.68862932e-01\n",
      " 7.18751390e-01 3.22472326e-01 5.82196827e-01 6.98310587e-01\n",
      " 1.61912920e-01 8.13954265e-01 9.04635005e-01 4.74354274e-01\n",
      " 3.23947864e-01 9.62585150e-01 5.10185152e-01 3.17345259e-01\n",
      " 3.00127339e-01 3.35396913e-01 5.99572542e-01 1.42959685e-01\n",
      " 7.29564298e-01 4.19745902e-01 4.85060839e-01 5.05622991e-01\n",
      " 6.34084461e-01 7.34565352e-01 3.85524591e-01 9.97757142e-01\n",
      " 7.15654277e-01 2.30263854e-01 7.97255152e-01 4.91473904e-02\n",
      " 7.73205639e-01 5.54657262e-01 2.66955256e-01 8.54890102e-01\n",
      " 7.23405325e-01 9.57462948e-01 3.93362599e-01 8.82005620e-01\n",
      " 6.92980753e-01 9.24591675e-01 7.34953870e-01 8.52710326e-01\n",
      " 5.75276254e-01 6.97680680e-02 5.86477129e-01 2.73101556e-01\n",
      " 3.15568645e-01 8.41084928e-01 2.63062862e-02 7.05645302e-01\n",
      " 6.67031760e-02 6.28725860e-01 3.54871796e-01 8.27415230e-01\n",
      " 2.81394551e-01 5.56397148e-01 1.69327246e-01 5.03601281e-01\n",
      " 2.09644523e-01 1.07381055e-01 2.99077571e-01 8.07902430e-01\n",
      " 8.15964467e-02 8.98072973e-01 3.85861599e-01 9.09899710e-01\n",
      " 1.22101727e-01 7.41760104e-01 3.72640600e-01 9.14890418e-03\n",
      " 4.58288810e-01 1.28788252e-01 2.36421296e-01 6.30769289e-01\n",
      " 6.77081412e-01 1.16897020e-01 2.10581652e-01 1.87774107e-01\n",
      " 6.60175668e-01 2.83047511e-01 5.56843955e-01 3.18454719e-01\n",
      " 6.94610270e-01 2.54241522e-01 3.57934043e-02 1.34978706e-02\n",
      " 5.50666976e-01 8.02388222e-01 3.63163731e-01 1.66410321e-01\n",
      " 7.43070046e-01 3.10626595e-01 6.94919447e-01 2.13934553e-01\n",
      " 5.82719133e-01 3.87401589e-01 9.85697513e-01 5.04697548e-01\n",
      " 9.88147266e-01 6.10065471e-01 3.39784561e-01 3.40484820e-01\n",
      " 5.14377955e-01 8.91151361e-01 2.41061099e-01 6.96655856e-02\n",
      " 3.96903027e-01 6.41469358e-01 8.11130569e-02 1.08058031e-01\n",
      " 4.68136695e-01 3.88571807e-01 6.59436037e-01 7.02339142e-01\n",
      " 2.21528253e-01 8.14951512e-01 1.52573649e-01 5.61620898e-01\n",
      " 5.22697468e-01 8.56032823e-01 5.19349736e-01 2.82165800e-01\n",
      " 2.42081087e-02 5.65948131e-01 4.41048451e-01 1.75396361e-01\n",
      " 3.40116957e-01 5.80794320e-01 7.09389570e-01 3.92416568e-02\n",
      " 5.32722867e-01 2.39827345e-01 7.84899004e-01 9.21380337e-01\n",
      " 5.05531972e-01 7.27131122e-01 4.27514487e-01 8.99895237e-01\n",
      " 3.01687642e-01 4.41016461e-01 4.70273620e-01 5.34221657e-01\n",
      " 4.30972249e-02 4.31291620e-01 5.30292790e-01 5.39545831e-01\n",
      " 5.53177199e-01 8.36281842e-01 6.61001569e-01 3.79457319e-02\n",
      " 7.13410615e-01 6.22594328e-01 5.20638014e-01 6.19341515e-01\n",
      " 1.95729034e-01 8.94965022e-01 8.68696444e-01 9.60691131e-01\n",
      " 5.01296542e-01 1.64142716e-01 7.57523802e-01 4.86186881e-01\n",
      " 8.26895491e-02 1.60162270e-01 3.32335748e-01 2.73564299e-01\n",
      " 8.16023806e-01 9.59877598e-01 4.24812744e-01 1.38496296e-01\n",
      " 5.49410843e-01 1.97708819e-02 4.29392966e-01 2.94062938e-01\n",
      " 5.76301558e-01 1.58971442e-01 5.16884441e-02 7.04915358e-03\n",
      " 8.45491620e-01 7.27469561e-01 5.71707967e-01 6.45468824e-01\n",
      " 6.51070133e-01 1.86663934e-02 7.47125544e-01 1.50211991e-02\n",
      " 3.39805157e-01 5.36189310e-01 9.14122280e-01 5.19125985e-02\n",
      " 4.99007751e-01 6.63467186e-01 9.19458321e-01 4.25141863e-01\n",
      " 9.79627856e-01 5.43225393e-01 4.32316861e-01 7.68302449e-01\n",
      " 9.18874334e-01 7.06077971e-01 1.86460478e-01 8.34849252e-02\n",
      " 2.70297185e-01 9.42814274e-01 4.00328975e-01 6.91830347e-01\n",
      " 4.77341493e-01 3.43888145e-01 7.24195573e-01 5.76246631e-01\n",
      " 5.47329644e-01 4.61760162e-01 2.02733524e-01 5.46078472e-01\n",
      " 7.80985905e-01 2.77138478e-01 2.71598630e-02 8.63226741e-01\n",
      " 8.48283168e-03 5.60357560e-02 7.24290396e-01 6.63136625e-01\n",
      " 4.35149375e-01 2.37344265e-01 9.67318248e-01 1.91719199e-01\n",
      " 9.33989388e-01 9.73393358e-01 2.23474637e-01 8.69139530e-01\n",
      " 6.59865842e-02 2.37646975e-01 4.87068547e-02 2.56596496e-01\n",
      " 7.52234892e-01 7.68579743e-01 5.50844417e-01 1.71735747e-02\n",
      " 4.40924018e-01 8.91151012e-01 7.08849297e-01 8.77690557e-01\n",
      " 4.65893332e-01 9.96623046e-02 2.43184614e-01 3.37431956e-01\n",
      " 1.46020554e-01 5.46945998e-01 9.06074027e-01 8.91918814e-01\n",
      " 4.81104998e-01 4.11917654e-02 7.40226098e-01 6.34997788e-01\n",
      " 8.49164227e-01 6.68028929e-01 4.04444900e-01 8.77211104e-01\n",
      " 2.43810798e-01 4.31680035e-01 8.84299774e-01 8.49781028e-01\n",
      " 3.26603919e-01 5.31079769e-01 9.36246835e-01 5.77694700e-01\n",
      " 6.87391348e-01 1.75227438e-01 2.60937782e-01 5.85023716e-01\n",
      " 1.89548345e-01 7.16086970e-01 2.93918207e-01 1.16231439e-01\n",
      " 9.65245832e-01 2.28649680e-01 7.08442905e-01 2.11082253e-01\n",
      " 2.84724153e-03 2.71489932e-01 2.15849613e-01 6.44275154e-01\n",
      " 5.82710215e-01 2.81108880e-01 1.71436511e-01 7.40813809e-01\n",
      " 8.20934580e-01 6.39226913e-01 9.85837391e-01 3.36339831e-01\n",
      " 8.12677652e-01 1.93510164e-01 2.79224700e-01 6.85880589e-01\n",
      " 5.77440940e-01 6.92733636e-03 5.54559765e-01 7.29492203e-01\n",
      " 2.43014527e-01 2.28727871e-01 4.55651274e-01 5.87801683e-01\n",
      " 4.33720839e-01 1.82703954e-01 2.05438554e-01 6.05171192e-01\n",
      " 9.43183787e-01 4.16164770e-01 2.20084083e-01 5.14337867e-01\n",
      " 6.65723650e-01 2.13538251e-01 2.40766747e-01 6.44433589e-01\n",
      " 4.02132056e-02 3.69864725e-01 4.60226597e-01 3.78841655e-02\n",
      " 6.96017371e-02 3.09819012e-01 1.88061104e-01 7.03880114e-01\n",
      " 8.04641520e-01 7.85149316e-01 4.85499470e-01 1.99202671e-01\n",
      " 5.58605394e-01 3.28486989e-01 3.07614319e-01 5.28056945e-01\n",
      " 8.00543248e-01 8.76561528e-01 8.64389165e-01 1.69540016e-01\n",
      " 1.40257734e-02 6.11133456e-01 9.64075044e-01 2.52165458e-01\n",
      " 8.52767929e-01 6.57699136e-01 4.73036915e-01 3.82965094e-01\n",
      " 3.50001469e-01 7.93301303e-01 1.17954060e-01 5.70265500e-01\n",
      " 4.22768253e-01 8.59444557e-01 2.84642613e-01 6.14617594e-01\n",
      " 6.26303098e-01 6.97036586e-01 1.13158905e-01 5.19651516e-01\n",
      " 8.45252587e-01 2.90771017e-01 2.19562172e-01 5.01385789e-01\n",
      " 9.85110050e-01 6.21561154e-01 9.36721286e-01 9.07056160e-02\n",
      " 9.45218354e-01 7.73857662e-01 9.08803700e-01 6.16621830e-02\n",
      " 3.52299613e-01 2.67534152e-01 8.58012748e-01 1.89586141e-01\n",
      " 2.84081612e-01 2.60920696e-01 4.08589679e-01 2.74775041e-01\n",
      " 8.11927024e-01 7.55628988e-02 5.41633752e-01 5.42334387e-02\n",
      " 4.32950282e-01 3.53549385e-01 8.31073201e-01 8.20997809e-01\n",
      " 4.70591725e-01 5.25110881e-01 5.40027667e-02 2.62006842e-01\n",
      " 1.99689380e-01 2.62378992e-01 2.62623636e-01 7.30237024e-01\n",
      " 4.78723437e-01 6.79586841e-01 6.27191385e-01 5.26018432e-01\n",
      " 8.89156428e-01 6.40662316e-01 9.26569729e-01 1.84015484e-01\n",
      " 7.43114757e-02 9.55731614e-02 2.37866107e-01 7.55673246e-01\n",
      " 4.52967270e-01 1.41456001e-01 1.41587437e-01 4.86943111e-02\n",
      " 2.22900418e-01 8.82921309e-01 2.01144893e-01 2.49768870e-01\n",
      " 3.70595668e-01 2.63393613e-01 3.88005737e-01 1.19250602e-01\n",
      " 6.25983740e-01 1.35446395e-01 1.86208164e-01 3.68113328e-01\n",
      " 4.45180242e-01 5.32063871e-01 4.80246594e-01 3.96600839e-01\n",
      " 7.01112777e-01 2.54637767e-01 5.53007562e-01 2.95138158e-01\n",
      " 3.41155989e-01 4.12528304e-01 6.25711994e-02 7.17641297e-01\n",
      " 6.29508260e-02 9.82292565e-01 1.39965650e-01 7.47776337e-01\n",
      " 1.27302997e-01 8.02843996e-01 1.83949415e-01 7.92516669e-01\n",
      " 8.80166191e-01 1.09603194e-01 9.78426252e-01 6.16047280e-01\n",
      " 2.22414230e-01 1.41136087e-01 6.90984786e-01 4.99716206e-01\n",
      " 7.61432834e-02 4.92130032e-01 3.09739118e-01 6.66921311e-02\n",
      " 1.68472162e-01 8.60179205e-01 6.35872883e-01 8.06029939e-01\n",
      " 3.84244934e-03 8.03234413e-01 8.52837739e-01 5.45765047e-01\n",
      " 6.46041284e-01 3.38043842e-02 5.76869402e-01 5.40498097e-01\n",
      " 5.96247538e-01 6.21806796e-01 7.72570973e-01 2.37654418e-01\n",
      " 2.76814463e-01 9.44109078e-01 1.20339543e-01 1.70826462e-02\n",
      " 6.55382070e-01 6.86273509e-05 5.24103461e-02 7.71832015e-01\n",
      " 3.77890909e-01 9.84099472e-01 4.15552932e-01 3.56455868e-01\n",
      " 9.33589850e-01 5.85624259e-02 2.19915968e-01 8.75757172e-02\n",
      " 3.30945193e-01 7.25453896e-01 9.63841055e-01 4.45567534e-01\n",
      " 6.21570075e-01 4.84428666e-01 7.52421247e-02 1.81798050e-01\n",
      " 8.78995489e-01 6.53304829e-01 3.14675629e-01 1.62949476e-01\n",
      " 5.65051920e-01 5.84390529e-01 1.62790917e-01 5.56154821e-01\n",
      " 4.61255058e-01 3.12969276e-01 3.22283013e-01 1.41229529e-01\n",
      " 4.41685793e-01 3.55671133e-01 3.95137641e-01 3.88297695e-01\n",
      " 8.04589438e-01 4.09769651e-02 1.49591798e-01 5.56092963e-01\n",
      " 8.92540299e-01 3.45715904e-01 7.65596466e-02 1.67595101e-01\n",
      " 7.56102289e-01 8.30484882e-01 4.85622602e-01 2.90511510e-01\n",
      " 3.53012671e-01 2.33746276e-01 6.47771236e-01 1.60674341e-01\n",
      " 8.13088777e-01 1.66796404e-01 5.05584345e-01 6.01749554e-01\n",
      " 3.66387834e-01 2.62210896e-01 5.92431236e-01 7.76389857e-01\n",
      " 8.29209483e-01 2.94672159e-01 4.44712496e-01 5.63519524e-01\n",
      " 8.21316683e-01 6.27493342e-02 2.53228030e-01 4.08798891e-01\n",
      " 3.62937145e-01 6.83979468e-01 6.80085873e-01 6.44175101e-01\n",
      " 4.56300905e-02 2.55748693e-01 5.72750281e-01 2.78475262e-01\n",
      " 5.98446776e-01 1.72499031e-02 2.47957783e-01 1.78384115e-01\n",
      " 3.90939536e-01 6.23795928e-01 8.13609887e-01 1.37557133e-01\n",
      " 1.09494245e-01 5.85006093e-01 8.78866407e-01 2.91777395e-01\n",
      " 2.40894385e-03 7.16361006e-01 8.42529040e-01 8.42183207e-02\n",
      " 6.56565660e-01 3.06759772e-03 8.43304943e-01 2.31041450e-01\n",
      " 5.71761324e-01 5.06316145e-01 5.22894054e-01 8.58287083e-01\n",
      " 9.32050537e-01 2.91541520e-01 2.34452703e-01 4.04822670e-01\n",
      " 8.89332306e-01 5.98063265e-01 8.19063845e-01 6.95304128e-01\n",
      " 6.75207082e-01 4.19258448e-01 5.71490864e-01 3.62469114e-01\n",
      " 5.63136288e-01 9.82650233e-01 2.91379339e-01 3.88309049e-01\n",
      " 2.12924173e-01 4.00333453e-01 9.18634799e-01 3.63428336e-01\n",
      " 6.10968209e-01 1.43934423e-01 5.77132603e-01 5.63049004e-01\n",
      " 3.18278060e-01 5.43300679e-01 9.33530327e-01 5.53746301e-01\n",
      " 1.00448812e-01 7.87330652e-01 8.43617412e-01 6.46646868e-01\n",
      " 7.41871308e-01 2.20953411e-01 6.78873226e-01 5.56869775e-01\n",
      " 3.27204540e-02 8.70599682e-01 6.29849851e-01 2.95352299e-01\n",
      " 6.87507142e-01 2.15710991e-01 4.04352904e-01 4.01614625e-01\n",
      " 6.37995624e-01 6.35237025e-01 8.18554781e-01 1.64299569e-01\n",
      " 1.21258940e-01 5.35964533e-01 5.39358668e-01 1.07992483e-01\n",
      " 5.99034816e-03 5.68222444e-01 9.97753626e-02 3.02922409e-01\n",
      " 2.37630204e-01 1.79120245e-02 6.21486882e-01 5.00628155e-02\n",
      " 8.37201592e-01 8.54769896e-01 6.22632042e-01 7.14054050e-01\n",
      " 5.35839447e-01 6.76308297e-01 8.90713753e-01 6.79609740e-01\n",
      " 4.13840044e-01 1.08531167e-01 1.58109683e-01 9.50592652e-01\n",
      " 8.86717729e-01 9.18251725e-01 3.92811901e-01 6.16152268e-01\n",
      " 4.40275821e-01 3.89130148e-01 2.28087968e-01 3.53485330e-01\n",
      " 3.21617385e-01 7.56543708e-01 1.27328513e-01 8.83638421e-01\n",
      " 5.10811644e-02 9.94674904e-02 3.10087224e-01 8.22446825e-01\n",
      " 4.89904466e-01 5.26659829e-02 7.12414549e-01 8.66165728e-01\n",
      " 6.95005874e-01 3.88461729e-01 4.46154055e-01 9.24536679e-03\n",
      " 5.16080099e-01 2.01714581e-01 5.90475633e-01 5.04071068e-01\n",
      " 7.49286702e-01 1.58475075e-03 5.66605693e-01 3.02817550e-01\n",
      " 4.08255602e-01 1.61300224e-01 7.88625114e-01 4.22903846e-01\n",
      " 8.89249413e-03 7.84736985e-01 8.48943771e-01 1.35814973e-01\n",
      " 7.59632464e-01 7.51587900e-01 2.84641694e-01 4.06715251e-01\n",
      " 8.89798721e-01 2.66008852e-01 9.16627727e-01 1.02173628e-01\n",
      " 2.93220838e-02 6.21355622e-01 3.69477723e-01 1.27461819e-01\n",
      " 8.89288886e-01 8.54277619e-01 5.68515374e-01 2.40382195e-01\n",
      " 5.89899468e-01 9.93541902e-01 5.93309542e-01 8.02575272e-01\n",
      " 1.35122968e-01 4.39666261e-02 2.79207540e-01 6.19279545e-01\n",
      " 4.98462814e-01 8.27447925e-01 4.72128941e-02 9.78704366e-01\n",
      " 1.29523345e-01 3.17304849e-01 4.56158587e-01 2.81859413e-01\n",
      " 5.87843819e-01 9.95295371e-01 5.25514712e-01 3.62138918e-01\n",
      " 5.09923496e-01 6.24566465e-01 2.73680762e-01 4.83074703e-01\n",
      " 2.19737640e-01 4.24952834e-01 4.67106565e-01 8.10659623e-01\n",
      " 5.61328070e-01 2.33604743e-02 7.24537422e-01 3.63886449e-02\n",
      " 6.16500329e-01 7.00926539e-01 9.94116294e-01 4.73179134e-01\n",
      " 5.01428092e-01 9.18143560e-01 5.93851089e-01 8.70277326e-02\n",
      " 8.58684506e-02 8.39361183e-01 8.88651664e-01 5.14806516e-01\n",
      " 6.12798645e-01 7.43986537e-01 3.38050242e-01 3.66114162e-01\n",
      " 5.87532875e-01 8.77176450e-01 6.79152070e-01 5.91551042e-01\n",
      " 2.36691127e-01 6.31592657e-01 3.64967752e-01 5.66781557e-01\n",
      " 1.41549573e-01 5.09304364e-01 4.28743981e-01 8.50088238e-01\n",
      " 2.92380748e-01 2.83504518e-01 5.14577962e-01 9.97001688e-01\n",
      " 6.81128452e-01 3.46160409e-01 6.35208213e-01 7.81125340e-01\n",
      " 2.00132374e-01 2.64323806e-01 9.17897488e-01 2.32499617e-02\n",
      " 6.64252521e-01 6.03375623e-01 7.26935007e-01 2.47222884e-01\n",
      " 9.31516230e-01 7.82549537e-01 3.63987209e-01 3.82931964e-01\n",
      " 8.80329574e-01 8.78964477e-01 6.71767277e-01 7.76673387e-01\n",
      " 9.40783109e-01 4.65756900e-01 7.42244373e-01 5.84921570e-01\n",
      " 2.14650769e-01 3.24843740e-01 9.61916917e-01 5.47280325e-01\n",
      " 3.33848734e-02 5.07747439e-01 4.32416367e-01 1.65669826e-01\n",
      " 7.45700858e-01 2.08574925e-01 2.13485133e-01 9.53271459e-01\n",
      " 8.64475351e-02 2.11355133e-01 7.45977802e-01 1.04283590e-02\n",
      " 8.51566129e-01 1.97835753e-01 1.62564631e-01 1.31764945e-02\n",
      " 1.15007086e-01 7.04450566e-01 7.01103087e-01 3.28679558e-01\n",
      " 2.21351163e-01 7.29684026e-01 3.07490758e-01 7.32527336e-01\n",
      " 3.47063991e-01 1.58151943e-01 7.47353406e-01 5.15369609e-01\n",
      " 6.03565050e-01 5.66909764e-01 3.76698459e-01 3.07044713e-01\n",
      " 8.03301632e-01 2.77642331e-01 2.32723160e-02 5.02154929e-01\n",
      " 8.38413414e-01 1.68731942e-01 4.33764240e-01 6.01380105e-01\n",
      " 3.68978389e-02 1.13142673e-01 8.85192349e-01 8.34256307e-01\n",
      " 4.64022133e-02 6.50040421e-01 1.63365801e-01 5.05039417e-01\n",
      " 5.42050380e-01 4.03528169e-01 1.66667030e-01 6.25881333e-01\n",
      " 3.34382675e-01 5.52265268e-01 2.64173268e-02 8.02337109e-02\n",
      " 2.64048520e-01 3.28923077e-01 6.45606155e-01 8.68025647e-02\n",
      " 3.71576588e-01 8.77448544e-01 7.56637824e-01 4.59617735e-01\n",
      " 7.00309821e-01 2.98751438e-01 8.82825756e-01 3.68319538e-01\n",
      " 5.36031241e-01 6.65093455e-01 9.76374300e-02 4.70054620e-01\n",
      " 6.94355465e-01 3.11038547e-01 1.54680178e-01 1.07479867e-01\n",
      " 6.73436776e-01 7.30503659e-01 5.60199196e-01 4.03933197e-01\n",
      " 4.72954513e-01 6.15908300e-01 3.47185588e-01 9.62911675e-01\n",
      " 2.26211396e-01 9.97518472e-01 7.30709019e-01 2.44815069e-01\n",
      " 4.36039287e-01 8.15499085e-01 7.63821336e-01 2.98431032e-01\n",
      " 4.37936731e-01 4.64537016e-01 6.63894572e-01 8.37749483e-01\n",
      " 5.96100337e-01 1.27892641e-01 3.29591030e-01 9.57297311e-02\n",
      " 7.33800930e-01 8.98226096e-01 7.57672083e-01 1.02946093e-01\n",
      " 4.42868623e-01 7.50188908e-01 6.57148293e-01 8.52074452e-01\n",
      " 4.13687131e-01 9.41733828e-01 4.17330965e-01 4.85586164e-01\n",
      " 4.24422978e-01 5.14807314e-01 3.99475001e-01 3.50510332e-01\n",
      " 5.42604566e-01 8.67655002e-02 4.12138129e-01 2.59246894e-01\n",
      " 8.38344899e-01 6.93733403e-01 7.53159754e-01 8.31621575e-01\n",
      " 6.81933089e-01 6.12965535e-01 1.38698468e-01 1.43206536e-01]\n"
     ]
    }
   ],
   "source": [
    "print(A)"
   ]
  },
  {
   "cell_type": "code",
   "execution_count": 43,
   "metadata": {},
   "outputs": [],
   "source": [
    "import matplotlib.pyplot as plt"
   ]
  },
  {
   "cell_type": "code",
   "execution_count": 44,
   "metadata": {},
   "outputs": [
    {
     "data": {
      "text/plain": [
       "(array([15., 11.,  9.,  9., 11., 11., 11.,  5., 15., 10., 10.,  8., 11.,\n",
       "         7., 12.,  5., 19.,  5., 10.,  5.,  7., 12., 16., 12., 10., 10.,\n",
       "        13., 12.,  9., 14.,  7., 14., 10.,  8., 12., 11., 12.,  7., 12.,\n",
       "         8., 13.,  7., 11., 11., 11.,  5.,  9.,  9., 11.,  3., 18., 10.,\n",
       "        10.,  9., 14., 15., 13., 12., 13., 14.,  7., 12., 15., 11., 12.,\n",
       "         7., 11.,  6., 13., 12., 10., 11., 10., 10., 12., 12.,  3., 10.,\n",
       "         9.,  6., 10.,  9.,  9.,  9., 10., 14.,  7., 10., 12., 13.,  5.,\n",
       "         5.,  8.,  9.,  6.,  3.,  9.,  3.,  9.,  8.]),\n",
       " array([6.86273509e-05, 1.00455125e-02, 2.00223976e-02, 2.99992828e-02,\n",
       "        3.99761679e-02, 4.99530531e-02, 5.99299382e-02, 6.99068234e-02,\n",
       "        7.98837085e-02, 8.98605936e-02, 9.98374788e-02, 1.09814364e-01,\n",
       "        1.19791249e-01, 1.29768134e-01, 1.39745019e-01, 1.49721904e-01,\n",
       "        1.59698790e-01, 1.69675675e-01, 1.79652560e-01, 1.89629445e-01,\n",
       "        1.99606330e-01, 2.09583215e-01, 2.19560100e-01, 2.29536986e-01,\n",
       "        2.39513871e-01, 2.49490756e-01, 2.59467641e-01, 2.69444526e-01,\n",
       "        2.79421411e-01, 2.89398296e-01, 2.99375182e-01, 3.09352067e-01,\n",
       "        3.19328952e-01, 3.29305837e-01, 3.39282722e-01, 3.49259607e-01,\n",
       "        3.59236492e-01, 3.69213378e-01, 3.79190263e-01, 3.89167148e-01,\n",
       "        3.99144033e-01, 4.09120918e-01, 4.19097803e-01, 4.29074688e-01,\n",
       "        4.39051574e-01, 4.49028459e-01, 4.59005344e-01, 4.68982229e-01,\n",
       "        4.78959114e-01, 4.88935999e-01, 4.98912884e-01, 5.08889770e-01,\n",
       "        5.18866655e-01, 5.28843540e-01, 5.38820425e-01, 5.48797310e-01,\n",
       "        5.58774195e-01, 5.68751080e-01, 5.78727966e-01, 5.88704851e-01,\n",
       "        5.98681736e-01, 6.08658621e-01, 6.18635506e-01, 6.28612391e-01,\n",
       "        6.38589276e-01, 6.48566162e-01, 6.58543047e-01, 6.68519932e-01,\n",
       "        6.78496817e-01, 6.88473702e-01, 6.98450587e-01, 7.08427472e-01,\n",
       "        7.18404358e-01, 7.28381243e-01, 7.38358128e-01, 7.48335013e-01,\n",
       "        7.58311898e-01, 7.68288783e-01, 7.78265668e-01, 7.88242554e-01,\n",
       "        7.98219439e-01, 8.08196324e-01, 8.18173209e-01, 8.28150094e-01,\n",
       "        8.38126979e-01, 8.48103864e-01, 8.58080750e-01, 8.68057635e-01,\n",
       "        8.78034520e-01, 8.88011405e-01, 8.97988290e-01, 9.07965175e-01,\n",
       "        9.17942060e-01, 9.27918946e-01, 9.37895831e-01, 9.47872716e-01,\n",
       "        9.57849601e-01, 9.67826486e-01, 9.77803371e-01, 9.87780256e-01,\n",
       "        9.97757142e-01]),\n",
       " <BarContainer object of 100 artists>)"
      ]
     },
     "execution_count": 44,
     "metadata": {},
     "output_type": "execute_result"
    },
    {
     "data": {
      "image/png": "[encoded data removed]",
      "text/plain": [
       "<Figure size 432x288 with 1 Axes>"
      ]
     },
     "metadata": {
      "needs_background": "light"
     },
     "output_type": "display_data"
    }
   ],
   "source": [
    "plt.hist(A,bins=100)"
   ]
  },
  {
   "cell_type": "markdown",
   "metadata": {},
   "source": [
    "**random.randn** is used to produce the normal random numbers or normally distributed random numbers"
   ]
  },
  {
   "cell_type": "code",
   "execution_count": 45,
   "metadata": {},
   "outputs": [
    {
     "data": {
      "text/plain": [
       "(array([  1.,   1.,   0.,   0.,   0.,   0.,   2.,   0.,   1.,   0.,   1.,\n",
       "          0.,   0.,   3.,   1.,   3.,   3.,   2.,   4.,   7.,   5.,   4.,\n",
       "          9.,   4.,   9.,  11.,   8.,   9.,  19.,  10.,  17.,  10.,  16.,\n",
       "         11.,  18.,  13.,  18.,  15.,  26.,  23.,  33.,  24.,  31.,  29.,\n",
       "         23.,  31.,  47.,  42.,  39.,  41.,  43.,  38.,  55.,  52.,  57.,\n",
       "         70.,  62.,  66.,  70.,  72.,  72.,  81.,  84.,  77.,  85.,  99.,\n",
       "        103.,  98., 118., 111., 101., 119., 117., 127., 124., 139., 116.,\n",
       "        118., 113., 153., 145., 162., 155., 143., 149., 143., 156., 128.,\n",
       "        167., 185., 148., 131., 147., 154., 138., 156., 137., 159., 134.,\n",
       "        126., 130., 146., 110., 133., 149., 127., 140., 140., 106., 131.,\n",
       "        113., 110., 112.,  94., 100., 107., 106.,  82.,  83.,  79.,  70.,\n",
       "         76.,  92.,  67.,  65.,  63.,  77.,  53.,  51.,  47.,  56.,  45.,\n",
       "         61.,  45.,  32.,  33.,  40.,  31.,  33.,  23.,  33.,  37.,  15.,\n",
       "         20.,  18.,  15.,  19.,  19.,  17.,  12.,  11.,  14.,  10.,   7.,\n",
       "          9.,   5.,   7.,   4.,   9.,   0.,   3.,   5.,   1.,   1.,   2.,\n",
       "          2.,   2.,   3.,   1.,   1.,   1.,   1.,   1.,   2.,   0.,   0.,\n",
       "          1.,   0.,   0.,   0.,   1.,   0.,   0.,   0.,   0.,   0.,   0.,\n",
       "          0.,   0.,   1.,   2.,   0.,   0.,   1.,   0.,   0.,   0.,   1.,\n",
       "          0.,   1.]),\n",
       " array([-3.42176858, -3.38402632, -3.34628405, -3.30854178, -3.27079951,\n",
       "        -3.23305724, -3.19531497, -3.1575727 , -3.11983043, -3.08208816,\n",
       "        -3.04434589, -3.00660362, -2.96886136, -2.93111909, -2.89337682,\n",
       "        -2.85563455, -2.81789228, -2.78015001, -2.74240774, -2.70466547,\n",
       "        -2.6669232 , -2.62918093, -2.59143867, -2.5536964 , -2.51595413,\n",
       "        -2.47821186, -2.44046959, -2.40272732, -2.36498505, -2.32724278,\n",
       "        -2.28950051, -2.25175824, -2.21401598, -2.17627371, -2.13853144,\n",
       "        -2.10078917, -2.0630469 , -2.02530463, -1.98756236, -1.94982009,\n",
       "        -1.91207782, -1.87433555, -1.83659329, -1.79885102, -1.76110875,\n",
       "        -1.72336648, -1.68562421, -1.64788194, -1.61013967, -1.5723974 ,\n",
       "        -1.53465513, -1.49691286, -1.4591706 , -1.42142833, -1.38368606,\n",
       "        -1.34594379, -1.30820152, -1.27045925, -1.23271698, -1.19497471,\n",
       "        -1.15723244, -1.11949017, -1.0817479 , -1.04400564, -1.00626337,\n",
       "        -0.9685211 , -0.93077883, -0.89303656, -0.85529429, -0.81755202,\n",
       "        -0.77980975, -0.74206748, -0.70432521, -0.66658295, -0.62884068,\n",
       "        -0.59109841, -0.55335614, -0.51561387, -0.4778716 , -0.44012933,\n",
       "        -0.40238706, -0.36464479, -0.32690252, -0.28916026, -0.25141799,\n",
       "        -0.21367572, -0.17593345, -0.13819118, -0.10044891, -0.06270664,\n",
       "        -0.02496437,  0.0127779 ,  0.05052017,  0.08826243,  0.1260047 ,\n",
       "         0.16374697,  0.20148924,  0.23923151,  0.27697378,  0.31471605,\n",
       "         0.35245832,  0.39020059,  0.42794286,  0.46568513,  0.50342739,\n",
       "         0.54116966,  0.57891193,  0.6166542 ,  0.65439647,  0.69213874,\n",
       "         0.72988101,  0.76762328,  0.80536555,  0.84310782,  0.88085008,\n",
       "         0.91859235,  0.95633462,  0.99407689,  1.03181916,  1.06956143,\n",
       "         1.1073037 ,  1.14504597,  1.18278824,  1.22053051,  1.25827277,\n",
       "         1.29601504,  1.33375731,  1.37149958,  1.40924185,  1.44698412,\n",
       "         1.48472639,  1.52246866,  1.56021093,  1.5979532 ,  1.63569546,\n",
       "         1.67343773,  1.71118   ,  1.74892227,  1.78666454,  1.82440681,\n",
       "         1.86214908,  1.89989135,  1.93763362,  1.97537589,  2.01311816,\n",
       "         2.05086042,  2.08860269,  2.12634496,  2.16408723,  2.2018295 ,\n",
       "         2.23957177,  2.27731404,  2.31505631,  2.35279858,  2.39054085,\n",
       "         2.42828311,  2.46602538,  2.50376765,  2.54150992,  2.57925219,\n",
       "         2.61699446,  2.65473673,  2.692479  ,  2.73022127,  2.76796354,\n",
       "         2.8057058 ,  2.84344807,  2.88119034,  2.91893261,  2.95667488,\n",
       "         2.99441715,  3.03215942,  3.06990169,  3.10764396,  3.14538623,\n",
       "         3.18312849,  3.22087076,  3.25861303,  3.2963553 ,  3.33409757,\n",
       "         3.37183984,  3.40958211,  3.44732438,  3.48506665,  3.52280892,\n",
       "         3.56055118,  3.59829345,  3.63603572,  3.67377799,  3.71152026,\n",
       "         3.74926253,  3.7870048 ,  3.82474707,  3.86248934,  3.90023161,\n",
       "         3.93797388,  3.97571614,  4.01345841,  4.05120068,  4.08894295,\n",
       "         4.12668522]),\n",
       " <BarContainer object of 200 artists>)"
      ]
     },
     "execution_count": 45,
     "metadata": {},
     "output_type": "execute_result"
    },
    {
     "data": {
      "image/png": "[encoded data removed]",
      "text/plain": [
       "<Figure size 432x288 with 1 Axes>"
      ]
     },
     "metadata": {
      "needs_background": "light"
     },
     "output_type": "display_data"
    }
   ],
   "source": [
    "B = np.random.randn(10000)\n",
    "plt.hist(B, bins=200)"
   ]
  },
  {
   "cell_type": "markdown",
   "metadata": {},
   "source": [
    "**random.rand** is used to get an array of values in between 0 and 1, for the provided number of values/dimensions and sub arrays as example below:"
   ]
  },
  {
   "cell_type": "code",
   "execution_count": 46,
   "metadata": {},
   "outputs": [],
   "source": [
    "C = np.random.rand(2,4)"
   ]
  },
  {
   "cell_type": "code",
   "execution_count": 47,
   "metadata": {},
   "outputs": [
    {
     "name": "stdout",
     "output_type": "stream",
     "text": [
      "[[0.7780962  0.99167926 0.3171835  0.4177905 ]\n",
      " [0.11204592 0.82052898 0.48700415 0.54557833]]\n"
     ]
    }
   ],
   "source": [
    "print(C)"
   ]
  },
  {
   "cell_type": "code",
   "execution_count": 48,
   "metadata": {},
   "outputs": [
    {
     "name": "stdout",
     "output_type": "stream",
     "text": [
      "2\n"
     ]
    }
   ],
   "source": [
    "print(C.ndim)"
   ]
  },
  {
   "cell_type": "code",
   "execution_count": 49,
   "metadata": {},
   "outputs": [],
   "source": [
    "C = np.random.rand(2,5,4,2)"
   ]
  },
  {
   "cell_type": "code",
   "execution_count": 50,
   "metadata": {},
   "outputs": [
    {
     "name": "stdout",
     "output_type": "stream",
     "text": [
      "4\n"
     ]
    }
   ],
   "source": [
    "print(C.ndim)"
   ]
  },
  {
   "cell_type": "code",
   "execution_count": 51,
   "metadata": {},
   "outputs": [
    {
     "name": "stdout",
     "output_type": "stream",
     "text": [
      "80\n"
     ]
    }
   ],
   "source": [
    "print(C.size)"
   ]
  },
  {
   "cell_type": "markdown",
   "metadata": {},
   "source": [
    "**reshape** module is used to convert a single dimentional array into multi-dimensional array quickly.\n",
    "\n",
    "The Dimensions provided in reshape module must be mapped on the length of array provided. The length/size of array can be determined using `[array_name].size`"
   ]
  },
  {
   "cell_type": "code",
   "execution_count": 52,
   "metadata": {},
   "outputs": [],
   "source": [
    "D = np.arange(100).reshape(4,25)"
   ]
  },
  {
   "cell_type": "code",
   "execution_count": 53,
   "metadata": {},
   "outputs": [
    {
     "name": "stdout",
     "output_type": "stream",
     "text": [
      "(4, 25)\n"
     ]
    }
   ],
   "source": [
    "print(D.shape)"
   ]
  },
  {
   "cell_type": "code",
   "execution_count": 54,
   "metadata": {},
   "outputs": [],
   "source": [
    "D = np.arange(100).reshape(10,2,5)"
   ]
  },
  {
   "cell_type": "code",
   "execution_count": 55,
   "metadata": {},
   "outputs": [
    {
     "name": "stdout",
     "output_type": "stream",
     "text": [
      "(10, 2, 5)\n"
     ]
    }
   ],
   "source": [
    "print(D.shape)"
   ]
  },
  {
   "cell_type": "markdown",
   "metadata": {},
   "source": [
    "**Slicing** is used to get a part of array to cut a part of array\n",
    "\n",
    "**_Note:_** no new copy of the array is created un-like of python. But previouse array starts pointing out the sliced array. Example below:"
   ]
  },
  {
   "cell_type": "code",
   "execution_count": 56,
   "metadata": {},
   "outputs": [],
   "source": [
    "A = np.arange(100)"
   ]
  },
  {
   "cell_type": "code",
   "execution_count": 57,
   "metadata": {},
   "outputs": [],
   "source": [
    "b = A[2:10]"
   ]
  },
  {
   "cell_type": "code",
   "execution_count": 58,
   "metadata": {},
   "outputs": [
    {
     "name": "stdout",
     "output_type": "stream",
     "text": [
      "[2 3 4 5 6 7 8 9]\n"
     ]
    }
   ],
   "source": [
    "print(b)"
   ]
  },
  {
   "cell_type": "code",
   "execution_count": 59,
   "metadata": {},
   "outputs": [],
   "source": [
    "b[2] = -1200"
   ]
  },
  {
   "cell_type": "code",
   "execution_count": 60,
   "metadata": {},
   "outputs": [
    {
     "name": "stdout",
     "output_type": "stream",
     "text": [
      "[    2     3 -1200     5     6     7     8     9]\n"
     ]
    }
   ],
   "source": [
    "print(b)"
   ]
  },
  {
   "cell_type": "code",
   "execution_count": 61,
   "metadata": {},
   "outputs": [
    {
     "name": "stdout",
     "output_type": "stream",
     "text": [
      "[    0     1     2     3 -1200     5     6     7     8     9    10    11\n",
      "    12    13    14    15    16    17    18    19    20    21    22    23\n",
      "    24    25    26    27    28    29    30    31    32    33    34    35\n",
      "    36    37    38    39    40    41    42    43    44    45    46    47\n",
      "    48    49    50    51    52    53    54    55    56    57    58    59\n",
      "    60    61    62    63    64    65    66    67    68    69    70    71\n",
      "    72    73    74    75    76    77    78    79    80    81    82    83\n",
      "    84    85    86    87    88    89    90    91    92    93    94    95\n",
      "    96    97    98    99]\n"
     ]
    }
   ],
   "source": [
    "print(A)"
   ]
  },
  {
   "cell_type": "markdown",
   "metadata": {},
   "source": [
    "To avoid above behaiviour, we can use copy function"
   ]
  },
  {
   "cell_type": "code",
   "execution_count": 62,
   "metadata": {},
   "outputs": [],
   "source": [
    "b = A[3:10].copy()"
   ]
  },
  {
   "cell_type": "code",
   "execution_count": 63,
   "metadata": {},
   "outputs": [],
   "source": [
    "b[2] = 90"
   ]
  },
  {
   "cell_type": "code",
   "execution_count": 64,
   "metadata": {},
   "outputs": [
    {
     "name": "stdout",
     "output_type": "stream",
     "text": [
      "[    3 -1200    90     6     7     8     9]\n"
     ]
    }
   ],
   "source": [
    "print(b)"
   ]
  },
  {
   "cell_type": "code",
   "execution_count": 65,
   "metadata": {},
   "outputs": [
    {
     "name": "stdout",
     "output_type": "stream",
     "text": [
      "[    0     1     2     3 -1200     5     6     7     8     9    10    11\n",
      "    12    13    14    15    16    17    18    19    20    21    22    23\n",
      "    24    25    26    27    28    29    30    31    32    33    34    35\n",
      "    36    37    38    39    40    41    42    43    44    45    46    47\n",
      "    48    49    50    51    52    53    54    55    56    57    58    59\n",
      "    60    61    62    63    64    65    66    67    68    69    70    71\n",
      "    72    73    74    75    76    77    78    79    80    81    82    83\n",
      "    84    85    86    87    88    89    90    91    92    93    94    95\n",
      "    96    97    98    99]\n"
     ]
    }
   ],
   "source": [
    "print(A)"
   ]
  },
  {
   "cell_type": "code",
   "execution_count": 66,
   "metadata": {},
   "outputs": [
    {
     "data": {
      "text/plain": [
       "array([ 0,  5, 10, 15, 20, 25, 30, 35, 40, 45, 50, 55, 60, 65, 70, 75, 80,\n",
       "       85, 90, 95])"
      ]
     },
     "execution_count": 66,
     "metadata": {},
     "output_type": "execute_result"
    }
   ],
   "source": [
    "A[::5]"
   ]
  },
  {
   "cell_type": "code",
   "execution_count": 67,
   "metadata": {},
   "outputs": [
    {
     "data": {
      "text/plain": [
       "array([   99,    94,    89,    84,    79,    74,    69,    64,    59,\n",
       "          54,    49,    44,    39,    34,    29,    24,    19,    14,\n",
       "           9, -1200])"
      ]
     },
     "execution_count": 67,
     "metadata": {},
     "output_type": "execute_result"
    }
   ],
   "source": [
    "A[::-5]"
   ]
  },
  {
   "cell_type": "code",
   "execution_count": 68,
   "metadata": {},
   "outputs": [
    {
     "data": {
      "text/plain": [
       "array([   99,    98,    97,    96,    95,    94,    93,    92,    91,\n",
       "          90,    89,    88,    87,    86,    85,    84,    83,    82,\n",
       "          81,    80,    79,    78,    77,    76,    75,    74,    73,\n",
       "          72,    71,    70,    69,    68,    67,    66,    65,    64,\n",
       "          63,    62,    61,    60,    59,    58,    57,    56,    55,\n",
       "          54,    53,    52,    51,    50,    49,    48,    47,    46,\n",
       "          45,    44,    43,    42,    41,    40,    39,    38,    37,\n",
       "          36,    35,    34,    33,    32,    31,    30,    29,    28,\n",
       "          27,    26,    25,    24,    23,    22,    21,    20,    19,\n",
       "          18,    17,    16,    15,    14,    13,    12,    11,    10,\n",
       "           9,     8,     7,     6,     5, -1200,     3,     2,     1,\n",
       "           0])"
      ]
     },
     "execution_count": 68,
     "metadata": {},
     "output_type": "execute_result"
    }
   ],
   "source": [
    "A[::-1]"
   ]
  },
  {
   "cell_type": "markdown",
   "metadata": {},
   "source": [
    "Find the **index** of an element in an array"
   ]
  },
  {
   "cell_type": "code",
   "execution_count": 69,
   "metadata": {},
   "outputs": [],
   "source": [
    "idx = np.argwhere(A==-1200)[0][0]"
   ]
  },
  {
   "cell_type": "code",
   "execution_count": 70,
   "metadata": {},
   "outputs": [
    {
     "name": "stdout",
     "output_type": "stream",
     "text": [
      "4\n"
     ]
    }
   ],
   "source": [
    "print(idx)"
   ]
  },
  {
   "cell_type": "markdown",
   "metadata": {},
   "source": [
    "If want to change that value then,"
   ]
  },
  {
   "cell_type": "code",
   "execution_count": 71,
   "metadata": {},
   "outputs": [],
   "source": [
    "A[idx] = 4"
   ]
  },
  {
   "cell_type": "code",
   "execution_count": 72,
   "metadata": {},
   "outputs": [
    {
     "data": {
      "text/plain": [
       "array([ 0,  1,  2,  3,  4,  5,  6,  7,  8,  9, 10, 11, 12, 13, 14, 15, 16,\n",
       "       17, 18, 19, 20, 21, 22, 23, 24, 25, 26, 27, 28, 29, 30, 31, 32, 33,\n",
       "       34, 35, 36, 37, 38, 39, 40, 41, 42, 43, 44, 45, 46, 47, 48, 49, 50,\n",
       "       51, 52, 53, 54, 55, 56, 57, 58, 59, 60, 61, 62, 63, 64, 65, 66, 67,\n",
       "       68, 69, 70, 71, 72, 73, 74, 75, 76, 77, 78, 79, 80, 81, 82, 83, 84,\n",
       "       85, 86, 87, 88, 89, 90, 91, 92, 93, 94, 95, 96, 97, 98, 99])"
      ]
     },
     "execution_count": 72,
     "metadata": {},
     "output_type": "execute_result"
    }
   ],
   "source": [
    "A"
   ]
  },
  {
   "cell_type": "markdown",
   "metadata": {},
   "source": [
    "Working with the multi-dimentional matrix"
   ]
  },
  {
   "cell_type": "code",
   "execution_count": 73,
   "metadata": {},
   "outputs": [],
   "source": [
    "A = np.round(10*np.random.rand(4,5))"
   ]
  },
  {
   "cell_type": "code",
   "execution_count": 74,
   "metadata": {},
   "outputs": [
    {
     "data": {
      "text/plain": [
       "array([[6., 8., 5., 5., 2.],\n",
       "       [8., 4., 8., 3., 3.],\n",
       "       [5., 9., 2., 0., 8.],\n",
       "       [6., 7., 6., 5., 7.]])"
      ]
     },
     "execution_count": 74,
     "metadata": {},
     "output_type": "execute_result"
    }
   ],
   "source": [
    "A"
   ]
  },
  {
   "cell_type": "markdown",
   "metadata": {},
   "source": [
    "Accessing a specific entry"
   ]
  },
  {
   "cell_type": "code",
   "execution_count": 75,
   "metadata": {},
   "outputs": [
    {
     "data": {
      "text/plain": [
       "3.0"
      ]
     },
     "execution_count": 75,
     "metadata": {},
     "output_type": "execute_result"
    }
   ],
   "source": [
    "A[1,3]"
   ]
  },
  {
   "cell_type": "markdown",
   "metadata": {},
   "source": [
    "If want to access a specific row and column should be whole, then the formate will be:"
   ]
  },
  {
   "cell_type": "code",
   "execution_count": 76,
   "metadata": {},
   "outputs": [
    {
     "data": {
      "text/plain": [
       "array([8., 4., 8., 3., 3.])"
      ]
     },
     "execution_count": 76,
     "metadata": {},
     "output_type": "execute_result"
    }
   ],
   "source": [
    "A[1,:]"
   ]
  },
  {
   "cell_type": "markdown",
   "metadata": {},
   "source": [
    "Similarly, if want to access a specific column and rows should be whole:"
   ]
  },
  {
   "cell_type": "code",
   "execution_count": 77,
   "metadata": {},
   "outputs": [
    {
     "data": {
      "text/plain": [
       "array([8., 4., 9., 7.])"
      ]
     },
     "execution_count": 77,
     "metadata": {},
     "output_type": "execute_result"
    }
   ],
   "source": [
    "A[:,1]"
   ]
  },
  {
   "cell_type": "markdown",
   "metadata": {},
   "source": [
    "We can also access a sub-matrix from an array like:\n",
    "\n",
    "we're access rows 1 and 2; and columns 2 and 3"
   ]
  },
  {
   "cell_type": "code",
   "execution_count": 78,
   "metadata": {},
   "outputs": [
    {
     "data": {
      "text/plain": [
       "array([[8., 3.],\n",
       "       [2., 0.]])"
      ]
     },
     "execution_count": 78,
     "metadata": {},
     "output_type": "execute_result"
    }
   ],
   "source": [
    "A[1:3,2:4]"
   ]
  },
  {
   "cell_type": "markdown",
   "metadata": {},
   "source": [
    "If want to take the transpose of and array then:"
   ]
  },
  {
   "cell_type": "code",
   "execution_count": 79,
   "metadata": {},
   "outputs": [
    {
     "data": {
      "text/plain": [
       "array([[6., 8., 5., 6.],\n",
       "       [8., 4., 9., 7.],\n",
       "       [5., 8., 2., 6.],\n",
       "       [5., 3., 0., 5.],\n",
       "       [2., 3., 8., 7.]])"
      ]
     },
     "execution_count": 79,
     "metadata": {},
     "output_type": "execute_result"
    }
   ],
   "source": [
    "A.T"
   ]
  },
  {
   "cell_type": "markdown",
   "metadata": {},
   "source": [
    "If want to use the functions and operations of linear algebra, it's library is available:"
   ]
  },
  {
   "cell_type": "code",
   "execution_count": 80,
   "metadata": {},
   "outputs": [],
   "source": [
    "import numpy.linalg as la"
   ]
  },
  {
   "cell_type": "code",
   "execution_count": 81,
   "metadata": {
    "scrolled": true
   },
   "outputs": [
    {
     "data": {
      "text/plain": [
       "array([[-0.76857416, -1.9502969 ,  2.3350109 ],\n",
       "       [-0.49217331,  0.81276813,  0.31586891],\n",
       "       [ 1.73090684,  1.48520052, -1.97420373]])"
      ]
     },
     "execution_count": 81,
     "metadata": {},
     "output_type": "execute_result"
    }
   ],
   "source": [
    "la.inv(np.random.rand(3,3))"
   ]
  },
  {
   "cell_type": "markdown",
   "metadata": {},
   "source": [
    "If we want to sort an array w.r.t column, then we'll provide 'axis=0' and for sorting w.r.t row then we'll provide 'axis=1'"
   ]
  },
  {
   "cell_type": "code",
   "execution_count": 82,
   "metadata": {},
   "outputs": [
    {
     "data": {
      "text/plain": [
       "array([[6., 8., 5., 5., 2.],\n",
       "       [8., 4., 8., 3., 3.],\n",
       "       [5., 9., 2., 0., 8.],\n",
       "       [6., 7., 6., 5., 7.]])"
      ]
     },
     "execution_count": 82,
     "metadata": {},
     "output_type": "execute_result"
    }
   ],
   "source": [
    "A"
   ]
  },
  {
   "cell_type": "code",
   "execution_count": 83,
   "metadata": {},
   "outputs": [],
   "source": [
    "A.sort(axis=1)"
   ]
  },
  {
   "cell_type": "code",
   "execution_count": 84,
   "metadata": {},
   "outputs": [
    {
     "data": {
      "text/plain": [
       "array([[2., 5., 5., 6., 8.],\n",
       "       [3., 3., 4., 8., 8.],\n",
       "       [0., 2., 5., 8., 9.],\n",
       "       [5., 6., 6., 7., 7.]])"
      ]
     },
     "execution_count": 84,
     "metadata": {},
     "output_type": "execute_result"
    }
   ],
   "source": [
    "A"
   ]
  },
  {
   "cell_type": "markdown",
   "metadata": {},
   "source": [
    "**More About *Numpy* Indexing/Masking**"
   ]
  },
  {
   "cell_type": "markdown",
   "metadata": {},
   "source": [
    "In Contrast to the Numpy slicing, we've a copy of the sliced part of array instead of a view as happens in case of numpy slicing"
   ]
  },
  {
   "cell_type": "code",
   "execution_count": 85,
   "metadata": {},
   "outputs": [],
   "source": [
    "A = np.arange(100)"
   ]
  },
  {
   "cell_type": "code",
   "execution_count": 86,
   "metadata": {},
   "outputs": [],
   "source": [
    "B= A[[2,6,9]]"
   ]
  },
  {
   "cell_type": "code",
   "execution_count": 87,
   "metadata": {},
   "outputs": [
    {
     "data": {
      "text/plain": [
       "array([2, 6, 9])"
      ]
     },
     "execution_count": 87,
     "metadata": {},
     "output_type": "execute_result"
    }
   ],
   "source": [
    "B"
   ]
  },
  {
   "cell_type": "code",
   "execution_count": 88,
   "metadata": {},
   "outputs": [
    {
     "data": {
      "text/plain": [
       "array([6, 9])"
      ]
     },
     "execution_count": 88,
     "metadata": {},
     "output_type": "execute_result"
    }
   ],
   "source": [
    "B[[False,True,True]]"
   ]
  },
  {
   "cell_type": "markdown",
   "metadata": {},
   "source": [
    "If make a change in array 'B' that'll not be reflected in 'A' *as happens in case of array slicing*:"
   ]
  },
  {
   "cell_type": "code",
   "execution_count": 89,
   "metadata": {},
   "outputs": [],
   "source": [
    "B[0] = 34"
   ]
  },
  {
   "cell_type": "code",
   "execution_count": 90,
   "metadata": {},
   "outputs": [
    {
     "data": {
      "text/plain": [
       "array([34,  6,  9])"
      ]
     },
     "execution_count": 90,
     "metadata": {},
     "output_type": "execute_result"
    }
   ],
   "source": [
    "B"
   ]
  },
  {
   "cell_type": "code",
   "execution_count": 91,
   "metadata": {},
   "outputs": [
    {
     "data": {
      "text/plain": [
       "array([ 0,  1,  2,  3,  4,  5,  6,  7,  8,  9, 10, 11, 12, 13, 14, 15, 16,\n",
       "       17, 18, 19, 20, 21, 22, 23, 24, 25, 26, 27, 28, 29, 30, 31, 32, 33,\n",
       "       34, 35, 36, 37, 38, 39, 40, 41, 42, 43, 44, 45, 46, 47, 48, 49, 50,\n",
       "       51, 52, 53, 54, 55, 56, 57, 58, 59, 60, 61, 62, 63, 64, 65, 66, 67,\n",
       "       68, 69, 70, 71, 72, 73, 74, 75, 76, 77, 78, 79, 80, 81, 82, 83, 84,\n",
       "       85, 86, 87, 88, 89, 90, 91, 92, 93, 94, 95, 96, 97, 98, 99])"
      ]
     },
     "execution_count": 91,
     "metadata": {},
     "output_type": "execute_result"
    }
   ],
   "source": [
    "A"
   ]
  },
  {
   "cell_type": "markdown",
   "metadata": {},
   "source": [
    "If we want to access all elements that are smaller than 40:"
   ]
  },
  {
   "cell_type": "code",
   "execution_count": 92,
   "metadata": {},
   "outputs": [],
   "source": [
    "B = A[A<40]"
   ]
  },
  {
   "cell_type": "code",
   "execution_count": 93,
   "metadata": {},
   "outputs": [
    {
     "data": {
      "text/plain": [
       "array([ 0,  1,  2,  3,  4,  5,  6,  7,  8,  9, 10, 11, 12, 13, 14, 15, 16,\n",
       "       17, 18, 19, 20, 21, 22, 23, 24, 25, 26, 27, 28, 29, 30, 31, 32, 33,\n",
       "       34, 35, 36, 37, 38, 39])"
      ]
     },
     "execution_count": 93,
     "metadata": {},
     "output_type": "execute_result"
    }
   ],
   "source": [
    "B"
   ]
  },
  {
   "cell_type": "markdown",
   "metadata": {},
   "source": [
    "If we want to access all elements b/w 30 and 40:"
   ]
  },
  {
   "cell_type": "code",
   "execution_count": 94,
   "metadata": {},
   "outputs": [],
   "source": [
    "B = A[(A>30) & (A<40)]"
   ]
  },
  {
   "cell_type": "code",
   "execution_count": 95,
   "metadata": {},
   "outputs": [
    {
     "data": {
      "text/plain": [
       "array([31, 32, 33, 34, 35, 36, 37, 38, 39])"
      ]
     },
     "execution_count": 95,
     "metadata": {},
     "output_type": "execute_result"
    }
   ],
   "source": [
    "B"
   ]
  },
  {
   "cell_type": "code",
   "execution_count": 96,
   "metadata": {},
   "outputs": [],
   "source": [
    "# and, &\n",
    "# or,  |\n",
    "# not, ~\n",
    "# first one will be used for bollean arrays, second one for objects"
   ]
  },
  {
   "cell_type": "markdown",
   "metadata": {},
   "source": [
    "**Numpy Broadcasting**\n",
    "\n",
    "$$\\begin{bmatrix} 2 & 3 \\\\ 5 & 9 \\end{bmatrix} + \\begin{bmatrix} 5 & 5 \\\\ 5 & 5 \\end{bmatrix} = \\begin{bmatrix} 7 & 8 \\\\ 10 & 14 \\end{bmatrix}$$\n",
    "\n",
    "Or it might be helpful in this way:\n",
    "$$\\begin{bmatrix} 2 & 3 \\\\ 5 & 9 \\end{bmatrix} + \\begin{bmatrix} 1 \\\\ 3 \\end{bmatrix} = \\begin{bmatrix} 3 & 4 \\\\ 8 & 12 \\end{bmatrix}$$\n",
    "Means the next matrix will be added to the respective entries,i.e.,\n",
    "\n",
    "in first case 5 will be added to each entry in the matrix and in case of second example $\\begin{bmatrix} 1 \\\\ 3 \\end{bmatrix}$ will be added to each column.\n"
   ]
  },
  {
   "cell_type": "code",
   "execution_count": 97,
   "metadata": {},
   "outputs": [],
   "source": [
    "A = np.round(10 * np.random.rand(2,3))"
   ]
  },
  {
   "cell_type": "code",
   "execution_count": 98,
   "metadata": {},
   "outputs": [
    {
     "data": {
      "text/plain": [
       "array([[9., 8., 6.],\n",
       "       [2., 3., 4.]])"
      ]
     },
     "execution_count": 98,
     "metadata": {},
     "output_type": "execute_result"
    }
   ],
   "source": [
    "A"
   ]
  },
  {
   "cell_type": "code",
   "execution_count": 99,
   "metadata": {},
   "outputs": [
    {
     "data": {
      "text/plain": [
       "array([[14., 13., 11.],\n",
       "       [ 7.,  8.,  9.]])"
      ]
     },
     "execution_count": 99,
     "metadata": {},
     "output_type": "execute_result"
    }
   ],
   "source": [
    "A + 5"
   ]
  },
  {
   "cell_type": "code",
   "execution_count": 100,
   "metadata": {},
   "outputs": [
    {
     "data": {
      "text/plain": [
       "array([[11., 10.,  8.],\n",
       "       [ 5.,  6.,  7.]])"
      ]
     },
     "execution_count": 100,
     "metadata": {},
     "output_type": "execute_result"
    }
   ],
   "source": [
    "A + np.arange(2,4).reshape(2,1)"
   ]
  },
  {
   "cell_type": "code",
   "execution_count": 101,
   "metadata": {},
   "outputs": [
    {
     "data": {
      "text/plain": [
       "array([[9., 8., 6.],\n",
       "       [2., 3., 4.]])"
      ]
     },
     "execution_count": 101,
     "metadata": {},
     "output_type": "execute_result"
    }
   ],
   "source": [
    "A"
   ]
  },
  {
   "cell_type": "markdown",
   "metadata": {},
   "source": [
    "If we want to concatenate two arrays horizontaliy or vertically then:"
   ]
  },
  {
   "cell_type": "code",
   "execution_count": 102,
   "metadata": {},
   "outputs": [],
   "source": [
    "B = np.round(10*np.random.rand(2,2))"
   ]
  },
  {
   "cell_type": "code",
   "execution_count": 103,
   "metadata": {},
   "outputs": [
    {
     "data": {
      "text/plain": [
       "array([[9., 8.],\n",
       "       [1., 1.]])"
      ]
     },
     "execution_count": 103,
     "metadata": {},
     "output_type": "execute_result"
    }
   ],
   "source": [
    "B"
   ]
  },
  {
   "cell_type": "code",
   "execution_count": 104,
   "metadata": {},
   "outputs": [],
   "source": [
    "C = np.hstack((A,B))\n",
    "# We must have to provide the arrays as tuple closed inside parenthesis"
   ]
  },
  {
   "cell_type": "code",
   "execution_count": 105,
   "metadata": {},
   "outputs": [
    {
     "data": {
      "text/plain": [
       "array([[9., 8., 6., 9., 8.],\n",
       "       [2., 3., 4., 1., 1.]])"
      ]
     },
     "execution_count": 105,
     "metadata": {},
     "output_type": "execute_result"
    }
   ],
   "source": [
    "C"
   ]
  },
  {
   "cell_type": "markdown",
   "metadata": {},
   "source": [
    "Similarly, Vertical stack works for concatenating the arrays vertically"
   ]
  },
  {
   "cell_type": "code",
   "execution_count": 106,
   "metadata": {},
   "outputs": [],
   "source": [
    "D = np.round(10*np.random.rand(2,3))"
   ]
  },
  {
   "cell_type": "code",
   "execution_count": 107,
   "metadata": {},
   "outputs": [
    {
     "data": {
      "text/plain": [
       "array([[8., 7., 3.],\n",
       "       [4., 2., 1.]])"
      ]
     },
     "execution_count": 107,
     "metadata": {},
     "output_type": "execute_result"
    }
   ],
   "source": [
    "D"
   ]
  },
  {
   "cell_type": "code",
   "execution_count": 108,
   "metadata": {},
   "outputs": [],
   "source": [
    "N = np.vstack((A,D))"
   ]
  },
  {
   "cell_type": "code",
   "execution_count": 109,
   "metadata": {},
   "outputs": [
    {
     "data": {
      "text/plain": [
       "array([[9., 8., 6.],\n",
       "       [2., 3., 4.],\n",
       "       [8., 7., 3.],\n",
       "       [4., 2., 1.]])"
      ]
     },
     "execution_count": 109,
     "metadata": {},
     "output_type": "execute_result"
    }
   ],
   "source": [
    "N"
   ]
  },
  {
   "cell_type": "code",
   "execution_count": 110,
   "metadata": {},
   "outputs": [],
   "source": [
    "A = np.random.permutation(np.arange(10))"
   ]
  },
  {
   "cell_type": "code",
   "execution_count": 111,
   "metadata": {},
   "outputs": [
    {
     "data": {
      "text/plain": [
       "array([9, 4, 8, 0, 6, 2, 3, 5, 7, 1])"
      ]
     },
     "execution_count": 111,
     "metadata": {},
     "output_type": "execute_result"
    }
   ],
   "source": [
    "A"
   ]
  },
  {
   "cell_type": "code",
   "execution_count": 112,
   "metadata": {},
   "outputs": [],
   "source": [
    "A = np.sort(A)"
   ]
  },
  {
   "cell_type": "code",
   "execution_count": 113,
   "metadata": {},
   "outputs": [
    {
     "data": {
      "text/plain": [
       "array([9, 8, 7, 6, 5, 4, 3, 2, 1, 0])"
      ]
     },
     "execution_count": 113,
     "metadata": {},
     "output_type": "execute_result"
    }
   ],
   "source": [
    "# For in asceding order\n",
    "A[::-1]"
   ]
  },
  {
   "cell_type": "code",
   "execution_count": 114,
   "metadata": {},
   "outputs": [],
   "source": [
    "A = np.array(['Python','Language','282ali','faisal90'])"
   ]
  },
  {
   "cell_type": "code",
   "execution_count": 115,
   "metadata": {},
   "outputs": [],
   "source": [
    "A.sort()"
   ]
  },
  {
   "cell_type": "code",
   "execution_count": 116,
   "metadata": {},
   "outputs": [
    {
     "data": {
      "text/plain": [
       "array(['282ali', 'Language', 'Python', 'faisal90'], dtype='<U8')"
      ]
     },
     "execution_count": 116,
     "metadata": {},
     "output_type": "execute_result"
    }
   ],
   "source": [
    "A"
   ]
  },
  {
   "cell_type": "markdown",
   "metadata": {},
   "source": [
    "Working with **Numpy** is too much faster than working the simple python. Here's the small comparision b/w them:"
   ]
  },
  {
   "cell_type": "code",
   "execution_count": 117,
   "metadata": {},
   "outputs": [
    {
     "name": "stdout",
     "output_type": "stream",
     "text": [
      "971 ms ± 21.9 ms per loop (mean ± std. dev. of 7 runs, 1 loop each)\n",
      "5.77 ms ± 104 µs per loop (mean ± std. dev. of 7 runs, 100 loops each)\n"
     ]
    }
   ],
   "source": [
    "B = np.random.rand(5000000)\n",
    "\n",
    "%timeit sum(B)\n",
    "%timeit np.sum(B)\n",
    "\n",
    "# Simple python 'sum' function and 'numpy sum' function\n",
    "# numpy is working around 100 times faster than the python"
   ]
  },
  {
   "cell_type": "code",
   "execution_count": 118,
   "metadata": {},
   "outputs": [],
   "source": [
    "def mySum(D):\n",
    "    s=0\n",
    "    for i in D:\n",
    "        s+=i\n",
    "    return s"
   ]
  },
  {
   "cell_type": "code",
   "execution_count": 119,
   "metadata": {},
   "outputs": [
    {
     "name": "stdout",
     "output_type": "stream",
     "text": [
      "1.41 s ± 82.6 ms per loop (mean ± std. dev. of 7 runs, 1 loop each)\n"
     ]
    }
   ],
   "source": [
    "%timeit mySum(B)"
   ]
  },
  {
   "cell_type": "markdown",
   "metadata": {},
   "source": [
    "Always try to use built-in universal functions of numpy instead of own functions or the simple python functions"
   ]
  },
  {
   "cell_type": "markdown",
   "metadata": {},
   "source": [
    "# Pandas"
   ]
  },
  {
   "cell_type": "markdown",
   "metadata": {},
   "source": [
    "## pd.Series"
   ]
  },
  {
   "cell_type": "code",
   "execution_count": 120,
   "metadata": {},
   "outputs": [],
   "source": [
    "import pandas as pd"
   ]
  },
  {
   "cell_type": "code",
   "execution_count": 121,
   "metadata": {},
   "outputs": [
    {
     "name": "stdout",
     "output_type": "stream",
     "text": [
      "1.1.3\n"
     ]
    }
   ],
   "source": [
    "print(pd.__version__)"
   ]
  },
  {
   "cell_type": "code",
   "execution_count": 122,
   "metadata": {},
   "outputs": [],
   "source": [
    "p = pd.Series([4,5,6,7], index=['a','b','c','d'])"
   ]
  },
  {
   "cell_type": "markdown",
   "metadata": {},
   "source": [
    "Here, indexes not needs to be string values, if not provided numbered indexes (0,1,2,...) will be assigned.\n",
    "\n",
    "Series basically handles one dimentional array"
   ]
  },
  {
   "cell_type": "code",
   "execution_count": 123,
   "metadata": {},
   "outputs": [
    {
     "data": {
      "text/plain": [
       "array([4, 5, 6, 7], dtype=int64)"
      ]
     },
     "execution_count": 123,
     "metadata": {},
     "output_type": "execute_result"
    }
   ],
   "source": [
    "p.values"
   ]
  },
  {
   "cell_type": "code",
   "execution_count": 124,
   "metadata": {},
   "outputs": [
    {
     "name": "stdout",
     "output_type": "stream",
     "text": [
      "<class 'pandas.core.series.Series'>\n"
     ]
    }
   ],
   "source": [
    "print(type(p))"
   ]
  },
  {
   "cell_type": "code",
   "execution_count": 125,
   "metadata": {},
   "outputs": [
    {
     "name": "stdout",
     "output_type": "stream",
     "text": [
      "<class 'numpy.ndarray'>\n"
     ]
    }
   ],
   "source": [
    "print(type(p.values))"
   ]
  },
  {
   "cell_type": "code",
   "execution_count": 126,
   "metadata": {},
   "outputs": [
    {
     "data": {
      "text/plain": [
       "Index(['a', 'b', 'c', 'd'], dtype='object')"
      ]
     },
     "execution_count": 126,
     "metadata": {},
     "output_type": "execute_result"
    }
   ],
   "source": [
    "p.index"
   ]
  },
  {
   "cell_type": "markdown",
   "metadata": {},
   "source": [
    "We can manipulate **Pandas Series** just like **dictionay** in python e.g.,"
   ]
  },
  {
   "cell_type": "code",
   "execution_count": 127,
   "metadata": {},
   "outputs": [
    {
     "name": "stdout",
     "output_type": "stream",
     "text": [
      "4\n"
     ]
    }
   ],
   "source": [
    "print(p['a'])"
   ]
  },
  {
   "cell_type": "code",
   "execution_count": 128,
   "metadata": {},
   "outputs": [
    {
     "data": {
      "text/plain": [
       "array([3, 5, 6, 7], dtype=int64)"
      ]
     },
     "execution_count": 128,
     "metadata": {},
     "output_type": "execute_result"
    }
   ],
   "source": [
    "p['a'] = 3\n",
    "p.values"
   ]
  },
  {
   "cell_type": "markdown",
   "metadata": {},
   "source": [
    "Slicing Pandas Series:\n",
    "If we slice the series and provide range for it, then the last element is also included unlike *range*"
   ]
  },
  {
   "cell_type": "code",
   "execution_count": 129,
   "metadata": {},
   "outputs": [
    {
     "data": {
      "text/plain": [
       "a    3\n",
       "b    5\n",
       "c    6\n",
       "dtype: int64"
      ]
     },
     "execution_count": 129,
     "metadata": {},
     "output_type": "execute_result"
    }
   ],
   "source": [
    "p['a':'c']"
   ]
  },
  {
   "cell_type": "markdown",
   "metadata": {},
   "source": [
    "We can create **Pandas Series** using **dictionary object** as well."
   ]
  },
  {
   "cell_type": "code",
   "execution_count": 130,
   "metadata": {},
   "outputs": [],
   "source": [
    "grades_dict = {'A':4,'A-':3.5,'B+':3,'B':2.5,'B-':2}\n",
    "grades = pd.Series(grades_dict)"
   ]
  },
  {
   "cell_type": "code",
   "execution_count": 131,
   "metadata": {},
   "outputs": [
    {
     "name": "stdout",
     "output_type": "stream",
     "text": [
      "A     4.0\n",
      "A-    3.5\n",
      "B+    3.0\n",
      "B     2.5\n",
      "B-    2.0\n",
      "dtype: float64\n",
      "<class 'pandas.core.series.Series'>\n"
     ]
    }
   ],
   "source": [
    "print(grades)\n",
    "print(type(grades))"
   ]
  },
  {
   "cell_type": "code",
   "execution_count": 132,
   "metadata": {},
   "outputs": [],
   "source": [
    "marks_dict = {'A':85,'A-':80,'B+':75,'B':70,'B-':65}\n",
    "marks = pd.Series(marks_dict)"
   ]
  },
  {
   "cell_type": "code",
   "execution_count": 133,
   "metadata": {},
   "outputs": [
    {
     "name": "stdout",
     "output_type": "stream",
     "text": [
      "A     85\n",
      "A-    80\n",
      "B+    75\n",
      "B     70\n",
      "B-    65\n",
      "dtype: int64\n",
      "<class 'pandas.core.series.Series'>\n"
     ]
    }
   ],
   "source": [
    "print(marks)\n",
    "print(type(marks))"
   ]
  },
  {
   "cell_type": "code",
   "execution_count": 134,
   "metadata": {},
   "outputs": [
    {
     "data": {
      "text/plain": [
       "85"
      ]
     },
     "execution_count": 134,
     "metadata": {},
     "output_type": "execute_result"
    }
   ],
   "source": [
    "marks['A']"
   ]
  },
  {
   "cell_type": "markdown",
   "metadata": {},
   "source": [
    "We can use explicit indices e.g., provided through *index* parameter; and implicit indeces parameters/default parameter e.g., (0,1,2,3,...)"
   ]
  },
  {
   "cell_type": "code",
   "execution_count": 135,
   "metadata": {},
   "outputs": [
    {
     "data": {
      "text/plain": [
       "A     85\n",
       "A-    80\n",
       "dtype: int64"
      ]
     },
     "execution_count": 135,
     "metadata": {},
     "output_type": "execute_result"
    }
   ],
   "source": [
    "marks[0:2]"
   ]
  },
  {
   "cell_type": "markdown",
   "metadata": {},
   "source": [
    "## Dataframe"
   ]
  },
  {
   "cell_type": "code",
   "execution_count": 136,
   "metadata": {},
   "outputs": [
    {
     "data": {
      "text/plain": [
       "A     85\n",
       "A-    80\n",
       "B+    75\n",
       "B     70\n",
       "B-    65\n",
       "dtype: int64"
      ]
     },
     "execution_count": 136,
     "metadata": {},
     "output_type": "execute_result"
    }
   ],
   "source": [
    "marks"
   ]
  },
  {
   "cell_type": "code",
   "execution_count": 137,
   "metadata": {},
   "outputs": [
    {
     "data": {
      "text/plain": [
       "A     4.0\n",
       "A-    3.5\n",
       "B+    3.0\n",
       "B     2.5\n",
       "B-    2.0\n",
       "dtype: float64"
      ]
     },
     "execution_count": 137,
     "metadata": {},
     "output_type": "execute_result"
    }
   ],
   "source": [
    "grades"
   ]
  },
  {
   "cell_type": "code",
   "execution_count": 138,
   "metadata": {},
   "outputs": [],
   "source": [
    "D = pd.DataFrame({'Marks':marks,'Grades':grades})"
   ]
  },
  {
   "cell_type": "code",
   "execution_count": 139,
   "metadata": {},
   "outputs": [
    {
     "data": {
      "text/html": [
       "<div>\n",
       "<style scoped>\n",
       "    .dataframe tbody tr th:only-of-type {\n",
       "        vertical-align: middle;\n",
       "    }\n",
       "\n",
       "    .dataframe tbody tr th {\n",
       "        vertical-align: top;\n",
       "    }\n",
       "\n",
       "    .dataframe thead th {\n",
       "        text-align: right;\n",
       "    }\n",
       "</style>\n",
       "<table border=\"1\" class=\"dataframe\">\n",
       "  <thead>\n",
       "    <tr style=\"text-align: right;\">\n",
       "      <th></th>\n",
       "      <th>Marks</th>\n",
       "      <th>Grades</th>\n",
       "    </tr>\n",
       "  </thead>\n",
       "  <tbody>\n",
       "    <tr>\n",
       "      <th>A</th>\n",
       "      <td>85</td>\n",
       "      <td>4.0</td>\n",
       "    </tr>\n",
       "    <tr>\n",
       "      <th>A-</th>\n",
       "      <td>80</td>\n",
       "      <td>3.5</td>\n",
       "    </tr>\n",
       "    <tr>\n",
       "      <th>B+</th>\n",
       "      <td>75</td>\n",
       "      <td>3.0</td>\n",
       "    </tr>\n",
       "    <tr>\n",
       "      <th>B</th>\n",
       "      <td>70</td>\n",
       "      <td>2.5</td>\n",
       "    </tr>\n",
       "    <tr>\n",
       "      <th>B-</th>\n",
       "      <td>65</td>\n",
       "      <td>2.0</td>\n",
       "    </tr>\n",
       "  </tbody>\n",
       "</table>\n",
       "</div>"
      ],
      "text/plain": [
       "    Marks  Grades\n",
       "A      85     4.0\n",
       "A-     80     3.5\n",
       "B+     75     3.0\n",
       "B      70     2.5\n",
       "B-     65     2.0"
      ]
     },
     "execution_count": 139,
     "metadata": {},
     "output_type": "execute_result"
    }
   ],
   "source": [
    "D"
   ]
  },
  {
   "cell_type": "code",
   "execution_count": 140,
   "metadata": {},
   "outputs": [
    {
     "data": {
      "text/html": [
       "<div>\n",
       "<style scoped>\n",
       "    .dataframe tbody tr th:only-of-type {\n",
       "        vertical-align: middle;\n",
       "    }\n",
       "\n",
       "    .dataframe tbody tr th {\n",
       "        vertical-align: top;\n",
       "    }\n",
       "\n",
       "    .dataframe thead th {\n",
       "        text-align: right;\n",
       "    }\n",
       "</style>\n",
       "<table border=\"1\" class=\"dataframe\">\n",
       "  <thead>\n",
       "    <tr style=\"text-align: right;\">\n",
       "      <th></th>\n",
       "      <th>A</th>\n",
       "      <th>A-</th>\n",
       "      <th>B+</th>\n",
       "      <th>B</th>\n",
       "      <th>B-</th>\n",
       "    </tr>\n",
       "  </thead>\n",
       "  <tbody>\n",
       "    <tr>\n",
       "      <th>Marks</th>\n",
       "      <td>85.0</td>\n",
       "      <td>80.0</td>\n",
       "      <td>75.0</td>\n",
       "      <td>70.0</td>\n",
       "      <td>65.0</td>\n",
       "    </tr>\n",
       "    <tr>\n",
       "      <th>Grades</th>\n",
       "      <td>4.0</td>\n",
       "      <td>3.5</td>\n",
       "      <td>3.0</td>\n",
       "      <td>2.5</td>\n",
       "      <td>2.0</td>\n",
       "    </tr>\n",
       "  </tbody>\n",
       "</table>\n",
       "</div>"
      ],
      "text/plain": [
       "           A    A-    B+     B    B-\n",
       "Marks   85.0  80.0  75.0  70.0  65.0\n",
       "Grades   4.0   3.5   3.0   2.5   2.0"
      ]
     },
     "execution_count": 140,
     "metadata": {},
     "output_type": "execute_result"
    }
   ],
   "source": [
    "D.T"
   ]
  },
  {
   "cell_type": "code",
   "execution_count": 141,
   "metadata": {},
   "outputs": [
    {
     "data": {
      "text/plain": [
       "array([[85. ,  4. ],\n",
       "       [80. ,  3.5],\n",
       "       [75. ,  3. ],\n",
       "       [70. ,  2.5],\n",
       "       [65. ,  2. ]])"
      ]
     },
     "execution_count": 141,
     "metadata": {},
     "output_type": "execute_result"
    }
   ],
   "source": [
    "D.values"
   ]
  },
  {
   "cell_type": "markdown",
   "metadata": {},
   "source": [
    "If we want to access 70 from the *Dataframe*:"
   ]
  },
  {
   "cell_type": "code",
   "execution_count": 142,
   "metadata": {},
   "outputs": [
    {
     "data": {
      "text/plain": [
       "70.0"
      ]
     },
     "execution_count": 142,
     "metadata": {},
     "output_type": "execute_result"
    }
   ],
   "source": [
    "D.values[3,0]"
   ]
  },
  {
   "cell_type": "code",
   "execution_count": 143,
   "metadata": {},
   "outputs": [
    {
     "data": {
      "text/plain": [
       "Index(['Marks', 'Grades'], dtype='object')"
      ]
     },
     "execution_count": 143,
     "metadata": {},
     "output_type": "execute_result"
    }
   ],
   "source": [
    "D.columns"
   ]
  },
  {
   "cell_type": "code",
   "execution_count": 144,
   "metadata": {},
   "outputs": [
    {
     "data": {
      "text/plain": [
       "Index(['A', 'A-', 'B+', 'B', 'B-'], dtype='object')"
      ]
     },
     "execution_count": 144,
     "metadata": {},
     "output_type": "execute_result"
    }
   ],
   "source": [
    "D.index"
   ]
  },
  {
   "cell_type": "markdown",
   "metadata": {},
   "source": [
    "If we want to add new column in the Dataframe"
   ]
  },
  {
   "cell_type": "code",
   "execution_count": 145,
   "metadata": {},
   "outputs": [],
   "source": [
    "D['ScaledMarks'] = 90 * (marks/100)"
   ]
  },
  {
   "cell_type": "code",
   "execution_count": 146,
   "metadata": {},
   "outputs": [
    {
     "data": {
      "text/html": [
       "<div>\n",
       "<style scoped>\n",
       "    .dataframe tbody tr th:only-of-type {\n",
       "        vertical-align: middle;\n",
       "    }\n",
       "\n",
       "    .dataframe tbody tr th {\n",
       "        vertical-align: top;\n",
       "    }\n",
       "\n",
       "    .dataframe thead th {\n",
       "        text-align: right;\n",
       "    }\n",
       "</style>\n",
       "<table border=\"1\" class=\"dataframe\">\n",
       "  <thead>\n",
       "    <tr style=\"text-align: right;\">\n",
       "      <th></th>\n",
       "      <th>Marks</th>\n",
       "      <th>Grades</th>\n",
       "      <th>ScaledMarks</th>\n",
       "    </tr>\n",
       "  </thead>\n",
       "  <tbody>\n",
       "    <tr>\n",
       "      <th>A</th>\n",
       "      <td>85</td>\n",
       "      <td>4.0</td>\n",
       "      <td>76.5</td>\n",
       "    </tr>\n",
       "    <tr>\n",
       "      <th>A-</th>\n",
       "      <td>80</td>\n",
       "      <td>3.5</td>\n",
       "      <td>72.0</td>\n",
       "    </tr>\n",
       "    <tr>\n",
       "      <th>B+</th>\n",
       "      <td>75</td>\n",
       "      <td>3.0</td>\n",
       "      <td>67.5</td>\n",
       "    </tr>\n",
       "    <tr>\n",
       "      <th>B</th>\n",
       "      <td>70</td>\n",
       "      <td>2.5</td>\n",
       "      <td>63.0</td>\n",
       "    </tr>\n",
       "    <tr>\n",
       "      <th>B-</th>\n",
       "      <td>65</td>\n",
       "      <td>2.0</td>\n",
       "      <td>58.5</td>\n",
       "    </tr>\n",
       "  </tbody>\n",
       "</table>\n",
       "</div>"
      ],
      "text/plain": [
       "    Marks  Grades  ScaledMarks\n",
       "A      85     4.0         76.5\n",
       "A-     80     3.5         72.0\n",
       "B+     75     3.0         67.5\n",
       "B      70     2.5         63.0\n",
       "B-     65     2.0         58.5"
      ]
     },
     "execution_count": 146,
     "metadata": {},
     "output_type": "execute_result"
    }
   ],
   "source": [
    "D"
   ]
  },
  {
   "cell_type": "code",
   "execution_count": 147,
   "metadata": {},
   "outputs": [],
   "source": [
    "# If want to delete an attribute just use 'del' like in dictionary\n",
    "del D['ScaledMarks']"
   ]
  },
  {
   "cell_type": "code",
   "execution_count": 148,
   "metadata": {},
   "outputs": [
    {
     "data": {
      "text/html": [
       "<div>\n",
       "<style scoped>\n",
       "    .dataframe tbody tr th:only-of-type {\n",
       "        vertical-align: middle;\n",
       "    }\n",
       "\n",
       "    .dataframe tbody tr th {\n",
       "        vertical-align: top;\n",
       "    }\n",
       "\n",
       "    .dataframe thead th {\n",
       "        text-align: right;\n",
       "    }\n",
       "</style>\n",
       "<table border=\"1\" class=\"dataframe\">\n",
       "  <thead>\n",
       "    <tr style=\"text-align: right;\">\n",
       "      <th></th>\n",
       "      <th>Marks</th>\n",
       "      <th>Grades</th>\n",
       "    </tr>\n",
       "  </thead>\n",
       "  <tbody>\n",
       "    <tr>\n",
       "      <th>A</th>\n",
       "      <td>85</td>\n",
       "      <td>4.0</td>\n",
       "    </tr>\n",
       "    <tr>\n",
       "      <th>A-</th>\n",
       "      <td>80</td>\n",
       "      <td>3.5</td>\n",
       "    </tr>\n",
       "    <tr>\n",
       "      <th>B+</th>\n",
       "      <td>75</td>\n",
       "      <td>3.0</td>\n",
       "    </tr>\n",
       "    <tr>\n",
       "      <th>B</th>\n",
       "      <td>70</td>\n",
       "      <td>2.5</td>\n",
       "    </tr>\n",
       "    <tr>\n",
       "      <th>B-</th>\n",
       "      <td>65</td>\n",
       "      <td>2.0</td>\n",
       "    </tr>\n",
       "  </tbody>\n",
       "</table>\n",
       "</div>"
      ],
      "text/plain": [
       "    Marks  Grades\n",
       "A      85     4.0\n",
       "A-     80     3.5\n",
       "B+     75     3.0\n",
       "B      70     2.5\n",
       "B-     65     2.0"
      ]
     },
     "execution_count": 148,
     "metadata": {},
     "output_type": "execute_result"
    }
   ],
   "source": [
    "D"
   ]
  },
  {
   "cell_type": "markdown",
   "metadata": {},
   "source": [
    "Masking in Pandas is same as in *numpy*"
   ]
  },
  {
   "cell_type": "code",
   "execution_count": 149,
   "metadata": {},
   "outputs": [
    {
     "name": "stdout",
     "output_type": "stream",
     "text": [
      "    Marks  Grades\n",
      "A      85     4.0\n",
      "A-     80     3.5\n",
      "B+     75     3.0\n"
     ]
    }
   ],
   "source": [
    "G = D[D['Marks']>70]\n",
    "print(G)"
   ]
  },
  {
   "cell_type": "markdown",
   "metadata": {},
   "source": [
    "## Handling NaN Values in Pandas\n",
    "NaN values are the missing values in a column, we can fix it by replacing it waith a particular value or just eliminate the record having NaN value.\n",
    "\n",
    "But dropping all values may result in too many loose of Data."
   ]
  },
  {
   "cell_type": "code",
   "execution_count": 178,
   "metadata": {},
   "outputs": [],
   "source": [
    "A = pd.DataFrame([{'a':2, 'b':4}, {'b':3, 'c':-2}])"
   ]
  },
  {
   "cell_type": "code",
   "execution_count": 179,
   "metadata": {},
   "outputs": [
    {
     "data": {
      "text/html": [
       "<div>\n",
       "<style scoped>\n",
       "    .dataframe tbody tr th:only-of-type {\n",
       "        vertical-align: middle;\n",
       "    }\n",
       "\n",
       "    .dataframe tbody tr th {\n",
       "        vertical-align: top;\n",
       "    }\n",
       "\n",
       "    .dataframe thead th {\n",
       "        text-align: right;\n",
       "    }\n",
       "</style>\n",
       "<table border=\"1\" class=\"dataframe\">\n",
       "  <thead>\n",
       "    <tr style=\"text-align: right;\">\n",
       "      <th></th>\n",
       "      <th>a</th>\n",
       "      <th>b</th>\n",
       "      <th>c</th>\n",
       "    </tr>\n",
       "  </thead>\n",
       "  <tbody>\n",
       "    <tr>\n",
       "      <th>0</th>\n",
       "      <td>2.0</td>\n",
       "      <td>4</td>\n",
       "      <td>NaN</td>\n",
       "    </tr>\n",
       "    <tr>\n",
       "      <th>1</th>\n",
       "      <td>NaN</td>\n",
       "      <td>3</td>\n",
       "      <td>-2.0</td>\n",
       "    </tr>\n",
       "  </tbody>\n",
       "</table>\n",
       "</div>"
      ],
      "text/plain": [
       "     a  b    c\n",
       "0  2.0  4  NaN\n",
       "1  NaN  3 -2.0"
      ]
     },
     "execution_count": 179,
     "metadata": {},
     "output_type": "execute_result"
    }
   ],
   "source": [
    "A"
   ]
  },
  {
   "cell_type": "code",
   "execution_count": 180,
   "metadata": {},
   "outputs": [
    {
     "data": {
      "text/html": [
       "<div>\n",
       "<style scoped>\n",
       "    .dataframe tbody tr th:only-of-type {\n",
       "        vertical-align: middle;\n",
       "    }\n",
       "\n",
       "    .dataframe tbody tr th {\n",
       "        vertical-align: top;\n",
       "    }\n",
       "\n",
       "    .dataframe thead th {\n",
       "        text-align: right;\n",
       "    }\n",
       "</style>\n",
       "<table border=\"1\" class=\"dataframe\">\n",
       "  <thead>\n",
       "    <tr style=\"text-align: right;\">\n",
       "      <th></th>\n",
       "      <th>a</th>\n",
       "      <th>b</th>\n",
       "      <th>c</th>\n",
       "    </tr>\n",
       "  </thead>\n",
       "  <tbody>\n",
       "    <tr>\n",
       "      <th>0</th>\n",
       "      <td>2.0</td>\n",
       "      <td>4</td>\n",
       "      <td>0.0</td>\n",
       "    </tr>\n",
       "    <tr>\n",
       "      <th>1</th>\n",
       "      <td>0.0</td>\n",
       "      <td>3</td>\n",
       "      <td>-2.0</td>\n",
       "    </tr>\n",
       "  </tbody>\n",
       "</table>\n",
       "</div>"
      ],
      "text/plain": [
       "     a  b    c\n",
       "0  2.0  4  0.0\n",
       "1  0.0  3 -2.0"
      ]
     },
     "execution_count": 180,
     "metadata": {},
     "output_type": "execute_result"
    }
   ],
   "source": [
    "A.fillna(0)"
   ]
  },
  {
   "cell_type": "code",
   "execution_count": 181,
   "metadata": {},
   "outputs": [],
   "source": [
    "A = pd.DataFrame([{'a':2, 'b':4}, {'b':3, 'c':-2}])"
   ]
  },
  {
   "cell_type": "code",
   "execution_count": 182,
   "metadata": {},
   "outputs": [
    {
     "data": {
      "text/html": [
       "<div>\n",
       "<style scoped>\n",
       "    .dataframe tbody tr th:only-of-type {\n",
       "        vertical-align: middle;\n",
       "    }\n",
       "\n",
       "    .dataframe tbody tr th {\n",
       "        vertical-align: top;\n",
       "    }\n",
       "\n",
       "    .dataframe thead th {\n",
       "        text-align: right;\n",
       "    }\n",
       "</style>\n",
       "<table border=\"1\" class=\"dataframe\">\n",
       "  <thead>\n",
       "    <tr style=\"text-align: right;\">\n",
       "      <th></th>\n",
       "      <th>a</th>\n",
       "      <th>b</th>\n",
       "      <th>c</th>\n",
       "    </tr>\n",
       "  </thead>\n",
       "  <tbody>\n",
       "    <tr>\n",
       "      <th>0</th>\n",
       "      <td>2.0</td>\n",
       "      <td>4</td>\n",
       "      <td>NaN</td>\n",
       "    </tr>\n",
       "    <tr>\n",
       "      <th>1</th>\n",
       "      <td>NaN</td>\n",
       "      <td>3</td>\n",
       "      <td>-2.0</td>\n",
       "    </tr>\n",
       "  </tbody>\n",
       "</table>\n",
       "</div>"
      ],
      "text/plain": [
       "     a  b    c\n",
       "0  2.0  4  NaN\n",
       "1  NaN  3 -2.0"
      ]
     },
     "execution_count": 182,
     "metadata": {},
     "output_type": "execute_result"
    }
   ],
   "source": [
    "A"
   ]
  },
  {
   "cell_type": "code",
   "execution_count": 183,
   "metadata": {},
   "outputs": [
    {
     "data": {
      "text/html": [
       "<div>\n",
       "<style scoped>\n",
       "    .dataframe tbody tr th:only-of-type {\n",
       "        vertical-align: middle;\n",
       "    }\n",
       "\n",
       "    .dataframe tbody tr th {\n",
       "        vertical-align: top;\n",
       "    }\n",
       "\n",
       "    .dataframe thead th {\n",
       "        text-align: right;\n",
       "    }\n",
       "</style>\n",
       "<table border=\"1\" class=\"dataframe\">\n",
       "  <thead>\n",
       "    <tr style=\"text-align: right;\">\n",
       "      <th></th>\n",
       "      <th>a</th>\n",
       "      <th>b</th>\n",
       "      <th>c</th>\n",
       "    </tr>\n",
       "  </thead>\n",
       "  <tbody>\n",
       "  </tbody>\n",
       "</table>\n",
       "</div>"
      ],
      "text/plain": [
       "Empty DataFrame\n",
       "Columns: [a, b, c]\n",
       "Index: []"
      ]
     },
     "execution_count": 183,
     "metadata": {},
     "output_type": "execute_result"
    }
   ],
   "source": [
    "A.dropna()"
   ]
  },
  {
   "cell_type": "code",
   "execution_count": 184,
   "metadata": {},
   "outputs": [],
   "source": [
    "A = pd.DataFrame([{'a':2, 'b':4}, {'b':3, 'c':-2}])"
   ]
  },
  {
   "cell_type": "code",
   "execution_count": 185,
   "metadata": {},
   "outputs": [
    {
     "data": {
      "text/html": [
       "<div>\n",
       "<style scoped>\n",
       "    .dataframe tbody tr th:only-of-type {\n",
       "        vertical-align: middle;\n",
       "    }\n",
       "\n",
       "    .dataframe tbody tr th {\n",
       "        vertical-align: top;\n",
       "    }\n",
       "\n",
       "    .dataframe thead th {\n",
       "        text-align: right;\n",
       "    }\n",
       "</style>\n",
       "<table border=\"1\" class=\"dataframe\">\n",
       "  <thead>\n",
       "    <tr style=\"text-align: right;\">\n",
       "      <th></th>\n",
       "      <th>a</th>\n",
       "      <th>b</th>\n",
       "      <th>c</th>\n",
       "    </tr>\n",
       "  </thead>\n",
       "  <tbody>\n",
       "    <tr>\n",
       "      <th>0</th>\n",
       "      <td>2.0</td>\n",
       "      <td>4</td>\n",
       "      <td>NaN</td>\n",
       "    </tr>\n",
       "    <tr>\n",
       "      <th>1</th>\n",
       "      <td>NaN</td>\n",
       "      <td>3</td>\n",
       "      <td>-2.0</td>\n",
       "    </tr>\n",
       "  </tbody>\n",
       "</table>\n",
       "</div>"
      ],
      "text/plain": [
       "     a  b    c\n",
       "0  2.0  4  NaN\n",
       "1  NaN  3 -2.0"
      ]
     },
     "execution_count": 185,
     "metadata": {},
     "output_type": "execute_result"
    }
   ],
   "source": [
    "A"
   ]
  },
  {
   "cell_type": "markdown",
   "metadata": {},
   "source": [
    "## Indexing in Pandas"
   ]
  },
  {
   "cell_type": "code",
   "execution_count": 195,
   "metadata": {},
   "outputs": [],
   "source": [
    "data = pd.Series(['a','b','c'],index=[1,3,5])"
   ]
  },
  {
   "cell_type": "markdown",
   "metadata": {},
   "source": [
    "If we have above `data` series and we do `data[1]`, then the explicit indexing will be used i.e., provided in the `index` parameter. But if we do slicing `data[1:3]`, then the implicit indexing will be used.i.e., will access `'b'` and `'c'`"
   ]
  },
  {
   "cell_type": "markdown",
   "metadata": {},
   "source": [
    "`data[1]`    #explicit indexing,       use `loc` instead\n",
    "\n",
    "`data[1:3]`  #implicit indexing,       use `iloc` instead"
   ]
  },
  {
   "cell_type": "code",
   "execution_count": 196,
   "metadata": {},
   "outputs": [
    {
     "data": {
      "text/plain": [
       "'b'"
      ]
     },
     "execution_count": 196,
     "metadata": {},
     "output_type": "execute_result"
    }
   ],
   "source": [
    "data[3]"
   ]
  },
  {
   "cell_type": "code",
   "execution_count": 197,
   "metadata": {},
   "outputs": [
    {
     "data": {
      "text/plain": [
       "3    b\n",
       "5    c\n",
       "dtype: object"
      ]
     },
     "execution_count": 197,
     "metadata": {},
     "output_type": "execute_result"
    }
   ],
   "source": [
    "data[1:3]"
   ]
  },
  {
   "cell_type": "code",
   "execution_count": 200,
   "metadata": {},
   "outputs": [
    {
     "data": {
      "text/plain": [
       "1    a\n",
       "3    b\n",
       "dtype: object"
      ]
     },
     "execution_count": 200,
     "metadata": {},
     "output_type": "execute_result"
    }
   ],
   "source": [
    "data.loc[1:3]   # using explicit indexing, i.e., provided one"
   ]
  },
  {
   "cell_type": "code",
   "execution_count": 203,
   "metadata": {},
   "outputs": [
    {
     "data": {
      "text/plain": [
       "3    b\n",
       "5    c\n",
       "dtype: object"
      ]
     },
     "execution_count": 203,
     "metadata": {},
     "output_type": "execute_result"
    }
   ],
   "source": [
    "data.iloc[1:3]  # using implicit indexing, i.e., default one"
   ]
  },
  {
   "cell_type": "code",
   "execution_count": 204,
   "metadata": {},
   "outputs": [
    {
     "data": {
      "text/html": [
       "<div>\n",
       "<style scoped>\n",
       "    .dataframe tbody tr th:only-of-type {\n",
       "        vertical-align: middle;\n",
       "    }\n",
       "\n",
       "    .dataframe tbody tr th {\n",
       "        vertical-align: top;\n",
       "    }\n",
       "\n",
       "    .dataframe thead th {\n",
       "        text-align: right;\n",
       "    }\n",
       "</style>\n",
       "<table border=\"1\" class=\"dataframe\">\n",
       "  <thead>\n",
       "    <tr style=\"text-align: right;\">\n",
       "      <th></th>\n",
       "      <th>Marks</th>\n",
       "      <th>Grades</th>\n",
       "    </tr>\n",
       "  </thead>\n",
       "  <tbody>\n",
       "    <tr>\n",
       "      <th>A</th>\n",
       "      <td>85</td>\n",
       "      <td>4.0</td>\n",
       "    </tr>\n",
       "    <tr>\n",
       "      <th>A-</th>\n",
       "      <td>80</td>\n",
       "      <td>3.5</td>\n",
       "    </tr>\n",
       "    <tr>\n",
       "      <th>B+</th>\n",
       "      <td>75</td>\n",
       "      <td>3.0</td>\n",
       "    </tr>\n",
       "    <tr>\n",
       "      <th>B</th>\n",
       "      <td>70</td>\n",
       "      <td>2.5</td>\n",
       "    </tr>\n",
       "    <tr>\n",
       "      <th>B-</th>\n",
       "      <td>65</td>\n",
       "      <td>2.0</td>\n",
       "    </tr>\n",
       "  </tbody>\n",
       "</table>\n",
       "</div>"
      ],
      "text/plain": [
       "    Marks  Grades\n",
       "A      85     4.0\n",
       "A-     80     3.5\n",
       "B+     75     3.0\n",
       "B      70     2.5\n",
       "B-     65     2.0"
      ]
     },
     "execution_count": 204,
     "metadata": {},
     "output_type": "execute_result"
    }
   ],
   "source": [
    "D"
   ]
  },
  {
   "cell_type": "code",
   "execution_count": 205,
   "metadata": {},
   "outputs": [
    {
     "data": {
      "text/plain": [
       "Marks     70.0\n",
       "Grades     2.5\n",
       "Name: B, dtype: float64"
      ]
     },
     "execution_count": 205,
     "metadata": {},
     "output_type": "execute_result"
    }
   ],
   "source": [
    "# If I want to access 3 index record, then simply do:\n",
    "D.iloc[3,:]"
   ]
  },
  {
   "cell_type": "code",
   "execution_count": 206,
   "metadata": {},
   "outputs": [
    {
     "data": {
      "text/html": [
       "<div>\n",
       "<style scoped>\n",
       "    .dataframe tbody tr th:only-of-type {\n",
       "        vertical-align: middle;\n",
       "    }\n",
       "\n",
       "    .dataframe tbody tr th {\n",
       "        vertical-align: top;\n",
       "    }\n",
       "\n",
       "    .dataframe thead th {\n",
       "        text-align: right;\n",
       "    }\n",
       "</style>\n",
       "<table border=\"1\" class=\"dataframe\">\n",
       "  <thead>\n",
       "    <tr style=\"text-align: right;\">\n",
       "      <th></th>\n",
       "      <th>Marks</th>\n",
       "      <th>Grades</th>\n",
       "    </tr>\n",
       "  </thead>\n",
       "  <tbody>\n",
       "    <tr>\n",
       "      <th>B-</th>\n",
       "      <td>65</td>\n",
       "      <td>2.0</td>\n",
       "    </tr>\n",
       "    <tr>\n",
       "      <th>B</th>\n",
       "      <td>70</td>\n",
       "      <td>2.5</td>\n",
       "    </tr>\n",
       "    <tr>\n",
       "      <th>B+</th>\n",
       "      <td>75</td>\n",
       "      <td>3.0</td>\n",
       "    </tr>\n",
       "    <tr>\n",
       "      <th>A-</th>\n",
       "      <td>80</td>\n",
       "      <td>3.5</td>\n",
       "    </tr>\n",
       "    <tr>\n",
       "      <th>A</th>\n",
       "      <td>85</td>\n",
       "      <td>4.0</td>\n",
       "    </tr>\n",
       "  </tbody>\n",
       "</table>\n",
       "</div>"
      ],
      "text/plain": [
       "    Marks  Grades\n",
       "B-     65     2.0\n",
       "B      70     2.5\n",
       "B+     75     3.0\n",
       "A-     80     3.5\n",
       "A      85     4.0"
      ]
     },
     "execution_count": 206,
     "metadata": {},
     "output_type": "execute_result"
    }
   ],
   "source": [
    "D.iloc[::-1,:]    #reversing the whole Dataframe record order"
   ]
  },
  {
   "cell_type": "markdown",
   "metadata": {},
   "source": [
    "## read CSV files"
   ]
  },
  {
   "cell_type": "code",
   "execution_count": 209,
   "metadata": {},
   "outputs": [],
   "source": [
    "# import pandas as pd\n",
    "# import numpy as np\n",
    "from sklearn.impute import SimpleImputer"
   ]
  },
  {
   "cell_type": "code",
   "execution_count": 218,
   "metadata": {},
   "outputs": [],
   "source": [
    "df = pd.read_csv('covid_19_data.csv')"
   ]
  },
  {
   "cell_type": "code",
   "execution_count": 219,
   "metadata": {},
   "outputs": [
    {
     "data": {
      "text/html": [
       "<div>\n",
       "<style scoped>\n",
       "    .dataframe tbody tr th:only-of-type {\n",
       "        vertical-align: middle;\n",
       "    }\n",
       "\n",
       "    .dataframe tbody tr th {\n",
       "        vertical-align: top;\n",
       "    }\n",
       "\n",
       "    .dataframe thead th {\n",
       "        text-align: right;\n",
       "    }\n",
       "</style>\n",
       "<table border=\"1\" class=\"dataframe\">\n",
       "  <thead>\n",
       "    <tr style=\"text-align: right;\">\n",
       "      <th></th>\n",
       "      <th>SNo</th>\n",
       "      <th>ObservationDate</th>\n",
       "      <th>Province/State</th>\n",
       "      <th>Country/Region</th>\n",
       "      <th>Last Update</th>\n",
       "      <th>Confirmed</th>\n",
       "      <th>Deaths</th>\n",
       "      <th>Recovered</th>\n",
       "    </tr>\n",
       "  </thead>\n",
       "  <tbody>\n",
       "    <tr>\n",
       "      <th>0</th>\n",
       "      <td>1</td>\n",
       "      <td>01/22/2020</td>\n",
       "      <td>Anhui</td>\n",
       "      <td>Mainland China</td>\n",
       "      <td>1/22/2020 17:00</td>\n",
       "      <td>1.0</td>\n",
       "      <td>0.0</td>\n",
       "      <td>0.0</td>\n",
       "    </tr>\n",
       "    <tr>\n",
       "      <th>1</th>\n",
       "      <td>2</td>\n",
       "      <td>01/22/2020</td>\n",
       "      <td>Beijing</td>\n",
       "      <td>Mainland China</td>\n",
       "      <td>1/22/2020 17:00</td>\n",
       "      <td>14.0</td>\n",
       "      <td>0.0</td>\n",
       "      <td>0.0</td>\n",
       "    </tr>\n",
       "    <tr>\n",
       "      <th>2</th>\n",
       "      <td>3</td>\n",
       "      <td>01/22/2020</td>\n",
       "      <td>Chongqing</td>\n",
       "      <td>Mainland China</td>\n",
       "      <td>1/22/2020 17:00</td>\n",
       "      <td>6.0</td>\n",
       "      <td>0.0</td>\n",
       "      <td>0.0</td>\n",
       "    </tr>\n",
       "    <tr>\n",
       "      <th>3</th>\n",
       "      <td>4</td>\n",
       "      <td>01/22/2020</td>\n",
       "      <td>Fujian</td>\n",
       "      <td>Mainland China</td>\n",
       "      <td>1/22/2020 17:00</td>\n",
       "      <td>1.0</td>\n",
       "      <td>0.0</td>\n",
       "      <td>0.0</td>\n",
       "    </tr>\n",
       "    <tr>\n",
       "      <th>4</th>\n",
       "      <td>5</td>\n",
       "      <td>01/22/2020</td>\n",
       "      <td>Gansu</td>\n",
       "      <td>Mainland China</td>\n",
       "      <td>1/22/2020 17:00</td>\n",
       "      <td>0.0</td>\n",
       "      <td>0.0</td>\n",
       "      <td>0.0</td>\n",
       "    </tr>\n",
       "  </tbody>\n",
       "</table>\n",
       "</div>"
      ],
      "text/plain": [
       "   SNo ObservationDate Province/State  Country/Region      Last Update  \\\n",
       "0    1      01/22/2020          Anhui  Mainland China  1/22/2020 17:00   \n",
       "1    2      01/22/2020        Beijing  Mainland China  1/22/2020 17:00   \n",
       "2    3      01/22/2020      Chongqing  Mainland China  1/22/2020 17:00   \n",
       "3    4      01/22/2020         Fujian  Mainland China  1/22/2020 17:00   \n",
       "4    5      01/22/2020          Gansu  Mainland China  1/22/2020 17:00   \n",
       "\n",
       "   Confirmed  Deaths  Recovered  \n",
       "0        1.0     0.0        0.0  \n",
       "1       14.0     0.0        0.0  \n",
       "2        6.0     0.0        0.0  \n",
       "3        1.0     0.0        0.0  \n",
       "4        0.0     0.0        0.0  "
      ]
     },
     "execution_count": 219,
     "metadata": {},
     "output_type": "execute_result"
    }
   ],
   "source": [
    "df.head()     # To read the top 5 records, if no argument is passed"
   ]
  },
  {
   "cell_type": "markdown",
   "metadata": {},
   "source": [
    "Here, we want to remove/drop the colunms `SNo` and `Last Update`. We can do this just by using `del df['SNo']`."
   ]
  },
  {
   "cell_type": "code",
   "execution_count": 220,
   "metadata": {},
   "outputs": [],
   "source": [
    "df.drop(['SNo', 'Last Update'], axis = 1, inplace=True)      \n",
    "# axis represents whether to drop labels from the index (0 or 'index') or columns (1 or 'columns').\n",
    "# inplace represents whether to reflect changes in df Dataframe or do temporary, False by dafault"
   ]
  },
  {
   "cell_type": "code",
   "execution_count": 221,
   "metadata": {},
   "outputs": [
    {
     "data": {
      "text/html": [
       "<div>\n",
       "<style scoped>\n",
       "    .dataframe tbody tr th:only-of-type {\n",
       "        vertical-align: middle;\n",
       "    }\n",
       "\n",
       "    .dataframe tbody tr th {\n",
       "        vertical-align: top;\n",
       "    }\n",
       "\n",
       "    .dataframe thead th {\n",
       "        text-align: right;\n",
       "    }\n",
       "</style>\n",
       "<table border=\"1\" class=\"dataframe\">\n",
       "  <thead>\n",
       "    <tr style=\"text-align: right;\">\n",
       "      <th></th>\n",
       "      <th>ObservationDate</th>\n",
       "      <th>Province/State</th>\n",
       "      <th>Country/Region</th>\n",
       "      <th>Confirmed</th>\n",
       "      <th>Deaths</th>\n",
       "      <th>Recovered</th>\n",
       "    </tr>\n",
       "  </thead>\n",
       "  <tbody>\n",
       "    <tr>\n",
       "      <th>0</th>\n",
       "      <td>01/22/2020</td>\n",
       "      <td>Anhui</td>\n",
       "      <td>Mainland China</td>\n",
       "      <td>1.0</td>\n",
       "      <td>0.0</td>\n",
       "      <td>0.0</td>\n",
       "    </tr>\n",
       "    <tr>\n",
       "      <th>1</th>\n",
       "      <td>01/22/2020</td>\n",
       "      <td>Beijing</td>\n",
       "      <td>Mainland China</td>\n",
       "      <td>14.0</td>\n",
       "      <td>0.0</td>\n",
       "      <td>0.0</td>\n",
       "    </tr>\n",
       "    <tr>\n",
       "      <th>2</th>\n",
       "      <td>01/22/2020</td>\n",
       "      <td>Chongqing</td>\n",
       "      <td>Mainland China</td>\n",
       "      <td>6.0</td>\n",
       "      <td>0.0</td>\n",
       "      <td>0.0</td>\n",
       "    </tr>\n",
       "    <tr>\n",
       "      <th>3</th>\n",
       "      <td>01/22/2020</td>\n",
       "      <td>Fujian</td>\n",
       "      <td>Mainland China</td>\n",
       "      <td>1.0</td>\n",
       "      <td>0.0</td>\n",
       "      <td>0.0</td>\n",
       "    </tr>\n",
       "    <tr>\n",
       "      <th>4</th>\n",
       "      <td>01/22/2020</td>\n",
       "      <td>Gansu</td>\n",
       "      <td>Mainland China</td>\n",
       "      <td>0.0</td>\n",
       "      <td>0.0</td>\n",
       "      <td>0.0</td>\n",
       "    </tr>\n",
       "  </tbody>\n",
       "</table>\n",
       "</div>"
      ],
      "text/plain": [
       "  ObservationDate Province/State  Country/Region  Confirmed  Deaths  Recovered\n",
       "0      01/22/2020          Anhui  Mainland China        1.0     0.0        0.0\n",
       "1      01/22/2020        Beijing  Mainland China       14.0     0.0        0.0\n",
       "2      01/22/2020      Chongqing  Mainland China        6.0     0.0        0.0\n",
       "3      01/22/2020         Fujian  Mainland China        1.0     0.0        0.0\n",
       "4      01/22/2020          Gansu  Mainland China        0.0     0.0        0.0"
      ]
     },
     "execution_count": 221,
     "metadata": {},
     "output_type": "execute_result"
    }
   ],
   "source": [
    "df.head()"
   ]
  },
  {
   "cell_type": "markdown",
   "metadata": {},
   "source": [
    "Renaming Column names"
   ]
  },
  {
   "cell_type": "code",
   "execution_count": 222,
   "metadata": {},
   "outputs": [],
   "source": [
    "df.rename(columns={'ObservationDate':'Date','Province/State':'Province','Country/Region':'Country'}, inplace=True)"
   ]
  },
  {
   "cell_type": "code",
   "execution_count": 223,
   "metadata": {},
   "outputs": [
    {
     "data": {
      "text/html": [
       "<div>\n",
       "<style scoped>\n",
       "    .dataframe tbody tr th:only-of-type {\n",
       "        vertical-align: middle;\n",
       "    }\n",
       "\n",
       "    .dataframe tbody tr th {\n",
       "        vertical-align: top;\n",
       "    }\n",
       "\n",
       "    .dataframe thead th {\n",
       "        text-align: right;\n",
       "    }\n",
       "</style>\n",
       "<table border=\"1\" class=\"dataframe\">\n",
       "  <thead>\n",
       "    <tr style=\"text-align: right;\">\n",
       "      <th></th>\n",
       "      <th>Date</th>\n",
       "      <th>Province</th>\n",
       "      <th>Country</th>\n",
       "      <th>Confirmed</th>\n",
       "      <th>Deaths</th>\n",
       "      <th>Recovered</th>\n",
       "    </tr>\n",
       "  </thead>\n",
       "  <tbody>\n",
       "    <tr>\n",
       "      <th>0</th>\n",
       "      <td>01/22/2020</td>\n",
       "      <td>Anhui</td>\n",
       "      <td>Mainland China</td>\n",
       "      <td>1.0</td>\n",
       "      <td>0.0</td>\n",
       "      <td>0.0</td>\n",
       "    </tr>\n",
       "    <tr>\n",
       "      <th>1</th>\n",
       "      <td>01/22/2020</td>\n",
       "      <td>Beijing</td>\n",
       "      <td>Mainland China</td>\n",
       "      <td>14.0</td>\n",
       "      <td>0.0</td>\n",
       "      <td>0.0</td>\n",
       "    </tr>\n",
       "    <tr>\n",
       "      <th>2</th>\n",
       "      <td>01/22/2020</td>\n",
       "      <td>Chongqing</td>\n",
       "      <td>Mainland China</td>\n",
       "      <td>6.0</td>\n",
       "      <td>0.0</td>\n",
       "      <td>0.0</td>\n",
       "    </tr>\n",
       "    <tr>\n",
       "      <th>3</th>\n",
       "      <td>01/22/2020</td>\n",
       "      <td>Fujian</td>\n",
       "      <td>Mainland China</td>\n",
       "      <td>1.0</td>\n",
       "      <td>0.0</td>\n",
       "      <td>0.0</td>\n",
       "    </tr>\n",
       "    <tr>\n",
       "      <th>4</th>\n",
       "      <td>01/22/2020</td>\n",
       "      <td>Gansu</td>\n",
       "      <td>Mainland China</td>\n",
       "      <td>0.0</td>\n",
       "      <td>0.0</td>\n",
       "      <td>0.0</td>\n",
       "    </tr>\n",
       "  </tbody>\n",
       "</table>\n",
       "</div>"
      ],
      "text/plain": [
       "         Date   Province         Country  Confirmed  Deaths  Recovered\n",
       "0  01/22/2020      Anhui  Mainland China        1.0     0.0        0.0\n",
       "1  01/22/2020    Beijing  Mainland China       14.0     0.0        0.0\n",
       "2  01/22/2020  Chongqing  Mainland China        6.0     0.0        0.0\n",
       "3  01/22/2020     Fujian  Mainland China        1.0     0.0        0.0\n",
       "4  01/22/2020      Gansu  Mainland China        0.0     0.0        0.0"
      ]
     },
     "execution_count": 223,
     "metadata": {},
     "output_type": "execute_result"
    }
   ],
   "source": [
    "df.head()"
   ]
  },
  {
   "cell_type": "markdown",
   "metadata": {},
   "source": [
    "Date formate in the Dataframe is not acceptable by Pandas, So change it accordingly"
   ]
  },
  {
   "cell_type": "code",
   "execution_count": 224,
   "metadata": {},
   "outputs": [],
   "source": [
    "df['Date'] = pd.to_datetime(df['Date'])"
   ]
  },
  {
   "cell_type": "code",
   "execution_count": 225,
   "metadata": {},
   "outputs": [
    {
     "data": {
      "text/html": [
       "<div>\n",
       "<style scoped>\n",
       "    .dataframe tbody tr th:only-of-type {\n",
       "        vertical-align: middle;\n",
       "    }\n",
       "\n",
       "    .dataframe tbody tr th {\n",
       "        vertical-align: top;\n",
       "    }\n",
       "\n",
       "    .dataframe thead th {\n",
       "        text-align: right;\n",
       "    }\n",
       "</style>\n",
       "<table border=\"1\" class=\"dataframe\">\n",
       "  <thead>\n",
       "    <tr style=\"text-align: right;\">\n",
       "      <th></th>\n",
       "      <th>Date</th>\n",
       "      <th>Province</th>\n",
       "      <th>Country</th>\n",
       "      <th>Confirmed</th>\n",
       "      <th>Deaths</th>\n",
       "      <th>Recovered</th>\n",
       "    </tr>\n",
       "  </thead>\n",
       "  <tbody>\n",
       "    <tr>\n",
       "      <th>0</th>\n",
       "      <td>2020-01-22</td>\n",
       "      <td>Anhui</td>\n",
       "      <td>Mainland China</td>\n",
       "      <td>1.0</td>\n",
       "      <td>0.0</td>\n",
       "      <td>0.0</td>\n",
       "    </tr>\n",
       "    <tr>\n",
       "      <th>1</th>\n",
       "      <td>2020-01-22</td>\n",
       "      <td>Beijing</td>\n",
       "      <td>Mainland China</td>\n",
       "      <td>14.0</td>\n",
       "      <td>0.0</td>\n",
       "      <td>0.0</td>\n",
       "    </tr>\n",
       "    <tr>\n",
       "      <th>2</th>\n",
       "      <td>2020-01-22</td>\n",
       "      <td>Chongqing</td>\n",
       "      <td>Mainland China</td>\n",
       "      <td>6.0</td>\n",
       "      <td>0.0</td>\n",
       "      <td>0.0</td>\n",
       "    </tr>\n",
       "    <tr>\n",
       "      <th>3</th>\n",
       "      <td>2020-01-22</td>\n",
       "      <td>Fujian</td>\n",
       "      <td>Mainland China</td>\n",
       "      <td>1.0</td>\n",
       "      <td>0.0</td>\n",
       "      <td>0.0</td>\n",
       "    </tr>\n",
       "    <tr>\n",
       "      <th>4</th>\n",
       "      <td>2020-01-22</td>\n",
       "      <td>Gansu</td>\n",
       "      <td>Mainland China</td>\n",
       "      <td>0.0</td>\n",
       "      <td>0.0</td>\n",
       "      <td>0.0</td>\n",
       "    </tr>\n",
       "  </tbody>\n",
       "</table>\n",
       "</div>"
      ],
      "text/plain": [
       "        Date   Province         Country  Confirmed  Deaths  Recovered\n",
       "0 2020-01-22      Anhui  Mainland China        1.0     0.0        0.0\n",
       "1 2020-01-22    Beijing  Mainland China       14.0     0.0        0.0\n",
       "2 2020-01-22  Chongqing  Mainland China        6.0     0.0        0.0\n",
       "3 2020-01-22     Fujian  Mainland China        1.0     0.0        0.0\n",
       "4 2020-01-22      Gansu  Mainland China        0.0     0.0        0.0"
      ]
     },
     "execution_count": 225,
     "metadata": {},
     "output_type": "execute_result"
    }
   ],
   "source": [
    "df.head()"
   ]
  },
  {
   "cell_type": "markdown",
   "metadata": {},
   "source": [
    "To Describe the Statistics of Data:"
   ]
  },
  {
   "cell_type": "code",
   "execution_count": 226,
   "metadata": {},
   "outputs": [
    {
     "data": {
      "text/html": [
       "<div>\n",
       "<style scoped>\n",
       "    .dataframe tbody tr th:only-of-type {\n",
       "        vertical-align: middle;\n",
       "    }\n",
       "\n",
       "    .dataframe tbody tr th {\n",
       "        vertical-align: top;\n",
       "    }\n",
       "\n",
       "    .dataframe thead th {\n",
       "        text-align: right;\n",
       "    }\n",
       "</style>\n",
       "<table border=\"1\" class=\"dataframe\">\n",
       "  <thead>\n",
       "    <tr style=\"text-align: right;\">\n",
       "      <th></th>\n",
       "      <th>Confirmed</th>\n",
       "      <th>Deaths</th>\n",
       "      <th>Recovered</th>\n",
       "    </tr>\n",
       "  </thead>\n",
       "  <tbody>\n",
       "    <tr>\n",
       "      <th>count</th>\n",
       "      <td>57572.000000</td>\n",
       "      <td>57572.000000</td>\n",
       "      <td>57572.00000</td>\n",
       "    </tr>\n",
       "    <tr>\n",
       "      <th>mean</th>\n",
       "      <td>9044.308501</td>\n",
       "      <td>522.673400</td>\n",
       "      <td>3852.92149</td>\n",
       "    </tr>\n",
       "    <tr>\n",
       "      <th>std</th>\n",
       "      <td>28805.090123</td>\n",
       "      <td>2456.844209</td>\n",
       "      <td>21675.58111</td>\n",
       "    </tr>\n",
       "    <tr>\n",
       "      <th>min</th>\n",
       "      <td>0.000000</td>\n",
       "      <td>0.000000</td>\n",
       "      <td>0.00000</td>\n",
       "    </tr>\n",
       "    <tr>\n",
       "      <th>25%</th>\n",
       "      <td>82.000000</td>\n",
       "      <td>1.000000</td>\n",
       "      <td>0.00000</td>\n",
       "    </tr>\n",
       "    <tr>\n",
       "      <th>50%</th>\n",
       "      <td>787.000000</td>\n",
       "      <td>12.000000</td>\n",
       "      <td>90.00000</td>\n",
       "    </tr>\n",
       "    <tr>\n",
       "      <th>75%</th>\n",
       "      <td>4396.000000</td>\n",
       "      <td>137.000000</td>\n",
       "      <td>1071.00000</td>\n",
       "    </tr>\n",
       "    <tr>\n",
       "      <th>max</th>\n",
       "      <td>405843.000000</td>\n",
       "      <td>41128.000000</td>\n",
       "      <td>906763.00000</td>\n",
       "    </tr>\n",
       "  </tbody>\n",
       "</table>\n",
       "</div>"
      ],
      "text/plain": [
       "           Confirmed        Deaths     Recovered\n",
       "count   57572.000000  57572.000000   57572.00000\n",
       "mean     9044.308501    522.673400    3852.92149\n",
       "std     28805.090123   2456.844209   21675.58111\n",
       "min         0.000000      0.000000       0.00000\n",
       "25%        82.000000      1.000000       0.00000\n",
       "50%       787.000000     12.000000      90.00000\n",
       "75%      4396.000000    137.000000    1071.00000\n",
       "max    405843.000000  41128.000000  906763.00000"
      ]
     },
     "execution_count": 226,
     "metadata": {},
     "output_type": "execute_result"
    }
   ],
   "source": [
    "df.describe()"
   ]
  },
  {
   "cell_type": "markdown",
   "metadata": {},
   "source": [
    "`df.info()` fun will tell us about null enteries information"
   ]
  },
  {
   "cell_type": "code",
   "execution_count": 227,
   "metadata": {},
   "outputs": [
    {
     "name": "stdout",
     "output_type": "stream",
     "text": [
      "<class 'pandas.core.frame.DataFrame'>\n",
      "RangeIndex: 57572 entries, 0 to 57571\n",
      "Data columns (total 6 columns):\n",
      " #   Column     Non-Null Count  Dtype         \n",
      "---  ------     --------------  -----         \n",
      " 0   Date       57572 non-null  datetime64[ns]\n",
      " 1   Province   35670 non-null  object        \n",
      " 2   Country    57572 non-null  object        \n",
      " 3   Confirmed  57572 non-null  float64       \n",
      " 4   Deaths     57572 non-null  float64       \n",
      " 5   Recovered  57572 non-null  float64       \n",
      "dtypes: datetime64[ns](1), float64(3), object(2)\n",
      "memory usage: 2.6+ MB\n"
     ]
    }
   ],
   "source": [
    "df.info()"
   ]
  },
  {
   "cell_type": "code",
   "execution_count": 228,
   "metadata": {},
   "outputs": [],
   "source": [
    "df = df.fillna('Na')"
   ]
  },
  {
   "cell_type": "code",
   "execution_count": 229,
   "metadata": {},
   "outputs": [
    {
     "data": {
      "text/html": [
       "<div>\n",
       "<style scoped>\n",
       "    .dataframe tbody tr th:only-of-type {\n",
       "        vertical-align: middle;\n",
       "    }\n",
       "\n",
       "    .dataframe tbody tr th {\n",
       "        vertical-align: top;\n",
       "    }\n",
       "\n",
       "    .dataframe thead th {\n",
       "        text-align: right;\n",
       "    }\n",
       "</style>\n",
       "<table border=\"1\" class=\"dataframe\">\n",
       "  <thead>\n",
       "    <tr style=\"text-align: right;\">\n",
       "      <th></th>\n",
       "      <th>Date</th>\n",
       "      <th>Province</th>\n",
       "      <th>Country</th>\n",
       "      <th>Confirmed</th>\n",
       "      <th>Deaths</th>\n",
       "      <th>Recovered</th>\n",
       "    </tr>\n",
       "  </thead>\n",
       "  <tbody>\n",
       "    <tr>\n",
       "      <th>0</th>\n",
       "      <td>2020-01-22</td>\n",
       "      <td>Anhui</td>\n",
       "      <td>Mainland China</td>\n",
       "      <td>1.0</td>\n",
       "      <td>0.0</td>\n",
       "      <td>0.0</td>\n",
       "    </tr>\n",
       "    <tr>\n",
       "      <th>1</th>\n",
       "      <td>2020-01-22</td>\n",
       "      <td>Beijing</td>\n",
       "      <td>Mainland China</td>\n",
       "      <td>14.0</td>\n",
       "      <td>0.0</td>\n",
       "      <td>0.0</td>\n",
       "    </tr>\n",
       "    <tr>\n",
       "      <th>2</th>\n",
       "      <td>2020-01-22</td>\n",
       "      <td>Chongqing</td>\n",
       "      <td>Mainland China</td>\n",
       "      <td>6.0</td>\n",
       "      <td>0.0</td>\n",
       "      <td>0.0</td>\n",
       "    </tr>\n",
       "    <tr>\n",
       "      <th>3</th>\n",
       "      <td>2020-01-22</td>\n",
       "      <td>Fujian</td>\n",
       "      <td>Mainland China</td>\n",
       "      <td>1.0</td>\n",
       "      <td>0.0</td>\n",
       "      <td>0.0</td>\n",
       "    </tr>\n",
       "    <tr>\n",
       "      <th>4</th>\n",
       "      <td>2020-01-22</td>\n",
       "      <td>Gansu</td>\n",
       "      <td>Mainland China</td>\n",
       "      <td>0.0</td>\n",
       "      <td>0.0</td>\n",
       "      <td>0.0</td>\n",
       "    </tr>\n",
       "  </tbody>\n",
       "</table>\n",
       "</div>"
      ],
      "text/plain": [
       "        Date   Province         Country  Confirmed  Deaths  Recovered\n",
       "0 2020-01-22      Anhui  Mainland China        1.0     0.0        0.0\n",
       "1 2020-01-22    Beijing  Mainland China       14.0     0.0        0.0\n",
       "2 2020-01-22  Chongqing  Mainland China        6.0     0.0        0.0\n",
       "3 2020-01-22     Fujian  Mainland China        1.0     0.0        0.0\n",
       "4 2020-01-22      Gansu  Mainland China        0.0     0.0        0.0"
      ]
     },
     "execution_count": 229,
     "metadata": {},
     "output_type": "execute_result"
    }
   ],
   "source": [
    "df.head()"
   ]
  },
  {
   "cell_type": "code",
   "execution_count": 230,
   "metadata": {},
   "outputs": [
    {
     "name": "stdout",
     "output_type": "stream",
     "text": [
      "<class 'pandas.core.frame.DataFrame'>\n",
      "RangeIndex: 57572 entries, 0 to 57571\n",
      "Data columns (total 6 columns):\n",
      " #   Column     Non-Null Count  Dtype         \n",
      "---  ------     --------------  -----         \n",
      " 0   Date       57572 non-null  datetime64[ns]\n",
      " 1   Province   57572 non-null  object        \n",
      " 2   Country    57572 non-null  object        \n",
      " 3   Confirmed  57572 non-null  float64       \n",
      " 4   Deaths     57572 non-null  float64       \n",
      " 5   Recovered  57572 non-null  float64       \n",
      "dtypes: datetime64[ns](1), float64(3), object(2)\n",
      "memory usage: 2.6+ MB\n"
     ]
    }
   ],
   "source": [
    "df.info()"
   ]
  },
  {
   "cell_type": "code",
   "execution_count": 244,
   "metadata": {},
   "outputs": [
    {
     "data": {
      "text/html": [
       "<div>\n",
       "<style scoped>\n",
       "    .dataframe tbody tr th:only-of-type {\n",
       "        vertical-align: middle;\n",
       "    }\n",
       "\n",
       "    .dataframe tbody tr th {\n",
       "        vertical-align: top;\n",
       "    }\n",
       "\n",
       "    .dataframe thead th {\n",
       "        text-align: right;\n",
       "    }\n",
       "</style>\n",
       "<table border=\"1\" class=\"dataframe\">\n",
       "  <thead>\n",
       "    <tr style=\"text-align: right;\">\n",
       "      <th></th>\n",
       "      <th>Date</th>\n",
       "      <th>Province</th>\n",
       "      <th>Country</th>\n",
       "      <th>Confirmed</th>\n",
       "      <th>Deaths</th>\n",
       "      <th>Recovered</th>\n",
       "    </tr>\n",
       "  </thead>\n",
       "  <tbody>\n",
       "    <tr>\n",
       "      <th>0</th>\n",
       "      <td>2020-01-22</td>\n",
       "      <td>Anhui</td>\n",
       "      <td>Mainland China</td>\n",
       "      <td>1.0</td>\n",
       "      <td>0.0</td>\n",
       "      <td>0.0</td>\n",
       "    </tr>\n",
       "    <tr>\n",
       "      <th>1</th>\n",
       "      <td>2020-01-22</td>\n",
       "      <td>Beijing</td>\n",
       "      <td>Mainland China</td>\n",
       "      <td>14.0</td>\n",
       "      <td>0.0</td>\n",
       "      <td>0.0</td>\n",
       "    </tr>\n",
       "    <tr>\n",
       "      <th>2</th>\n",
       "      <td>2020-01-22</td>\n",
       "      <td>Chongqing</td>\n",
       "      <td>Mainland China</td>\n",
       "      <td>6.0</td>\n",
       "      <td>0.0</td>\n",
       "      <td>0.0</td>\n",
       "    </tr>\n",
       "    <tr>\n",
       "      <th>3</th>\n",
       "      <td>2020-01-22</td>\n",
       "      <td>Fujian</td>\n",
       "      <td>Mainland China</td>\n",
       "      <td>1.0</td>\n",
       "      <td>0.0</td>\n",
       "      <td>0.0</td>\n",
       "    </tr>\n",
       "    <tr>\n",
       "      <th>4</th>\n",
       "      <td>2020-01-22</td>\n",
       "      <td>Gansu</td>\n",
       "      <td>Mainland China</td>\n",
       "      <td>0.0</td>\n",
       "      <td>0.0</td>\n",
       "      <td>0.0</td>\n",
       "    </tr>\n",
       "    <tr>\n",
       "      <th>5</th>\n",
       "      <td>2020-01-22</td>\n",
       "      <td>Guangdong</td>\n",
       "      <td>Mainland China</td>\n",
       "      <td>26.0</td>\n",
       "      <td>0.0</td>\n",
       "      <td>0.0</td>\n",
       "    </tr>\n",
       "    <tr>\n",
       "      <th>6</th>\n",
       "      <td>2020-01-22</td>\n",
       "      <td>Guangxi</td>\n",
       "      <td>Mainland China</td>\n",
       "      <td>2.0</td>\n",
       "      <td>0.0</td>\n",
       "      <td>0.0</td>\n",
       "    </tr>\n",
       "    <tr>\n",
       "      <th>7</th>\n",
       "      <td>2020-01-22</td>\n",
       "      <td>Guizhou</td>\n",
       "      <td>Mainland China</td>\n",
       "      <td>1.0</td>\n",
       "      <td>0.0</td>\n",
       "      <td>0.0</td>\n",
       "    </tr>\n",
       "    <tr>\n",
       "      <th>8</th>\n",
       "      <td>2020-01-22</td>\n",
       "      <td>Hainan</td>\n",
       "      <td>Mainland China</td>\n",
       "      <td>4.0</td>\n",
       "      <td>0.0</td>\n",
       "      <td>0.0</td>\n",
       "    </tr>\n",
       "    <tr>\n",
       "      <th>9</th>\n",
       "      <td>2020-01-22</td>\n",
       "      <td>Hebei</td>\n",
       "      <td>Mainland China</td>\n",
       "      <td>1.0</td>\n",
       "      <td>0.0</td>\n",
       "      <td>0.0</td>\n",
       "    </tr>\n",
       "  </tbody>\n",
       "</table>\n",
       "</div>"
      ],
      "text/plain": [
       "        Date   Province         Country  Confirmed  Deaths  Recovered\n",
       "0 2020-01-22      Anhui  Mainland China        1.0     0.0        0.0\n",
       "1 2020-01-22    Beijing  Mainland China       14.0     0.0        0.0\n",
       "2 2020-01-22  Chongqing  Mainland China        6.0     0.0        0.0\n",
       "3 2020-01-22     Fujian  Mainland China        1.0     0.0        0.0\n",
       "4 2020-01-22      Gansu  Mainland China        0.0     0.0        0.0\n",
       "5 2020-01-22  Guangdong  Mainland China       26.0     0.0        0.0\n",
       "6 2020-01-22    Guangxi  Mainland China        2.0     0.0        0.0\n",
       "7 2020-01-22    Guizhou  Mainland China        1.0     0.0        0.0\n",
       "8 2020-01-22     Hainan  Mainland China        4.0     0.0        0.0\n",
       "9 2020-01-22      Hebei  Mainland China        1.0     0.0        0.0"
      ]
     },
     "execution_count": 244,
     "metadata": {},
     "output_type": "execute_result"
    }
   ],
   "source": [
    "df.head(10)"
   ]
  },
  {
   "cell_type": "markdown",
   "metadata": {},
   "source": [
    "We want to see how many Total `Confirmed`, `Death` and `Recovered` cases in all the Countries.\n",
    "\n",
    "Here, `Date` and `Province` attribute are sub attributes or we can say it depends upon `Country` attribute."
   ]
  },
  {
   "cell_type": "code",
   "execution_count": 246,
   "metadata": {},
   "outputs": [],
   "source": [
    "df2 = df.groupby('Country')[['Country', 'Confirmed', 'Deaths', 'Recovered']].sum().reset_index()"
   ]
  },
  {
   "cell_type": "code",
   "execution_count": 248,
   "metadata": {},
   "outputs": [
    {
     "data": {
      "text/html": [
       "<div>\n",
       "<style scoped>\n",
       "    .dataframe tbody tr th:only-of-type {\n",
       "        vertical-align: middle;\n",
       "    }\n",
       "\n",
       "    .dataframe tbody tr th {\n",
       "        vertical-align: top;\n",
       "    }\n",
       "\n",
       "    .dataframe thead th {\n",
       "        text-align: right;\n",
       "    }\n",
       "</style>\n",
       "<table border=\"1\" class=\"dataframe\">\n",
       "  <thead>\n",
       "    <tr style=\"text-align: right;\">\n",
       "      <th></th>\n",
       "      <th>Country</th>\n",
       "      <th>Confirmed</th>\n",
       "      <th>Deaths</th>\n",
       "      <th>Recovered</th>\n",
       "    </tr>\n",
       "  </thead>\n",
       "  <tbody>\n",
       "    <tr>\n",
       "      <th>0</th>\n",
       "      <td>Azerbaijan</td>\n",
       "      <td>1.0</td>\n",
       "      <td>0.0</td>\n",
       "      <td>0.0</td>\n",
       "    </tr>\n",
       "    <tr>\n",
       "      <th>1</th>\n",
       "      <td>('St. Martin',)</td>\n",
       "      <td>2.0</td>\n",
       "      <td>0.0</td>\n",
       "      <td>0.0</td>\n",
       "    </tr>\n",
       "    <tr>\n",
       "      <th>2</th>\n",
       "      <td>Afghanistan</td>\n",
       "      <td>1166806.0</td>\n",
       "      <td>24880.0</td>\n",
       "      <td>299403.0</td>\n",
       "    </tr>\n",
       "    <tr>\n",
       "      <th>3</th>\n",
       "      <td>Albania</td>\n",
       "      <td>111323.0</td>\n",
       "      <td>3371.0</td>\n",
       "      <td>70606.0</td>\n",
       "    </tr>\n",
       "    <tr>\n",
       "      <th>4</th>\n",
       "      <td>Algeria</td>\n",
       "      <td>698978.0</td>\n",
       "      <td>54705.0</td>\n",
       "      <td>421756.0</td>\n",
       "    </tr>\n",
       "    <tr>\n",
       "      <th>...</th>\n",
       "      <td>...</td>\n",
       "      <td>...</td>\n",
       "      <td>...</td>\n",
       "      <td>...</td>\n",
       "    </tr>\n",
       "    <tr>\n",
       "      <th>218</th>\n",
       "      <td>Western Sahara</td>\n",
       "      <td>681.0</td>\n",
       "      <td>41.0</td>\n",
       "      <td>472.0</td>\n",
       "    </tr>\n",
       "    <tr>\n",
       "      <th>219</th>\n",
       "      <td>Yemen</td>\n",
       "      <td>33574.0</td>\n",
       "      <td>8377.0</td>\n",
       "      <td>8454.0</td>\n",
       "    </tr>\n",
       "    <tr>\n",
       "      <th>220</th>\n",
       "      <td>Zambia</td>\n",
       "      <td>68768.0</td>\n",
       "      <td>772.0</td>\n",
       "      <td>48700.0</td>\n",
       "    </tr>\n",
       "    <tr>\n",
       "      <th>221</th>\n",
       "      <td>Zimbabwe</td>\n",
       "      <td>17899.0</td>\n",
       "      <td>398.0</td>\n",
       "      <td>3502.0</td>\n",
       "    </tr>\n",
       "    <tr>\n",
       "      <th>222</th>\n",
       "      <td>occupied Palestinian territory</td>\n",
       "      <td>25.0</td>\n",
       "      <td>0.0</td>\n",
       "      <td>0.0</td>\n",
       "    </tr>\n",
       "  </tbody>\n",
       "</table>\n",
       "<p>223 rows × 4 columns</p>\n",
       "</div>"
      ],
      "text/plain": [
       "                            Country  Confirmed   Deaths  Recovered\n",
       "0                        Azerbaijan        1.0      0.0        0.0\n",
       "1                   ('St. Martin',)        2.0      0.0        0.0\n",
       "2                       Afghanistan  1166806.0  24880.0   299403.0\n",
       "3                           Albania   111323.0   3371.0    70606.0\n",
       "4                           Algeria   698978.0  54705.0   421756.0\n",
       "..                              ...        ...      ...        ...\n",
       "218                  Western Sahara      681.0     41.0      472.0\n",
       "219                           Yemen    33574.0   8377.0     8454.0\n",
       "220                          Zambia    68768.0    772.0    48700.0\n",
       "221                        Zimbabwe    17899.0    398.0     3502.0\n",
       "222  occupied Palestinian territory       25.0      0.0        0.0\n",
       "\n",
       "[223 rows x 4 columns]"
      ]
     },
     "execution_count": 248,
     "metadata": {},
     "output_type": "execute_result"
    }
   ],
   "source": [
    "df2"
   ]
  },
  {
   "cell_type": "markdown",
   "metadata": {},
   "source": [
    "Now, We want to see how many Total `Confirmed`, `Death` and `Recovered` cases in all the Countries on the reported `Date`."
   ]
  },
  {
   "cell_type": "code",
   "execution_count": 250,
   "metadata": {},
   "outputs": [],
   "source": [
    "df3 = df.groupby(['Country', 'Date'])[['Country', 'Date', 'Confirmed', 'Deaths', 'Recovered']].sum().reset_index()"
   ]
  },
  {
   "cell_type": "code",
   "execution_count": 256,
   "metadata": {},
   "outputs": [
    {
     "data": {
      "text/html": [
       "<div>\n",
       "<style scoped>\n",
       "    .dataframe tbody tr th:only-of-type {\n",
       "        vertical-align: middle;\n",
       "    }\n",
       "\n",
       "    .dataframe tbody tr th {\n",
       "        vertical-align: top;\n",
       "    }\n",
       "\n",
       "    .dataframe thead th {\n",
       "        text-align: right;\n",
       "    }\n",
       "</style>\n",
       "<table border=\"1\" class=\"dataframe\">\n",
       "  <thead>\n",
       "    <tr style=\"text-align: right;\">\n",
       "      <th></th>\n",
       "      <th>Country</th>\n",
       "      <th>Date</th>\n",
       "      <th>Confirmed</th>\n",
       "      <th>Deaths</th>\n",
       "      <th>Recovered</th>\n",
       "    </tr>\n",
       "  </thead>\n",
       "  <tbody>\n",
       "    <tr>\n",
       "      <th>0</th>\n",
       "      <td>Azerbaijan</td>\n",
       "      <td>2020-02-28</td>\n",
       "      <td>1.0</td>\n",
       "      <td>0.0</td>\n",
       "      <td>0.0</td>\n",
       "    </tr>\n",
       "    <tr>\n",
       "      <th>1</th>\n",
       "      <td>('St. Martin',)</td>\n",
       "      <td>2020-03-10</td>\n",
       "      <td>2.0</td>\n",
       "      <td>0.0</td>\n",
       "      <td>0.0</td>\n",
       "    </tr>\n",
       "    <tr>\n",
       "      <th>2</th>\n",
       "      <td>Afghanistan</td>\n",
       "      <td>2020-02-24</td>\n",
       "      <td>1.0</td>\n",
       "      <td>0.0</td>\n",
       "      <td>0.0</td>\n",
       "    </tr>\n",
       "    <tr>\n",
       "      <th>3</th>\n",
       "      <td>Afghanistan</td>\n",
       "      <td>2020-02-25</td>\n",
       "      <td>1.0</td>\n",
       "      <td>0.0</td>\n",
       "      <td>0.0</td>\n",
       "    </tr>\n",
       "    <tr>\n",
       "      <th>4</th>\n",
       "      <td>Afghanistan</td>\n",
       "      <td>2020-02-26</td>\n",
       "      <td>1.0</td>\n",
       "      <td>0.0</td>\n",
       "      <td>0.0</td>\n",
       "    </tr>\n",
       "    <tr>\n",
       "      <th>...</th>\n",
       "      <td>...</td>\n",
       "      <td>...</td>\n",
       "      <td>...</td>\n",
       "      <td>...</td>\n",
       "      <td>...</td>\n",
       "    </tr>\n",
       "    <tr>\n",
       "      <th>23626</th>\n",
       "      <td>occupied Palestinian territory</td>\n",
       "      <td>2020-03-12</td>\n",
       "      <td>0.0</td>\n",
       "      <td>0.0</td>\n",
       "      <td>0.0</td>\n",
       "    </tr>\n",
       "    <tr>\n",
       "      <th>23627</th>\n",
       "      <td>occupied Palestinian territory</td>\n",
       "      <td>2020-03-14</td>\n",
       "      <td>0.0</td>\n",
       "      <td>0.0</td>\n",
       "      <td>0.0</td>\n",
       "    </tr>\n",
       "    <tr>\n",
       "      <th>23628</th>\n",
       "      <td>occupied Palestinian territory</td>\n",
       "      <td>2020-03-15</td>\n",
       "      <td>0.0</td>\n",
       "      <td>0.0</td>\n",
       "      <td>0.0</td>\n",
       "    </tr>\n",
       "    <tr>\n",
       "      <th>23629</th>\n",
       "      <td>occupied Palestinian territory</td>\n",
       "      <td>2020-03-16</td>\n",
       "      <td>0.0</td>\n",
       "      <td>0.0</td>\n",
       "      <td>0.0</td>\n",
       "    </tr>\n",
       "    <tr>\n",
       "      <th>23630</th>\n",
       "      <td>occupied Palestinian territory</td>\n",
       "      <td>2020-03-17</td>\n",
       "      <td>0.0</td>\n",
       "      <td>0.0</td>\n",
       "      <td>0.0</td>\n",
       "    </tr>\n",
       "  </tbody>\n",
       "</table>\n",
       "<p>23631 rows × 5 columns</p>\n",
       "</div>"
      ],
      "text/plain": [
       "                              Country       Date  Confirmed  Deaths  Recovered\n",
       "0                          Azerbaijan 2020-02-28        1.0     0.0        0.0\n",
       "1                     ('St. Martin',) 2020-03-10        2.0     0.0        0.0\n",
       "2                         Afghanistan 2020-02-24        1.0     0.0        0.0\n",
       "3                         Afghanistan 2020-02-25        1.0     0.0        0.0\n",
       "4                         Afghanistan 2020-02-26        1.0     0.0        0.0\n",
       "...                               ...        ...        ...     ...        ...\n",
       "23626  occupied Palestinian territory 2020-03-12        0.0     0.0        0.0\n",
       "23627  occupied Palestinian territory 2020-03-14        0.0     0.0        0.0\n",
       "23628  occupied Palestinian territory 2020-03-15        0.0     0.0        0.0\n",
       "23629  occupied Palestinian territory 2020-03-16        0.0     0.0        0.0\n",
       "23630  occupied Palestinian territory 2020-03-17        0.0     0.0        0.0\n",
       "\n",
       "[23631 rows x 5 columns]"
      ]
     },
     "execution_count": 256,
     "metadata": {},
     "output_type": "execute_result"
    }
   ],
   "source": [
    "df3"
   ]
  },
  {
   "cell_type": "markdown",
   "metadata": {},
   "source": [
    "Countries having confirmed cases more 100"
   ]
  },
  {
   "cell_type": "code",
   "execution_count": 259,
   "metadata": {},
   "outputs": [],
   "source": [
    "df4 = df3[df3['Confirmed']>100]"
   ]
  },
  {
   "cell_type": "code",
   "execution_count": 260,
   "metadata": {},
   "outputs": [
    {
     "data": {
      "text/html": [
       "<div>\n",
       "<style scoped>\n",
       "    .dataframe tbody tr th:only-of-type {\n",
       "        vertical-align: middle;\n",
       "    }\n",
       "\n",
       "    .dataframe tbody tr th {\n",
       "        vertical-align: top;\n",
       "    }\n",
       "\n",
       "    .dataframe thead th {\n",
       "        text-align: right;\n",
       "    }\n",
       "</style>\n",
       "<table border=\"1\" class=\"dataframe\">\n",
       "  <thead>\n",
       "    <tr style=\"text-align: right;\">\n",
       "      <th></th>\n",
       "      <th>Country</th>\n",
       "      <th>Date</th>\n",
       "      <th>Confirmed</th>\n",
       "      <th>Deaths</th>\n",
       "      <th>Recovered</th>\n",
       "    </tr>\n",
       "  </thead>\n",
       "  <tbody>\n",
       "    <tr>\n",
       "      <th>34</th>\n",
       "      <td>Afghanistan</td>\n",
       "      <td>2020-03-27</td>\n",
       "      <td>110.0</td>\n",
       "      <td>4.0</td>\n",
       "      <td>2.0</td>\n",
       "    </tr>\n",
       "    <tr>\n",
       "      <th>35</th>\n",
       "      <td>Afghanistan</td>\n",
       "      <td>2020-03-28</td>\n",
       "      <td>110.0</td>\n",
       "      <td>4.0</td>\n",
       "      <td>2.0</td>\n",
       "    </tr>\n",
       "    <tr>\n",
       "      <th>36</th>\n",
       "      <td>Afghanistan</td>\n",
       "      <td>2020-03-29</td>\n",
       "      <td>120.0</td>\n",
       "      <td>4.0</td>\n",
       "      <td>2.0</td>\n",
       "    </tr>\n",
       "    <tr>\n",
       "      <th>37</th>\n",
       "      <td>Afghanistan</td>\n",
       "      <td>2020-03-30</td>\n",
       "      <td>170.0</td>\n",
       "      <td>4.0</td>\n",
       "      <td>2.0</td>\n",
       "    </tr>\n",
       "    <tr>\n",
       "      <th>38</th>\n",
       "      <td>Afghanistan</td>\n",
       "      <td>2020-03-31</td>\n",
       "      <td>174.0</td>\n",
       "      <td>4.0</td>\n",
       "      <td>5.0</td>\n",
       "    </tr>\n",
       "    <tr>\n",
       "      <th>...</th>\n",
       "      <td>...</td>\n",
       "      <td>...</td>\n",
       "      <td>...</td>\n",
       "      <td>...</td>\n",
       "      <td>...</td>\n",
       "    </tr>\n",
       "    <tr>\n",
       "      <th>23619</th>\n",
       "      <td>Zimbabwe</td>\n",
       "      <td>2020-07-01</td>\n",
       "      <td>605.0</td>\n",
       "      <td>7.0</td>\n",
       "      <td>166.0</td>\n",
       "    </tr>\n",
       "    <tr>\n",
       "      <th>23620</th>\n",
       "      <td>Zimbabwe</td>\n",
       "      <td>2020-07-02</td>\n",
       "      <td>617.0</td>\n",
       "      <td>7.0</td>\n",
       "      <td>173.0</td>\n",
       "    </tr>\n",
       "    <tr>\n",
       "      <th>23621</th>\n",
       "      <td>Zimbabwe</td>\n",
       "      <td>2020-07-03</td>\n",
       "      <td>625.0</td>\n",
       "      <td>7.0</td>\n",
       "      <td>176.0</td>\n",
       "    </tr>\n",
       "    <tr>\n",
       "      <th>23622</th>\n",
       "      <td>Zimbabwe</td>\n",
       "      <td>2020-07-04</td>\n",
       "      <td>698.0</td>\n",
       "      <td>8.0</td>\n",
       "      <td>181.0</td>\n",
       "    </tr>\n",
       "    <tr>\n",
       "      <th>23623</th>\n",
       "      <td>Zimbabwe</td>\n",
       "      <td>2020-07-05</td>\n",
       "      <td>716.0</td>\n",
       "      <td>8.0</td>\n",
       "      <td>181.0</td>\n",
       "    </tr>\n",
       "  </tbody>\n",
       "</table>\n",
       "<p>16074 rows × 5 columns</p>\n",
       "</div>"
      ],
      "text/plain": [
       "           Country       Date  Confirmed  Deaths  Recovered\n",
       "34     Afghanistan 2020-03-27      110.0     4.0        2.0\n",
       "35     Afghanistan 2020-03-28      110.0     4.0        2.0\n",
       "36     Afghanistan 2020-03-29      120.0     4.0        2.0\n",
       "37     Afghanistan 2020-03-30      170.0     4.0        2.0\n",
       "38     Afghanistan 2020-03-31      174.0     4.0        5.0\n",
       "...            ...        ...        ...     ...        ...\n",
       "23619     Zimbabwe 2020-07-01      605.0     7.0      166.0\n",
       "23620     Zimbabwe 2020-07-02      617.0     7.0      173.0\n",
       "23621     Zimbabwe 2020-07-03      625.0     7.0      176.0\n",
       "23622     Zimbabwe 2020-07-04      698.0     8.0      181.0\n",
       "23623     Zimbabwe 2020-07-05      716.0     8.0      181.0\n",
       "\n",
       "[16074 rows x 5 columns]"
      ]
     },
     "execution_count": 260,
     "metadata": {},
     "output_type": "execute_result"
    }
   ],
   "source": [
    "df4"
   ]
  },
  {
   "cell_type": "markdown",
   "metadata": {},
   "source": [
    "# Matplotlib"
   ]
  },
  {
   "cell_type": "code",
   "execution_count": 261,
   "metadata": {},
   "outputs": [],
   "source": [
    "import matplotlib.pyplot as plt\n",
    "from matplotlib import pyplot as plt       # another way of importing above module from matplotlib"
   ]
  },
  {
   "cell_type": "markdown",
   "metadata": {},
   "source": [
    "`np.linspacec()` linearly spaced points"
   ]
  },
  {
   "cell_type": "code",
   "execution_count": 266,
   "metadata": {},
   "outputs": [
    {
     "data": {
      "text/plain": [
       "[<matplotlib.lines.Line2D at 0x231a85030a0>]"
      ]
     },
     "execution_count": 266,
     "metadata": {},
     "output_type": "execute_result"
    },
    {
     "data": {
      "image/png": "[encoded data removed]",
      "text/plain": [
       "<Figure size 432x288 with 1 Axes>"
      ]
     },
     "metadata": {
      "needs_background": "light"
     },
     "output_type": "display_data"
    }
   ],
   "source": [
    "x = np.linspace(0,10,1000)\n",
    "y = np.sin(x)\n",
    "plt.plot(x, y)"
   ]
  },
  {
   "cell_type": "code",
   "execution_count": 271,
   "metadata": {},
   "outputs": [
    {
     "data": {
      "text/plain": [
       "<matplotlib.collections.PathCollection at 0x231a77b1070>"
      ]
     },
     "execution_count": 271,
     "metadata": {},
     "output_type": "execute_result"
    },
    {
     "data": {
      "image/png": "[encoded data removed]",
      "text/plain": [
       "<Figure size 432x288 with 1 Axes>"
      ]
     },
     "metadata": {
      "needs_background": "light"
     },
     "output_type": "display_data"
    }
   ],
   "source": [
    "plt.scatter(x[::10],y[::10])      # plotting scatter plot for every next 10th point of x and y"
   ]
  },
  {
   "cell_type": "code",
   "execution_count": 274,
   "metadata": {},
   "outputs": [
    {
     "data": {
      "text/plain": [
       "<matplotlib.collections.PathCollection at 0x231a8eb9880>"
      ]
     },
     "execution_count": 274,
     "metadata": {},
     "output_type": "execute_result"
    },
    {
     "data": {
      "image/png": "[encoded data removed]",
      "text/plain": [
       "<Figure size 432x288 with 1 Axes>"
      ]
     },
     "metadata": {
      "needs_background": "light"
     },
     "output_type": "display_data"
    }
   ],
   "source": [
    "plt.scatter(x[::10],y[::10], color = 'r')"
   ]
  },
  {
   "cell_type": "code",
   "execution_count": 275,
   "metadata": {},
   "outputs": [
    {
     "data": {
      "text/plain": [
       "[<matplotlib.lines.Line2D at 0x231a76dd430>]"
      ]
     },
     "execution_count": 275,
     "metadata": {},
     "output_type": "execute_result"
    },
    {
     "data": {
      "image/png": "[encoded data removed]",
      "text/plain": [
       "<Figure size 432x288 with 1 Axes>"
      ]
     },
     "metadata": {
      "needs_background": "light"
     },
     "output_type": "display_data"
    }
   ],
   "source": [
    "plt.plot(x,y,'r')\n",
    "plt.plot(x, np.cos(x),'b')"
   ]
  },
  {
   "cell_type": "code",
   "execution_count": 279,
   "metadata": {},
   "outputs": [
    {
     "data": {
      "text/plain": [
       "[<matplotlib.lines.Line2D at 0x231a94ae4f0>]"
      ]
     },
     "execution_count": 279,
     "metadata": {},
     "output_type": "execute_result"
    },
    {
     "data": {
      "image/png": "[encoded data removed]",
      "text/plain": [
       "<Figure size 432x288 with 1 Axes>"
      ]
     },
     "metadata": {
      "needs_background": "light"
     },
     "output_type": "display_data"
    }
   ],
   "source": [
    "plt.plot(x, x+0, '-g')     #solide green\n",
    "plt.plot(x, x+1, '--c')    #dashed cyan\n",
    "plt.plot(x, x+2, '-.k')    #dash-dot black\n",
    "plt.plot(x, x+3, ':r')     #doted red\n"
   ]
  }
 ],
 "metadata": {
  "kernelspec": {
   "display_name": "Python 3",
   "language": "python",
   "name": "python3"
  },
  "language_info": {
   "codemirror_mode": {
    "name": "ipython",
    "version": 3
   },
   "file_extension": ".py",
   "mimetype": "text/x-python",
   "name": "python",
   "nbconvert_exporter": "python",
   "pygments_lexer": "ipython3",
   "version": "3.8.5"
  }
 },
 "nbformat": 4,
 "nbformat_minor": 4
}
