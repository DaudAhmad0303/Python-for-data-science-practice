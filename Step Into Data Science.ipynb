{
 "cells": [
  {
   "cell_type": "markdown",
   "metadata": {},
   "source": [
    "# Numpy"
   ]
  },
  {
   "cell_type": "markdown",
   "metadata": {},
   "source": [
    "**Numpy** stands for **Numerical Python**\n",
    "\n",
    "- It's working is much more faster than working with Lists.\n",
    "\n",
    "- In case of List, computer have to save the type of each element separatly.\n",
    "\n",
    "- So, it becomes slow as compare to the array. Because, array is a data structure of contigeouse type. we need not to store data type for each element."
   ]
  },
  {
   "cell_type": "code",
   "execution_count": 2,
   "metadata": {},
   "outputs": [],
   "source": [
    "import numpy as np"
   ]
  },
  {
   "cell_type": "code",
   "execution_count": 2,
   "metadata": {},
   "outputs": [],
   "source": [
    "a = np.array([1,2,3,4,5])"
   ]
  },
  {
   "cell_type": "code",
   "execution_count": 3,
   "metadata": {},
   "outputs": [],
   "source": [
    "b = np.array((2,4,6,8,0))"
   ]
  },
  {
   "cell_type": "code",
   "execution_count": 4,
   "metadata": {},
   "outputs": [
    {
     "name": "stdout",
     "output_type": "stream",
     "text": [
      "[1 2 3 4 5]\n",
      "[2 4 6 8 0]\n"
     ]
    }
   ],
   "source": [
    "print(a)\n",
    "print(b)"
   ]
  },
  {
   "cell_type": "code",
   "execution_count": 5,
   "metadata": {
    "scrolled": true
   },
   "outputs": [
    {
     "name": "stdout",
     "output_type": "stream",
     "text": [
      "<class 'numpy.ndarray'>\n"
     ]
    }
   ],
   "source": [
    "# ndarray means 'n dimensional array'\n",
    "print(type(a))"
   ]
  },
  {
   "cell_type": "code",
   "execution_count": 6,
   "metadata": {},
   "outputs": [],
   "source": [
    "c = np.array([2,3,4,5,6,9],dtype='f')\n",
    "# We can specify data type separatly "
   ]
  },
  {
   "cell_type": "code",
   "execution_count": 7,
   "metadata": {},
   "outputs": [
    {
     "name": "stdout",
     "output_type": "stream",
     "text": [
      "float32\n"
     ]
    }
   ],
   "source": [
    "print(c.dtype)"
   ]
  },
  {
   "cell_type": "markdown",
   "metadata": {},
   "source": [
    "Several Properties of **Numpy array**"
   ]
  },
  {
   "cell_type": "markdown",
   "metadata": {},
   "source": [
    "**ndim** is used to get the dimension of array"
   ]
  },
  {
   "cell_type": "code",
   "execution_count": 8,
   "metadata": {},
   "outputs": [],
   "source": [
    "# del a\n",
    "a = np.array([[1,2,3],[4,5,6]])"
   ]
  },
  {
   "cell_type": "code",
   "execution_count": 9,
   "metadata": {},
   "outputs": [
    {
     "name": "stdout",
     "output_type": "stream",
     "text": [
      "2\n"
     ]
    }
   ],
   "source": [
    "print(a.ndim)"
   ]
  },
  {
   "cell_type": "code",
   "execution_count": 10,
   "metadata": {},
   "outputs": [
    {
     "name": "stdout",
     "output_type": "stream",
     "text": [
      "[[1 2 3]\n",
      " [4 5 6]]\n"
     ]
    }
   ],
   "source": [
    "print(a)"
   ]
  },
  {
   "cell_type": "code",
   "execution_count": 11,
   "metadata": {},
   "outputs": [
    {
     "name": "stdout",
     "output_type": "stream",
     "text": [
      "6\n"
     ]
    }
   ],
   "source": [
    "print(a[1,2])"
   ]
  },
  {
   "cell_type": "markdown",
   "metadata": {},
   "source": [
    "we have to store same dimension of sub arrays inside an array otherwise objection arose."
   ]
  },
  {
   "cell_type": "code",
   "execution_count": 12,
   "metadata": {},
   "outputs": [],
   "source": [
    "B = np.array([[1,2,3,-1],[2,4,5,9]])"
   ]
  },
  {
   "cell_type": "code",
   "execution_count": 13,
   "metadata": {},
   "outputs": [
    {
     "data": {
      "text/plain": [
       "2"
      ]
     },
     "execution_count": 13,
     "metadata": {},
     "output_type": "execute_result"
    }
   ],
   "source": [
    "B.ndim"
   ]
  },
  {
   "cell_type": "code",
   "execution_count": 14,
   "metadata": {},
   "outputs": [
    {
     "name": "stdout",
     "output_type": "stream",
     "text": [
      "-1\n"
     ]
    }
   ],
   "source": [
    "print(B[0,3])"
   ]
  },
  {
   "cell_type": "code",
   "execution_count": 15,
   "metadata": {},
   "outputs": [],
   "source": [
    "C = np.array([[[1,2,3], [4,5,6], [0,0,-1]], [[-1,-2,-3], [-4,-5,-6], [0,0,1]]])"
   ]
  },
  {
   "cell_type": "code",
   "execution_count": 16,
   "metadata": {},
   "outputs": [
    {
     "name": "stdout",
     "output_type": "stream",
     "text": [
      "int32\n"
     ]
    }
   ],
   "source": [
    "print(C.dtype)"
   ]
  },
  {
   "cell_type": "code",
   "execution_count": 17,
   "metadata": {},
   "outputs": [
    {
     "name": "stdout",
     "output_type": "stream",
     "text": [
      "3\n"
     ]
    }
   ],
   "source": [
    "print(C.ndim)"
   ]
  },
  {
   "cell_type": "code",
   "execution_count": 18,
   "metadata": {},
   "outputs": [
    {
     "name": "stdout",
     "output_type": "stream",
     "text": [
      "-6\n"
     ]
    }
   ],
   "source": [
    "print(C[1,1,2])"
   ]
  },
  {
   "cell_type": "markdown",
   "metadata": {},
   "source": [
    "**shape** module is used to get dimension of each array inside array.i.e.,"
   ]
  },
  {
   "cell_type": "code",
   "execution_count": 19,
   "metadata": {},
   "outputs": [
    {
     "name": "stdout",
     "output_type": "stream",
     "text": [
      "(2, 3, 3)\n",
      "<class 'tuple'>\n"
     ]
    }
   ],
   "source": [
    "print(C.shape)\n",
    "# It's mean: C array is containing 2 sub arrays; each sub array is further containing 3 arrays; further \n",
    "# each array is containing 3 elements in it\n",
    "print(type(C.shape))"
   ]
  },
  {
   "cell_type": "code",
   "execution_count": 20,
   "metadata": {},
   "outputs": [
    {
     "name": "stdout",
     "output_type": "stream",
     "text": [
      "3\n"
     ]
    }
   ],
   "source": [
    "print(C.shape[2])"
   ]
  },
  {
   "cell_type": "code",
   "execution_count": 21,
   "metadata": {},
   "outputs": [],
   "source": [
    "A = np.array([3])"
   ]
  },
  {
   "cell_type": "code",
   "execution_count": 22,
   "metadata": {},
   "outputs": [
    {
     "name": "stdout",
     "output_type": "stream",
     "text": [
      "1\n"
     ]
    }
   ],
   "source": [
    "print(A.ndim)"
   ]
  },
  {
   "cell_type": "code",
   "execution_count": 23,
   "metadata": {},
   "outputs": [],
   "source": [
    "B = np.array(9)"
   ]
  },
  {
   "cell_type": "code",
   "execution_count": 24,
   "metadata": {},
   "outputs": [
    {
     "name": "stdout",
     "output_type": "stream",
     "text": [
      "0\n"
     ]
    }
   ],
   "source": [
    "print(B.ndim)"
   ]
  },
  {
   "cell_type": "markdown",
   "metadata": {},
   "source": [
    "**size** module returns the number of total elements in an array"
   ]
  },
  {
   "cell_type": "code",
   "execution_count": 25,
   "metadata": {},
   "outputs": [
    {
     "name": "stdout",
     "output_type": "stream",
     "text": [
      "18\n"
     ]
    }
   ],
   "source": [
    "print(C.size)"
   ]
  },
  {
   "cell_type": "markdown",
   "metadata": {},
   "source": [
    "**nbytes** is used to get memory used by array"
   ]
  },
  {
   "cell_type": "code",
   "execution_count": 26,
   "metadata": {},
   "outputs": [
    {
     "name": "stdout",
     "output_type": "stream",
     "text": [
      "72\n"
     ]
    }
   ],
   "source": [
    "print(C.nbytes)"
   ]
  },
  {
   "cell_type": "markdown",
   "metadata": {},
   "source": [
    "**ones** and **zeros** modules are used to get the desired number of zeros or ones inside an array"
   ]
  },
  {
   "cell_type": "code",
   "execution_count": 27,
   "metadata": {},
   "outputs": [],
   "source": [
    "C1 = np.ones(30, dtype = 'i')\n",
    "C2 = np.zeros(20)"
   ]
  },
  {
   "cell_type": "code",
   "execution_count": 28,
   "metadata": {},
   "outputs": [
    {
     "name": "stdout",
     "output_type": "stream",
     "text": [
      "[1 1 1 1 1 1 1 1 1 1 1 1 1 1 1 1 1 1 1 1 1 1 1 1 1 1 1 1 1 1]\n",
      "[0. 0. 0. 0. 0. 0. 0. 0. 0. 0. 0. 0. 0. 0. 0. 0. 0. 0. 0. 0.]\n",
      "int32\n",
      "float64\n"
     ]
    }
   ],
   "source": [
    "print(C1)\n",
    "print(C2)\n",
    "print(C1.dtype)\n",
    "print(C2.dtype)"
   ]
  },
  {
   "cell_type": "code",
   "execution_count": 29,
   "metadata": {},
   "outputs": [
    {
     "name": "stdout",
     "output_type": "stream",
     "text": [
      "Variable   Type       Data/Info\n",
      "-------------------------------\n",
      "A          ndarray    1: 1 elems, type `int32`, 4 bytes\n",
      "B          ndarray    : 1 elems, type `int32`, 4 bytes\n",
      "C          ndarray    2x3x3: 18 elems, type `int32`, 72 bytes\n",
      "C1         ndarray    30: 30 elems, type `int32`, 120 bytes\n",
      "C2         ndarray    20: 20 elems, type `float64`, 160 bytes\n",
      "a          ndarray    2x3: 6 elems, type `int32`, 24 bytes\n",
      "b          ndarray    5: 5 elems, type `int32`, 20 bytes\n",
      "c          ndarray    6: 6 elems, type `float32`, 24 bytes\n",
      "np         module     <module 'numpy' from 'C:\\<...>ges\\\\numpy\\\\__init__.py'>\n"
     ]
    }
   ],
   "source": [
    "%whos"
   ]
  },
  {
   "cell_type": "markdown",
   "metadata": {},
   "source": [
    "**arange** module is used to get a series of numbers provided in range just like in **range** function"
   ]
  },
  {
   "cell_type": "code",
   "execution_count": 30,
   "metadata": {},
   "outputs": [],
   "source": [
    "C3 = np.arange(50)"
   ]
  },
  {
   "cell_type": "code",
   "execution_count": 31,
   "metadata": {},
   "outputs": [
    {
     "name": "stdout",
     "output_type": "stream",
     "text": [
      "[ 0  1  2  3  4  5  6  7  8  9 10 11 12 13 14 15 16 17 18 19 20 21 22 23\n",
      " 24 25 26 27 28 29 30 31 32 33 34 35 36 37 38 39 40 41 42 43 44 45 46 47\n",
      " 48 49]\n"
     ]
    }
   ],
   "source": [
    "print(C3)"
   ]
  },
  {
   "cell_type": "code",
   "execution_count": 32,
   "metadata": {},
   "outputs": [
    {
     "name": "stdout",
     "output_type": "stream",
     "text": [
      "[20 22 24 26 28 30 32 34 36 38 40 42 44 46 48 50 52 54 56 58]\n"
     ]
    }
   ],
   "source": [
    "C4 = np.arange(20,60,2)        # for i in range(0, 20, 2):\n",
    "print(C4)"
   ]
  },
  {
   "cell_type": "code",
   "execution_count": 33,
   "metadata": {},
   "outputs": [
    {
     "name": "stdout",
     "output_type": "stream",
     "text": [
      "range(0, 40)\n"
     ]
    }
   ],
   "source": [
    "print(range(40))"
   ]
  },
  {
   "cell_type": "code",
   "execution_count": 34,
   "metadata": {},
   "outputs": [
    {
     "name": "stdout",
     "output_type": "stream",
     "text": [
      "[0, 1, 2, 3, 4, 5, 6, 7, 8, 9, 10, 11, 12, 13, 14, 15, 16, 17, 18, 19, 20, 21, 22, 23, 24, 25, 26, 27, 28, 29, 30, 31, 32, 33, 34, 35, 36, 37, 38, 39, 40, 41, 42, 43, 44, 45, 46, 47, 48, 49, 50]\n"
     ]
    }
   ],
   "source": [
    "print(list(range(51)))"
   ]
  },
  {
   "cell_type": "markdown",
   "metadata": {},
   "source": [
    "**random.permutation** is used to shuffle all the array values and then it creats a new array."
   ]
  },
  {
   "cell_type": "code",
   "execution_count": 35,
   "metadata": {},
   "outputs": [],
   "source": [
    "A = np.random.permutation(np.arange(10))\n",
    "# A = np.random.permutation(C4)"
   ]
  },
  {
   "cell_type": "code",
   "execution_count": 36,
   "metadata": {
    "scrolled": false
   },
   "outputs": [
    {
     "name": "stdout",
     "output_type": "stream",
     "text": [
      "[0 5 8 3 2 6 9 7 4 1]\n"
     ]
    }
   ],
   "source": [
    "print(A)"
   ]
  },
  {
   "cell_type": "code",
   "execution_count": 37,
   "metadata": {},
   "outputs": [
    {
     "name": "stdout",
     "output_type": "stream",
     "text": [
      "Help on built-in function permutation:\n",
      "\n",
      "permutation(...) method of numpy.random.mtrand.RandomState instance\n",
      "    permutation(x)\n",
      "    \n",
      "    Randomly permute a sequence, or return a permuted range.\n",
      "    \n",
      "    If `x` is a multi-dimensional array, it is only shuffled along its\n",
      "    first index.\n",
      "    \n",
      "    .. note::\n",
      "        New code should use the ``permutation`` method of a ``default_rng()``\n",
      "        instance instead; please see the :ref:`random-quick-start`.\n",
      "    \n",
      "    Parameters\n",
      "    ----------\n",
      "    x : int or array_like\n",
      "        If `x` is an integer, randomly permute ``np.arange(x)``.\n",
      "        If `x` is an array, make a copy and shuffle the elements\n",
      "        randomly.\n",
      "    \n",
      "    Returns\n",
      "    -------\n",
      "    out : ndarray\n",
      "        Permuted sequence or array range.\n",
      "    \n",
      "    See Also\n",
      "    --------\n",
      "    Generator.permutation: which should be used for new code.\n",
      "    \n",
      "    Examples\n",
      "    --------\n",
      "    >>> np.random.permutation(10)\n",
      "    array([1, 7, 4, 3, 0, 9, 2, 5, 8, 6]) # random\n",
      "    \n",
      "    >>> np.random.permutation([1, 4, 9, 12, 15])\n",
      "    array([15,  1,  9,  4, 12]) # random\n",
      "    \n",
      "    >>> arr = np.arange(9).reshape((3, 3))\n",
      "    >>> np.random.permutation(arr)\n",
      "    array([[6, 7, 8], # random\n",
      "           [0, 1, 2],\n",
      "           [3, 4, 5]])\n",
      "\n"
     ]
    }
   ],
   "source": [
    "help(np.random.permutation)"
   ]
  },
  {
   "cell_type": "markdown",
   "metadata": {},
   "source": [
    "**random.randint** is used to get a single random integer in the provided range"
   ]
  },
  {
   "cell_type": "code",
   "execution_count": 38,
   "metadata": {},
   "outputs": [
    {
     "name": "stdout",
     "output_type": "stream",
     "text": [
      "29\n"
     ]
    }
   ],
   "source": [
    "print(np.random.randint(20,30))"
   ]
  },
  {
   "cell_type": "code",
   "execution_count": 39,
   "metadata": {},
   "outputs": [
    {
     "name": "stdout",
     "output_type": "stream",
     "text": [
      "15\n"
     ]
    }
   ],
   "source": [
    "a = np.random.randint(10,20)\n",
    "print(a)"
   ]
  },
  {
   "cell_type": "markdown",
   "metadata": {},
   "source": [
    "**random.rand** is used to get an array of values in between 0 and 1, for the provided number of values/dimensions as example below:"
   ]
  },
  {
   "cell_type": "code",
   "execution_count": 40,
   "metadata": {},
   "outputs": [],
   "source": [
    "A = np.random.rand(1000)"
   ]
  },
  {
   "cell_type": "code",
   "execution_count": 41,
   "metadata": {},
   "outputs": [
    {
     "name": "stdout",
     "output_type": "stream",
     "text": [
      "[6.52310907e-01 2.42782707e-01 2.75700821e-01 5.61625329e-01\n",
      " 7.71493484e-01 1.22880464e-01 6.17197645e-01 8.38711541e-01\n",
      " 4.84223764e-01 2.59937673e-01 7.39842171e-01 5.13419718e-01\n",
      " 6.14316347e-01 1.14347507e-01 2.25621129e-01 8.85672190e-01\n",
      " 7.75714221e-01 2.47723156e-01 7.91264829e-01 3.93530613e-01\n",
      " 2.16257601e-01 7.60563964e-01 7.01793140e-01 1.32309440e-01\n",
      " 2.86498102e-01 1.09173451e-01 2.87386902e-01 7.11975874e-01\n",
      " 1.62163556e-01 7.79534756e-02 3.37201511e-01 8.17031590e-01\n",
      " 6.14263487e-01 2.55585712e-01 4.90023596e-01 9.05514147e-01\n",
      " 8.00382143e-01 1.31969206e-01 5.54852996e-01 1.63674420e-02\n",
      " 7.11663030e-04 9.84798678e-01 4.49290732e-01 4.53958329e-01\n",
      " 2.13282991e-01 4.73040931e-01 3.65994319e-01 8.83921893e-01\n",
      " 4.29708155e-01 3.78286633e-02 7.50542687e-01 3.41744828e-01\n",
      " 9.78585080e-01 9.53086871e-01 5.75404888e-01 5.83481487e-01\n",
      " 7.43751106e-01 5.68658878e-01 5.78329667e-01 5.08951092e-01\n",
      " 9.07940209e-01 7.46305067e-01 2.39738029e-01 7.25139226e-01\n",
      " 1.25238811e-01 7.40237694e-01 6.80948296e-01 3.55512063e-01\n",
      " 4.63140971e-01 5.82996172e-01 6.70004583e-01 9.65584043e-01\n",
      " 6.83460472e-01 7.93104469e-01 2.74490698e-01 9.75494055e-01\n",
      " 4.21135767e-01 2.71635783e-01 9.11557253e-01 1.20574266e-01\n",
      " 4.81498124e-01 9.37067836e-01 1.79583688e-01 8.61708302e-01\n",
      " 4.64059807e-01 4.15123435e-01 9.99293943e-01 2.48034206e-01\n",
      " 8.40267279e-01 4.41676095e-01 6.60597695e-01 4.31509225e-01\n",
      " 1.23533242e-01 4.55048866e-01 8.12531267e-01 8.62216761e-01\n",
      " 6.56276680e-01 1.51457381e-01 7.50112919e-01 2.12654386e-01\n",
      " 9.18357682e-03 4.83092325e-01 2.86950841e-01 4.56867432e-01\n",
      " 6.31229814e-01 5.61972488e-01 8.93483544e-01 4.14849807e-01\n",
      " 4.68737791e-01 5.76077674e-01 2.75143797e-01 1.53166166e-01\n",
      " 3.66267516e-01 2.09806512e-01 3.66219617e-01 8.67146794e-01\n",
      " 2.81442862e-01 3.29287361e-01 1.93994276e-01 5.28516094e-01\n",
      " 7.28027827e-02 7.27570799e-01 7.63030824e-01 6.99739599e-01\n",
      " 5.20485724e-01 7.76490922e-01 1.19876304e-01 7.33627037e-01\n",
      " 3.11491085e-01 7.04648352e-01 5.65539628e-01 1.22262610e-01\n",
      " 7.46023517e-01 7.73605642e-01 4.31223326e-01 8.04747828e-01\n",
      " 9.39877347e-01 3.92521037e-01 2.86839123e-02 1.05859575e-01\n",
      " 9.78924671e-01 2.97079130e-01 4.38221464e-01 1.82373447e-01\n",
      " 3.66899635e-01 6.35153220e-01 9.24618264e-01 8.57700696e-01\n",
      " 5.30568854e-01 7.24353038e-01 6.82860448e-01 9.19982256e-01\n",
      " 9.09055411e-01 8.82838431e-02 7.66343209e-01 4.56838021e-01\n",
      " 6.73679492e-01 8.01334752e-02 7.10579962e-01 6.85695864e-01\n",
      " 8.17295430e-01 1.23642527e-01 9.80885206e-01 6.69890740e-01\n",
      " 7.17506235e-01 6.50874089e-01 3.98858028e-01 1.77336986e-01\n",
      " 3.57288577e-01 2.46968601e-01 4.55125177e-01 1.85337642e-01\n",
      " 1.78620231e-02 9.62874864e-01 5.65313820e-01 6.28742470e-01\n",
      " 6.15896381e-01 3.82868329e-01 2.38202651e-01 1.31052666e-01\n",
      " 9.47057016e-01 9.83444776e-02 4.52311113e-01 4.77467318e-01\n",
      " 1.34803796e-02 6.05505529e-01 1.20099431e-01 9.26936793e-01\n",
      " 4.87532122e-01 6.44759060e-01 5.92609083e-01 5.01800363e-02\n",
      " 8.14922082e-01 3.32602822e-01 9.20929576e-01 3.49872010e-01\n",
      " 9.43386689e-01 4.85439877e-01 9.23703539e-01 1.54075363e-01\n",
      " 8.33024500e-01 1.24948982e-01 7.30785808e-01 7.41056041e-01\n",
      " 1.42863989e-01 1.66154879e-01 6.77345071e-01 6.98011462e-02\n",
      " 9.14780597e-01 2.03279295e-01 7.90173866e-01 5.03714538e-01\n",
      " 2.67124100e-01 8.19515229e-01 7.50259368e-01 5.22727265e-01\n",
      " 9.13819060e-01 1.98496417e-01 1.65334314e-02 9.41450075e-01\n",
      " 4.11487090e-01 6.34485471e-01 8.61677963e-01 4.85279377e-01\n",
      " 4.45981898e-01 6.84717221e-01 4.79134328e-01 7.31977972e-01\n",
      " 5.42988772e-01 2.73471229e-01 4.52551940e-01 6.46210843e-01\n",
      " 2.80167016e-01 1.15748987e-01 3.91461465e-01 7.96058326e-01\n",
      " 5.14075480e-01 1.54644600e-01 1.13351075e-01 2.04003980e-01\n",
      " 3.91627511e-01 7.43132696e-01 8.25811635e-01 2.58003699e-01\n",
      " 6.94159319e-01 1.31634133e-01 8.72151289e-01 9.63122096e-01\n",
      " 9.00942360e-01 8.77727136e-01 6.13717166e-01 4.83869104e-01\n",
      " 6.99963748e-01 2.83158308e-01 2.20436553e-01 6.80796601e-01\n",
      " 8.03690890e-01 3.51037674e-01 6.66791389e-01 6.51723036e-01\n",
      " 5.55444578e-01 7.19023974e-02 3.80021615e-02 1.43647690e-01\n",
      " 8.96205235e-01 1.88430897e-01 4.17732207e-01 6.74473475e-01\n",
      " 2.87366177e-01 6.54076505e-01 2.37904866e-01 9.15162455e-01\n",
      " 9.78968155e-01 8.30029892e-01 5.85346546e-01 1.07202300e-01\n",
      " 4.60956463e-01 1.27475965e-01 9.06386612e-01 2.79642905e-01\n",
      " 9.00704180e-01 5.09865644e-01 3.65616292e-01 2.56930034e-01\n",
      " 3.71023606e-01 5.53951005e-01 9.39999428e-01 1.63138842e-01\n",
      " 5.25880420e-02 6.50051176e-01 2.52244344e-01 9.87653109e-01\n",
      " 3.45495249e-01 3.78924115e-02 5.93278067e-01 1.26874139e-01\n",
      " 3.41807687e-01 6.18448258e-01 4.76903306e-01 3.35100586e-01\n",
      " 4.70163837e-01 9.73050591e-01 1.77515254e-01 3.80206509e-01\n",
      " 2.99328520e-01 1.43631025e-01 2.96946323e-01 2.93413422e-02\n",
      " 9.70672220e-01 8.48719922e-01 5.19082747e-01 6.01791340e-01\n",
      " 8.53729562e-01 4.16308911e-01 3.90847442e-05 5.80368974e-01\n",
      " 9.88695226e-01 4.41028793e-01 4.99785434e-01 6.77238666e-01\n",
      " 7.31603343e-01 5.34751825e-01 4.47529751e-02 4.79432116e-01\n",
      " 1.32295536e-01 7.74141597e-02 2.14282674e-01 1.72320475e-01\n",
      " 9.05158972e-01 6.93744722e-01 8.97091336e-01 8.18197249e-01\n",
      " 1.96437565e-01 3.95184746e-01 6.02722804e-01 2.62798449e-01\n",
      " 6.84369895e-01 8.14319008e-01 2.29201881e-01 5.43637251e-01\n",
      " 4.35415306e-01 5.78376867e-01 9.51594437e-01 7.49388719e-01\n",
      " 7.74021589e-01 6.65897286e-01 2.74775957e-01 8.56116972e-01\n",
      " 3.71457856e-02 3.30972265e-01 9.60510397e-01 5.02292004e-01\n",
      " 9.39881961e-01 5.40848338e-02 2.44973307e-01 9.41019735e-01\n",
      " 2.87178245e-01 8.61494705e-01 3.17079308e-01 8.45941928e-02\n",
      " 1.84698941e-01 9.50516542e-01 9.32957120e-01 5.36916829e-01\n",
      " 2.56063441e-01 4.76556608e-01 4.17341624e-01 5.24874404e-01\n",
      " 3.67637023e-01 2.15564784e-01 5.80416126e-02 4.52728249e-01\n",
      " 6.35205616e-02 3.24584559e-01 3.80128783e-01 1.22717332e-01\n",
      " 4.02302939e-01 4.26449128e-01 7.40719203e-01 1.20913627e-02\n",
      " 7.13715461e-01 9.17193589e-01 6.00191943e-01 4.24182262e-01\n",
      " 3.33029778e-01 3.93544988e-01 1.85316555e-01 6.88730244e-01\n",
      " 2.48068003e-01 4.14582724e-02 2.61806488e-01 5.27883761e-01\n",
      " 4.88384066e-01 5.85562296e-01 6.77194904e-01 2.61451736e-01\n",
      " 6.35781063e-01 1.44078316e-01 5.88577106e-01 9.50977458e-01\n",
      " 4.14683854e-01 3.66353297e-01 4.06687679e-01 1.21442678e-01\n",
      " 9.10833046e-01 4.09980466e-01 8.70881719e-01 5.91490781e-01\n",
      " 1.08981827e-01 3.91065492e-01 3.06172338e-01 9.55094749e-01\n",
      " 5.95557076e-01 3.41761526e-01 5.10382435e-02 9.78547163e-02\n",
      " 7.41375628e-01 4.83092992e-01 4.18917846e-02 9.00618983e-01\n",
      " 8.74874250e-01 6.01635509e-01 7.54492716e-01 4.50053729e-01\n",
      " 1.57127255e-02 2.16052987e-01 3.38773159e-01 3.49018461e-01\n",
      " 2.07888773e-01 5.95626136e-02 2.25858675e-01 8.10333847e-01\n",
      " 7.11800905e-02 6.11403986e-01 3.05704530e-01 9.82081618e-01\n",
      " 2.22700280e-02 5.14559239e-01 3.37033646e-01 8.74599650e-01\n",
      " 2.35378692e-02 8.46149482e-01 9.95400579e-01 9.86277603e-01\n",
      " 3.21578917e-01 3.84495514e-01 2.06657673e-01 2.04496633e-01\n",
      " 7.80121143e-01 1.65182921e-01 7.91356579e-01 7.66021042e-01\n",
      " 2.02585028e-01 3.09421930e-01 2.23524968e-01 3.29963490e-01\n",
      " 7.56452039e-01 8.38640731e-01 9.63136081e-01 7.54608611e-01\n",
      " 9.25484623e-01 3.13096091e-01 8.44257087e-01 6.19689787e-01\n",
      " 8.14175362e-01 7.34007109e-01 3.84690947e-01 3.39931126e-01\n",
      " 8.42759673e-01 4.46338895e-01 2.10040557e-01 4.62330890e-01\n",
      " 9.32392612e-01 9.68619669e-01 9.59138635e-01 5.32079447e-01\n",
      " 2.91715320e-01 2.84316850e-01 7.10785414e-01 5.25586487e-01\n",
      " 8.66846474e-01 1.16346365e-01 9.02859256e-01 7.18281378e-02\n",
      " 3.07266132e-02 7.96746278e-01 7.54628284e-01 6.03754366e-01\n",
      " 3.14026962e-01 3.63080271e-01 8.00884442e-01 8.94978718e-01\n",
      " 3.77389378e-01 4.68346399e-01 3.90905673e-02 5.17358471e-01\n",
      " 1.05003710e-01 9.04064166e-01 5.58176150e-01 6.49491682e-02\n",
      " 7.28808795e-01 4.18772762e-01 4.45704703e-01 7.05445929e-01\n",
      " 6.15812676e-01 9.63620655e-01 5.76469672e-02 8.44874764e-01\n",
      " 1.72953647e-01 2.50480816e-01 9.27295785e-01 5.38257007e-01\n",
      " 2.26028711e-01 9.71706527e-01 4.52642699e-01 2.97065398e-01\n",
      " 3.82011144e-01 3.39841712e-01 6.61193185e-01 7.12638613e-01\n",
      " 8.44680997e-01 3.74514659e-01 9.71547380e-01 6.94448512e-01\n",
      " 5.09071364e-01 2.11008657e-01 9.85391350e-01 3.81983147e-01\n",
      " 5.59428044e-01 1.63794510e-01 1.60004426e-01 9.73336785e-01\n",
      " 1.90801257e-01 5.00474848e-01 3.15332834e-01 1.26080484e-01\n",
      " 5.58706430e-01 4.01177543e-01 4.98849933e-01 9.65945000e-01\n",
      " 5.76787815e-01 6.88233459e-01 5.04880673e-02 2.13446292e-01\n",
      " 7.80794022e-01 8.58806283e-01 3.09092919e-01 4.57153125e-01\n",
      " 7.36302065e-01 6.16551467e-01 1.61550374e-01 5.16241138e-01\n",
      " 8.25136361e-01 7.09908031e-01 7.34830722e-01 8.73925463e-01\n",
      " 2.67419241e-01 3.02345411e-01 8.86062345e-02 5.53234405e-01\n",
      " 8.75399950e-02 1.41557776e-01 6.49294736e-01 5.76093280e-01\n",
      " 7.97670763e-01 7.67438062e-01 6.46540327e-01 4.30222508e-01\n",
      " 2.44154426e-03 3.70480822e-01 7.37753961e-01 9.48119182e-01\n",
      " 4.70261926e-01 9.73196179e-01 5.43878054e-01 3.65609207e-01\n",
      " 3.19524545e-01 4.88212367e-01 5.12770928e-01 3.90661048e-02\n",
      " 7.56829970e-01 2.18951393e-01 6.26318477e-01 1.64917794e-01\n",
      " 5.54314324e-01 7.38304044e-01 8.30790788e-02 8.39665524e-01\n",
      " 6.43847411e-01 4.29118215e-01 1.72300551e-01 6.59993772e-01\n",
      " 5.40665331e-01 9.25653146e-02 5.62937239e-01 6.39123971e-01\n",
      " 9.52034955e-01 6.46172229e-01 6.16970204e-01 1.71901677e-01\n",
      " 9.46971462e-01 8.10985917e-01 5.33346588e-01 4.04068221e-01\n",
      " 9.09835364e-01 2.80879356e-01 5.14512194e-01 4.86521063e-01\n",
      " 5.03660399e-01 4.78868768e-01 3.72444245e-01 4.27098692e-02\n",
      " 2.29255434e-01 6.54271620e-01 4.15725637e-01 1.62406702e-01\n",
      " 2.08842569e-02 6.91740861e-01 5.58069290e-01 7.27297568e-01\n",
      " 7.73660308e-01 3.56556071e-01 7.45686025e-01 2.96024713e-01\n",
      " 6.65194691e-01 5.32523159e-01 8.07639751e-01 7.40733284e-01\n",
      " 7.11759855e-01 2.41544042e-01 4.03894971e-01 9.66000203e-01\n",
      " 2.51528107e-01 6.85093561e-01 5.78344853e-01 8.14913405e-02\n",
      " 2.74840194e-01 4.86290579e-01 9.38954240e-01 8.02534863e-01\n",
      " 3.16446159e-01 7.16365217e-01 2.40654146e-01 3.46147796e-02\n",
      " 8.21571754e-01 2.57687149e-01 1.81729397e-01 4.78768447e-01\n",
      " 9.50937432e-01 8.73000012e-01 3.74900432e-01 7.55178499e-01\n",
      " 7.94422005e-01 3.48269836e-02 7.89029171e-01 7.51458888e-01\n",
      " 6.06366871e-01 8.78864076e-01 8.62310800e-01 8.64842124e-01\n",
      " 1.03017849e-01 3.22239419e-01 2.20351221e-01 8.24068999e-01\n",
      " 4.92926066e-01 1.89806495e-01 9.11585676e-01 6.34107269e-01\n",
      " 2.75764083e-01 6.12261961e-01 4.02120686e-01 3.44996405e-01\n",
      " 3.21401377e-01 5.13276044e-01 1.85230435e-01 1.22452949e-01\n",
      " 5.66901597e-01 3.72865272e-01 2.02954924e-01 1.25138526e-01\n",
      " 6.02421083e-01 2.90011217e-01 5.22723950e-01 3.27423833e-01\n",
      " 1.23522888e-01 4.33429137e-01 3.95973616e-01 7.25531240e-01\n",
      " 8.62516582e-01 7.59930238e-01 7.22175955e-01 8.45215075e-01\n",
      " 9.77205307e-01 5.47141183e-01 2.44638063e-01 9.75974575e-02\n",
      " 4.35370939e-01 5.72373848e-01 4.22514729e-02 7.16365996e-02\n",
      " 4.12338006e-01 6.51794304e-01 5.63022370e-01 4.15376457e-01\n",
      " 6.59602628e-01 1.92111841e-01 3.64141170e-01 3.23351902e-01\n",
      " 1.88213565e-01 5.62223930e-01 3.92983848e-01 3.79662856e-01\n",
      " 9.60375483e-01 1.20256922e-02 9.73411069e-01 6.85532486e-01\n",
      " 6.71930334e-02 2.90065465e-01 9.06084035e-01 7.25873133e-01\n",
      " 8.97243937e-01 3.69351301e-01 8.44572129e-01 8.77217109e-01\n",
      " 9.44839588e-01 7.77252770e-01 1.47312919e-01 5.03578592e-02\n",
      " 4.10132779e-01 9.24587922e-01 3.66574925e-01 4.22630667e-01\n",
      " 5.95641230e-01 7.18718886e-01 9.71947369e-01 5.90194152e-01\n",
      " 8.30264632e-02 5.16475188e-01 8.59107360e-01 5.98042279e-01\n",
      " 2.49533657e-01 9.72323228e-01 6.47753030e-01 1.14676018e-01\n",
      " 3.60817443e-01 2.18874767e-01 2.02001286e-01 9.14489741e-01\n",
      " 9.09370620e-01 8.61138538e-01 9.18645540e-01 1.21807292e-01\n",
      " 4.14090815e-01 4.94673944e-01 2.41498651e-01 7.32660847e-01\n",
      " 9.15638998e-02 6.48278017e-01 8.85173298e-01 3.55863902e-01\n",
      " 8.65582680e-01 6.97741519e-01 5.51518330e-02 9.08501149e-01\n",
      " 9.28836200e-01 4.06115280e-01 7.46200179e-01 8.59701999e-02\n",
      " 8.34500187e-01 8.54382512e-01 4.88711070e-01 3.75601918e-01\n",
      " 1.56486641e-01 6.25208089e-01 9.29420300e-01 2.81308537e-01\n",
      " 5.34636568e-01 3.07052665e-01 6.75361126e-01 7.77925876e-01\n",
      " 5.38153413e-01 6.48386099e-02 9.17105656e-01 6.80834815e-01\n",
      " 9.26935643e-01 2.92082721e-01 3.74037671e-02 6.35078329e-01\n",
      " 4.03500134e-01 1.27970230e-01 6.33799044e-01 2.53617346e-01\n",
      " 5.86645040e-01 1.79383357e-01 7.03131159e-01 6.00579210e-01\n",
      " 8.59914608e-01 5.51428078e-02 8.71924845e-01 4.52434976e-01\n",
      " 8.15575062e-01 3.12103854e-01 6.54237021e-01 4.15578094e-01\n",
      " 6.78098285e-01 8.34747424e-01 7.46568649e-01 5.28674465e-02\n",
      " 1.12406110e-01 7.78172105e-01 6.82359421e-01 2.97314648e-01\n",
      " 1.68306687e-01 4.13828207e-01 1.41023437e-01 3.35325655e-01\n",
      " 7.41566133e-01 2.23634984e-01 9.65436142e-01 7.68139354e-02\n",
      " 6.37371679e-01 3.89209127e-01 5.02570481e-01 2.39916177e-01\n",
      " 5.70025441e-01 2.24323805e-01 6.43793297e-01 8.00473764e-01\n",
      " 1.15310358e-01 9.27030980e-01 8.05388934e-01 1.40301045e-01\n",
      " 4.67703230e-01 5.98810999e-01 5.06153579e-01 1.22483858e-01\n",
      " 8.65557101e-01 4.67780400e-01 7.43353347e-01 3.48875161e-01\n",
      " 4.71956075e-01 3.69701789e-01 4.65941634e-02 9.61125041e-01\n",
      " 6.90087597e-01 6.42728015e-01 9.77133310e-01 6.85679148e-01\n",
      " 1.10277765e-01 4.45821624e-01 9.75976629e-01 7.38925420e-01\n",
      " 3.49553437e-01 5.13731353e-01 4.82766825e-01 8.82624459e-01\n",
      " 4.27515126e-01 7.69423661e-01 4.59180918e-01 9.43581722e-01\n",
      " 6.44565298e-01 1.54336956e-01 3.26142576e-02 8.98928512e-01\n",
      " 3.82658188e-01 9.96224323e-01 7.78931106e-01 7.36887076e-01\n",
      " 3.44343560e-01 4.63074628e-01 2.16602579e-01 6.87374365e-01\n",
      " 8.86406090e-01 9.79622595e-01 3.60491047e-01 6.98326289e-01\n",
      " 7.57952225e-01 5.56769966e-02 8.03059847e-01 5.35695742e-02\n",
      " 7.34580825e-01 3.83099250e-01 5.44751228e-01 6.13028197e-02\n",
      " 4.98048340e-01 9.69781369e-01 5.24124975e-01 9.02728839e-01\n",
      " 1.40694586e-01 7.47455969e-01 2.00433417e-01 9.60111808e-01\n",
      " 2.14543951e-01 1.47407948e-01 6.51535330e-01 5.75865907e-01\n",
      " 7.03362862e-01 3.46888422e-01 2.99752028e-01 1.58345967e-01\n",
      " 9.91864629e-01 5.96033070e-01 3.71989960e-01 8.57590832e-01\n",
      " 3.38572215e-01 9.64667308e-01 8.59297946e-01 4.98907200e-01\n",
      " 2.97619420e-01 4.48420679e-01 3.65528669e-01 8.25231674e-02\n",
      " 8.59303459e-02 1.83949833e-02 2.71796094e-01 7.52889729e-01\n",
      " 3.66038141e-01 2.35873398e-01 9.98580167e-02 3.46785929e-01\n",
      " 4.52811932e-01 9.30062556e-02 4.46306499e-01 6.79805664e-01\n",
      " 4.04251718e-01 4.22863198e-01 4.65951677e-01 9.97774797e-01\n",
      " 3.14183562e-01 6.67413332e-01 3.38431509e-01 4.86426546e-01\n",
      " 2.90878410e-01 4.23959005e-02 2.40490424e-01 6.49883172e-02\n",
      " 4.89640349e-01 4.11165991e-01 1.28842965e-01 4.63989258e-01\n",
      " 4.91604252e-02 6.64658804e-01 1.27754924e-01 3.31101076e-01\n",
      " 8.88508334e-01 3.62445556e-02 7.59648877e-01 2.46878416e-01\n",
      " 5.90193822e-01 1.47325403e-01 7.53171057e-01 1.45415001e-01\n",
      " 1.77626780e-01 9.73047192e-01 8.06330431e-01 5.17339761e-01\n",
      " 4.10205860e-01 4.92374082e-02 3.22341174e-01 1.21313172e-01\n",
      " 5.86180182e-02 6.66216053e-01 3.31903851e-01 5.56366707e-01\n",
      " 1.07108655e-01 2.19046365e-01 2.45693568e-01 5.30143770e-01\n",
      " 7.77441593e-01 6.11823036e-02 6.75054122e-01 4.91601398e-01\n",
      " 3.13347002e-01 8.85389369e-01 2.17000637e-01 6.83408460e-01\n",
      " 9.26605218e-01 1.73198801e-02 2.11237279e-03 5.49984451e-01\n",
      " 4.30706879e-01 7.22659035e-02 6.42895124e-01 4.13398715e-01\n",
      " 1.94422343e-01 3.19481419e-01 2.08121934e-01 7.52111253e-01\n",
      " 1.95948713e-01 8.69722671e-01 4.59971941e-01 2.37012402e-01\n",
      " 4.99621092e-03 8.83783052e-01 4.52444008e-01 9.64972526e-01\n",
      " 2.31275243e-01 1.15537444e-02 8.89882300e-01 8.45625052e-01]\n"
     ]
    }
   ],
   "source": [
    "print(A)"
   ]
  },
  {
   "cell_type": "code",
   "execution_count": 42,
   "metadata": {},
   "outputs": [],
   "source": [
    "import matplotlib.pyplot as plt"
   ]
  },
  {
   "cell_type": "code",
   "execution_count": 43,
   "metadata": {},
   "outputs": [
    {
     "data": {
      "text/plain": [
       "(array([ 6., 10.,  5., 12.,  9., 15.,  8.,  9., 11.,  7.,  7.,  9., 22.,\n",
       "         5., 12.,  7., 10.,  9.,  9.,  7., 11., 15., 10.,  6., 15.,  9.,\n",
       "         6., 10., 11., 13.,  6., 11.,  8., 13., 13.,  6., 17., 10., 10.,\n",
       "        10.,  9., 19.,  8.,  8.,  9., 15., 12., 11., 16.,  7.,  9., 13.,\n",
       "         8., 10.,  6., 11.,  9., 10.,  7., 10.,  9., 11.,  4.,  9., 12.,\n",
       "        10., 10., 10., 17.,  7.,  7., 10.,  8., 13., 17., 14.,  8., 11.,\n",
       "         3.,  8., 10., 10.,  5.,  6., 11.,  8., 13., 11.,  8.,  7., 13.,\n",
       "        12., 12.,  5., 11.,  8., 15., 18.,  8.,  5.]),\n",
       " array([3.90847442e-05, 1.00316333e-02, 2.00241819e-02, 3.00167305e-02,\n",
       "        4.00092791e-02, 5.00018277e-02, 5.99943762e-02, 6.99869248e-02,\n",
       "        7.99794734e-02, 8.99720220e-02, 9.99645706e-02, 1.09957119e-01,\n",
       "        1.19949668e-01, 1.29942216e-01, 1.39934765e-01, 1.49927313e-01,\n",
       "        1.59919862e-01, 1.69912411e-01, 1.79904959e-01, 1.89897508e-01,\n",
       "        1.99890056e-01, 2.09882605e-01, 2.19875154e-01, 2.29867702e-01,\n",
       "        2.39860251e-01, 2.49852799e-01, 2.59845348e-01, 2.69837896e-01,\n",
       "        2.79830445e-01, 2.89822994e-01, 2.99815542e-01, 3.09808091e-01,\n",
       "        3.19800639e-01, 3.29793188e-01, 3.39785737e-01, 3.49778285e-01,\n",
       "        3.59770834e-01, 3.69763382e-01, 3.79755931e-01, 3.89748479e-01,\n",
       "        3.99741028e-01, 4.09733577e-01, 4.19726125e-01, 4.29718674e-01,\n",
       "        4.39711222e-01, 4.49703771e-01, 4.59696320e-01, 4.69688868e-01,\n",
       "        4.79681417e-01, 4.89673965e-01, 4.99666514e-01, 5.09659062e-01,\n",
       "        5.19651611e-01, 5.29644160e-01, 5.39636708e-01, 5.49629257e-01,\n",
       "        5.59621805e-01, 5.69614354e-01, 5.79606903e-01, 5.89599451e-01,\n",
       "        5.99592000e-01, 6.09584548e-01, 6.19577097e-01, 6.29569645e-01,\n",
       "        6.39562194e-01, 6.49554743e-01, 6.59547291e-01, 6.69539840e-01,\n",
       "        6.79532388e-01, 6.89524937e-01, 6.99517486e-01, 7.09510034e-01,\n",
       "        7.19502583e-01, 7.29495131e-01, 7.39487680e-01, 7.49480228e-01,\n",
       "        7.59472777e-01, 7.69465326e-01, 7.79457874e-01, 7.89450423e-01,\n",
       "        7.99442971e-01, 8.09435520e-01, 8.19428069e-01, 8.29420617e-01,\n",
       "        8.39413166e-01, 8.49405714e-01, 8.59398263e-01, 8.69390811e-01,\n",
       "        8.79383360e-01, 8.89375909e-01, 8.99368457e-01, 9.09361006e-01,\n",
       "        9.19353554e-01, 9.29346103e-01, 9.39338652e-01, 9.49331200e-01,\n",
       "        9.59323749e-01, 9.69316297e-01, 9.79308846e-01, 9.89301394e-01,\n",
       "        9.99293943e-01]),\n",
       " <BarContainer object of 100 artists>)"
      ]
     },
     "execution_count": 43,
     "metadata": {},
     "output_type": "execute_result"
    },
    {
     "data": {
      "image/png": "[encoded data removed]",
      "text/plain": [
       "<Figure size 432x288 with 1 Axes>"
      ]
     },
     "metadata": {
      "needs_background": "light"
     },
     "output_type": "display_data"
    }
   ],
   "source": [
    "plt.hist(A,bins=100)"
   ]
  },
  {
   "cell_type": "markdown",
   "metadata": {},
   "source": [
    "**random.randn** is used to produce the normal random numbers or normally distributed random numbers"
   ]
  },
  {
   "cell_type": "code",
   "execution_count": 44,
   "metadata": {},
   "outputs": [
    {
     "data": {
      "text/plain": [
       "(array([  1.,   0.,   0.,   0.,   0.,   0.,   0.,   0.,   0.,   0.,   0.,\n",
       "          1.,   0.,   0.,   1.,   1.,   0.,   0.,   1.,   1.,   2.,   2.,\n",
       "          1.,   1.,   2.,   3.,   1.,   1.,   2.,   3.,   8.,   5.,   3.,\n",
       "          2.,   2.,   5.,   6.,   5.,  10.,  14.,   9.,  10.,  10.,  13.,\n",
       "         14.,  12.,  21.,  19.,  22.,  24.,  18.,  30.,  28.,  34.,  27.,\n",
       "         23.,  40.,  47.,  49.,  47.,  55.,  49.,  61.,  56.,  67.,  84.,\n",
       "         65.,  92.,  62.,  93.,  80.,  93.,  93., 105.,  75., 105., 117.,\n",
       "        120., 128., 124., 123., 157., 128., 141., 128., 140., 153., 146.,\n",
       "        152., 127., 133., 180., 152., 125., 168., 154., 179., 156., 177.,\n",
       "        177., 171., 166., 155., 144., 146., 159., 152., 153., 159., 143.,\n",
       "        117., 149., 134., 134., 158., 126., 117., 125., 122., 106.,  94.,\n",
       "        103., 107.,  88., 103.,  98.,  84.,  77.,  86.,  62.,  74.,  61.,\n",
       "         57.,  62.,  57.,  56.,  43.,  47.,  45.,  37.,  35.,  33.,  37.,\n",
       "         29.,  25.,  16.,  25.,  24.,  25.,  18.,   9.,  21.,  14.,  12.,\n",
       "         16.,  10.,   7.,   5.,   7.,   9.,   8.,   4.,   1.,   0.,   2.,\n",
       "          5.,   5.,   4.,   0.,   2.,   2.,   1.,   1.,   3.,   1.,   0.,\n",
       "          0.,   1.,   1.,   0.,   0.,   1.,   1.,   0.,   1.,   0.,   0.,\n",
       "          0.,   0.,   0.,   0.,   0.,   0.,   0.,   0.,   0.,   0.,   0.,\n",
       "          0.,   1.]),\n",
       " array([-4.10495735, -4.06330643, -4.02165552, -3.9800046 , -3.93835369,\n",
       "        -3.89670277, -3.85505186, -3.81340094, -3.77175003, -3.73009911,\n",
       "        -3.6884482 , -3.64679728, -3.60514637, -3.56349546, -3.52184454,\n",
       "        -3.48019363, -3.43854271, -3.3968918 , -3.35524088, -3.31358997,\n",
       "        -3.27193905, -3.23028814, -3.18863722, -3.14698631, -3.10533539,\n",
       "        -3.06368448, -3.02203356, -2.98038265, -2.93873173, -2.89708082,\n",
       "        -2.8554299 , -2.81377899, -2.77212808, -2.73047716, -2.68882625,\n",
       "        -2.64717533, -2.60552442, -2.5638735 , -2.52222259, -2.48057167,\n",
       "        -2.43892076, -2.39726984, -2.35561893, -2.31396801, -2.2723171 ,\n",
       "        -2.23066618, -2.18901527, -2.14736435, -2.10571344, -2.06406252,\n",
       "        -2.02241161, -1.98076069, -1.93910978, -1.89745887, -1.85580795,\n",
       "        -1.81415704, -1.77250612, -1.73085521, -1.68920429, -1.64755338,\n",
       "        -1.60590246, -1.56425155, -1.52260063, -1.48094972, -1.4392988 ,\n",
       "        -1.39764789, -1.35599697, -1.31434606, -1.27269514, -1.23104423,\n",
       "        -1.18939331, -1.1477424 , -1.10609148, -1.06444057, -1.02278966,\n",
       "        -0.98113874, -0.93948783, -0.89783691, -0.856186  , -0.81453508,\n",
       "        -0.77288417, -0.73123325, -0.68958234, -0.64793142, -0.60628051,\n",
       "        -0.56462959, -0.52297868, -0.48132776, -0.43967685, -0.39802593,\n",
       "        -0.35637502, -0.3147241 , -0.27307319, -0.23142227, -0.18977136,\n",
       "        -0.14812045, -0.10646953, -0.06481862, -0.0231677 ,  0.01848321,\n",
       "         0.06013413,  0.10178504,  0.14343596,  0.18508687,  0.22673779,\n",
       "         0.2683887 ,  0.31003962,  0.35169053,  0.39334145,  0.43499236,\n",
       "         0.47664328,  0.51829419,  0.55994511,  0.60159602,  0.64324694,\n",
       "         0.68489785,  0.72654876,  0.76819968,  0.80985059,  0.85150151,\n",
       "         0.89315242,  0.93480334,  0.97645425,  1.01810517,  1.05975608,\n",
       "         1.101407  ,  1.14305791,  1.18470883,  1.22635974,  1.26801066,\n",
       "         1.30966157,  1.35131249,  1.3929634 ,  1.43461432,  1.47626523,\n",
       "         1.51791615,  1.55956706,  1.60121797,  1.64286889,  1.6845198 ,\n",
       "         1.72617072,  1.76782163,  1.80947255,  1.85112346,  1.89277438,\n",
       "         1.93442529,  1.97607621,  2.01772712,  2.05937804,  2.10102895,\n",
       "         2.14267987,  2.18433078,  2.2259817 ,  2.26763261,  2.30928353,\n",
       "         2.35093444,  2.39258536,  2.43423627,  2.47588718,  2.5175381 ,\n",
       "         2.55918901,  2.60083993,  2.64249084,  2.68414176,  2.72579267,\n",
       "         2.76744359,  2.8090945 ,  2.85074542,  2.89239633,  2.93404725,\n",
       "         2.97569816,  3.01734908,  3.05899999,  3.10065091,  3.14230182,\n",
       "         3.18395274,  3.22560365,  3.26725456,  3.30890548,  3.35055639,\n",
       "         3.39220731,  3.43385822,  3.47550914,  3.51716005,  3.55881097,\n",
       "         3.60046188,  3.6421128 ,  3.68376371,  3.72541463,  3.76706554,\n",
       "         3.80871646,  3.85036737,  3.89201829,  3.9336692 ,  3.97532012,\n",
       "         4.01697103,  4.05862195,  4.10027286,  4.14192377,  4.18357469,\n",
       "         4.2252256 ]),\n",
       " <BarContainer object of 200 artists>)"
      ]
     },
     "execution_count": 44,
     "metadata": {},
     "output_type": "execute_result"
    },
    {
     "data": {
      "image/png": "[encoded data removed]",
      "text/plain": [
       "<Figure size 432x288 with 1 Axes>"
      ]
     },
     "metadata": {
      "needs_background": "light"
     },
     "output_type": "display_data"
    }
   ],
   "source": [
    "B = np.random.randn(10000)\n",
    "plt.hist(B, bins=200)"
   ]
  },
  {
   "cell_type": "markdown",
   "metadata": {},
   "source": [
    "**random.rand** is used to get an array of values in between 0 and 1, for the provided number of values/dimensions and sub arrays as example below:"
   ]
  },
  {
   "cell_type": "code",
   "execution_count": 45,
   "metadata": {},
   "outputs": [],
   "source": [
    "C = np.random.rand(2,4)"
   ]
  },
  {
   "cell_type": "code",
   "execution_count": 46,
   "metadata": {},
   "outputs": [
    {
     "name": "stdout",
     "output_type": "stream",
     "text": [
      "[[0.25350284 0.40797186 0.23856636 0.77539957]\n",
      " [0.34322466 0.80662888 0.88669467 0.76147653]]\n"
     ]
    }
   ],
   "source": [
    "print(C)"
   ]
  },
  {
   "cell_type": "code",
   "execution_count": 47,
   "metadata": {},
   "outputs": [
    {
     "name": "stdout",
     "output_type": "stream",
     "text": [
      "2\n"
     ]
    }
   ],
   "source": [
    "print(C.ndim)"
   ]
  },
  {
   "cell_type": "code",
   "execution_count": 48,
   "metadata": {},
   "outputs": [],
   "source": [
    "C = np.random.rand(2,5,4,2)"
   ]
  },
  {
   "cell_type": "code",
   "execution_count": 49,
   "metadata": {},
   "outputs": [
    {
     "name": "stdout",
     "output_type": "stream",
     "text": [
      "4\n"
     ]
    }
   ],
   "source": [
    "print(C.ndim)"
   ]
  },
  {
   "cell_type": "code",
   "execution_count": 50,
   "metadata": {},
   "outputs": [
    {
     "name": "stdout",
     "output_type": "stream",
     "text": [
      "80\n"
     ]
    }
   ],
   "source": [
    "print(C.size)"
   ]
  },
  {
   "cell_type": "markdown",
   "metadata": {},
   "source": [
    "**reshape** module is used to convert a single dimentional array into multi-dimensional array quickly.\n",
    "\n",
    "The Dimensions provided in reshape module must be mapped on the length of array provided. The length/size of array can be determined using `[array_name].size`"
   ]
  },
  {
   "cell_type": "code",
   "execution_count": 51,
   "metadata": {},
   "outputs": [],
   "source": [
    "D = np.arange(100).reshape(4,25)"
   ]
  },
  {
   "cell_type": "code",
   "execution_count": 52,
   "metadata": {},
   "outputs": [
    {
     "name": "stdout",
     "output_type": "stream",
     "text": [
      "(4, 25)\n"
     ]
    }
   ],
   "source": [
    "print(D.shape)"
   ]
  },
  {
   "cell_type": "code",
   "execution_count": 53,
   "metadata": {},
   "outputs": [],
   "source": [
    "D = np.arange(100).reshape(10,2,5)"
   ]
  },
  {
   "cell_type": "code",
   "execution_count": 54,
   "metadata": {},
   "outputs": [
    {
     "name": "stdout",
     "output_type": "stream",
     "text": [
      "(10, 2, 5)\n"
     ]
    }
   ],
   "source": [
    "print(D.shape)"
   ]
  },
  {
   "cell_type": "markdown",
   "metadata": {},
   "source": [
    "**Slicing** is used to get a part of array to cut a part of array\n",
    "\n",
    "**_Note:_** no new copy of the array is created un-like of python. But previouse array starts pointing out the sliced array. Example below:"
   ]
  },
  {
   "cell_type": "code",
   "execution_count": 3,
   "metadata": {},
   "outputs": [],
   "source": [
    "A = np.arange(100)"
   ]
  },
  {
   "cell_type": "code",
   "execution_count": 4,
   "metadata": {},
   "outputs": [],
   "source": [
    "b = A[2:10]"
   ]
  },
  {
   "cell_type": "code",
   "execution_count": 5,
   "metadata": {},
   "outputs": [
    {
     "name": "stdout",
     "output_type": "stream",
     "text": [
      "[2 3 4 5 6 7 8 9]\n"
     ]
    }
   ],
   "source": [
    "print(b)"
   ]
  },
  {
   "cell_type": "code",
   "execution_count": 6,
   "metadata": {},
   "outputs": [],
   "source": [
    "b[2] = -1200"
   ]
  },
  {
   "cell_type": "code",
   "execution_count": 7,
   "metadata": {},
   "outputs": [
    {
     "name": "stdout",
     "output_type": "stream",
     "text": [
      "[    2     3 -1200     5     6     7     8     9]\n"
     ]
    }
   ],
   "source": [
    "print(b)"
   ]
  },
  {
   "cell_type": "code",
   "execution_count": 8,
   "metadata": {},
   "outputs": [
    {
     "name": "stdout",
     "output_type": "stream",
     "text": [
      "[    0     1     2     3 -1200     5     6     7     8     9    10    11\n",
      "    12    13    14    15    16    17    18    19    20    21    22    23\n",
      "    24    25    26    27    28    29    30    31    32    33    34    35\n",
      "    36    37    38    39    40    41    42    43    44    45    46    47\n",
      "    48    49    50    51    52    53    54    55    56    57    58    59\n",
      "    60    61    62    63    64    65    66    67    68    69    70    71\n",
      "    72    73    74    75    76    77    78    79    80    81    82    83\n",
      "    84    85    86    87    88    89    90    91    92    93    94    95\n",
      "    96    97    98    99]\n"
     ]
    }
   ],
   "source": [
    "print(A)"
   ]
  },
  {
   "cell_type": "markdown",
   "metadata": {},
   "source": [
    "To avoid above behaiviour, we can use copy function"
   ]
  },
  {
   "cell_type": "code",
   "execution_count": 9,
   "metadata": {},
   "outputs": [],
   "source": [
    "b = A[3:10].copy()"
   ]
  },
  {
   "cell_type": "code",
   "execution_count": 10,
   "metadata": {},
   "outputs": [],
   "source": [
    "b[2] = 90"
   ]
  },
  {
   "cell_type": "code",
   "execution_count": 11,
   "metadata": {},
   "outputs": [
    {
     "name": "stdout",
     "output_type": "stream",
     "text": [
      "[    3 -1200    90     6     7     8     9]\n"
     ]
    }
   ],
   "source": [
    "print(b)"
   ]
  },
  {
   "cell_type": "code",
   "execution_count": 12,
   "metadata": {},
   "outputs": [
    {
     "name": "stdout",
     "output_type": "stream",
     "text": [
      "[    0     1     2     3 -1200     5     6     7     8     9    10    11\n",
      "    12    13    14    15    16    17    18    19    20    21    22    23\n",
      "    24    25    26    27    28    29    30    31    32    33    34    35\n",
      "    36    37    38    39    40    41    42    43    44    45    46    47\n",
      "    48    49    50    51    52    53    54    55    56    57    58    59\n",
      "    60    61    62    63    64    65    66    67    68    69    70    71\n",
      "    72    73    74    75    76    77    78    79    80    81    82    83\n",
      "    84    85    86    87    88    89    90    91    92    93    94    95\n",
      "    96    97    98    99]\n"
     ]
    }
   ],
   "source": [
    "print(A)"
   ]
  },
  {
   "cell_type": "code",
   "execution_count": 13,
   "metadata": {},
   "outputs": [
    {
     "data": {
      "text/plain": [
       "array([ 0,  5, 10, 15, 20, 25, 30, 35, 40, 45, 50, 55, 60, 65, 70, 75, 80,\n",
       "       85, 90, 95])"
      ]
     },
     "execution_count": 13,
     "metadata": {},
     "output_type": "execute_result"
    }
   ],
   "source": [
    "A[::5]"
   ]
  },
  {
   "cell_type": "code",
   "execution_count": 14,
   "metadata": {},
   "outputs": [
    {
     "data": {
      "text/plain": [
       "array([   99,    94,    89,    84,    79,    74,    69,    64,    59,\n",
       "          54,    49,    44,    39,    34,    29,    24,    19,    14,\n",
       "           9, -1200])"
      ]
     },
     "execution_count": 14,
     "metadata": {},
     "output_type": "execute_result"
    }
   ],
   "source": [
    "A[::-5]"
   ]
  },
  {
   "cell_type": "code",
   "execution_count": 20,
   "metadata": {},
   "outputs": [
    {
     "data": {
      "text/plain": [
       "array([   99,    98,    97,    96,    95,    94,    93,    92,    91,\n",
       "          90,    89,    88,    87,    86,    85,    84,    83,    82,\n",
       "          81,    80,    79,    78,    77,    76,    75,    74,    73,\n",
       "          72,    71,    70,    69,    68,    67,    66,    65,    64,\n",
       "          63,    62,    61,    60,    59,    58,    57,    56,    55,\n",
       "          54,    53,    52,    51,    50,    49,    48,    47,    46,\n",
       "          45,    44,    43,    42,    41,    40,    39,    38,    37,\n",
       "          36,    35,    34,    33,    32,    31,    30,    29,    28,\n",
       "          27,    26,    25,    24,    23,    22,    21,    20,    19,\n",
       "          18,    17,    16,    15,    14,    13,    12,    11,    10,\n",
       "           9,     8,     7,     6,     5, -1200,     3,     2,     1,\n",
       "           0])"
      ]
     },
     "execution_count": 20,
     "metadata": {},
     "output_type": "execute_result"
    }
   ],
   "source": [
    "A[::-1]"
   ]
  },
  {
   "cell_type": "markdown",
   "metadata": {},
   "source": [
    "Find the **index** of an element in an array"
   ]
  },
  {
   "cell_type": "code",
   "execution_count": 31,
   "metadata": {},
   "outputs": [],
   "source": [
    "idx = np.argwhere(A==-1200)[0][0]"
   ]
  },
  {
   "cell_type": "code",
   "execution_count": 32,
   "metadata": {},
   "outputs": [
    {
     "name": "stdout",
     "output_type": "stream",
     "text": [
      "4\n"
     ]
    }
   ],
   "source": [
    "print(idx)"
   ]
  },
  {
   "cell_type": "markdown",
   "metadata": {},
   "source": [
    "If want to change that value then,"
   ]
  },
  {
   "cell_type": "code",
   "execution_count": 34,
   "metadata": {},
   "outputs": [],
   "source": [
    "A[idx] = 4"
   ]
  },
  {
   "cell_type": "code",
   "execution_count": 36,
   "metadata": {},
   "outputs": [
    {
     "data": {
      "text/plain": [
       "array([ 0,  1,  2,  3,  4,  5,  6,  7,  8,  9, 10, 11, 12, 13, 14, 15, 16,\n",
       "       17, 18, 19, 20, 21, 22, 23, 24, 25, 26, 27, 28, 29, 30, 31, 32, 33,\n",
       "       34, 35, 36, 37, 38, 39, 40, 41, 42, 43, 44, 45, 46, 47, 48, 49, 50,\n",
       "       51, 52, 53, 54, 55, 56, 57, 58, 59, 60, 61, 62, 63, 64, 65, 66, 67,\n",
       "       68, 69, 70, 71, 72, 73, 74, 75, 76, 77, 78, 79, 80, 81, 82, 83, 84,\n",
       "       85, 86, 87, 88, 89, 90, 91, 92, 93, 94, 95, 96, 97, 98, 99])"
      ]
     },
     "execution_count": 36,
     "metadata": {},
     "output_type": "execute_result"
    }
   ],
   "source": [
    "A"
   ]
  },
  {
   "cell_type": "markdown",
   "metadata": {},
   "source": [
    "Working with the multi-dimentional matrix"
   ]
  },
  {
   "cell_type": "code",
   "execution_count": 42,
   "metadata": {},
   "outputs": [],
   "source": [
    "A = np.round(10*np.random.rand(4,5))"
   ]
  },
  {
   "cell_type": "code",
   "execution_count": 43,
   "metadata": {},
   "outputs": [
    {
     "data": {
      "text/plain": [
       "array([[ 8.,  2.,  9.,  1.,  0.],\n",
       "       [ 6.,  2.,  2.,  9.,  4.],\n",
       "       [ 2.,  4.,  6.,  1.,  6.],\n",
       "       [ 2.,  2.,  8.,  0., 10.]])"
      ]
     },
     "execution_count": 43,
     "metadata": {},
     "output_type": "execute_result"
    }
   ],
   "source": [
    "A"
   ]
  },
  {
   "cell_type": "markdown",
   "metadata": {},
   "source": [
    "Accessing a specific entry"
   ]
  },
  {
   "cell_type": "code",
   "execution_count": 49,
   "metadata": {},
   "outputs": [
    {
     "data": {
      "text/plain": [
       "9.0"
      ]
     },
     "execution_count": 49,
     "metadata": {},
     "output_type": "execute_result"
    }
   ],
   "source": [
    "A[1,3]"
   ]
  },
  {
   "cell_type": "markdown",
   "metadata": {},
   "source": [
    "If want to access a specific row and column should be whole, then the formate will be:"
   ]
  },
  {
   "cell_type": "code",
   "execution_count": 51,
   "metadata": {},
   "outputs": [
    {
     "data": {
      "text/plain": [
       "array([6., 2., 2., 9., 4.])"
      ]
     },
     "execution_count": 51,
     "metadata": {},
     "output_type": "execute_result"
    }
   ],
   "source": [
    "A[1,:]"
   ]
  },
  {
   "cell_type": "markdown",
   "metadata": {},
   "source": [
    "Similarly, if want to access a specific column and rows should be whole:"
   ]
  },
  {
   "cell_type": "code",
   "execution_count": 53,
   "metadata": {},
   "outputs": [
    {
     "data": {
      "text/plain": [
       "array([2., 2., 4., 2.])"
      ]
     },
     "execution_count": 53,
     "metadata": {},
     "output_type": "execute_result"
    }
   ],
   "source": [
    "A[:,1]"
   ]
  },
  {
   "cell_type": "markdown",
   "metadata": {},
   "source": [
    "We can also access a sub-matrix from an array like:\n",
    "\n",
    "we're access rows 1 and 2; and columns 2 and 3"
   ]
  },
  {
   "cell_type": "code",
   "execution_count": 55,
   "metadata": {},
   "outputs": [
    {
     "data": {
      "text/plain": [
       "array([[2., 9.],\n",
       "       [6., 1.]])"
      ]
     },
     "execution_count": 55,
     "metadata": {},
     "output_type": "execute_result"
    }
   ],
   "source": [
    "A[1:3,2:4]"
   ]
  },
  {
   "cell_type": "markdown",
   "metadata": {},
   "source": [
    "If want to take the transpose of and array then:"
   ]
  },
  {
   "cell_type": "code",
   "execution_count": 57,
   "metadata": {},
   "outputs": [
    {
     "data": {
      "text/plain": [
       "array([[ 8.,  6.,  2.,  2.],\n",
       "       [ 2.,  2.,  4.,  2.],\n",
       "       [ 9.,  2.,  6.,  8.],\n",
       "       [ 1.,  9.,  1.,  0.],\n",
       "       [ 0.,  4.,  6., 10.]])"
      ]
     },
     "execution_count": 57,
     "metadata": {},
     "output_type": "execute_result"
    }
   ],
   "source": [
    "A.T"
   ]
  },
  {
   "cell_type": "markdown",
   "metadata": {},
   "source": [
    "If want to use the functions and operations of linear algebra, it's library is available:"
   ]
  },
  {
   "cell_type": "code",
   "execution_count": 59,
   "metadata": {},
   "outputs": [],
   "source": [
    "import numpy.linalg as la"
   ]
  },
  {
   "cell_type": "code",
   "execution_count": 61,
   "metadata": {},
   "outputs": [
    {
     "data": {
      "text/plain": [
       "array([[-11.46057941,  -3.23602905,  28.33655423],\n",
       "       [ -1.56800932,   1.18642901,   3.18496343],\n",
       "       [ 12.80012052,   2.06320998, -28.49002287]])"
      ]
     },
     "execution_count": 61,
     "metadata": {},
     "output_type": "execute_result"
    }
   ],
   "source": [
    "la.inv(np.random.rand(3,3))"
   ]
  },
  {
   "cell_type": "markdown",
   "metadata": {},
   "source": [
    "If we want to sort an array w.r.t column, then we'll provide 'axis=0' and for sorting w.r.t row then we'll provide 'axis=1'"
   ]
  },
  {
   "cell_type": "code",
   "execution_count": 78,
   "metadata": {},
   "outputs": [
    {
     "data": {
      "text/plain": [
       "array([[ 0.,  1.,  2.,  6.,  6.],\n",
       "       [ 0.,  2.,  2.,  6.,  9.],\n",
       "       [ 1.,  2.,  4.,  8.,  9.],\n",
       "       [ 2.,  2.,  4.,  8., 10.]])"
      ]
     },
     "execution_count": 78,
     "metadata": {},
     "output_type": "execute_result"
    }
   ],
   "source": [
    "A"
   ]
  },
  {
   "cell_type": "code",
   "execution_count": 86,
   "metadata": {},
   "outputs": [],
   "source": [
    "A.sort(axis=1)"
   ]
  },
  {
   "cell_type": "code",
   "execution_count": 87,
   "metadata": {},
   "outputs": [
    {
     "data": {
      "text/plain": [
       "array([[ 0.,  1.,  2.,  6.,  6.],\n",
       "       [ 0.,  2.,  2.,  6.,  9.],\n",
       "       [ 1.,  2.,  4.,  8.,  9.],\n",
       "       [ 2.,  2.,  4.,  8., 10.]])"
      ]
     },
     "execution_count": 87,
     "metadata": {},
     "output_type": "execute_result"
    }
   ],
   "source": [
    "A"
   ]
  },
  {
   "cell_type": "markdown",
   "metadata": {},
   "source": [
    "**More About *Numpy* Indexing/Masking**"
   ]
  },
  {
   "cell_type": "markdown",
   "metadata": {},
   "source": [
    "In Contrast to the Numpy slicing, we've a copy of the sliced part of array instead of a view as happens in case of numpy slicing"
   ]
  },
  {
   "cell_type": "code",
   "execution_count": 113,
   "metadata": {},
   "outputs": [],
   "source": [
    "A = np.arange(100)"
   ]
  },
  {
   "cell_type": "code",
   "execution_count": 114,
   "metadata": {},
   "outputs": [],
   "source": [
    "B= A[[2,6,9]]"
   ]
  },
  {
   "cell_type": "code",
   "execution_count": 115,
   "metadata": {},
   "outputs": [
    {
     "data": {
      "text/plain": [
       "array([2, 6, 9])"
      ]
     },
     "execution_count": 115,
     "metadata": {},
     "output_type": "execute_result"
    }
   ],
   "source": [
    "B"
   ]
  },
  {
   "cell_type": "code",
   "execution_count": 116,
   "metadata": {},
   "outputs": [
    {
     "data": {
      "text/plain": [
       "array([6, 9])"
      ]
     },
     "execution_count": 116,
     "metadata": {},
     "output_type": "execute_result"
    }
   ],
   "source": [
    "B[[False,True,True]]"
   ]
  },
  {
   "cell_type": "markdown",
   "metadata": {},
   "source": [
    "If make a change in array 'B' that'll not be reflected in 'A' *as happens in case of array slicing*:"
   ]
  },
  {
   "cell_type": "code",
   "execution_count": 96,
   "metadata": {},
   "outputs": [],
   "source": [
    "B[0] = 34"
   ]
  },
  {
   "cell_type": "code",
   "execution_count": 110,
   "metadata": {},
   "outputs": [
    {
     "data": {
      "text/plain": [
       "array([31, 32, 33, 34, 35, 36, 37, 38, 39])"
      ]
     },
     "execution_count": 110,
     "metadata": {},
     "output_type": "execute_result"
    }
   ],
   "source": [
    "B"
   ]
  },
  {
   "cell_type": "code",
   "execution_count": 99,
   "metadata": {},
   "outputs": [
    {
     "data": {
      "text/plain": [
       "array([ 0,  1,  2,  3,  4,  5,  6,  7,  8,  9, 10, 11, 12, 13, 14, 15, 16,\n",
       "       17, 18, 19, 20, 21, 22, 23, 24, 25, 26, 27, 28, 29, 30, 31, 32, 33,\n",
       "       34, 35, 36, 37, 38, 39, 40, 41, 42, 43, 44, 45, 46, 47, 48, 49, 50,\n",
       "       51, 52, 53, 54, 55, 56, 57, 58, 59, 60, 61, 62, 63, 64, 65, 66, 67,\n",
       "       68, 69, 70, 71, 72, 73, 74, 75, 76, 77, 78, 79, 80, 81, 82, 83, 84,\n",
       "       85, 86, 87, 88, 89, 90, 91, 92, 93, 94, 95, 96, 97, 98, 99])"
      ]
     },
     "execution_count": 99,
     "metadata": {},
     "output_type": "execute_result"
    }
   ],
   "source": [
    "A"
   ]
  },
  {
   "cell_type": "markdown",
   "metadata": {},
   "source": [
    "If we want to access all elements that are smaller than 40:"
   ]
  },
  {
   "cell_type": "code",
   "execution_count": 101,
   "metadata": {},
   "outputs": [],
   "source": [
    "B = A[A<40]"
   ]
  },
  {
   "cell_type": "code",
   "execution_count": 103,
   "metadata": {},
   "outputs": [
    {
     "data": {
      "text/plain": [
       "array([ 0,  1,  2,  3,  4,  5,  6,  7,  8,  9, 10, 11, 12, 13, 14, 15, 16,\n",
       "       17, 18, 19, 20, 21, 22, 23, 24, 25, 26, 27, 28, 29, 30, 31, 32, 33,\n",
       "       34, 35, 36, 37, 38, 39])"
      ]
     },
     "execution_count": 103,
     "metadata": {},
     "output_type": "execute_result"
    }
   ],
   "source": [
    "B"
   ]
  },
  {
   "cell_type": "markdown",
   "metadata": {},
   "source": [
    "If we want to access all elements b/w 30 and 40:"
   ]
  },
  {
   "cell_type": "code",
   "execution_count": 118,
   "metadata": {},
   "outputs": [],
   "source": [
    "B = A[(A>30) & (A<40)]"
   ]
  },
  {
   "cell_type": "code",
   "execution_count": 120,
   "metadata": {},
   "outputs": [
    {
     "data": {
      "text/plain": [
       "array([31, 32, 33, 34, 35, 36, 37, 38, 39])"
      ]
     },
     "execution_count": 120,
     "metadata": {},
     "output_type": "execute_result"
    }
   ],
   "source": [
    "B"
   ]
  },
  {
   "cell_type": "code",
   "execution_count": 121,
   "metadata": {},
   "outputs": [],
   "source": [
    "# and, &\n",
    "# or,  |\n",
    "# not, ~\n",
    "# first one will be used for bollean arrays, second one for objects"
   ]
  },
  {
   "cell_type": "markdown",
   "metadata": {},
   "source": [
    "**Numpy Broadcasting**\n",
    "\n",
    "$$\\begin{bmatrix} 2 & 3 \\\\ 5 & 9 \\end{bmatrix} + \\begin{bmatrix} 5 & 5 \\\\ 5 & 5 \\end{bmatrix} = \\begin{bmatrix} 7 & 8 \\\\ 10 & 14 \\end{bmatrix}$$\n",
    "\n",
    "Or it might be helpful in this way:\n",
    "$$\\begin{bmatrix} 2 & 3 \\\\ 5 & 9 \\end{bmatrix} + \\begin{bmatrix} 1 \\\\ 3 \\end{bmatrix} = \\begin{bmatrix} 3 & 4 \\\\ 8 & 12 \\end{bmatrix}$$\n",
    "Means the next matrix will be added to the respective entries,i.e.,\n",
    "\n",
    "in first case 5 will be added to each entry in the matrix and in case of second example $\\begin{bmatrix} 1 \\\\ 3 \\end{bmatrix}$ will be added to each column.\n"
   ]
  },
  {
   "cell_type": "code",
   "execution_count": 153,
   "metadata": {},
   "outputs": [],
   "source": [
    "A = np.round(10 * np.random.rand(2,3))"
   ]
  },
  {
   "cell_type": "code",
   "execution_count": 154,
   "metadata": {},
   "outputs": [
    {
     "data": {
      "text/plain": [
       "array([[2., 1., 9.],\n",
       "       [8., 2., 1.]])"
      ]
     },
     "execution_count": 154,
     "metadata": {},
     "output_type": "execute_result"
    }
   ],
   "source": [
    "A"
   ]
  },
  {
   "cell_type": "code",
   "execution_count": 158,
   "metadata": {},
   "outputs": [
    {
     "data": {
      "text/plain": [
       "array([[ 7.,  6., 14.],\n",
       "       [13.,  7.,  6.]])"
      ]
     },
     "execution_count": 158,
     "metadata": {},
     "output_type": "execute_result"
    }
   ],
   "source": [
    "A + 5"
   ]
  },
  {
   "cell_type": "code",
   "execution_count": 163,
   "metadata": {},
   "outputs": [
    {
     "data": {
      "text/plain": [
       "array([[ 4.,  3., 11.],\n",
       "       [11.,  5.,  4.]])"
      ]
     },
     "execution_count": 163,
     "metadata": {},
     "output_type": "execute_result"
    }
   ],
   "source": [
    "A + np.arange(2,4).reshape(2,1)"
   ]
  },
  {
   "cell_type": "code",
   "execution_count": 165,
   "metadata": {},
   "outputs": [
    {
     "data": {
      "text/plain": [
       "array([[2., 1., 9.],\n",
       "       [8., 2., 1.]])"
      ]
     },
     "execution_count": 165,
     "metadata": {},
     "output_type": "execute_result"
    }
   ],
   "source": [
    "A"
   ]
  },
  {
   "cell_type": "markdown",
   "metadata": {},
   "source": [
    "If we want to concatenate two arrays horizontaliy or vertically then:"
   ]
  },
  {
   "cell_type": "code",
   "execution_count": 166,
   "metadata": {},
   "outputs": [],
   "source": [
    "B = np.round(10*np.random.rand(2,2))"
   ]
  },
  {
   "cell_type": "code",
   "execution_count": 168,
   "metadata": {},
   "outputs": [
    {
     "data": {
      "text/plain": [
       "array([[6., 5.],\n",
       "       [9., 1.]])"
      ]
     },
     "execution_count": 168,
     "metadata": {},
     "output_type": "execute_result"
    }
   ],
   "source": [
    "B"
   ]
  },
  {
   "cell_type": "code",
   "execution_count": 171,
   "metadata": {},
   "outputs": [],
   "source": [
    "C = np.hstack((A,B))\n",
    "# We must have to provide the arrays as tuple closed inside parenthesis"
   ]
  },
  {
   "cell_type": "code",
   "execution_count": 173,
   "metadata": {},
   "outputs": [
    {
     "data": {
      "text/plain": [
       "array([[2., 1., 9., 6., 5.],\n",
       "       [8., 2., 1., 9., 1.]])"
      ]
     },
     "execution_count": 173,
     "metadata": {},
     "output_type": "execute_result"
    }
   ],
   "source": [
    "C"
   ]
  },
  {
   "cell_type": "markdown",
   "metadata": {},
   "source": [
    "Similarly, Vertical stack works for concatenating the arrays vertically"
   ]
  },
  {
   "cell_type": "code",
   "execution_count": 186,
   "metadata": {},
   "outputs": [],
   "source": [
    "D = np.round(10*np.random.rand(2,3))"
   ]
  },
  {
   "cell_type": "code",
   "execution_count": 188,
   "metadata": {},
   "outputs": [
    {
     "data": {
      "text/plain": [
       "array([[7., 3., 2.],\n",
       "       [8., 0., 1.]])"
      ]
     },
     "execution_count": 188,
     "metadata": {},
     "output_type": "execute_result"
    }
   ],
   "source": [
    "D"
   ]
  },
  {
   "cell_type": "code",
   "execution_count": 189,
   "metadata": {},
   "outputs": [],
   "source": [
    "N = np.vstack((A,D))"
   ]
  },
  {
   "cell_type": "code",
   "execution_count": 190,
   "metadata": {},
   "outputs": [
    {
     "data": {
      "text/plain": [
       "array([[2., 1., 9.],\n",
       "       [8., 2., 1.],\n",
       "       [7., 3., 2.],\n",
       "       [8., 0., 1.]])"
      ]
     },
     "execution_count": 190,
     "metadata": {},
     "output_type": "execute_result"
    }
   ],
   "source": [
    "N"
   ]
  },
  {
   "cell_type": "code",
   "execution_count": 191,
   "metadata": {},
   "outputs": [],
   "source": [
    "A = np.random.permutation(np.arange(10))"
   ]
  },
  {
   "cell_type": "code",
   "execution_count": 193,
   "metadata": {},
   "outputs": [
    {
     "data": {
      "text/plain": [
       "array([8, 6, 5, 4, 9, 0, 1, 2, 3, 7])"
      ]
     },
     "execution_count": 193,
     "metadata": {},
     "output_type": "execute_result"
    }
   ],
   "source": [
    "A"
   ]
  },
  {
   "cell_type": "code",
   "execution_count": 200,
   "metadata": {},
   "outputs": [],
   "source": [
    "A = np.sort(A)"
   ]
  },
  {
   "cell_type": "code",
   "execution_count": 201,
   "metadata": {},
   "outputs": [
    {
     "data": {
      "text/plain": [
       "array([9, 8, 7, 6, 5, 4, 3, 2, 1, 0])"
      ]
     },
     "execution_count": 201,
     "metadata": {},
     "output_type": "execute_result"
    }
   ],
   "source": [
    "# For in asceding order\n",
    "A[::-1]"
   ]
  },
  {
   "cell_type": "code",
   "execution_count": 203,
   "metadata": {},
   "outputs": [],
   "source": [
    "A = np.array(['Python','Language','282ali','faisal90'])"
   ]
  },
  {
   "cell_type": "code",
   "execution_count": 205,
   "metadata": {},
   "outputs": [],
   "source": [
    "A.sort()"
   ]
  },
  {
   "cell_type": "code",
   "execution_count": 207,
   "metadata": {},
   "outputs": [
    {
     "data": {
      "text/plain": [
       "array(['282ali', 'Language', 'Python', 'faisal90'], dtype='<U8')"
      ]
     },
     "execution_count": 207,
     "metadata": {},
     "output_type": "execute_result"
    }
   ],
   "source": [
    "A"
   ]
  },
  {
   "cell_type": "markdown",
   "metadata": {},
   "source": [
    "Working with **Numpy** is too much faster than working the simple python. Here's the small comparision b/w them:"
   ]
  },
  {
   "cell_type": "code",
   "execution_count": 219,
   "metadata": {},
   "outputs": [
    {
     "name": "stdout",
     "output_type": "stream",
     "text": [
      "896 ms ± 82 ms per loop (mean ± std. dev. of 7 runs, 1 loop each)\n",
      "6.65 ms ± 411 µs per loop (mean ± std. dev. of 7 runs, 100 loops each)\n"
     ]
    }
   ],
   "source": [
    "B = np.random.rand(5000000)\n",
    "\n",
    "%timeit sum(B)\n",
    "%timeit np.sum(B)\n",
    "\n",
    "# Simple python 'sum' function and 'numpy sum' function\n",
    "# numpy is working around 100 times faster than the python"
   ]
  },
  {
   "cell_type": "code",
   "execution_count": 222,
   "metadata": {},
   "outputs": [],
   "source": [
    "def mySum(D):\n",
    "    s=0\n",
    "    for i in D:\n",
    "        s+=i\n",
    "    return s"
   ]
  },
  {
   "cell_type": "code",
   "execution_count": 223,
   "metadata": {},
   "outputs": [
    {
     "name": "stdout",
     "output_type": "stream",
     "text": [
      "1.22 s ± 226 ms per loop (mean ± std. dev. of 7 runs, 1 loop each)\n"
     ]
    }
   ],
   "source": [
    "%timeit mySum(B)"
   ]
  },
  {
   "cell_type": "markdown",
   "metadata": {},
   "source": [
    "Always try to use built-in universal functions of numpy instead of own functions or the simple python functions"
   ]
  },
  {
   "cell_type": "markdown",
   "metadata": {},
   "source": [
    "# Pandas"
   ]
  },
  {
   "cell_type": "code",
   "execution_count": null,
   "metadata": {},
   "outputs": [],
   "source": []
  }
 ],
 "metadata": {
  "kernelspec": {
   "display_name": "Python 3",
   "language": "python",
   "name": "python3"
  },
  "language_info": {
   "codemirror_mode": {
    "name": "ipython",
    "version": 3
   },
   "file_extension": ".py",
   "mimetype": "text/x-python",
   "name": "python",
   "nbconvert_exporter": "python",
   "pygments_lexer": "ipython3",
   "version": "3.8.5"
  }
 },
 "nbformat": 4,
 "nbformat_minor": 4
}
