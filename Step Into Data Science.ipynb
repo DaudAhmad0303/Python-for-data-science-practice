{
 "cells": [
  {
   "cell_type": "markdown",
   "metadata": {},
   "source": [
    "# Numpy"
   ]
  },
  {
   "cell_type": "markdown",
   "metadata": {},
   "source": [
    "**Numpy** stands for **Numerical Python**\n",
    "\n",
    "- It's working is much more faster than working with Lists.\n",
    "\n",
    "- In case of List, computer have to save the type of each element separatly.\n",
    "\n",
    "- So, it becomes slow as compare to the array. Because, array is a data structure of contigeouse type. we need not to store data type for each element."
   ]
  },
  {
   "cell_type": "code",
   "execution_count": 1,
   "metadata": {},
   "outputs": [],
   "source": [
    "import numpy as np"
   ]
  },
  {
   "cell_type": "code",
   "execution_count": 2,
   "metadata": {},
   "outputs": [],
   "source": [
    "a = np.array([1,2,3,4,5])"
   ]
  },
  {
   "cell_type": "code",
   "execution_count": 3,
   "metadata": {},
   "outputs": [],
   "source": [
    "b = np.array((2,4,6,8,0))"
   ]
  },
  {
   "cell_type": "code",
   "execution_count": 4,
   "metadata": {},
   "outputs": [
    {
     "name": "stdout",
     "output_type": "stream",
     "text": [
      "[1 2 3 4 5]\n",
      "[2 4 6 8 0]\n"
     ]
    }
   ],
   "source": [
    "print(a)\n",
    "print(b)"
   ]
  },
  {
   "cell_type": "code",
   "execution_count": 5,
   "metadata": {
    "scrolled": true
   },
   "outputs": [
    {
     "name": "stdout",
     "output_type": "stream",
     "text": [
      "<class 'numpy.ndarray'>\n"
     ]
    }
   ],
   "source": [
    "# ndarray means 'n dimensional array'\n",
    "print(type(a))"
   ]
  },
  {
   "cell_type": "code",
   "execution_count": 18,
   "metadata": {},
   "outputs": [],
   "source": [
    "c = np.array([2,3,4,5,6,9],dtype='f')\n",
    "# We can specify data type separatly "
   ]
  },
  {
   "cell_type": "code",
   "execution_count": 19,
   "metadata": {},
   "outputs": [
    {
     "name": "stdout",
     "output_type": "stream",
     "text": [
      "float32\n"
     ]
    }
   ],
   "source": [
    "print(c.dtype)"
   ]
  },
  {
   "cell_type": "markdown",
   "metadata": {},
   "source": [
    "Several Properties of **Numpy array**"
   ]
  },
  {
   "cell_type": "markdown",
   "metadata": {},
   "source": [
    "**ndim** is used to get the dimension of array"
   ]
  },
  {
   "cell_type": "code",
   "execution_count": 20,
   "metadata": {},
   "outputs": [],
   "source": [
    "# del a\n",
    "a = np.array([[1,2,3],[4,5,6]])"
   ]
  },
  {
   "cell_type": "code",
   "execution_count": 21,
   "metadata": {},
   "outputs": [
    {
     "name": "stdout",
     "output_type": "stream",
     "text": [
      "2\n"
     ]
    }
   ],
   "source": [
    "print(a.ndim)"
   ]
  },
  {
   "cell_type": "code",
   "execution_count": 22,
   "metadata": {},
   "outputs": [
    {
     "name": "stdout",
     "output_type": "stream",
     "text": [
      "[[1 2 3]\n",
      " [4 5 6]]\n"
     ]
    }
   ],
   "source": [
    "print(a)"
   ]
  },
  {
   "cell_type": "code",
   "execution_count": 23,
   "metadata": {},
   "outputs": [
    {
     "name": "stdout",
     "output_type": "stream",
     "text": [
      "6\n"
     ]
    }
   ],
   "source": [
    "print(a[1,2])"
   ]
  },
  {
   "cell_type": "markdown",
   "metadata": {},
   "source": [
    "we have to store same dimension of sub arrays inside an array otherwise objection arose."
   ]
  },
  {
   "cell_type": "code",
   "execution_count": 24,
   "metadata": {},
   "outputs": [],
   "source": [
    "B = np.array([[1,2,3,-1],[2,4,5,9]])"
   ]
  },
  {
   "cell_type": "code",
   "execution_count": 25,
   "metadata": {},
   "outputs": [
    {
     "data": {
      "text/plain": [
       "2"
      ]
     },
     "execution_count": 25,
     "metadata": {},
     "output_type": "execute_result"
    }
   ],
   "source": [
    "B.ndim"
   ]
  },
  {
   "cell_type": "code",
   "execution_count": 26,
   "metadata": {},
   "outputs": [
    {
     "name": "stdout",
     "output_type": "stream",
     "text": [
      "-1\n"
     ]
    }
   ],
   "source": [
    "print(B[0,3])"
   ]
  },
  {
   "cell_type": "code",
   "execution_count": 31,
   "metadata": {},
   "outputs": [],
   "source": [
    "C = np.array([[[1,2,3], [4,5,6], [0,0,-1]], [[-1,-2,-3], [-4,-5,-6], [0,0,1]]])"
   ]
  },
  {
   "cell_type": "code",
   "execution_count": 32,
   "metadata": {},
   "outputs": [
    {
     "name": "stdout",
     "output_type": "stream",
     "text": [
      "int32\n"
     ]
    }
   ],
   "source": [
    "print(C.dtype)"
   ]
  },
  {
   "cell_type": "code",
   "execution_count": 33,
   "metadata": {},
   "outputs": [
    {
     "name": "stdout",
     "output_type": "stream",
     "text": [
      "3\n"
     ]
    }
   ],
   "source": [
    "print(C.ndim)"
   ]
  },
  {
   "cell_type": "code",
   "execution_count": 34,
   "metadata": {},
   "outputs": [
    {
     "name": "stdout",
     "output_type": "stream",
     "text": [
      "-6\n"
     ]
    }
   ],
   "source": [
    "print(C[1,1,2])"
   ]
  },
  {
   "cell_type": "markdown",
   "metadata": {},
   "source": [
    "**shape** module is used to get dimension of each array inside array.i.e.,"
   ]
  },
  {
   "cell_type": "code",
   "execution_count": 37,
   "metadata": {},
   "outputs": [
    {
     "name": "stdout",
     "output_type": "stream",
     "text": [
      "(2, 3, 3)\n",
      "<class 'tuple'>\n"
     ]
    }
   ],
   "source": [
    "print(C.shape)\n",
    "# It's mean: C array is containing 2 sub arrays; each sub array is further containing 3 arrays; further \n",
    "# each array is containing 3 elements in it\n",
    "print(type(C.shape))"
   ]
  },
  {
   "cell_type": "code",
   "execution_count": 38,
   "metadata": {},
   "outputs": [
    {
     "name": "stdout",
     "output_type": "stream",
     "text": [
      "3\n"
     ]
    }
   ],
   "source": [
    "print(C.shape[2])"
   ]
  },
  {
   "cell_type": "code",
   "execution_count": 39,
   "metadata": {},
   "outputs": [],
   "source": [
    "A = np.array([3])"
   ]
  },
  {
   "cell_type": "code",
   "execution_count": 40,
   "metadata": {},
   "outputs": [
    {
     "name": "stdout",
     "output_type": "stream",
     "text": [
      "1\n"
     ]
    }
   ],
   "source": [
    "print(A.ndim)"
   ]
  },
  {
   "cell_type": "code",
   "execution_count": 46,
   "metadata": {},
   "outputs": [],
   "source": [
    "B = np.array(9)"
   ]
  },
  {
   "cell_type": "code",
   "execution_count": 48,
   "metadata": {},
   "outputs": [
    {
     "name": "stdout",
     "output_type": "stream",
     "text": [
      "0\n"
     ]
    }
   ],
   "source": [
    "print(B.ndim)"
   ]
  },
  {
   "cell_type": "markdown",
   "metadata": {},
   "source": [
    "**size** module returns the number of total elements in an array"
   ]
  },
  {
   "cell_type": "code",
   "execution_count": 52,
   "metadata": {},
   "outputs": [
    {
     "name": "stdout",
     "output_type": "stream",
     "text": [
      "18\n"
     ]
    }
   ],
   "source": [
    "print(C.size)"
   ]
  },
  {
   "cell_type": "markdown",
   "metadata": {},
   "source": [
    "**nbytes** is used to get memory used by array"
   ]
  },
  {
   "cell_type": "code",
   "execution_count": 53,
   "metadata": {},
   "outputs": [
    {
     "name": "stdout",
     "output_type": "stream",
     "text": [
      "72\n"
     ]
    }
   ],
   "source": [
    "print(C.nbytes)"
   ]
  },
  {
   "cell_type": "markdown",
   "metadata": {},
   "source": [
    "**ones** and **zeros** modules are used to get the desired number of zeros or ones inside an array"
   ]
  },
  {
   "cell_type": "code",
   "execution_count": 58,
   "metadata": {},
   "outputs": [],
   "source": [
    "C1 = np.ones(30, dtype = 'i')\n",
    "C2 = np.zeros(20)"
   ]
  },
  {
   "cell_type": "code",
   "execution_count": 60,
   "metadata": {},
   "outputs": [
    {
     "name": "stdout",
     "output_type": "stream",
     "text": [
      "[1 1 1 1 1 1 1 1 1 1 1 1 1 1 1 1 1 1 1 1 1 1 1 1 1 1 1 1 1 1]\n",
      "[0. 0. 0. 0. 0. 0. 0. 0. 0. 0. 0. 0. 0. 0. 0. 0. 0. 0. 0. 0.]\n",
      "int32\n",
      "float64\n"
     ]
    }
   ],
   "source": [
    "print(C1)\n",
    "print(C2)\n",
    "print(C1.dtype)\n",
    "print(C2.dtype)"
   ]
  },
  {
   "cell_type": "code",
   "execution_count": 61,
   "metadata": {},
   "outputs": [
    {
     "name": "stdout",
     "output_type": "stream",
     "text": [
      "Variable   Type       Data/Info\n",
      "-------------------------------\n",
      "A          ndarray    1: 1 elems, type `int32`, 4 bytes\n",
      "B          ndarray    : 1 elems, type `int32`, 4 bytes\n",
      "C          ndarray    2x3x3: 18 elems, type `int32`, 72 bytes\n",
      "C1         ndarray    30: 30 elems, type `int32`, 120 bytes\n",
      "C2         ndarray    20: 20 elems, type `float64`, 160 bytes\n",
      "a          ndarray    2x3: 6 elems, type `int32`, 24 bytes\n",
      "b          ndarray    5: 5 elems, type `int32`, 20 bytes\n",
      "c          ndarray    6: 6 elems, type `float32`, 24 bytes\n",
      "np         module     <module 'numpy' from 'C:\\<...>ges\\\\numpy\\\\__init__.py'>\n"
     ]
    }
   ],
   "source": [
    "%whos"
   ]
  },
  {
   "cell_type": "markdown",
   "metadata": {},
   "source": [
    "**arange** module is used to get a series of numbers provided in range just like in **range** function"
   ]
  },
  {
   "cell_type": "code",
   "execution_count": 62,
   "metadata": {},
   "outputs": [],
   "source": [
    "C3 = np.arange(50)"
   ]
  },
  {
   "cell_type": "code",
   "execution_count": 63,
   "metadata": {},
   "outputs": [
    {
     "name": "stdout",
     "output_type": "stream",
     "text": [
      "[ 0  1  2  3  4  5  6  7  8  9 10 11 12 13 14 15 16 17 18 19 20 21 22 23\n",
      " 24 25 26 27 28 29 30 31 32 33 34 35 36 37 38 39 40 41 42 43 44 45 46 47\n",
      " 48 49]\n"
     ]
    }
   ],
   "source": [
    "print(C3)"
   ]
  },
  {
   "cell_type": "code",
   "execution_count": 64,
   "metadata": {},
   "outputs": [
    {
     "name": "stdout",
     "output_type": "stream",
     "text": [
      "[20 22 24 26 28 30 32 34 36 38 40 42 44 46 48 50 52 54 56 58]\n"
     ]
    }
   ],
   "source": [
    "C4 = np.arange(20,60,2)        # for i in range(0, 20, 2):\n",
    "print(C4)"
   ]
  },
  {
   "cell_type": "code",
   "execution_count": 65,
   "metadata": {},
   "outputs": [
    {
     "name": "stdout",
     "output_type": "stream",
     "text": [
      "range(0, 40)\n"
     ]
    }
   ],
   "source": [
    "print(range(40))"
   ]
  },
  {
   "cell_type": "code",
   "execution_count": 66,
   "metadata": {},
   "outputs": [
    {
     "name": "stdout",
     "output_type": "stream",
     "text": [
      "[0, 1, 2, 3, 4, 5, 6, 7, 8, 9, 10, 11, 12, 13, 14, 15, 16, 17, 18, 19, 20, 21, 22, 23, 24, 25, 26, 27, 28, 29, 30, 31, 32, 33, 34, 35, 36, 37, 38, 39, 40, 41, 42, 43, 44, 45, 46, 47, 48, 49, 50]\n"
     ]
    }
   ],
   "source": [
    "print(list(range(51)))"
   ]
  },
  {
   "cell_type": "markdown",
   "metadata": {},
   "source": [
    "**random.permutation** is used to shuffle all the array values and then it creats a new array."
   ]
  },
  {
   "cell_type": "code",
   "execution_count": 82,
   "metadata": {},
   "outputs": [],
   "source": [
    "A = np.random.permutation(np.arange(10))\n",
    "# A = np.random.permutation(C4)"
   ]
  },
  {
   "cell_type": "code",
   "execution_count": 87,
   "metadata": {
    "scrolled": false
   },
   "outputs": [
    {
     "name": "stdout",
     "output_type": "stream",
     "text": [
      "[5 7 2 9 8 4 1 6 0 3]\n"
     ]
    }
   ],
   "source": [
    "print(A)"
   ]
  },
  {
   "cell_type": "code",
   "execution_count": 88,
   "metadata": {},
   "outputs": [
    {
     "name": "stdout",
     "output_type": "stream",
     "text": [
      "Help on built-in function permutation:\n",
      "\n",
      "permutation(...) method of numpy.random.mtrand.RandomState instance\n",
      "    permutation(x)\n",
      "    \n",
      "    Randomly permute a sequence, or return a permuted range.\n",
      "    \n",
      "    If `x` is a multi-dimensional array, it is only shuffled along its\n",
      "    first index.\n",
      "    \n",
      "    .. note::\n",
      "        New code should use the ``permutation`` method of a ``default_rng()``\n",
      "        instance instead; please see the :ref:`random-quick-start`.\n",
      "    \n",
      "    Parameters\n",
      "    ----------\n",
      "    x : int or array_like\n",
      "        If `x` is an integer, randomly permute ``np.arange(x)``.\n",
      "        If `x` is an array, make a copy and shuffle the elements\n",
      "        randomly.\n",
      "    \n",
      "    Returns\n",
      "    -------\n",
      "    out : ndarray\n",
      "        Permuted sequence or array range.\n",
      "    \n",
      "    See Also\n",
      "    --------\n",
      "    Generator.permutation: which should be used for new code.\n",
      "    \n",
      "    Examples\n",
      "    --------\n",
      "    >>> np.random.permutation(10)\n",
      "    array([1, 7, 4, 3, 0, 9, 2, 5, 8, 6]) # random\n",
      "    \n",
      "    >>> np.random.permutation([1, 4, 9, 12, 15])\n",
      "    array([15,  1,  9,  4, 12]) # random\n",
      "    \n",
      "    >>> arr = np.arange(9).reshape((3, 3))\n",
      "    >>> np.random.permutation(arr)\n",
      "    array([[6, 7, 8], # random\n",
      "           [0, 1, 2],\n",
      "           [3, 4, 5]])\n",
      "\n"
     ]
    }
   ],
   "source": [
    "help(np.random.permutation)"
   ]
  },
  {
   "cell_type": "markdown",
   "metadata": {},
   "source": [
    "**random.randint** is used to get a single random integer in the provided range"
   ]
  },
  {
   "cell_type": "code",
   "execution_count": 112,
   "metadata": {},
   "outputs": [
    {
     "name": "stdout",
     "output_type": "stream",
     "text": [
      "22\n"
     ]
    }
   ],
   "source": [
    "print(np.random.randint(20,30))"
   ]
  },
  {
   "cell_type": "code",
   "execution_count": 113,
   "metadata": {},
   "outputs": [
    {
     "name": "stdout",
     "output_type": "stream",
     "text": [
      "11\n"
     ]
    }
   ],
   "source": [
    "a = np.random.randint(10,20)\n",
    "print(a)"
   ]
  },
  {
   "cell_type": "markdown",
   "metadata": {},
   "source": [
    "**random.rand** is used to get an array of values in between 0 and 1, for the provided number of values/dimensions as example below:"
   ]
  },
  {
   "cell_type": "code",
   "execution_count": 114,
   "metadata": {},
   "outputs": [],
   "source": [
    "A = np.random.rand(1000)"
   ]
  },
  {
   "cell_type": "code",
   "execution_count": 130,
   "metadata": {},
   "outputs": [
    {
     "name": "stdout",
     "output_type": "stream",
     "text": [
      "[0.98399461 0.36859885 0.75384411 0.5940163  0.06653018 0.60513752\n",
      " 0.13989344 0.87302045 0.49005776 0.56469719 0.77881743 0.63791005\n",
      " 0.49196773 0.42649048 0.59508394 0.34912482 0.08828393 0.89414965\n",
      " 0.36809648 0.53740016 0.4998337  0.32195028 0.10636259 0.55066408\n",
      " 0.39860184 0.30006941 0.11063704 0.02305731 0.07045065 0.68515562\n",
      " 0.30084794 0.95611761 0.94662986 0.06552461 0.34041648 0.58313896\n",
      " 0.09598206 0.42162786 0.3597472  0.40230797 0.98980954 0.29585042\n",
      " 0.03437366 0.7161996  0.61903741 0.19043885 0.23338413 0.47479965\n",
      " 0.37373508 0.87495303 0.24205792 0.26358892 0.67904031 0.67383706\n",
      " 0.12894134 0.80806916 0.24993718 0.53965605 0.73528128 0.73616468\n",
      " 0.24371829 0.42752265 0.96399152 0.05049029 0.81651912 0.39855892\n",
      " 0.60482217 0.66984034 0.85333566 0.3163782  0.58976636 0.23589943\n",
      " 0.53128822 0.87434551 0.60738699 0.34946569 0.89483651 0.72915691\n",
      " 0.11793262 0.9772999  0.32909215 0.98514661 0.35253835 0.5018692\n",
      " 0.60070791 0.26723367 0.35962971 0.08371259 0.3588593  0.41443087\n",
      " 0.64001758 0.21447209 0.14940869 0.05914095 0.56768089 0.36229901\n",
      " 0.548986   0.15472661 0.63919534 0.10946132 0.81662497 0.54413786\n",
      " 0.20817926 0.4780864  0.9203368  0.11904405 0.68807505 0.91238842\n",
      " 0.8582929  0.20547087 0.21551125 0.49169947 0.1848971  0.98679278\n",
      " 0.64250894 0.65362002 0.33421957 0.75599616 0.85343403 0.72427086\n",
      " 0.03970616 0.29506774 0.22186498 0.63264669 0.86038363 0.00774891\n",
      " 0.4169091  0.65496858 0.40760061 0.40499769 0.21914898 0.13163458\n",
      " 0.34033876 0.64303014 0.92925932 0.14952786 0.10837314 0.16422342\n",
      " 0.13532954 0.17528564 0.86975134 0.5999046  0.31321317 0.80710482\n",
      " 0.8126038  0.31015874 0.90850754 0.89343292 0.98353585 0.32540359\n",
      " 0.7574608  0.04915311 0.06390534 0.54567582 0.57079835 0.03975155\n",
      " 0.22396902 0.80264344 0.19171866 0.02342415 0.77260771 0.71599794\n",
      " 0.36019495 0.22176659 0.42115991 0.57458264 0.95941552 0.0715724\n",
      " 0.0568065  0.45341169 0.84701027 0.76076796 0.86866485 0.53958927\n",
      " 0.04888698 0.4942053  0.24177855 0.70963167 0.76628995 0.2039071\n",
      " 0.92924323 0.45249387 0.86830248 0.87077847 0.8764752  0.62627712\n",
      " 0.23533375 0.29616485 0.56261946 0.87703078 0.98454625 0.22027903\n",
      " 0.82680712 0.95948984 0.54010532 0.78461117 0.3080262  0.95653814\n",
      " 0.21256172 0.39205507 0.0341914  0.83655436 0.40591657 0.69701305\n",
      " 0.10933066 0.88962331 0.11989557 0.00121468 0.55156031 0.85569288\n",
      " 0.5493527  0.31614205 0.91329425 0.23419843 0.8147049  0.70564748\n",
      " 0.29513167 0.0783965  0.01132934 0.00479152 0.50052379 0.69680212\n",
      " 0.95123992 0.36643498 0.07412381 0.45242044 0.15327746 0.74506041\n",
      " 0.36830504 0.17741478 0.71507429 0.7583958  0.80328257 0.06355822\n",
      " 0.83900757 0.64097037 0.39545086 0.95634862 0.55445051 0.3479182\n",
      " 0.32332454 0.18749482 0.53538122 0.3254285  0.97143273 0.01432155\n",
      " 0.51799796 0.91697339 0.11726123 0.135228   0.12089442 0.95075254\n",
      " 0.15215916 0.3738166  0.52050643 0.40725244 0.38662648 0.21066073\n",
      " 0.71681432 0.00704441 0.82476582 0.80124284 0.02506161 0.77864138\n",
      " 0.28418513 0.25525573 0.95295438 0.56967179 0.23383979 0.65025616\n",
      " 0.96659821 0.17279051 0.36355955 0.1321867  0.8141905  0.09980439\n",
      " 0.56110521 0.69309418 0.59952445 0.76341609 0.68441616 0.81078744\n",
      " 0.22232635 0.77443451 0.44657451 0.97368637 0.93368218 0.06595827\n",
      " 0.21433583 0.71485881 0.83810062 0.54137469 0.17700177 0.03579437\n",
      " 0.22590999 0.2505863  0.4146572  0.54227802 0.94185891 0.35463487\n",
      " 0.14208922 0.9931935  0.87875488 0.03485936 0.51473415 0.10719737\n",
      " 0.76566962 0.90374926 0.19190294 0.60468829 0.7258409  0.89697725\n",
      " 0.51966249 0.72101428 0.53569083 0.53478937 0.64546253 0.89321526\n",
      " 0.71358316 0.95353002 0.50435804 0.93546261 0.69578528 0.50540177\n",
      " 0.97367787 0.15936528 0.75231278 0.65935557 0.65140357 0.16459074\n",
      " 0.62326458 0.07528588 0.5987096  0.54974274 0.51557186 0.39175961\n",
      " 0.04390824 0.06499533 0.03382686 0.36749519 0.47139502 0.46115545\n",
      " 0.96799807 0.89837517 0.51813262 0.25915979 0.91247391 0.6824164\n",
      " 0.61743044 0.88682556 0.10437268 0.60978588 0.03392991 0.98032434\n",
      " 0.93757525 0.17070576 0.46782667 0.18532072 0.17228741 0.22258651\n",
      " 0.93174055 0.43460889 0.45228547 0.57157765 0.07302489 0.848441\n",
      " 0.56855345 0.5521882  0.1404639  0.34800191 0.06818393 0.94236415\n",
      " 0.08918713 0.24033775 0.44702926 0.84052073 0.9458444  0.89027287\n",
      " 0.97588116 0.78849521 0.56731231 0.46353097 0.92981939 0.57249294\n",
      " 0.97843094 0.54849382 0.68911182 0.2326238  0.7857322  0.6722919\n",
      " 0.10657726 0.79639206 0.81074905 0.18719133 0.37357941 0.52169673\n",
      " 0.91790883 0.03914617 0.88552253 0.14654748 0.99930764 0.05292993\n",
      " 0.81417645 0.36287508 0.12120134 0.78789588 0.65492645 0.26402784\n",
      " 0.34031424 0.16056964 0.80404514 0.80229622 0.05628352 0.77108161\n",
      " 0.18419383 0.1077381  0.75927672 0.11331439 0.33069158 0.71922615\n",
      " 0.39784245 0.433084   0.05948916 0.22794098 0.61083121 0.85152157\n",
      " 0.94637917 0.46953349 0.97613868 0.08266006 0.77606206 0.19820618\n",
      " 0.10593813 0.42862475 0.94619092 0.665632   0.37372658 0.41177823\n",
      " 0.50970463 0.21864573 0.27049694 0.61005446 0.17396244 0.03640701\n",
      " 0.07340059 0.78469426 0.8922495  0.50517914 0.55920275 0.29257414\n",
      " 0.47773443 0.83191723 0.72460973 0.9271043  0.37699423 0.35849558\n",
      " 0.39707432 0.91927237 0.42568664 0.31617616 0.4422795  0.27982139\n",
      " 0.31741378 0.42612904 0.94395862 0.36872193 0.61220189 0.75136901\n",
      " 0.10802891 0.04790179 0.27929124 0.2324455  0.51146245 0.35088529\n",
      " 0.8604101  0.04116669 0.74582986 0.58138763 0.78280128 0.8845344\n",
      " 0.32779463 0.06049866 0.74770659 0.69750058 0.33340014 0.8508347\n",
      " 0.822711   0.82639728 0.42744302 0.68811244 0.50459043 0.26288221\n",
      " 0.34369162 0.74904424 0.2228348  0.85112066 0.65725721 0.83009715\n",
      " 0.96231746 0.95101527 0.89505146 0.0566687  0.51448991 0.73051462\n",
      " 0.61424151 0.4100795  0.73606527 0.69108689 0.59654462 0.20285031\n",
      " 0.9037689  0.07331516 0.98419881 0.50416725 0.06484562 0.40194582\n",
      " 0.0510789  0.92817569 0.140118   0.7802543  0.7516517  0.42527924\n",
      " 0.45616485 0.10974097 0.93276488 0.70916613 0.96848403 0.44604568\n",
      " 0.50629082 0.93668302 0.62722961 0.33811087 0.95807719 0.1337553\n",
      " 0.61538108 0.86993811 0.22488433 0.81093241 0.2193755  0.71220724\n",
      " 0.26794703 0.1722425  0.38671155 0.74335618 0.68979478 0.64748073\n",
      " 0.52519008 0.98807653 0.07407627 0.28378183 0.17760417 0.26131615\n",
      " 0.22606499 0.7258881  0.57294942 0.51913872 0.21863158 0.40782362\n",
      " 0.62059872 0.60730066 0.86133405 0.4538973  0.28367314 0.44280571\n",
      " 0.18416091 0.5990113  0.18857303 0.34379921 0.95198656 0.85014533\n",
      " 0.80892948 0.75205973 0.90577778 0.07017258 0.07155169 0.01623399\n",
      " 0.06910451 0.04753463 0.45344475 0.82159112 0.10893395 0.19408525\n",
      " 0.15071462 0.94488287 0.71808924 0.60194299 0.11810828 0.96276118\n",
      " 0.00739721 0.81568862 0.71127288 0.84727835 0.60362922 0.80836983\n",
      " 0.78670732 0.0374178  0.67644989 0.08680431 0.57831062 0.41200653\n",
      " 0.5815965  0.53418414 0.84943485 0.56007732 0.41863927 0.29151657\n",
      " 0.4100266  0.58509685 0.80995504 0.58030993 0.07147085 0.74268573\n",
      " 0.01175684 0.8014312  0.84651961 0.83762905 0.91184507 0.377634\n",
      " 0.51020878 0.26251722 0.66195254 0.9852548  0.29873435 0.99522878\n",
      " 0.31581454 0.64529269 0.50992635 0.83160367 0.28181915 0.70597906\n",
      " 0.79025737 0.58753131 0.24996687 0.59245283 0.13838359 0.99900993\n",
      " 0.56277729 0.51236978 0.33688963 0.2383636  0.52960086 0.17891299\n",
      " 0.74159715 0.36034186 0.35948424 0.17964233 0.55902013 0.77114895\n",
      " 0.22400319 0.85385033 0.72357175 0.45117193 0.7532544  0.96954276\n",
      " 0.68557649 0.98221175 0.39371716 0.21603408 0.6231141  0.0515763\n",
      " 0.92060224 0.92309358 0.25896078 0.6151526  0.31915531 0.0746021\n",
      " 0.04925544 0.18877858 0.74599838 0.39571408 0.84540581 0.967977\n",
      " 0.44119614 0.91025254 0.34675858 0.98127751 0.4255847  0.50547683\n",
      " 0.97043971 0.99995377 0.34344026 0.56714677 0.82393493 0.98305915\n",
      " 0.41018443 0.4485642  0.9037727  0.39975957 0.72375948 0.69505738\n",
      " 0.16966955 0.45086967 0.87531224 0.82378722 0.5007098  0.84436862\n",
      " 0.45198941 0.77320341 0.39042251 0.73701765 0.84479496 0.63124834\n",
      " 0.5599408  0.53072229 0.24022727 0.12547551 0.98797167 0.98527955\n",
      " 0.08801743 0.74524712 0.91442324 0.78273409 0.78388385 0.09809533\n",
      " 0.22182618 0.34244309 0.82283876 0.28161393 0.66824267 0.25956551\n",
      " 0.26827116 0.66055434 0.4982845  0.83863167 0.63729227 0.48859532\n",
      " 0.54243878 0.20393346 0.21331649 0.64868064 0.93247335 0.10777018\n",
      " 0.00825621 0.91872277 0.34820151 0.96139775 0.92385196 0.6214962\n",
      " 0.40457365 0.69874183 0.6011112  0.60847001 0.47371009 0.45726023\n",
      " 0.38479915 0.38680746 0.56411234 0.4198765  0.21829177 0.22370985\n",
      " 0.84318974 0.13199185 0.17787846 0.40034328 0.87204366 0.14306537\n",
      " 0.78314268 0.78035238 0.4772411  0.31705722 0.58907417 0.95721254\n",
      " 0.27569606 0.47393889 0.34299073 0.57271455 0.66268082 0.95550767\n",
      " 0.50248766 0.03993557 0.44345398 0.81897574 0.74502094 0.54201033\n",
      " 0.98564945 0.13126183 0.63182637 0.97442502 0.57385538 0.31156047\n",
      " 0.06131702 0.03675373 0.19147814 0.12265813 0.49451498 0.98675028\n",
      " 0.75092581 0.13934876 0.99185275 0.13562072 0.00770724 0.47282525\n",
      " 0.23250313 0.42661625 0.21365068 0.0993026  0.12270536 0.1978534\n",
      " 0.87547935 0.69618009 0.49546495 0.6188278  0.49086624 0.6743127\n",
      " 0.52454276 0.70019269 0.53579736 0.59549829 0.51262671 0.27214958\n",
      " 0.21255109 0.39059039 0.01839155 0.49622855 0.27837235 0.25247046\n",
      " 0.66041529 0.29705057 0.4770982  0.73102327 0.14250707 0.78895542\n",
      " 0.66362342 0.40173826 0.53956584 0.29115469 0.62689957 0.24410602\n",
      " 0.06955307 0.41357277 0.72676968 0.79797926 0.52227818 0.77983831\n",
      " 0.51226138 0.5455749  0.06539632 0.64316036 0.69638398 0.35339102\n",
      " 0.65270871 0.2275263  0.31102291 0.16710417 0.1414892  0.25306685\n",
      " 0.87625571 0.47976295 0.78427519 0.66707512 0.56365765 0.7801489\n",
      " 0.29766522 0.04464576 0.94985816 0.86965738 0.98153692 0.58235631\n",
      " 0.63711979 0.97336817 0.2892166  0.53806558 0.84658934 0.80296688\n",
      " 0.08195803 0.26751742 0.09261205 0.68190453 0.77925767 0.44547784\n",
      " 0.14538801 0.23350311 0.56874424 0.72638801 0.49626973 0.67692257\n",
      " 0.02122625 0.20025184 0.05975683 0.26227758 0.50516692 0.00886154\n",
      " 0.55788509 0.71793581 0.67566187 0.45789858 0.38532732 0.69327279\n",
      " 0.83720462 0.82265544 0.31273322 0.4344036  0.42614778 0.87743028\n",
      " 0.52265181 0.31266787 0.0681296  0.66221833 0.08802089 0.64192514\n",
      " 0.70612284 0.85270821 0.75943514 0.08391824 0.33172469 0.6037621\n",
      " 0.90796186 0.66916536 0.9071346  0.77617751 0.34125147 0.92368483\n",
      " 0.62289174 0.98048951 0.83285024 0.16203852 0.85718779 0.03205327\n",
      " 0.61029454 0.0486508  0.31951047 0.80680008 0.01443412 0.38055721\n",
      " 0.48908982 0.67622394 0.22609169 0.97430077 0.31778444 0.92662418\n",
      " 0.97975446 0.58590856 0.90310886 0.24848078 0.83445082 0.18046509\n",
      " 0.86082872 0.01823547 0.0691389  0.78208563 0.27077375 0.31604882\n",
      " 0.51265849 0.47502233 0.76983942 0.00536275 0.40127386 0.98013962\n",
      " 0.09680778 0.65788777 0.73678547 0.03918399 0.82838518 0.35724101\n",
      " 0.99081716 0.11694214 0.48089536 0.78311035 0.90283198 0.5222821\n",
      " 0.40299097 0.40795139 0.772293   0.65295162 0.80297365 0.7400815\n",
      " 0.58129895 0.04554769 0.56426853 0.02398583 0.29369582 0.56901911\n",
      " 0.76979857 0.13239801 0.38106491 0.89605693 0.66540259 0.79975066\n",
      " 0.99419569 0.39467963 0.09518271 0.15645852 0.67803668 0.78956459\n",
      " 0.96386407 0.15848313 0.36808036 0.52546218 0.98480935 0.02677028\n",
      " 0.59038777 0.8457505  0.02816591 0.40740853 0.03250041 0.43063479\n",
      " 0.68317769 0.03388622 0.12090447 0.3896316 ]\n"
     ]
    }
   ],
   "source": [
    "print(A)"
   ]
  },
  {
   "cell_type": "code",
   "execution_count": 132,
   "metadata": {},
   "outputs": [],
   "source": [
    "import matplotlib.pyplot as plt"
   ]
  },
  {
   "cell_type": "code",
   "execution_count": 134,
   "metadata": {},
   "outputs": [
    {
     "data": {
      "text/plain": [
       "(array([ 9.,  7.,  7., 17., 12.,  9., 16., 11.,  9.,  7., 14.,  9.,  5.,\n",
       "        14.,  9.,  7.,  6., 12.,  9.,  7.,  6., 14., 15., 12.,  8.,  6.,\n",
       "        12.,  5.,  6., 12.,  3., 15.,  7.,  8., 12., 12., 10.,  7.,  9.,\n",
       "        12., 16.,  8., 13.,  3.,  9., 12.,  4., 11.,  4., 11., 14., 13.,\n",
       "         8., 13., 11.,  9., 14.,  9., 11.,  9., 14.,  8.,  8.,  8., 10.,\n",
       "         9., 12.,  9., 10., 12.,  5., 11., 10.,  8., 10., 12.,  6., 13.,\n",
       "        17.,  4., 14., 11., 11., 10., 12., 11.,  9., 12.,  4., 10.,  9.,\n",
       "        10., 11.,  7.,  9., 14., 10., 12., 21.,  8.]),\n",
       " array([0.00121468, 0.01120207, 0.02118946, 0.03117685, 0.04116424,\n",
       "        0.05115163, 0.06113902, 0.07112642, 0.08111381, 0.0911012 ,\n",
       "        0.10108859, 0.11107598, 0.12106337, 0.13105076, 0.14103815,\n",
       "        0.15102554, 0.16101293, 0.17100033, 0.18098772, 0.19097511,\n",
       "        0.2009625 , 0.21094989, 0.22093728, 0.23092467, 0.24091206,\n",
       "        0.25089945, 0.26088684, 0.27087423, 0.28086163, 0.29084902,\n",
       "        0.30083641, 0.3108238 , 0.32081119, 0.33079858, 0.34078597,\n",
       "        0.35077336, 0.36076075, 0.37074814, 0.38073554, 0.39072293,\n",
       "        0.40071032, 0.41069771, 0.4206851 , 0.43067249, 0.44065988,\n",
       "        0.45064727, 0.46063466, 0.47062205, 0.48060944, 0.49059684,\n",
       "        0.50058423, 0.51057162, 0.52055901, 0.5305464 , 0.54053379,\n",
       "        0.55052118, 0.56050857, 0.57049596, 0.58048335, 0.59047075,\n",
       "        0.60045814, 0.61044553, 0.62043292, 0.63042031, 0.6404077 ,\n",
       "        0.65039509, 0.66038248, 0.67036987, 0.68035726, 0.69034465,\n",
       "        0.70033205, 0.71031944, 0.72030683, 0.73029422, 0.74028161,\n",
       "        0.750269  , 0.76025639, 0.77024378, 0.78023117, 0.79021856,\n",
       "        0.80020596, 0.81019335, 0.82018074, 0.83016813, 0.84015552,\n",
       "        0.85014291, 0.8601303 , 0.87011769, 0.88010508, 0.89009247,\n",
       "        0.90007986, 0.91006726, 0.92005465, 0.93004204, 0.94002943,\n",
       "        0.95001682, 0.96000421, 0.9699916 , 0.97997899, 0.98996638,\n",
       "        0.99995377]),\n",
       " <BarContainer object of 100 artists>)"
      ]
     },
     "execution_count": 134,
     "metadata": {},
     "output_type": "execute_result"
    },
    {
     "data": {
      "image/png": "[encoded data removed]",
      "text/plain": [
       "<Figure size 432x288 with 1 Axes>"
      ]
     },
     "metadata": {
      "needs_background": "light"
     },
     "output_type": "display_data"
    }
   ],
   "source": [
    "plt.hist(A,bins=100)"
   ]
  },
  {
   "cell_type": "markdown",
   "metadata": {},
   "source": [
    "**random.randn** is used to produce the normal random numbers or normally distributed random numbers"
   ]
  },
  {
   "cell_type": "code",
   "execution_count": 135,
   "metadata": {},
   "outputs": [
    {
     "data": {
      "text/plain": [
       "(array([  1.,   0.,   0.,   0.,   1.,   0.,   0.,   1.,   0.,   0.,   2.,\n",
       "          0.,   1.,   5.,   1.,   1.,   1.,   1.,   4.,   1.,   2.,   1.,\n",
       "          1.,   1.,   3.,   7.,   4.,   5.,   5.,   7.,   6.,   4.,   7.,\n",
       "          5.,  15.,   9.,  10.,  19.,   7.,  11.,  12.,  15.,  15.,  23.,\n",
       "         15.,  21.,  26.,  22.,  16.,  25.,  30.,  12.,  30.,  37.,  27.,\n",
       "         38.,  37.,  47.,  37.,  46.,  39.,  44.,  68.,  52.,  68.,  58.,\n",
       "         67.,  83.,  68.,  72.,  76.,  82.,  87., 103.,  82.,  79., 106.,\n",
       "         97., 136., 115., 117., 112.,  97., 131., 118., 140., 116., 135.,\n",
       "        155., 138., 136., 125., 144., 135., 126., 143., 143., 140., 155.,\n",
       "        169., 151., 147., 140., 150., 148., 145., 174., 129., 115., 123.,\n",
       "        122., 125., 145., 126., 134., 117., 135.,  95., 137.,  97., 127.,\n",
       "        108., 117.,  92., 100.,  95.,  80., 106.,  93.,  77.,  75.,  59.,\n",
       "         70.,  86.,  73.,  57.,  57.,  43.,  62.,  63.,  60.,  51.,  56.,\n",
       "         39.,  33.,  47.,  39.,  32.,  34.,  30.,  20.,  22.,  31.,  17.,\n",
       "         17.,  17.,  19.,  14.,  17.,  15.,  10.,  14.,  13.,  13.,  11.,\n",
       "         12.,   8.,   4.,   6.,  10.,   4.,   3.,   4.,   3.,   5.,   1.,\n",
       "          5.,   2.,   0.,   4.,   2.,   3.,   4.,   3.,   1.,   0.,   1.,\n",
       "          2.,   2.,   0.,   1.,   0.,   1.,   0.,   1.,   1.,   1.,   0.,\n",
       "          1.,   2.]),\n",
       " array([-3.6743956 , -3.63794725, -3.6014989 , -3.56505055, -3.52860221,\n",
       "        -3.49215386, -3.45570551, -3.41925717, -3.38280882, -3.34636047,\n",
       "        -3.30991212, -3.27346378, -3.23701543, -3.20056708, -3.16411873,\n",
       "        -3.12767039, -3.09122204, -3.05477369, -3.01832534, -2.981877  ,\n",
       "        -2.94542865, -2.9089803 , -2.87253196, -2.83608361, -2.79963526,\n",
       "        -2.76318691, -2.72673857, -2.69029022, -2.65384187, -2.61739352,\n",
       "        -2.58094518, -2.54449683, -2.50804848, -2.47160014, -2.43515179,\n",
       "        -2.39870344, -2.36225509, -2.32580675, -2.2893584 , -2.25291005,\n",
       "        -2.2164617 , -2.18001336, -2.14356501, -2.10711666, -2.07066831,\n",
       "        -2.03421997, -1.99777162, -1.96132327, -1.92487493, -1.88842658,\n",
       "        -1.85197823, -1.81552988, -1.77908154, -1.74263319, -1.70618484,\n",
       "        -1.66973649, -1.63328815, -1.5968398 , -1.56039145, -1.52394311,\n",
       "        -1.48749476, -1.45104641, -1.41459806, -1.37814972, -1.34170137,\n",
       "        -1.30525302, -1.26880467, -1.23235633, -1.19590798, -1.15945963,\n",
       "        -1.12301129, -1.08656294, -1.05011459, -1.01366624, -0.9772179 ,\n",
       "        -0.94076955, -0.9043212 , -0.86787285, -0.83142451, -0.79497616,\n",
       "        -0.75852781, -0.72207946, -0.68563112, -0.64918277, -0.61273442,\n",
       "        -0.57628608, -0.53983773, -0.50338938, -0.46694103, -0.43049269,\n",
       "        -0.39404434, -0.35759599, -0.32114764, -0.2846993 , -0.24825095,\n",
       "        -0.2118026 , -0.17535426, -0.13890591, -0.10245756, -0.06600921,\n",
       "        -0.02956087,  0.00688748,  0.04333583,  0.07978418,  0.11623252,\n",
       "         0.15268087,  0.18912922,  0.22557757,  0.26202591,  0.29847426,\n",
       "         0.33492261,  0.37137095,  0.4078193 ,  0.44426765,  0.480716  ,\n",
       "         0.51716434,  0.55361269,  0.59006104,  0.62650939,  0.66295773,\n",
       "         0.69940608,  0.73585443,  0.77230277,  0.80875112,  0.84519947,\n",
       "         0.88164782,  0.91809616,  0.95454451,  0.99099286,  1.02744121,\n",
       "         1.06388955,  1.1003379 ,  1.13678625,  1.1732346 ,  1.20968294,\n",
       "         1.24613129,  1.28257964,  1.31902798,  1.35547633,  1.39192468,\n",
       "         1.42837303,  1.46482137,  1.50126972,  1.53771807,  1.57416642,\n",
       "         1.61061476,  1.64706311,  1.68351146,  1.7199598 ,  1.75640815,\n",
       "         1.7928565 ,  1.82930485,  1.86575319,  1.90220154,  1.93864989,\n",
       "         1.97509824,  2.01154658,  2.04799493,  2.08444328,  2.12089162,\n",
       "         2.15733997,  2.19378832,  2.23023667,  2.26668501,  2.30313336,\n",
       "         2.33958171,  2.37603006,  2.4124784 ,  2.44892675,  2.4853751 ,\n",
       "         2.52182345,  2.55827179,  2.59472014,  2.63116849,  2.66761683,\n",
       "         2.70406518,  2.74051353,  2.77696188,  2.81341022,  2.84985857,\n",
       "         2.88630692,  2.92275527,  2.95920361,  2.99565196,  3.03210031,\n",
       "         3.06854865,  3.104997  ,  3.14144535,  3.1778937 ,  3.21434204,\n",
       "         3.25079039,  3.28723874,  3.32368709,  3.36013543,  3.39658378,\n",
       "         3.43303213,  3.46948048,  3.50592882,  3.54237717,  3.57882552,\n",
       "         3.61527386]),\n",
       " <BarContainer object of 200 artists>)"
      ]
     },
     "execution_count": 135,
     "metadata": {},
     "output_type": "execute_result"
    },
    {
     "data": {
      "image/png": "[encoded data removed]",
      "text/plain": [
       "<Figure size 432x288 with 1 Axes>"
      ]
     },
     "metadata": {
      "needs_background": "light"
     },
     "output_type": "display_data"
    }
   ],
   "source": [
    "B = np.random.randn(10000)\n",
    "plt.hist(B, bins=200)"
   ]
  },
  {
   "cell_type": "markdown",
   "metadata": {},
   "source": [
    "**random.rand** is used to get an array of values in between 0 and 1, for the provided number of values/dimensions and sub arrays as example below:"
   ]
  },
  {
   "cell_type": "code",
   "execution_count": 138,
   "metadata": {},
   "outputs": [],
   "source": [
    "C = np.random.rand(2,4)"
   ]
  },
  {
   "cell_type": "code",
   "execution_count": 139,
   "metadata": {},
   "outputs": [
    {
     "name": "stdout",
     "output_type": "stream",
     "text": [
      "[[0.63313005 0.86115309 0.71501672 0.08910585]\n",
      " [0.12489965 0.24784634 0.06813296 0.67233823]]\n"
     ]
    }
   ],
   "source": [
    "print(C)"
   ]
  },
  {
   "cell_type": "code",
   "execution_count": 140,
   "metadata": {},
   "outputs": [
    {
     "name": "stdout",
     "output_type": "stream",
     "text": [
      "2\n"
     ]
    }
   ],
   "source": [
    "print(C.ndim)"
   ]
  },
  {
   "cell_type": "code",
   "execution_count": 144,
   "metadata": {},
   "outputs": [],
   "source": [
    "C = np.random.rand(2,5,4,2)"
   ]
  },
  {
   "cell_type": "code",
   "execution_count": 145,
   "metadata": {},
   "outputs": [
    {
     "name": "stdout",
     "output_type": "stream",
     "text": [
      "4\n"
     ]
    }
   ],
   "source": [
    "print(C.ndim)"
   ]
  },
  {
   "cell_type": "code",
   "execution_count": 146,
   "metadata": {},
   "outputs": [
    {
     "name": "stdout",
     "output_type": "stream",
     "text": [
      "80\n"
     ]
    }
   ],
   "source": [
    "print(C.size)"
   ]
  },
  {
   "cell_type": "markdown",
   "metadata": {},
   "source": [
    "**reshape** module is used to convert a single dimentional array into multi-dimensional array quickly.\n",
    "\n",
    "The Dimensions provided in reshape module must be mapped on the length of array provided. The length/size of array can be determined using `[array_name].size`"
   ]
  },
  {
   "cell_type": "code",
   "execution_count": 147,
   "metadata": {},
   "outputs": [],
   "source": [
    "D = np.arange(100).reshape(4,25)"
   ]
  },
  {
   "cell_type": "code",
   "execution_count": 148,
   "metadata": {},
   "outputs": [
    {
     "name": "stdout",
     "output_type": "stream",
     "text": [
      "(4, 25)\n"
     ]
    }
   ],
   "source": [
    "print(D.shape)"
   ]
  },
  {
   "cell_type": "code",
   "execution_count": 149,
   "metadata": {},
   "outputs": [],
   "source": [
    "D = np.arange(100).reshape(10,2,5)"
   ]
  },
  {
   "cell_type": "code",
   "execution_count": 150,
   "metadata": {},
   "outputs": [
    {
     "name": "stdout",
     "output_type": "stream",
     "text": [
      "(10, 2, 5)\n"
     ]
    }
   ],
   "source": [
    "print(D.shape)"
   ]
  },
  {
   "cell_type": "markdown",
   "metadata": {},
   "source": [
    "**Slicing** is used to get a part of array to cut a part of array\n",
    "\n",
    "**_Note:_** no new copy of the array is created un-like of python. But previouse array starts pointing out the sliced array. Example below:"
   ]
  },
  {
   "cell_type": "code",
   "execution_count": 151,
   "metadata": {},
   "outputs": [],
   "source": [
    "A = np.arange(100)"
   ]
  },
  {
   "cell_type": "code",
   "execution_count": 152,
   "metadata": {},
   "outputs": [],
   "source": [
    "b = A[2:10]"
   ]
  },
  {
   "cell_type": "code",
   "execution_count": 153,
   "metadata": {},
   "outputs": [
    {
     "name": "stdout",
     "output_type": "stream",
     "text": [
      "[2 3 4 5 6 7 8 9]\n"
     ]
    }
   ],
   "source": [
    "print(b)"
   ]
  },
  {
   "cell_type": "code",
   "execution_count": 154,
   "metadata": {},
   "outputs": [],
   "source": [
    "b[2] = -1200"
   ]
  },
  {
   "cell_type": "code",
   "execution_count": 155,
   "metadata": {},
   "outputs": [
    {
     "name": "stdout",
     "output_type": "stream",
     "text": [
      "[    2     3 -1200     5     6     7     8     9]\n"
     ]
    }
   ],
   "source": [
    "print(b)"
   ]
  },
  {
   "cell_type": "code",
   "execution_count": 156,
   "metadata": {},
   "outputs": [
    {
     "name": "stdout",
     "output_type": "stream",
     "text": [
      "[    0     1     2     3 -1200     5     6     7     8     9    10    11\n",
      "    12    13    14    15    16    17    18    19    20    21    22    23\n",
      "    24    25    26    27    28    29    30    31    32    33    34    35\n",
      "    36    37    38    39    40    41    42    43    44    45    46    47\n",
      "    48    49    50    51    52    53    54    55    56    57    58    59\n",
      "    60    61    62    63    64    65    66    67    68    69    70    71\n",
      "    72    73    74    75    76    77    78    79    80    81    82    83\n",
      "    84    85    86    87    88    89    90    91    92    93    94    95\n",
      "    96    97    98    99]\n"
     ]
    }
   ],
   "source": [
    "print(A)"
   ]
  },
  {
   "cell_type": "markdown",
   "metadata": {},
   "source": [
    "To avoid above behaiviour, we can use copy function"
   ]
  },
  {
   "cell_type": "code",
   "execution_count": 157,
   "metadata": {},
   "outputs": [],
   "source": [
    "b = A[3:10].copy()"
   ]
  },
  {
   "cell_type": "code",
   "execution_count": 158,
   "metadata": {},
   "outputs": [],
   "source": [
    "b[2] = 90"
   ]
  },
  {
   "cell_type": "code",
   "execution_count": 159,
   "metadata": {},
   "outputs": [
    {
     "name": "stdout",
     "output_type": "stream",
     "text": [
      "[    3 -1200    90     6     7     8     9]\n"
     ]
    }
   ],
   "source": [
    "print(b)"
   ]
  },
  {
   "cell_type": "code",
   "execution_count": 160,
   "metadata": {},
   "outputs": [
    {
     "name": "stdout",
     "output_type": "stream",
     "text": [
      "[    0     1     2     3 -1200     5     6     7     8     9    10    11\n",
      "    12    13    14    15    16    17    18    19    20    21    22    23\n",
      "    24    25    26    27    28    29    30    31    32    33    34    35\n",
      "    36    37    38    39    40    41    42    43    44    45    46    47\n",
      "    48    49    50    51    52    53    54    55    56    57    58    59\n",
      "    60    61    62    63    64    65    66    67    68    69    70    71\n",
      "    72    73    74    75    76    77    78    79    80    81    82    83\n",
      "    84    85    86    87    88    89    90    91    92    93    94    95\n",
      "    96    97    98    99]\n"
     ]
    }
   ],
   "source": [
    "print(A)"
   ]
  },
  {
   "cell_type": "code",
   "execution_count": 161,
   "metadata": {},
   "outputs": [
    {
     "data": {
      "text/plain": [
       "array([ 0,  5, 10, 15, 20, 25, 30, 35, 40, 45, 50, 55, 60, 65, 70, 75, 80,\n",
       "       85, 90, 95])"
      ]
     },
     "execution_count": 161,
     "metadata": {},
     "output_type": "execute_result"
    }
   ],
   "source": [
    "A[::5]"
   ]
  },
  {
   "cell_type": "code",
   "execution_count": 162,
   "metadata": {},
   "outputs": [
    {
     "data": {
      "text/plain": [
       "array([   99,    94,    89,    84,    79,    74,    69,    64,    59,\n",
       "          54,    49,    44,    39,    34,    29,    24,    19,    14,\n",
       "           9, -1200])"
      ]
     },
     "execution_count": 162,
     "metadata": {},
     "output_type": "execute_result"
    }
   ],
   "source": [
    "A[::-5]"
   ]
  },
  {
   "cell_type": "code",
   "execution_count": 163,
   "metadata": {},
   "outputs": [
    {
     "data": {
      "text/plain": [
       "array([   99,    98,    97,    96,    95,    94,    93,    92,    91,\n",
       "          90,    89,    88,    87,    86,    85,    84,    83,    82,\n",
       "          81,    80,    79,    78,    77,    76,    75,    74,    73,\n",
       "          72,    71,    70,    69,    68,    67,    66,    65,    64,\n",
       "          63,    62,    61,    60,    59,    58,    57,    56,    55,\n",
       "          54,    53,    52,    51,    50,    49,    48,    47,    46,\n",
       "          45,    44,    43,    42,    41,    40,    39,    38,    37,\n",
       "          36,    35,    34,    33,    32,    31,    30,    29,    28,\n",
       "          27,    26,    25,    24,    23,    22,    21,    20,    19,\n",
       "          18,    17,    16,    15,    14,    13,    12,    11,    10,\n",
       "           9,     8,     7,     6,     5, -1200,     3,     2,     1,\n",
       "           0])"
      ]
     },
     "execution_count": 163,
     "metadata": {},
     "output_type": "execute_result"
    }
   ],
   "source": [
    "A[::-1]"
   ]
  },
  {
   "cell_type": "markdown",
   "metadata": {},
   "source": [
    "Find the **index** of an element in an array"
   ]
  },
  {
   "cell_type": "code",
   "execution_count": 169,
   "metadata": {},
   "outputs": [],
   "source": [
    "idx = np.argwhere(A==-1200)[0][0]"
   ]
  },
  {
   "cell_type": "code",
   "execution_count": 170,
   "metadata": {},
   "outputs": [
    {
     "name": "stdout",
     "output_type": "stream",
     "text": [
      "4\n"
     ]
    }
   ],
   "source": [
    "print(idx)"
   ]
  },
  {
   "cell_type": "markdown",
   "metadata": {},
   "source": [
    "If want to change that value then,"
   ]
  },
  {
   "cell_type": "code",
   "execution_count": 171,
   "metadata": {},
   "outputs": [],
   "source": [
    "A[idx] = 4"
   ]
  },
  {
   "cell_type": "code",
   "execution_count": 172,
   "metadata": {},
   "outputs": [
    {
     "data": {
      "text/plain": [
       "array([ 0,  1,  2,  3,  4,  5,  6,  7,  8,  9, 10, 11, 12, 13, 14, 15, 16,\n",
       "       17, 18, 19, 20, 21, 22, 23, 24, 25, 26, 27, 28, 29, 30, 31, 32, 33,\n",
       "       34, 35, 36, 37, 38, 39, 40, 41, 42, 43, 44, 45, 46, 47, 48, 49, 50,\n",
       "       51, 52, 53, 54, 55, 56, 57, 58, 59, 60, 61, 62, 63, 64, 65, 66, 67,\n",
       "       68, 69, 70, 71, 72, 73, 74, 75, 76, 77, 78, 79, 80, 81, 82, 83, 84,\n",
       "       85, 86, 87, 88, 89, 90, 91, 92, 93, 94, 95, 96, 97, 98, 99])"
      ]
     },
     "execution_count": 172,
     "metadata": {},
     "output_type": "execute_result"
    }
   ],
   "source": [
    "A"
   ]
  },
  {
   "cell_type": "markdown",
   "metadata": {},
   "source": [
    "Working with the multi-dimentional matrix"
   ]
  },
  {
   "cell_type": "code",
   "execution_count": 173,
   "metadata": {},
   "outputs": [],
   "source": [
    "A = np.round(10*np.random.rand(4,5))"
   ]
  },
  {
   "cell_type": "code",
   "execution_count": 182,
   "metadata": {},
   "outputs": [
    {
     "data": {
      "text/plain": [
       "array([[10.,  5.,  9.,  3.,  1.],\n",
       "       [ 2.,  9.,  7.,  6.,  8.],\n",
       "       [ 8.,  5.,  8.,  5.,  0.],\n",
       "       [ 2.,  9.,  5.,  2.,  6.]])"
      ]
     },
     "execution_count": 182,
     "metadata": {},
     "output_type": "execute_result"
    }
   ],
   "source": [
    "A"
   ]
  },
  {
   "cell_type": "markdown",
   "metadata": {},
   "source": [
    "Accessing a specific entry"
   ]
  },
  {
   "cell_type": "code",
   "execution_count": 183,
   "metadata": {},
   "outputs": [
    {
     "data": {
      "text/plain": [
       "6.0"
      ]
     },
     "execution_count": 183,
     "metadata": {},
     "output_type": "execute_result"
    }
   ],
   "source": [
    "A[1,3]"
   ]
  },
  {
   "cell_type": "markdown",
   "metadata": {},
   "source": [
    "If want to access a specific row and column should be whole, then the formate will be:"
   ]
  },
  {
   "cell_type": "code",
   "execution_count": 184,
   "metadata": {},
   "outputs": [
    {
     "data": {
      "text/plain": [
       "array([2., 9., 7., 6., 8.])"
      ]
     },
     "execution_count": 184,
     "metadata": {},
     "output_type": "execute_result"
    }
   ],
   "source": [
    "A[1,:]"
   ]
  },
  {
   "cell_type": "markdown",
   "metadata": {},
   "source": [
    "Similarly, if want to access a specific column and rows should be whole:"
   ]
  },
  {
   "cell_type": "code",
   "execution_count": 185,
   "metadata": {},
   "outputs": [
    {
     "data": {
      "text/plain": [
       "array([5., 9., 5., 9.])"
      ]
     },
     "execution_count": 185,
     "metadata": {},
     "output_type": "execute_result"
    }
   ],
   "source": [
    "A[:,1]"
   ]
  },
  {
   "cell_type": "markdown",
   "metadata": {},
   "source": [
    "We can also access a sub-matrix from an array like:\n",
    "\n",
    "we're access rows 1 and 2; and columns 2 and 3"
   ]
  },
  {
   "cell_type": "code",
   "execution_count": 186,
   "metadata": {},
   "outputs": [
    {
     "data": {
      "text/plain": [
       "array([[7., 6.],\n",
       "       [8., 5.]])"
      ]
     },
     "execution_count": 186,
     "metadata": {},
     "output_type": "execute_result"
    }
   ],
   "source": [
    "A[1:3,2:4]"
   ]
  },
  {
   "cell_type": "markdown",
   "metadata": {},
   "source": [
    "If want to take the transpose of and array then:"
   ]
  },
  {
   "cell_type": "code",
   "execution_count": 187,
   "metadata": {},
   "outputs": [
    {
     "data": {
      "text/plain": [
       "array([[10.,  2.,  8.,  2.],\n",
       "       [ 5.,  9.,  5.,  9.],\n",
       "       [ 9.,  7.,  8.,  5.],\n",
       "       [ 3.,  6.,  5.,  2.],\n",
       "       [ 1.,  8.,  0.,  6.]])"
      ]
     },
     "execution_count": 187,
     "metadata": {},
     "output_type": "execute_result"
    }
   ],
   "source": [
    "A.T"
   ]
  },
  {
   "cell_type": "markdown",
   "metadata": {},
   "source": [
    "If want to use the functions and operations of linear algebra, it's library is available:"
   ]
  },
  {
   "cell_type": "code",
   "execution_count": 188,
   "metadata": {},
   "outputs": [],
   "source": [
    "import numpy.linalg as la"
   ]
  },
  {
   "cell_type": "code",
   "execution_count": 192,
   "metadata": {
    "scrolled": true
   },
   "outputs": [
    {
     "data": {
      "text/plain": [
       "array([[ -6.49642005,   1.79276784,   8.87153577],\n",
       "       [-33.04670313,  17.86516483,  29.8486798 ],\n",
       "       [ 13.09989124,  -5.06954231, -13.4523466 ]])"
      ]
     },
     "execution_count": 192,
     "metadata": {},
     "output_type": "execute_result"
    }
   ],
   "source": [
    "la.inv(np.random.rand(3,3))"
   ]
  },
  {
   "cell_type": "markdown",
   "metadata": {},
   "source": [
    "If we want to sort an array w.r.t column, then we'll provide 'axis=0' and for sorting w.r.t row then we'll provide 'axis=1'"
   ]
  },
  {
   "cell_type": "code",
   "execution_count": 193,
   "metadata": {},
   "outputs": [
    {
     "data": {
      "text/plain": [
       "array([[10.,  5.,  9.,  3.,  1.],\n",
       "       [ 2.,  9.,  7.,  6.,  8.],\n",
       "       [ 8.,  5.,  8.,  5.,  0.],\n",
       "       [ 2.,  9.,  5.,  2.,  6.]])"
      ]
     },
     "execution_count": 193,
     "metadata": {},
     "output_type": "execute_result"
    }
   ],
   "source": [
    "A"
   ]
  },
  {
   "cell_type": "code",
   "execution_count": 194,
   "metadata": {},
   "outputs": [],
   "source": [
    "A.sort(axis=1)"
   ]
  },
  {
   "cell_type": "code",
   "execution_count": 195,
   "metadata": {},
   "outputs": [
    {
     "data": {
      "text/plain": [
       "array([[ 1.,  3.,  5.,  9., 10.],\n",
       "       [ 2.,  6.,  7.,  8.,  9.],\n",
       "       [ 0.,  5.,  5.,  8.,  8.],\n",
       "       [ 2.,  2.,  5.,  6.,  9.]])"
      ]
     },
     "execution_count": 195,
     "metadata": {},
     "output_type": "execute_result"
    }
   ],
   "source": [
    "A"
   ]
  },
  {
   "cell_type": "markdown",
   "metadata": {},
   "source": [
    "**More About *Numpy* Indexing/Masking**"
   ]
  },
  {
   "cell_type": "markdown",
   "metadata": {},
   "source": [
    "In Contrast to the Numpy slicing, we've a copy of the sliced part of array instead of a view as happens in case of numpy slicing"
   ]
  },
  {
   "cell_type": "code",
   "execution_count": 196,
   "metadata": {},
   "outputs": [],
   "source": [
    "A = np.arange(100)"
   ]
  },
  {
   "cell_type": "code",
   "execution_count": 200,
   "metadata": {},
   "outputs": [],
   "source": [
    "B= A[[2,6,9]]"
   ]
  },
  {
   "cell_type": "code",
   "execution_count": 208,
   "metadata": {},
   "outputs": [
    {
     "data": {
      "text/plain": [
       "array([34,  6,  9])"
      ]
     },
     "execution_count": 208,
     "metadata": {},
     "output_type": "execute_result"
    }
   ],
   "source": [
    "B"
   ]
  },
  {
   "cell_type": "code",
   "execution_count": 209,
   "metadata": {},
   "outputs": [
    {
     "data": {
      "text/plain": [
       "array([6, 9])"
      ]
     },
     "execution_count": 209,
     "metadata": {},
     "output_type": "execute_result"
    }
   ],
   "source": [
    "B[[False,True,True]]"
   ]
  },
  {
   "cell_type": "markdown",
   "metadata": {},
   "source": [
    "If make a change in array 'B' that'll not be reflected in 'A' *as happens in case of array slicing*:"
   ]
  },
  {
   "cell_type": "code",
   "execution_count": 210,
   "metadata": {},
   "outputs": [],
   "source": [
    "B[0] = 34"
   ]
  },
  {
   "cell_type": "code",
   "execution_count": 211,
   "metadata": {},
   "outputs": [
    {
     "data": {
      "text/plain": [
       "array([34,  6,  9])"
      ]
     },
     "execution_count": 211,
     "metadata": {},
     "output_type": "execute_result"
    }
   ],
   "source": [
    "B"
   ]
  },
  {
   "cell_type": "code",
   "execution_count": 212,
   "metadata": {},
   "outputs": [
    {
     "data": {
      "text/plain": [
       "array([ 0,  1,  2,  3,  4,  5,  6,  7,  8,  9, 10, 11, 12, 13, 14, 15, 16,\n",
       "       17, 18, 19, 20, 21, 22, 23, 24, 25, 26, 27, 28, 29, 30, 31, 32, 33,\n",
       "       34, 35, 36, 37, 38, 39, 40, 41, 42, 43, 44, 45, 46, 47, 48, 49, 50,\n",
       "       51, 52, 53, 54, 55, 56, 57, 58, 59, 60, 61, 62, 63, 64, 65, 66, 67,\n",
       "       68, 69, 70, 71, 72, 73, 74, 75, 76, 77, 78, 79, 80, 81, 82, 83, 84,\n",
       "       85, 86, 87, 88, 89, 90, 91, 92, 93, 94, 95, 96, 97, 98, 99])"
      ]
     },
     "execution_count": 212,
     "metadata": {},
     "output_type": "execute_result"
    }
   ],
   "source": [
    "A"
   ]
  },
  {
   "cell_type": "markdown",
   "metadata": {},
   "source": [
    "If we want to access all elements that are smaller than 40:"
   ]
  },
  {
   "cell_type": "code",
   "execution_count": 213,
   "metadata": {},
   "outputs": [],
   "source": [
    "B = A[A<40]"
   ]
  },
  {
   "cell_type": "code",
   "execution_count": 214,
   "metadata": {},
   "outputs": [
    {
     "data": {
      "text/plain": [
       "array([ 0,  1,  2,  3,  4,  5,  6,  7,  8,  9, 10, 11, 12, 13, 14, 15, 16,\n",
       "       17, 18, 19, 20, 21, 22, 23, 24, 25, 26, 27, 28, 29, 30, 31, 32, 33,\n",
       "       34, 35, 36, 37, 38, 39])"
      ]
     },
     "execution_count": 214,
     "metadata": {},
     "output_type": "execute_result"
    }
   ],
   "source": [
    "B"
   ]
  },
  {
   "cell_type": "markdown",
   "metadata": {},
   "source": [
    "If we want to access all elements b/w 30 and 40:"
   ]
  },
  {
   "cell_type": "code",
   "execution_count": 215,
   "metadata": {},
   "outputs": [],
   "source": [
    "B = A[(A>30) & (A<40)]"
   ]
  },
  {
   "cell_type": "code",
   "execution_count": 216,
   "metadata": {},
   "outputs": [
    {
     "data": {
      "text/plain": [
       "array([31, 32, 33, 34, 35, 36, 37, 38, 39])"
      ]
     },
     "execution_count": 216,
     "metadata": {},
     "output_type": "execute_result"
    }
   ],
   "source": [
    "B"
   ]
  },
  {
   "cell_type": "code",
   "execution_count": 217,
   "metadata": {},
   "outputs": [],
   "source": [
    "# and, &\n",
    "# or,  |\n",
    "# not, ~\n",
    "# first one will be used for bollean arrays, second one for objects"
   ]
  },
  {
   "cell_type": "markdown",
   "metadata": {},
   "source": [
    "**Numpy Broadcasting**\n",
    "\n",
    "$$\\begin{bmatrix} 2 & 3 \\\\ 5 & 9 \\end{bmatrix} + \\begin{bmatrix} 5 & 5 \\\\ 5 & 5 \\end{bmatrix} = \\begin{bmatrix} 7 & 8 \\\\ 10 & 14 \\end{bmatrix}$$\n",
    "\n",
    "Or it might be helpful in this way:\n",
    "$$\\begin{bmatrix} 2 & 3 \\\\ 5 & 9 \\end{bmatrix} + \\begin{bmatrix} 1 \\\\ 3 \\end{bmatrix} = \\begin{bmatrix} 3 & 4 \\\\ 8 & 12 \\end{bmatrix}$$\n",
    "Means the next matrix will be added to the respective entries,i.e.,\n",
    "\n",
    "in first case 5 will be added to each entry in the matrix and in case of second example $\\begin{bmatrix} 1 \\\\ 3 \\end{bmatrix}$ will be added to each column.\n"
   ]
  },
  {
   "cell_type": "code",
   "execution_count": 218,
   "metadata": {},
   "outputs": [],
   "source": [
    "A = np.round(10 * np.random.rand(2,3))"
   ]
  },
  {
   "cell_type": "code",
   "execution_count": 219,
   "metadata": {},
   "outputs": [
    {
     "data": {
      "text/plain": [
       "array([[ 2.,  4.,  5.],\n",
       "       [ 5.,  1., 10.]])"
      ]
     },
     "execution_count": 219,
     "metadata": {},
     "output_type": "execute_result"
    }
   ],
   "source": [
    "A"
   ]
  },
  {
   "cell_type": "code",
   "execution_count": 220,
   "metadata": {},
   "outputs": [
    {
     "data": {
      "text/plain": [
       "array([[ 7.,  9., 10.],\n",
       "       [10.,  6., 15.]])"
      ]
     },
     "execution_count": 220,
     "metadata": {},
     "output_type": "execute_result"
    }
   ],
   "source": [
    "A + 5"
   ]
  },
  {
   "cell_type": "code",
   "execution_count": 221,
   "metadata": {},
   "outputs": [
    {
     "data": {
      "text/plain": [
       "array([[ 4.,  6.,  7.],\n",
       "       [ 8.,  4., 13.]])"
      ]
     },
     "execution_count": 221,
     "metadata": {},
     "output_type": "execute_result"
    }
   ],
   "source": [
    "A + np.arange(2,4).reshape(2,1)"
   ]
  },
  {
   "cell_type": "code",
   "execution_count": 222,
   "metadata": {},
   "outputs": [
    {
     "data": {
      "text/plain": [
       "array([[ 2.,  4.,  5.],\n",
       "       [ 5.,  1., 10.]])"
      ]
     },
     "execution_count": 222,
     "metadata": {},
     "output_type": "execute_result"
    }
   ],
   "source": [
    "A"
   ]
  },
  {
   "cell_type": "markdown",
   "metadata": {},
   "source": [
    "If we want to concatenate two arrays horizontaliy or vertically then:"
   ]
  },
  {
   "cell_type": "code",
   "execution_count": 226,
   "metadata": {},
   "outputs": [],
   "source": [
    "B = np.round(10*np.random.rand(2,2))"
   ]
  },
  {
   "cell_type": "code",
   "execution_count": 227,
   "metadata": {},
   "outputs": [
    {
     "data": {
      "text/plain": [
       "array([[6., 7.],\n",
       "       [2., 6.]])"
      ]
     },
     "execution_count": 227,
     "metadata": {},
     "output_type": "execute_result"
    }
   ],
   "source": [
    "B"
   ]
  },
  {
   "cell_type": "code",
   "execution_count": 228,
   "metadata": {},
   "outputs": [],
   "source": [
    "C = np.hstack((A,B))\n",
    "# We must have to provide the arrays as tuple closed inside parenthesis"
   ]
  },
  {
   "cell_type": "code",
   "execution_count": 229,
   "metadata": {},
   "outputs": [
    {
     "data": {
      "text/plain": [
       "array([[ 2.,  4.,  5.,  6.,  7.],\n",
       "       [ 5.,  1., 10.,  2.,  6.]])"
      ]
     },
     "execution_count": 229,
     "metadata": {},
     "output_type": "execute_result"
    }
   ],
   "source": [
    "C"
   ]
  },
  {
   "cell_type": "markdown",
   "metadata": {},
   "source": [
    "Similarly, Vertical stack works for concatenating the arrays vertically"
   ]
  },
  {
   "cell_type": "code",
   "execution_count": 230,
   "metadata": {},
   "outputs": [],
   "source": [
    "D = np.round(10*np.random.rand(2,3))"
   ]
  },
  {
   "cell_type": "code",
   "execution_count": 231,
   "metadata": {},
   "outputs": [
    {
     "data": {
      "text/plain": [
       "array([[2., 1., 4.],\n",
       "       [1., 9., 2.]])"
      ]
     },
     "execution_count": 231,
     "metadata": {},
     "output_type": "execute_result"
    }
   ],
   "source": [
    "D"
   ]
  },
  {
   "cell_type": "code",
   "execution_count": 232,
   "metadata": {},
   "outputs": [],
   "source": [
    "N = np.vstack((A,D))"
   ]
  },
  {
   "cell_type": "code",
   "execution_count": 233,
   "metadata": {},
   "outputs": [
    {
     "data": {
      "text/plain": [
       "array([[ 2.,  4.,  5.],\n",
       "       [ 5.,  1., 10.],\n",
       "       [ 2.,  1.,  4.],\n",
       "       [ 1.,  9.,  2.]])"
      ]
     },
     "execution_count": 233,
     "metadata": {},
     "output_type": "execute_result"
    }
   ],
   "source": [
    "N"
   ]
  },
  {
   "cell_type": "code",
   "execution_count": 234,
   "metadata": {},
   "outputs": [],
   "source": [
    "A = np.random.permutation(np.arange(10))"
   ]
  },
  {
   "cell_type": "code",
   "execution_count": 235,
   "metadata": {},
   "outputs": [
    {
     "data": {
      "text/plain": [
       "array([5, 1, 6, 2, 9, 8, 3, 4, 7, 0])"
      ]
     },
     "execution_count": 235,
     "metadata": {},
     "output_type": "execute_result"
    }
   ],
   "source": [
    "A"
   ]
  },
  {
   "cell_type": "code",
   "execution_count": 236,
   "metadata": {},
   "outputs": [],
   "source": [
    "A = np.sort(A)"
   ]
  },
  {
   "cell_type": "code",
   "execution_count": 237,
   "metadata": {},
   "outputs": [
    {
     "data": {
      "text/plain": [
       "array([9, 8, 7, 6, 5, 4, 3, 2, 1, 0])"
      ]
     },
     "execution_count": 237,
     "metadata": {},
     "output_type": "execute_result"
    }
   ],
   "source": [
    "# For in asceding order\n",
    "A[::-1]"
   ]
  },
  {
   "cell_type": "code",
   "execution_count": 238,
   "metadata": {},
   "outputs": [],
   "source": [
    "A = np.array(['Python','Language','282ali','faisal90'])"
   ]
  },
  {
   "cell_type": "code",
   "execution_count": 239,
   "metadata": {},
   "outputs": [],
   "source": [
    "A.sort()"
   ]
  },
  {
   "cell_type": "code",
   "execution_count": 240,
   "metadata": {},
   "outputs": [
    {
     "data": {
      "text/plain": [
       "array(['282ali', 'Language', 'Python', 'faisal90'], dtype='<U8')"
      ]
     },
     "execution_count": 240,
     "metadata": {},
     "output_type": "execute_result"
    }
   ],
   "source": [
    "A"
   ]
  },
  {
   "cell_type": "markdown",
   "metadata": {},
   "source": [
    "Working with **Numpy** is too much faster than working the simple python. Here's the small comparision b/w them:"
   ]
  },
  {
   "cell_type": "code",
   "execution_count": 244,
   "metadata": {},
   "outputs": [
    {
     "name": "stdout",
     "output_type": "stream",
     "text": [
      "727 ms ± 10.6 ms per loop (mean ± std. dev. of 7 runs, 1 loop each)\n",
      "5.9 ms ± 68.2 µs per loop (mean ± std. dev. of 7 runs, 100 loops each)\n"
     ]
    }
   ],
   "source": [
    "B = np.random.rand(5000000)\n",
    "\n",
    "%timeit sum(B)\n",
    "%timeit np.sum(B)\n",
    "\n",
    "# Simple python 'sum' function and 'numpy sum' function\n",
    "# numpy is working around 100 times faster than the python"
   ]
  },
  {
   "cell_type": "code",
   "execution_count": 245,
   "metadata": {},
   "outputs": [],
   "source": [
    "def mySum(D):\n",
    "    s=0\n",
    "    for i in D:\n",
    "        s+=i\n",
    "    return s"
   ]
  },
  {
   "cell_type": "code",
   "execution_count": 246,
   "metadata": {},
   "outputs": [
    {
     "name": "stdout",
     "output_type": "stream",
     "text": [
      "1.16 s ± 55.1 ms per loop (mean ± std. dev. of 7 runs, 1 loop each)\n"
     ]
    }
   ],
   "source": [
    "%timeit mySum(B)"
   ]
  },
  {
   "cell_type": "markdown",
   "metadata": {},
   "source": [
    "Always try to use built-in universal functions of numpy instead of own functions or the simple python functions"
   ]
  },
  {
   "cell_type": "markdown",
   "metadata": {},
   "source": [
    "# Pandas"
   ]
  },
  {
   "cell_type": "markdown",
   "metadata": {},
   "source": [
    "## pd.Series"
   ]
  },
  {
   "cell_type": "code",
   "execution_count": 260,
   "metadata": {},
   "outputs": [],
   "source": [
    "import pandas as pd"
   ]
  },
  {
   "cell_type": "code",
   "execution_count": 261,
   "metadata": {},
   "outputs": [
    {
     "name": "stdout",
     "output_type": "stream",
     "text": [
      "1.1.3\n"
     ]
    }
   ],
   "source": [
    "print(pd.__version__)"
   ]
  },
  {
   "cell_type": "code",
   "execution_count": 262,
   "metadata": {},
   "outputs": [],
   "source": [
    "p = pd.Series([4,5,6,7], index=['a','b','c','d'])"
   ]
  },
  {
   "cell_type": "markdown",
   "metadata": {},
   "source": [
    "Here, indexes not needs to be string values, if not provided numbered indexes (0,1,2,...) will be assigned.\n",
    "\n",
    "Series basically handles one dimentional array"
   ]
  },
  {
   "cell_type": "code",
   "execution_count": 276,
   "metadata": {},
   "outputs": [
    {
     "data": {
      "text/plain": [
       "array([4, 5, 6, 7], dtype=int64)"
      ]
     },
     "execution_count": 276,
     "metadata": {},
     "output_type": "execute_result"
    }
   ],
   "source": [
    "p.values"
   ]
  },
  {
   "cell_type": "code",
   "execution_count": 277,
   "metadata": {},
   "outputs": [
    {
     "name": "stdout",
     "output_type": "stream",
     "text": [
      "<class 'pandas.core.series.Series'>\n"
     ]
    }
   ],
   "source": [
    "print(type(p))"
   ]
  },
  {
   "cell_type": "code",
   "execution_count": 278,
   "metadata": {},
   "outputs": [
    {
     "name": "stdout",
     "output_type": "stream",
     "text": [
      "<class 'numpy.ndarray'>\n"
     ]
    }
   ],
   "source": [
    "print(type(p.values))"
   ]
  },
  {
   "cell_type": "code",
   "execution_count": 280,
   "metadata": {},
   "outputs": [
    {
     "data": {
      "text/plain": [
       "Index(['a', 'b', 'c', 'd'], dtype='object')"
      ]
     },
     "execution_count": 280,
     "metadata": {},
     "output_type": "execute_result"
    }
   ],
   "source": [
    "p.index"
   ]
  },
  {
   "cell_type": "markdown",
   "metadata": {},
   "source": [
    "We can manipulate **Pandas Series** just like **dictionay** in python e.g.,"
   ]
  },
  {
   "cell_type": "code",
   "execution_count": 284,
   "metadata": {},
   "outputs": [
    {
     "name": "stdout",
     "output_type": "stream",
     "text": [
      "4\n"
     ]
    }
   ],
   "source": [
    "print(p['a'])"
   ]
  },
  {
   "cell_type": "code",
   "execution_count": 286,
   "metadata": {},
   "outputs": [
    {
     "data": {
      "text/plain": [
       "array([3, 5, 6, 7], dtype=int64)"
      ]
     },
     "execution_count": 286,
     "metadata": {},
     "output_type": "execute_result"
    }
   ],
   "source": [
    "p['a'] = 3\n",
    "p.values"
   ]
  },
  {
   "cell_type": "markdown",
   "metadata": {},
   "source": [
    "Slicing Pandas Series:\n",
    "If we slice the series and provide range for it, then the last element is also included unlike *range*"
   ]
  },
  {
   "cell_type": "code",
   "execution_count": 289,
   "metadata": {},
   "outputs": [
    {
     "data": {
      "text/plain": [
       "a    3\n",
       "b    5\n",
       "c    6\n",
       "dtype: int64"
      ]
     },
     "execution_count": 289,
     "metadata": {},
     "output_type": "execute_result"
    }
   ],
   "source": [
    "p['a':'c']"
   ]
  },
  {
   "cell_type": "markdown",
   "metadata": {},
   "source": [
    "We can create **Pandas Series** using **dictionary object** as well."
   ]
  },
  {
   "cell_type": "code",
   "execution_count": 312,
   "metadata": {},
   "outputs": [],
   "source": [
    "grades_dict = {'A':4,'A-':3.5,'B+':3,'B':2.5,'B-':2}\n",
    "grades = pd.Series(grades_dict)"
   ]
  },
  {
   "cell_type": "code",
   "execution_count": 313,
   "metadata": {},
   "outputs": [
    {
     "name": "stdout",
     "output_type": "stream",
     "text": [
      "A     4.0\n",
      "A-    3.5\n",
      "B+    3.0\n",
      "B     2.5\n",
      "B-    2.0\n",
      "dtype: float64\n",
      "<class 'pandas.core.series.Series'>\n"
     ]
    }
   ],
   "source": [
    "print(grades)\n",
    "print(type(grades))"
   ]
  },
  {
   "cell_type": "code",
   "execution_count": 314,
   "metadata": {},
   "outputs": [],
   "source": [
    "marks_dict = {'A':85,'A-':80,'B+':75,'B':70,'B-':65}\n",
    "marks = pd.Series(marks_dict)"
   ]
  },
  {
   "cell_type": "code",
   "execution_count": 315,
   "metadata": {},
   "outputs": [
    {
     "name": "stdout",
     "output_type": "stream",
     "text": [
      "A     85\n",
      "A-    80\n",
      "B+    75\n",
      "B     70\n",
      "B-    65\n",
      "dtype: int64\n",
      "<class 'pandas.core.series.Series'>\n"
     ]
    }
   ],
   "source": [
    "print(marks)\n",
    "print(type(marks))"
   ]
  },
  {
   "cell_type": "code",
   "execution_count": 318,
   "metadata": {},
   "outputs": [
    {
     "data": {
      "text/plain": [
       "85"
      ]
     },
     "execution_count": 318,
     "metadata": {},
     "output_type": "execute_result"
    }
   ],
   "source": [
    "marks['A']"
   ]
  },
  {
   "cell_type": "markdown",
   "metadata": {},
   "source": [
    "We can use explicit indices e.g., provided through *index* parameter; and implicit indeces parameters/default parameter e.g., (0,1,2,3,...)"
   ]
  },
  {
   "cell_type": "code",
   "execution_count": 320,
   "metadata": {},
   "outputs": [
    {
     "data": {
      "text/plain": [
       "A     85\n",
       "A-    80\n",
       "dtype: int64"
      ]
     },
     "execution_count": 320,
     "metadata": {},
     "output_type": "execute_result"
    }
   ],
   "source": [
    "marks[0:2]"
   ]
  },
  {
   "cell_type": "code",
   "execution_count": null,
   "metadata": {},
   "outputs": [],
   "source": []
  },
  {
   "cell_type": "code",
   "execution_count": null,
   "metadata": {},
   "outputs": [],
   "source": []
  }
 ],
 "metadata": {
  "kernelspec": {
   "display_name": "Python 3",
   "language": "python",
   "name": "python3"
  },
  "language_info": {
   "codemirror_mode": {
    "name": "ipython",
    "version": 3
   },
   "file_extension": ".py",
   "mimetype": "text/x-python",
   "name": "python",
   "nbconvert_exporter": "python",
   "pygments_lexer": "ipython3",
   "version": "3.8.5"
  }
 },
 "nbformat": 4,
 "nbformat_minor": 4
}
